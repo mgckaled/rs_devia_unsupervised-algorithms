{
 "cells": [
  {
   "cell_type": "markdown",
   "metadata": {},
   "source": [
    "## Módulo 14 - K-Means"
   ]
  },
  {
   "cell_type": "code",
   "execution_count": 64,
   "metadata": {},
   "outputs": [],
   "source": [
    "# EDA\n",
    "import pandas as pd\n",
    "import numpy as np\n",
    "import plotly.express as px\n",
    "\n",
    "# Estatistics\n",
    "from scipy.stats import bartlett, shapiro\n",
    "from pingouin import welch_anova\n",
    "\n",
    "# ML\n",
    "from sklearn.cluster import KMeans\n",
    "from sklearn.metrics import silhouette_score, pairwise_distances\n",
    "from sklearn.preprocessing import StandardScaler, OneHotEncoder, OrdinalEncoder\n",
    "from sklearn.compose import ColumnTransformer\n",
    "\n",
    "# HP otimization\n",
    "import optuna\n",
    "\n",
    "# generate model\n",
    "import joblib\n",
    "\n",
    "# create app batch\n",
    "import gradio as gr"
   ]
  },
  {
   "cell_type": "code",
   "execution_count": 65,
   "metadata": {},
   "outputs": [],
   "source": [
    "# padronização geral do formato de arrendondamento numéricos\n",
    "pd.set_option('display.float_format', lambda x:'%.2f' % x)"
   ]
  },
  {
   "cell_type": "markdown",
   "metadata": {},
   "source": [
    "### Bloco 1 - Análise Exploratória de Dados"
   ]
  },
  {
   "cell_type": "markdown",
   "metadata": {},
   "source": [
    "#### Setup e Carga de Dados\n",
    "\n",
    "Neste vídeo, vamos começar a trabalhar com o algoritmo K-Means no contexto de clusterização de clientes. O objetivo é agrupar os clientes em clusters com base em suas características, para oferecer um atendimento personalizado. Vou criar um arquivo Jupyter Notebook chamado \"clusterização-clientes.ipynb\" e importar as bibliotecas necessárias, como Pandas, Plotly, Scikit-Learn, Optuna, entre outras. Também vamos utilizar algumas métricas específicas para avaliar os resultados da clusterização. Além disso, faremos a carga dos dados de clientes a partir de um arquivo CSV e faremos uma análise inicial da estrutura desses dados. No próximo vídeo, continuaremos com o desenvolvimento do projeto."
   ]
  },
  {
   "cell_type": "code",
   "execution_count": 66,
   "metadata": {},
   "outputs": [
    {
     "name": "stdout",
     "output_type": "stream",
     "text": [
      "<class 'pandas.core.frame.DataFrame'>\n",
      "RangeIndex: 500 entries, 0 to 499\n",
      "Data columns (total 6 columns):\n",
      " #   Column                  Non-Null Count  Dtype  \n",
      "---  ------                  --------------  -----  \n",
      " 0   atividade_economica     500 non-null    object \n",
      " 1   faturamento_mensal      500 non-null    float64\n",
      " 2   numero_de_funcionarios  500 non-null    int64  \n",
      " 3   localizacao             500 non-null    object \n",
      " 4   idade                   500 non-null    int64  \n",
      " 5   inovacao                500 non-null    int64  \n",
      "dtypes: float64(1), int64(3), object(2)\n",
      "memory usage: 23.6+ KB\n"
     ]
    }
   ],
   "source": [
    "df_clients = pd.read_csv(filepath_or_buffer='../datasets/raw/dataset_clientes-pj.csv')\n",
    "df_clients.info()"
   ]
  },
  {
   "cell_type": "code",
   "execution_count": 67,
   "metadata": {},
   "outputs": [
    {
     "data": {
      "text/html": [
       "<div>\n",
       "<style scoped>\n",
       "    .dataframe tbody tr th:only-of-type {\n",
       "        vertical-align: middle;\n",
       "    }\n",
       "\n",
       "    .dataframe tbody tr th {\n",
       "        vertical-align: top;\n",
       "    }\n",
       "\n",
       "    .dataframe thead th {\n",
       "        text-align: right;\n",
       "    }\n",
       "</style>\n",
       "<table border=\"1\" class=\"dataframe\">\n",
       "  <thead>\n",
       "    <tr style=\"text-align: right;\">\n",
       "      <th></th>\n",
       "      <th>atividade_economica</th>\n",
       "      <th>faturamento_mensal</th>\n",
       "      <th>numero_de_funcionarios</th>\n",
       "      <th>localizacao</th>\n",
       "      <th>idade</th>\n",
       "      <th>inovacao</th>\n",
       "    </tr>\n",
       "  </thead>\n",
       "  <tbody>\n",
       "    <tr>\n",
       "      <th>0</th>\n",
       "      <td>Comércio</td>\n",
       "      <td>713109.95</td>\n",
       "      <td>12</td>\n",
       "      <td>Rio de Janeiro</td>\n",
       "      <td>6</td>\n",
       "      <td>1</td>\n",
       "    </tr>\n",
       "    <tr>\n",
       "      <th>1</th>\n",
       "      <td>Comércio</td>\n",
       "      <td>790714.38</td>\n",
       "      <td>9</td>\n",
       "      <td>São Paulo</td>\n",
       "      <td>15</td>\n",
       "      <td>0</td>\n",
       "    </tr>\n",
       "    <tr>\n",
       "      <th>2</th>\n",
       "      <td>Comércio</td>\n",
       "      <td>1197239.33</td>\n",
       "      <td>17</td>\n",
       "      <td>São Paulo</td>\n",
       "      <td>4</td>\n",
       "      <td>9</td>\n",
       "    </tr>\n",
       "    <tr>\n",
       "      <th>3</th>\n",
       "      <td>Indústria</td>\n",
       "      <td>449185.78</td>\n",
       "      <td>15</td>\n",
       "      <td>São Paulo</td>\n",
       "      <td>6</td>\n",
       "      <td>0</td>\n",
       "    </tr>\n",
       "    <tr>\n",
       "      <th>4</th>\n",
       "      <td>Agronegócio</td>\n",
       "      <td>1006373.16</td>\n",
       "      <td>15</td>\n",
       "      <td>São Paulo</td>\n",
       "      <td>15</td>\n",
       "      <td>8</td>\n",
       "    </tr>\n",
       "  </tbody>\n",
       "</table>\n",
       "</div>"
      ],
      "text/plain": [
       "  atividade_economica  faturamento_mensal  numero_de_funcionarios  \\\n",
       "0            Comércio           713109.95                      12   \n",
       "1            Comércio           790714.38                       9   \n",
       "2            Comércio          1197239.33                      17   \n",
       "3           Indústria           449185.78                      15   \n",
       "4         Agronegócio          1006373.16                      15   \n",
       "\n",
       "      localizacao  idade  inovacao  \n",
       "0  Rio de Janeiro      6         1  \n",
       "1       São Paulo     15         0  \n",
       "2       São Paulo      4         9  \n",
       "3       São Paulo      6         0  \n",
       "4       São Paulo     15         8  "
      ]
     },
     "execution_count": 67,
     "metadata": {},
     "output_type": "execute_result"
    }
   ],
   "source": [
    "df_clients.head()"
   ]
  },
  {
   "cell_type": "markdown",
   "metadata": {},
   "source": [
    "#### EDA\n",
    "\n",
    "Neste vídeo, vamos dar continuidade ao nosso projeto no Jupyter Notebook, focando agora na Análise Exploratória de Dados (EDA). A ideia aqui não é repetir o EDA que já fizemos nos módulos anteriores, mas sim explorar algumas técnicas novas, como testes estatísticos. Começaremos analisando a distribuição da variável \"inovação\" em nosso conjunto de dados. Em seguida, levantaremos a hipótese de que empresas com diferentes níveis de inovação possam ter médias de faturamento mensal distintas. Para testar essa hipótese, utilizaremos o teste estatístico ANOVA (Análise de Variância), que verifica se há variações significativas nas médias de diferentes grupos. No entanto, antes de aplicar o teste, precisamos validar algumas suposições, como a independência das observações, a normalidade dos dados e a homogeneidade das variâncias. Caso essas suposições não sejam atendidas, utilizaremos o teste de ANOVA de Welch, que é mais robusto nessas situações. Nos próximos vídeos, veremos como realizar essas validações e aplicar o teste de hipótese."
   ]
  },
  {
   "cell_type": "code",
   "execution_count": 68,
   "metadata": {},
   "outputs": [
    {
     "data": {
      "application/vnd.plotly.v1+json": {
       "config": {
        "plotlyServerURL": "https://plot.ly"
       },
       "data": [
        {
         "alignmentgroup": "True",
         "hovertemplate": "inovacao=%{marker.color}<br>value=%{y}<extra></extra>",
         "legendgroup": "",
         "marker": {
          "color": [
           1,
           2,
           6,
           7,
           0,
           3,
           8,
           9,
           4,
           5
          ],
          "coloraxis": "coloraxis",
          "pattern": {
           "shape": ""
          }
         },
         "name": "",
         "offsetgroup": "",
         "orientation": "v",
         "showlegend": false,
         "textposition": "auto",
         "type": "bar",
         "x": [
          1,
          2,
          6,
          7,
          0,
          3,
          8,
          9,
          4,
          5
         ],
         "xaxis": "x",
         "y": [
          11.4,
          11.200000000000001,
          10.8,
          10.6,
          10.4,
          9.6,
          9.4,
          9.4,
          8.6,
          8.6
         ],
         "yaxis": "y"
        }
       ],
       "layout": {
        "barmode": "relative",
        "coloraxis": {
         "colorbar": {
          "title": {
           "text": "inovacao"
          }
         },
         "colorscale": [
          [
           0,
           "#0d0887"
          ],
          [
           0.1111111111111111,
           "#46039f"
          ],
          [
           0.2222222222222222,
           "#7201a8"
          ],
          [
           0.3333333333333333,
           "#9c179e"
          ],
          [
           0.4444444444444444,
           "#bd3786"
          ],
          [
           0.5555555555555556,
           "#d8576b"
          ],
          [
           0.6666666666666666,
           "#ed7953"
          ],
          [
           0.7777777777777778,
           "#fb9f3a"
          ],
          [
           0.8888888888888888,
           "#fdca26"
          ],
          [
           1,
           "#f0f921"
          ]
         ]
        },
        "legend": {
         "tracegroupgap": 0
        },
        "margin": {
         "t": 60
        },
        "template": {
         "data": {
          "bar": [
           {
            "error_x": {
             "color": "#2a3f5f"
            },
            "error_y": {
             "color": "#2a3f5f"
            },
            "marker": {
             "line": {
              "color": "#E5ECF6",
              "width": 0.5
             },
             "pattern": {
              "fillmode": "overlay",
              "size": 10,
              "solidity": 0.2
             }
            },
            "type": "bar"
           }
          ],
          "barpolar": [
           {
            "marker": {
             "line": {
              "color": "#E5ECF6",
              "width": 0.5
             },
             "pattern": {
              "fillmode": "overlay",
              "size": 10,
              "solidity": 0.2
             }
            },
            "type": "barpolar"
           }
          ],
          "carpet": [
           {
            "aaxis": {
             "endlinecolor": "#2a3f5f",
             "gridcolor": "white",
             "linecolor": "white",
             "minorgridcolor": "white",
             "startlinecolor": "#2a3f5f"
            },
            "baxis": {
             "endlinecolor": "#2a3f5f",
             "gridcolor": "white",
             "linecolor": "white",
             "minorgridcolor": "white",
             "startlinecolor": "#2a3f5f"
            },
            "type": "carpet"
           }
          ],
          "choropleth": [
           {
            "colorbar": {
             "outlinewidth": 0,
             "ticks": ""
            },
            "type": "choropleth"
           }
          ],
          "contour": [
           {
            "colorbar": {
             "outlinewidth": 0,
             "ticks": ""
            },
            "colorscale": [
             [
              0,
              "#0d0887"
             ],
             [
              0.1111111111111111,
              "#46039f"
             ],
             [
              0.2222222222222222,
              "#7201a8"
             ],
             [
              0.3333333333333333,
              "#9c179e"
             ],
             [
              0.4444444444444444,
              "#bd3786"
             ],
             [
              0.5555555555555556,
              "#d8576b"
             ],
             [
              0.6666666666666666,
              "#ed7953"
             ],
             [
              0.7777777777777778,
              "#fb9f3a"
             ],
             [
              0.8888888888888888,
              "#fdca26"
             ],
             [
              1,
              "#f0f921"
             ]
            ],
            "type": "contour"
           }
          ],
          "contourcarpet": [
           {
            "colorbar": {
             "outlinewidth": 0,
             "ticks": ""
            },
            "type": "contourcarpet"
           }
          ],
          "heatmap": [
           {
            "colorbar": {
             "outlinewidth": 0,
             "ticks": ""
            },
            "colorscale": [
             [
              0,
              "#0d0887"
             ],
             [
              0.1111111111111111,
              "#46039f"
             ],
             [
              0.2222222222222222,
              "#7201a8"
             ],
             [
              0.3333333333333333,
              "#9c179e"
             ],
             [
              0.4444444444444444,
              "#bd3786"
             ],
             [
              0.5555555555555556,
              "#d8576b"
             ],
             [
              0.6666666666666666,
              "#ed7953"
             ],
             [
              0.7777777777777778,
              "#fb9f3a"
             ],
             [
              0.8888888888888888,
              "#fdca26"
             ],
             [
              1,
              "#f0f921"
             ]
            ],
            "type": "heatmap"
           }
          ],
          "heatmapgl": [
           {
            "colorbar": {
             "outlinewidth": 0,
             "ticks": ""
            },
            "colorscale": [
             [
              0,
              "#0d0887"
             ],
             [
              0.1111111111111111,
              "#46039f"
             ],
             [
              0.2222222222222222,
              "#7201a8"
             ],
             [
              0.3333333333333333,
              "#9c179e"
             ],
             [
              0.4444444444444444,
              "#bd3786"
             ],
             [
              0.5555555555555556,
              "#d8576b"
             ],
             [
              0.6666666666666666,
              "#ed7953"
             ],
             [
              0.7777777777777778,
              "#fb9f3a"
             ],
             [
              0.8888888888888888,
              "#fdca26"
             ],
             [
              1,
              "#f0f921"
             ]
            ],
            "type": "heatmapgl"
           }
          ],
          "histogram": [
           {
            "marker": {
             "pattern": {
              "fillmode": "overlay",
              "size": 10,
              "solidity": 0.2
             }
            },
            "type": "histogram"
           }
          ],
          "histogram2d": [
           {
            "colorbar": {
             "outlinewidth": 0,
             "ticks": ""
            },
            "colorscale": [
             [
              0,
              "#0d0887"
             ],
             [
              0.1111111111111111,
              "#46039f"
             ],
             [
              0.2222222222222222,
              "#7201a8"
             ],
             [
              0.3333333333333333,
              "#9c179e"
             ],
             [
              0.4444444444444444,
              "#bd3786"
             ],
             [
              0.5555555555555556,
              "#d8576b"
             ],
             [
              0.6666666666666666,
              "#ed7953"
             ],
             [
              0.7777777777777778,
              "#fb9f3a"
             ],
             [
              0.8888888888888888,
              "#fdca26"
             ],
             [
              1,
              "#f0f921"
             ]
            ],
            "type": "histogram2d"
           }
          ],
          "histogram2dcontour": [
           {
            "colorbar": {
             "outlinewidth": 0,
             "ticks": ""
            },
            "colorscale": [
             [
              0,
              "#0d0887"
             ],
             [
              0.1111111111111111,
              "#46039f"
             ],
             [
              0.2222222222222222,
              "#7201a8"
             ],
             [
              0.3333333333333333,
              "#9c179e"
             ],
             [
              0.4444444444444444,
              "#bd3786"
             ],
             [
              0.5555555555555556,
              "#d8576b"
             ],
             [
              0.6666666666666666,
              "#ed7953"
             ],
             [
              0.7777777777777778,
              "#fb9f3a"
             ],
             [
              0.8888888888888888,
              "#fdca26"
             ],
             [
              1,
              "#f0f921"
             ]
            ],
            "type": "histogram2dcontour"
           }
          ],
          "mesh3d": [
           {
            "colorbar": {
             "outlinewidth": 0,
             "ticks": ""
            },
            "type": "mesh3d"
           }
          ],
          "parcoords": [
           {
            "line": {
             "colorbar": {
              "outlinewidth": 0,
              "ticks": ""
             }
            },
            "type": "parcoords"
           }
          ],
          "pie": [
           {
            "automargin": true,
            "type": "pie"
           }
          ],
          "scatter": [
           {
            "fillpattern": {
             "fillmode": "overlay",
             "size": 10,
             "solidity": 0.2
            },
            "type": "scatter"
           }
          ],
          "scatter3d": [
           {
            "line": {
             "colorbar": {
              "outlinewidth": 0,
              "ticks": ""
             }
            },
            "marker": {
             "colorbar": {
              "outlinewidth": 0,
              "ticks": ""
             }
            },
            "type": "scatter3d"
           }
          ],
          "scattercarpet": [
           {
            "marker": {
             "colorbar": {
              "outlinewidth": 0,
              "ticks": ""
             }
            },
            "type": "scattercarpet"
           }
          ],
          "scattergeo": [
           {
            "marker": {
             "colorbar": {
              "outlinewidth": 0,
              "ticks": ""
             }
            },
            "type": "scattergeo"
           }
          ],
          "scattergl": [
           {
            "marker": {
             "colorbar": {
              "outlinewidth": 0,
              "ticks": ""
             }
            },
            "type": "scattergl"
           }
          ],
          "scattermapbox": [
           {
            "marker": {
             "colorbar": {
              "outlinewidth": 0,
              "ticks": ""
             }
            },
            "type": "scattermapbox"
           }
          ],
          "scatterpolar": [
           {
            "marker": {
             "colorbar": {
              "outlinewidth": 0,
              "ticks": ""
             }
            },
            "type": "scatterpolar"
           }
          ],
          "scatterpolargl": [
           {
            "marker": {
             "colorbar": {
              "outlinewidth": 0,
              "ticks": ""
             }
            },
            "type": "scatterpolargl"
           }
          ],
          "scatterternary": [
           {
            "marker": {
             "colorbar": {
              "outlinewidth": 0,
              "ticks": ""
             }
            },
            "type": "scatterternary"
           }
          ],
          "surface": [
           {
            "colorbar": {
             "outlinewidth": 0,
             "ticks": ""
            },
            "colorscale": [
             [
              0,
              "#0d0887"
             ],
             [
              0.1111111111111111,
              "#46039f"
             ],
             [
              0.2222222222222222,
              "#7201a8"
             ],
             [
              0.3333333333333333,
              "#9c179e"
             ],
             [
              0.4444444444444444,
              "#bd3786"
             ],
             [
              0.5555555555555556,
              "#d8576b"
             ],
             [
              0.6666666666666666,
              "#ed7953"
             ],
             [
              0.7777777777777778,
              "#fb9f3a"
             ],
             [
              0.8888888888888888,
              "#fdca26"
             ],
             [
              1,
              "#f0f921"
             ]
            ],
            "type": "surface"
           }
          ],
          "table": [
           {
            "cells": {
             "fill": {
              "color": "#EBF0F8"
             },
             "line": {
              "color": "white"
             }
            },
            "header": {
             "fill": {
              "color": "#C8D4E3"
             },
             "line": {
              "color": "white"
             }
            },
            "type": "table"
           }
          ]
         },
         "layout": {
          "annotationdefaults": {
           "arrowcolor": "#2a3f5f",
           "arrowhead": 0,
           "arrowwidth": 1
          },
          "autotypenumbers": "strict",
          "coloraxis": {
           "colorbar": {
            "outlinewidth": 0,
            "ticks": ""
           }
          },
          "colorscale": {
           "diverging": [
            [
             0,
             "#8e0152"
            ],
            [
             0.1,
             "#c51b7d"
            ],
            [
             0.2,
             "#de77ae"
            ],
            [
             0.3,
             "#f1b6da"
            ],
            [
             0.4,
             "#fde0ef"
            ],
            [
             0.5,
             "#f7f7f7"
            ],
            [
             0.6,
             "#e6f5d0"
            ],
            [
             0.7,
             "#b8e186"
            ],
            [
             0.8,
             "#7fbc41"
            ],
            [
             0.9,
             "#4d9221"
            ],
            [
             1,
             "#276419"
            ]
           ],
           "sequential": [
            [
             0,
             "#0d0887"
            ],
            [
             0.1111111111111111,
             "#46039f"
            ],
            [
             0.2222222222222222,
             "#7201a8"
            ],
            [
             0.3333333333333333,
             "#9c179e"
            ],
            [
             0.4444444444444444,
             "#bd3786"
            ],
            [
             0.5555555555555556,
             "#d8576b"
            ],
            [
             0.6666666666666666,
             "#ed7953"
            ],
            [
             0.7777777777777778,
             "#fb9f3a"
            ],
            [
             0.8888888888888888,
             "#fdca26"
            ],
            [
             1,
             "#f0f921"
            ]
           ],
           "sequentialminus": [
            [
             0,
             "#0d0887"
            ],
            [
             0.1111111111111111,
             "#46039f"
            ],
            [
             0.2222222222222222,
             "#7201a8"
            ],
            [
             0.3333333333333333,
             "#9c179e"
            ],
            [
             0.4444444444444444,
             "#bd3786"
            ],
            [
             0.5555555555555556,
             "#d8576b"
            ],
            [
             0.6666666666666666,
             "#ed7953"
            ],
            [
             0.7777777777777778,
             "#fb9f3a"
            ],
            [
             0.8888888888888888,
             "#fdca26"
            ],
            [
             1,
             "#f0f921"
            ]
           ]
          },
          "colorway": [
           "#636efa",
           "#EF553B",
           "#00cc96",
           "#ab63fa",
           "#FFA15A",
           "#19d3f3",
           "#FF6692",
           "#B6E880",
           "#FF97FF",
           "#FECB52"
          ],
          "font": {
           "color": "#2a3f5f"
          },
          "geo": {
           "bgcolor": "white",
           "lakecolor": "white",
           "landcolor": "#E5ECF6",
           "showlakes": true,
           "showland": true,
           "subunitcolor": "white"
          },
          "hoverlabel": {
           "align": "left"
          },
          "hovermode": "closest",
          "mapbox": {
           "style": "light"
          },
          "paper_bgcolor": "white",
          "plot_bgcolor": "#E5ECF6",
          "polar": {
           "angularaxis": {
            "gridcolor": "white",
            "linecolor": "white",
            "ticks": ""
           },
           "bgcolor": "#E5ECF6",
           "radialaxis": {
            "gridcolor": "white",
            "linecolor": "white",
            "ticks": ""
           }
          },
          "scene": {
           "xaxis": {
            "backgroundcolor": "#E5ECF6",
            "gridcolor": "white",
            "gridwidth": 2,
            "linecolor": "white",
            "showbackground": true,
            "ticks": "",
            "zerolinecolor": "white"
           },
           "yaxis": {
            "backgroundcolor": "#E5ECF6",
            "gridcolor": "white",
            "gridwidth": 2,
            "linecolor": "white",
            "showbackground": true,
            "ticks": "",
            "zerolinecolor": "white"
           },
           "zaxis": {
            "backgroundcolor": "#E5ECF6",
            "gridcolor": "white",
            "gridwidth": 2,
            "linecolor": "white",
            "showbackground": true,
            "ticks": "",
            "zerolinecolor": "white"
           }
          },
          "shapedefaults": {
           "line": {
            "color": "#2a3f5f"
           }
          },
          "ternary": {
           "aaxis": {
            "gridcolor": "white",
            "linecolor": "white",
            "ticks": ""
           },
           "baxis": {
            "gridcolor": "white",
            "linecolor": "white",
            "ticks": ""
           },
           "bgcolor": "#E5ECF6",
           "caxis": {
            "gridcolor": "white",
            "linecolor": "white",
            "ticks": ""
           }
          },
          "title": {
           "x": 0.05
          },
          "xaxis": {
           "automargin": true,
           "gridcolor": "white",
           "linecolor": "white",
           "ticks": "",
           "title": {
            "standoff": 15
           },
           "zerolinecolor": "white",
           "zerolinewidth": 2
          },
          "yaxis": {
           "automargin": true,
           "gridcolor": "white",
           "linecolor": "white",
           "ticks": "",
           "title": {
            "standoff": 15
           },
           "zerolinecolor": "white",
           "zerolinewidth": 2
          }
         }
        },
        "xaxis": {
         "anchor": "y",
         "domain": [
          0,
          1
         ],
         "title": {
          "text": "inovacao"
         }
        },
        "yaxis": {
         "anchor": "x",
         "domain": [
          0,
          1
         ],
         "title": {
          "text": "value"
         }
        }
       }
      }
     },
     "metadata": {},
     "output_type": "display_data"
    }
   ],
   "source": [
    "# distribuição de variável inovação\n",
    "inovation_distribution = df_clients.value_counts(subset='inovacao') / len(df_clients) * 100\n",
    "\n",
    "# `.index` -> uma cor para cada coluna (feature)\n",
    "px.bar(data_frame=inovation_distribution, color=inovation_distribution.index)"
   ]
  },
  {
   "cell_type": "markdown",
   "metadata": {},
   "source": [
    "#### Introdução ANOVA e Testes Estatísticos\n",
    "\n",
    "Nesta aula, vamos analisar os pressupostos necessários para realizar um teste estatístico de ANOVA. Vamos verificar se as variâncias entre os grupos são homogêneas e se os dados seguem uma distribuição normal. Também vamos considerar que as observações são independentes e que a variável independente é contínua. Além disso, vamos observar que as amostras não têm tamanhos iguais. Para verificar a homogeneidade das variâncias, vamos utilizar o teste de Bartlett. Para verificar a distribuição normal, vamos utilizar o teste de Shapiro-Wilk. Com base nos resultados desses testes, poderemos determinar se os pressupostos foram atendidos e prosseguir com o teste de ANOVA adequado."
   ]
  },
  {
   "cell_type": "markdown",
   "metadata": {},
   "source": [
    "**Teste ANOVA (Análise de Variância)**: Verificar se há variações significativas na média de faturamento mensal para diferentes níveis de inovação\n",
    "\n",
    "*Suposições Pressupostos:*\n",
    "- Observações independentes\n",
    "- Variável dependente é contínua\n",
    "- segue uma distribuição normal\n",
    "- homogeneidade das variâncias\n",
    "- Amostras sejam de tamanhos iguais"
   ]
  },
  {
   "cell_type": "code",
   "execution_count": 69,
   "metadata": {},
   "outputs": [
    {
     "name": "stdout",
     "output_type": "stream",
     "text": [
      "Teste de Barlett:\n",
      "- Estatística: 10.9012\n",
      "- P_value: 0.2825\n",
      "Como o p_value > 0.05, não podemos podemos rejeitar H0\n"
     ]
    }
   ],
   "source": [
    "# checar se as variâncias (faturamento) entre os grupos (inovação) são homogêneas\n",
    "# aplicar Teste de Barlett\n",
    "# H0 - Variâncias são iguais\n",
    "# H1 Variâcias não são iguais\n",
    "\n",
    "# Separando dados de faturamento em grupo de classes na coluna \"inovação\"\n",
    "revenue_group_by_inovation = [df_clients['faturamento_mensal']\n",
    "                              [df_clients['inovacao'] == group] for group in df_clients['inovacao'].unique()]\n",
    "\n",
    "# executar teste de Barlett\n",
    "bartlett_test_statistic, bartlett_p_value = bartlett(*revenue_group_by_inovation)\n",
    "\n",
    "print(f'Teste de Barlett:\\n- Estatística: {\n",
    "      bartlett_test_statistic:.4f}\\n- P_value: {bartlett_p_value:.4f}')\n",
    "print(\"Como o p_value > 0.05, não podemos podemos rejeitar H0\")"
   ]
  },
  {
   "cell_type": "code",
   "execution_count": 70,
   "metadata": {},
   "outputs": [
    {
     "name": "stdout",
     "output_type": "stream",
     "text": [
      "Teste de SW:\n",
      "- Estatística: 0.9960\n",
      "- p_value: 0.2351\n",
      "Como o p_value > 0.05, não podemos podemos rejeitar H0\n"
     ]
    }
   ],
   "source": [
    "# Executar Teste de Shapiro_Wilk\n",
    "# Verificar se os dados seguem um distribuição normal\n",
    "# H0 - Segue uma distruibuição normal\n",
    "# H1 - Não segue uma distruibição normal\n",
    "\n",
    "# executar teste de Barlett\n",
    "shapiro_test_statistic, shapiro_p_value = shapiro(df_clients['faturamento_mensal'])\n",
    "\n",
    "print(f'Teste de SW:\\n- Estatística: {\n",
    "      shapiro_test_statistic:.4f}\\n- p_value: {shapiro_p_value:.4f}')\n",
    "print(\"Como o p_value > 0.05, não podemos podemos rejeitar H0\")"
   ]
  },
  {
   "cell_type": "markdown",
   "metadata": {},
   "source": [
    "#### Teste de ANOVA\n",
    "\n",
    "Neste vídeo, concluímos a parte de EDA (Exploratory Data Analysis) com um teste de ANOVA para avaliar a relação entre as médias dos valores para cada nível de inovação. Utilizamos o teste de ANOVA de Welch, pois as amostras têm tamanhos diferentes. Para isso, utilizamos o pacote estatístico PINGUIM e importamos o módulo Welch ANOVA. O resultado do teste mostrou que não há diferenças significativas entre as médias dos grupos, independentemente do nível de inovação das empresas. Isso significa que empresas com diferentes níveis de inovação podem ter faturamentos semelhantes. No próximo vídeo, exploraremos o algoritmo de K-Means."
   ]
  },
  {
   "cell_type": "code",
   "execution_count": 71,
   "metadata": {},
   "outputs": [
    {
     "name": "stdout",
     "output_type": "stream",
     "text": [
      "Teste de ANOVA Welsh:\n",
      "- Estatística: 1.1270\n",
      "- p_value: 0.3453\n",
      "Como o p_value > 0.05, não podemos podemos rejeitar H0\n"
     ]
    }
   ],
   "source": [
    "aov = welch_anova(dv='faturamento_mensal', between='inovacao', data=df_clients)\n",
    "\n",
    "print(f'Teste de ANOVA Welsh:\\n- Estatística: {\n",
    "      aov.loc[0, \"F\"]:.4f}\\n- p_value: {aov.loc[0,'p-unc']:.4f}')\n",
    "print(\"Como o p_value > 0.05, não podemos podemos rejeitar H0\")"
   ]
  },
  {
   "cell_type": "markdown",
   "metadata": {},
   "source": [
    "### Bloco 2 - Treinamento do Modelo"
   ]
  },
  {
   "cell_type": "markdown",
   "metadata": {},
   "source": [
    "#### Preparação dos Dados para o KMeans\n",
    "\n",
    "Neste vídeo, começamos a trabalhar com o algoritmo de K-Means. Para treinar o algoritmo, precisamos preparar os dados. Faremos transformações nas colunas para que estejam no formato correto. Selecionaremos todas as colunas, pois não temos um target específico. Separaremos as variáveis numéricas, categóricas e ordinais. Aplicaremos transformações em cada tipo de variável usando um standard scaler, one-hot-encoder e ordinal encoder. Em seguida, criaremos um pré-processador que transformará os dados em um novo dataset. Usaremos o column transformer para indicar quais transformadores usar. Por fim, faremos o fit transform no pré-processador para treinar os transformadores e aplicar as transformações nos dados."
   ]
  },
  {
   "cell_type": "code",
   "execution_count": 72,
   "metadata": {},
   "outputs": [
    {
     "name": "stdout",
     "output_type": "stream",
     "text": [
      "faturamento_mensal            numero_de_funcionarios        idade                         Belo Horizonte                Rio de Janeiro                São Paulo                     Vitória                       Agronegócio                   Comércio                      Indústria                     Serviços                      inovacao                      \n",
      "-0.75                         -0.54                         -1.10                         0.00                          1.00                          0.00                          0.00                          0.00                          1.00                          0.00                          0.00                          1.00                          \n",
      "-0.56                         -1.50                         1.94                          0.00                          0.00                          1.00                          0.00                          0.00                          1.00                          0.00                          0.00                          0.00                          \n",
      "0.41                          1.06                          -1.78                         0.00                          0.00                          1.00                          0.00                          0.00                          1.00                          0.00                          0.00                          9.00                          \n",
      "-1.37                         0.42                          -1.10                         0.00                          0.00                          1.00                          0.00                          0.00                          0.00                          1.00                          0.00                          0.00                          \n",
      "-0.05                         0.42                          1.94                          0.00                          0.00                          1.00                          0.00                          1.00                          0.00                          0.00                          0.00                          8.00                          \n",
      "1.43                          0.74                          0.59                          0.00                          1.00                          0.00                          0.00                          0.00                          0.00                          0.00                          1.00                          4.00                          \n",
      "-0.61                         -0.22                         -3.13                         0.00                          0.00                          0.00                          1.00                          0.00                          0.00                          0.00                          1.00                          1.00                          \n",
      "-0.76                         0.74                          0.25                          0.00                          0.00                          1.00                          0.00                          0.00                          0.00                          0.00                          1.00                          6.00                          \n"
     ]
    }
   ],
   "source": [
    "# PIPELINE DE TRANSFORMAÇÃO\n",
    "\n",
    "dataframe_copy = df_clients.copy()\n",
    "\n",
    "# selecionar colunas para clusterização\n",
    "numeric_features = ['faturamento_mensal', 'numero_de_funcionarios', 'idade']\n",
    "categorical_features = ['localizacao', 'atividade_economica']\n",
    "ordinal_features = ['inovacao']\n",
    "\n",
    "# Aplicar transformações do tipo\n",
    "numeric_transformer = StandardScaler()\n",
    "categorical_transformer = OneHotEncoder()\n",
    "ordinal_transformer = OrdinalEncoder()\n",
    "\n",
    "preprocessor = ColumnTransformer(\n",
    "    transformers=[\n",
    "        ('num', numeric_transformer, numeric_features),\n",
    "        ('cat', categorical_transformer, categorical_features),\n",
    "        ('ord', ordinal_transformer, ordinal_features),\n",
    "    ]\n",
    ")\n",
    "\n",
    "# transformar os dados\n",
    "df_clients_transformed = preprocessor.fit_transform(X=dataframe_copy)\n",
    "\n",
    "# Extraindo os nomes das colunas para as variáveis categóricas após o ajuste\n",
    "categorical_names = preprocessor.named_transformers_['cat'].categories_\n",
    "cat_column_names = np.concatenate(categorical_names).ravel()\n",
    "\n",
    "# Concatenando os nomes das colunas\n",
    "column_names = numeric_features + list(cat_column_names) + ordinal_features\n",
    "\n",
    "# Exibindo os dados transformados de forma mais amigável\n",
    "def display_transformed_data(data, column_names) -> None:\n",
    "    print(\"\".join([f\"{name:<30}\" for name in column_names]))\n",
    "    for row in data[:8]:  # exibir apenas os primeiros 8 registros\n",
    "        print(\"\".join([f\"{value:<30.2f}\" if isinstance(\n",
    "            value, float) else f\"{value:<30}\" for value in row]))\n",
    "\n",
    "\n",
    "display_transformed_data(data=df_clients_transformed, column_names=column_names)"
   ]
  },
  {
   "cell_type": "markdown",
   "metadata": {},
   "source": [
    "#### Executando o KMeans com Optuna\n",
    "\n",
    "Neste vídeo, vamos preparar os dados para treinar nosso modelo de algoritmo. Vamos otimizar a métrica de silhueta usando o Optuna para ajustar os hiperparâmetros. Vamos definir uma função chamada K-Means Objective, que receberá uma tentativa de ajuste dos hiperparâmetros. Vamos ajustar dois hiperparâmetros: o número de clusters (K) e a métrica de distância (Euclidiana e Minkowski). Em seguida, vamos instanciar o K-Means com esses hiperparâmetros e treinar o modelo. Calcularemos o Silhouette Score usando a função pairwise distance e os rótulos do K-Means. Por fim, criaremos um estudo do Optuna e rodaremos o experimento para encontrar a melhor configuração de hiperparâmetros."
   ]
  },
  {
   "cell_type": "code",
   "execution_count": 73,
   "metadata": {},
   "outputs": [],
   "source": [
    "# optuna para Otimização de Hiperparâmetros\n",
    "def kmeans_objective(trial):\n",
    "\n",
    "    # definir hiperparâmetros\n",
    "    n_clusters = trial.suggest_int('n_clusters', 3, 10)\n",
    "    distance_metric = trial.suggest_categorical(\n",
    "        'distance_metric', ['euclidean', 'minkowski'])\n",
    "\n",
    "    # criar modelo\n",
    "    kmeans_model = KMeans(n_clusters=n_clusters, random_state=51)\n",
    "\n",
    "    # treinar modelo\n",
    "    kmeans_model.fit(X=df_clients_transformed)\n",
    "\n",
    "    # calcular Silhouette Score\n",
    "    distances = pairwise_distances(\n",
    "        X=df_clients_transformed, metric=distance_metric)\n",
    "    silhouette_avg = silhouette_score(X=distances, labels=kmeans_model.labels_)\n",
    "\n",
    "    return silhouette_avg"
   ]
  },
  {
   "cell_type": "code",
   "execution_count": 74,
   "metadata": {},
   "outputs": [
    {
     "name": "stderr",
     "output_type": "stream",
     "text": [
      "[I 2024-05-11 02:30:36,451] A new study created in memory with name: kmeans_study\n",
      "[I 2024-05-11 02:30:36,483] Trial 0 finished with value: 0.3251346292525582 and parameters: {'n_clusters': 5, 'distance_metric': 'minkowski'}. Best is trial 0 with value: 0.3251346292525582.\n",
      "[I 2024-05-11 02:30:36,514] Trial 1 finished with value: 0.18452348191367443 and parameters: {'n_clusters': 7, 'distance_metric': 'euclidean'}. Best is trial 0 with value: 0.3251346292525582.\n",
      "[I 2024-05-11 02:30:36,537] Trial 2 finished with value: 0.14731572416665717 and parameters: {'n_clusters': 8, 'distance_metric': 'euclidean'}. Best is trial 0 with value: 0.3251346292525582.\n",
      "[I 2024-05-11 02:30:36,560] Trial 3 finished with value: 0.3847879496502923 and parameters: {'n_clusters': 4, 'distance_metric': 'euclidean'}. Best is trial 3 with value: 0.3847879496502923.\n",
      "[I 2024-05-11 02:30:36,581] Trial 4 finished with value: 0.22465301772488028 and parameters: {'n_clusters': 6, 'distance_metric': 'minkowski'}. Best is trial 3 with value: 0.3847879496502923.\n",
      "[I 2024-05-11 02:30:36,617] Trial 5 finished with value: 0.11230048381589079 and parameters: {'n_clusters': 9, 'distance_metric': 'minkowski'}. Best is trial 3 with value: 0.3847879496502923.\n",
      "[I 2024-05-11 02:30:36,644] Trial 6 finished with value: 0.3847879496502923 and parameters: {'n_clusters': 4, 'distance_metric': 'minkowski'}. Best is trial 3 with value: 0.3847879496502923.\n",
      "[I 2024-05-11 02:30:36,669] Trial 7 finished with value: 0.32513462925255826 and parameters: {'n_clusters': 5, 'distance_metric': 'euclidean'}. Best is trial 3 with value: 0.3847879496502923.\n",
      "[I 2024-05-11 02:30:36,695] Trial 8 finished with value: 0.4445458290999088 and parameters: {'n_clusters': 3, 'distance_metric': 'euclidean'}. Best is trial 8 with value: 0.4445458290999088.\n",
      "[I 2024-05-11 02:30:36,723] Trial 9 finished with value: 0.22465301772488025 and parameters: {'n_clusters': 6, 'distance_metric': 'euclidean'}. Best is trial 8 with value: 0.4445458290999088.\n",
      "[I 2024-05-11 02:30:36,757] Trial 10 finished with value: 0.14731572416665714 and parameters: {'n_clusters': 8, 'distance_metric': 'minkowski'}. Best is trial 8 with value: 0.4445458290999088.\n",
      "[I 2024-05-11 02:30:36,795] Trial 11 finished with value: 0.1123004838158908 and parameters: {'n_clusters': 9, 'distance_metric': 'euclidean'}. Best is trial 8 with value: 0.4445458290999088.\n",
      "[I 2024-05-11 02:30:36,829] Trial 12 finished with value: 0.18452348191367451 and parameters: {'n_clusters': 7, 'distance_metric': 'minkowski'}. Best is trial 8 with value: 0.4445458290999088.\n",
      "[I 2024-05-11 02:30:36,854] Trial 13 finished with value: 0.44454582909990875 and parameters: {'n_clusters': 3, 'distance_metric': 'minkowski'}. Best is trial 8 with value: 0.4445458290999088.\n"
     ]
    }
   ],
   "source": [
    "# criar estudo do optuna\n",
    "search_space = {'n_clusters': range(3, 10), 'distance_metric': [\n",
    "    'euclidean', 'minkowski']}\n",
    "sampler = optuna.samplers.GridSampler(search_space=search_space)\n",
    "kmeans_study = optuna.create_study(\n",
    "    study_name='kmeans_study', direction='maximize', sampler=sampler)\n",
    "\n",
    "# executar o estudo\n",
    "kmeans_study.optimize(func=kmeans_objective, n_trials=100)"
   ]
  },
  {
   "cell_type": "markdown",
   "metadata": {},
   "source": [
    "### Bloco 3 - Análise de Resutados"
   ]
  },
  {
   "cell_type": "markdown",
   "metadata": {},
   "source": [
    "#### Analisando Resultados do KMeans\n",
    "\n",
    "Neste vídeo, vamos analisar os resultados do Optuna e treinar um modelo com os melhores parâmetros encontrados. Primeiro, vamos guardar a melhor configuração em uma variável chamada \"best_params\". Em seguida, vamos criar o modelo usando esses melhores parâmetros e ajustá-lo aos dados. Calcularemos o score de silhueta para avaliar o desempenho do modelo. O Optuna determinou que o número de clusters ideal é 3, a métrica de distância escolhida foi a euclidiana e o score de silhueta foi de 0.44. Agora, vamos atribuir os clusters aos registros do nosso dataset e visualizar os primeiros registros com a coluna de cluster atualizada. No próximo vídeo, iremos explorar esses clusters em uma visualização de dados."
   ]
  },
  {
   "cell_type": "code",
   "execution_count": 75,
   "metadata": {},
   "outputs": [
    {
     "name": "stdout",
     "output_type": "stream",
     "text": [
      "k (número de clusters): 3\n",
      "Métrica de Distância Selecionada: euclidean\n",
      "Silhouette Score: 0.4445458290999088\n"
     ]
    }
   ],
   "source": [
    "best_params = kmeans_study.best_params\n",
    "\n",
    "best_kmeans = KMeans(n_clusters=best_params['n_clusters'], random_state=51)\n",
    "best_kmeans.fit(X=df_clients_transformed)\n",
    "\n",
    "distances = pairwise_distances(X=df_clients_transformed, metric=best_params['distance_metric'])\n",
    "best_silhouette = silhouette_score(X=distances, labels=best_kmeans.labels_)\n",
    "\n",
    "print(f'k (número de clusters): {best_params[\"n_clusters\"]}')\n",
    "print(f'Métrica de Distância Selecionada: {best_params['distance_metric']}')\n",
    "print(f'Silhouette Score: {best_silhouette}')"
   ]
  },
  {
   "cell_type": "code",
   "execution_count": 76,
   "metadata": {},
   "outputs": [
    {
     "data": {
      "text/html": [
       "<div>\n",
       "<style scoped>\n",
       "    .dataframe tbody tr th:only-of-type {\n",
       "        vertical-align: middle;\n",
       "    }\n",
       "\n",
       "    .dataframe tbody tr th {\n",
       "        vertical-align: top;\n",
       "    }\n",
       "\n",
       "    .dataframe thead th {\n",
       "        text-align: right;\n",
       "    }\n",
       "</style>\n",
       "<table border=\"1\" class=\"dataframe\">\n",
       "  <thead>\n",
       "    <tr style=\"text-align: right;\">\n",
       "      <th></th>\n",
       "      <th>atividade_economica</th>\n",
       "      <th>faturamento_mensal</th>\n",
       "      <th>numero_de_funcionarios</th>\n",
       "      <th>localizacao</th>\n",
       "      <th>idade</th>\n",
       "      <th>inovacao</th>\n",
       "      <th>cluster</th>\n",
       "    </tr>\n",
       "  </thead>\n",
       "  <tbody>\n",
       "    <tr>\n",
       "      <th>0</th>\n",
       "      <td>Comércio</td>\n",
       "      <td>713109.95</td>\n",
       "      <td>12</td>\n",
       "      <td>Rio de Janeiro</td>\n",
       "      <td>6</td>\n",
       "      <td>1</td>\n",
       "      <td>0</td>\n",
       "    </tr>\n",
       "    <tr>\n",
       "      <th>1</th>\n",
       "      <td>Comércio</td>\n",
       "      <td>790714.38</td>\n",
       "      <td>9</td>\n",
       "      <td>São Paulo</td>\n",
       "      <td>15</td>\n",
       "      <td>0</td>\n",
       "      <td>0</td>\n",
       "    </tr>\n",
       "    <tr>\n",
       "      <th>2</th>\n",
       "      <td>Comércio</td>\n",
       "      <td>1197239.33</td>\n",
       "      <td>17</td>\n",
       "      <td>São Paulo</td>\n",
       "      <td>4</td>\n",
       "      <td>9</td>\n",
       "      <td>1</td>\n",
       "    </tr>\n",
       "    <tr>\n",
       "      <th>3</th>\n",
       "      <td>Indústria</td>\n",
       "      <td>449185.78</td>\n",
       "      <td>15</td>\n",
       "      <td>São Paulo</td>\n",
       "      <td>6</td>\n",
       "      <td>0</td>\n",
       "      <td>0</td>\n",
       "    </tr>\n",
       "    <tr>\n",
       "      <th>4</th>\n",
       "      <td>Agronegócio</td>\n",
       "      <td>1006373.16</td>\n",
       "      <td>15</td>\n",
       "      <td>São Paulo</td>\n",
       "      <td>15</td>\n",
       "      <td>8</td>\n",
       "      <td>1</td>\n",
       "    </tr>\n",
       "  </tbody>\n",
       "</table>\n",
       "</div>"
      ],
      "text/plain": [
       "  atividade_economica  faturamento_mensal  numero_de_funcionarios  \\\n",
       "0            Comércio           713109.95                      12   \n",
       "1            Comércio           790714.38                       9   \n",
       "2            Comércio          1197239.33                      17   \n",
       "3           Indústria           449185.78                      15   \n",
       "4         Agronegócio          1006373.16                      15   \n",
       "\n",
       "      localizacao  idade  inovacao  cluster  \n",
       "0  Rio de Janeiro      6         1        0  \n",
       "1       São Paulo     15         0        0  \n",
       "2       São Paulo      4         9        1  \n",
       "3       São Paulo      6         0        0  \n",
       "4       São Paulo     15         8        1  "
      ]
     },
     "execution_count": 76,
     "metadata": {},
     "output_type": "execute_result"
    }
   ],
   "source": [
    "# criar coluna com clusters escolhidos\n",
    "df_clients['cluster'] = best_kmeans.labels_\n",
    "df_clients.head()"
   ]
  },
  {
   "cell_type": "markdown",
   "metadata": {},
   "source": [
    "#### Visualização Decisões do KMeans\n",
    "\n",
    "Neste vídeo, vamos analisar os clusters gerados pelo algoritmo e tentar entender os critérios utilizados para organizá-los. Faremos cruzamentos de dados, como idade e faturamento mensal, e criaremos visualizações para identificar padrões. Observamos que não há um padrão claro baseado no faturamento, mas encontramos um padrão interessante relacionado à inovação. Empresas com níveis de inovação baixos foram agrupadas em um cluster, independentemente do faturamento, enquanto empresas com níveis de inovação moderados e avançados foram agrupadas em outros clusters. Isso nos revela a possibilidade de personalizar o atendimento aos clientes com base em seu nível de inovação. Salvamos o modelo e o pipeline para uso futuro na aplicação batch."
   ]
  },
  {
   "cell_type": "code",
   "execution_count": 77,
   "metadata": {},
   "outputs": [
    {
     "data": {
      "application/vnd.plotly.v1+json": {
       "config": {
        "plotlyServerURL": "https://plot.ly"
       },
       "data": [
        {
         "hovertemplate": "idade=%{x}<br>faturamento_mensal=%{y}<br>cluster=%{marker.color}<extra></extra>",
         "legendgroup": "",
         "marker": {
          "color": [
           0,
           0,
           1,
           0,
           1,
           2,
           0,
           1,
           0,
           2,
           2,
           2,
           1,
           2,
           1,
           1,
           1,
           0,
           1,
           2,
           0,
           0,
           2,
           2,
           0,
           0,
           1,
           1,
           0,
           0,
           0,
           1,
           2,
           1,
           2,
           2,
           2,
           1,
           1,
           1,
           1,
           2,
           2,
           2,
           0,
           1,
           2,
           0,
           1,
           1,
           1,
           0,
           0,
           2,
           0,
           0,
           0,
           0,
           2,
           1,
           1,
           2,
           0,
           1,
           1,
           2,
           2,
           0,
           0,
           0,
           2,
           0,
           0,
           1,
           2,
           0,
           0,
           2,
           2,
           1,
           1,
           0,
           0,
           1,
           2,
           1,
           1,
           0,
           0,
           1,
           0,
           2,
           2,
           0,
           0,
           1,
           1,
           1,
           1,
           2,
           0,
           0,
           2,
           2,
           0,
           2,
           1,
           2,
           2,
           1,
           1,
           1,
           1,
           1,
           0,
           0,
           1,
           0,
           2,
           2,
           0,
           0,
           2,
           2,
           1,
           0,
           1,
           2,
           2,
           1,
           1,
           0,
           0,
           2,
           0,
           0,
           1,
           1,
           0,
           2,
           1,
           0,
           0,
           0,
           1,
           0,
           1,
           0,
           1,
           1,
           0,
           2,
           2,
           1,
           0,
           1,
           1,
           1,
           0,
           0,
           2,
           1,
           1,
           1,
           2,
           2,
           0,
           0,
           1,
           1,
           1,
           1,
           0,
           2,
           1,
           0,
           1,
           1,
           1,
           1,
           0,
           2,
           1,
           1,
           1,
           2,
           1,
           0,
           1,
           1,
           1,
           0,
           2,
           1,
           0,
           1,
           0,
           0,
           2,
           2,
           2,
           1,
           1,
           0,
           0,
           1,
           2,
           0,
           2,
           0,
           0,
           0,
           0,
           0,
           0,
           2,
           2,
           1,
           0,
           0,
           1,
           2,
           1,
           1,
           1,
           1,
           0,
           1,
           0,
           2,
           0,
           2,
           1,
           1,
           0,
           1,
           2,
           2,
           1,
           2,
           1,
           2,
           0,
           0,
           0,
           1,
           2,
           1,
           1,
           1,
           1,
           0,
           0,
           0,
           1,
           2,
           1,
           1,
           1,
           0,
           2,
           1,
           0,
           1,
           0,
           2,
           1,
           1,
           0,
           2,
           1,
           1,
           0,
           1,
           1,
           2,
           2,
           1,
           2,
           1,
           2,
           1,
           0,
           0,
           1,
           1,
           1,
           1,
           2,
           0,
           0,
           1,
           0,
           2,
           1,
           0,
           1,
           2,
           1,
           0,
           2,
           1,
           1,
           0,
           0,
           1,
           1,
           2,
           2,
           0,
           0,
           2,
           0,
           0,
           0,
           0,
           1,
           2,
           1,
           0,
           0,
           1,
           0,
           1,
           1,
           1,
           1,
           1,
           0,
           1,
           1,
           0,
           2,
           1,
           2,
           2,
           0,
           0,
           1,
           1,
           1,
           2,
           1,
           0,
           0,
           1,
           0,
           1,
           2,
           1,
           2,
           0,
           1,
           1,
           2,
           1,
           2,
           2,
           1,
           2,
           1,
           0,
           1,
           1,
           2,
           0,
           0,
           0,
           1,
           2,
           0,
           0,
           2,
           2,
           1,
           1,
           2,
           2,
           0,
           1,
           2,
           1,
           0,
           1,
           1,
           2,
           0,
           1,
           1,
           1,
           1,
           2,
           0,
           2,
           1,
           1,
           0,
           1,
           1,
           1,
           0,
           2,
           1,
           0,
           2,
           1,
           1,
           2,
           0,
           0,
           0,
           1,
           2,
           1,
           1,
           2,
           1,
           2,
           1,
           2,
           1,
           2,
           2,
           2,
           0,
           2,
           2,
           1,
           0,
           1,
           2,
           0,
           0,
           0,
           1,
           2,
           1,
           1,
           0,
           1,
           2,
           1,
           1,
           1,
           2,
           0,
           0,
           2,
           1,
           2,
           0,
           2,
           0,
           1,
           0,
           2,
           1,
           1,
           2,
           1,
           1,
           1,
           2,
           0,
           0,
           0,
           2,
           1,
           0,
           2,
           0,
           0,
           1,
           1,
           2,
           2,
           2,
           1,
           0,
           0,
           2,
           1,
           1,
           0,
           1,
           0,
           0,
           2,
           2,
           0,
           2,
           0,
           0,
           1,
           0,
           0,
           1,
           0,
           2,
           1
          ],
          "coloraxis": "coloraxis",
          "symbol": "circle"
         },
         "mode": "markers",
         "name": "",
         "orientation": "v",
         "showlegend": false,
         "type": "scatter",
         "x": [
          6,
          15,
          4,
          6,
          15,
          11,
          0,
          10,
          10,
          9,
          10,
          9,
          11,
          9,
          8,
          8,
          8,
          12,
          10,
          12,
          6,
          16,
          9,
          13,
          15,
          7,
          7,
          9,
          4,
          12,
          3,
          7,
          12,
          7,
          5,
          12,
          12,
          9,
          11,
          7,
          6,
          9,
          7,
          6,
          14,
          13,
          12,
          8,
          9,
          9,
          13,
          8,
          12,
          12,
          3,
          12,
          8,
          9,
          10,
          7,
          7,
          10,
          6,
          10,
          8,
          9,
          10,
          2,
          10,
          14,
          6,
          13,
          11,
          6,
          13,
          12,
          8,
          10,
          9,
          9,
          9,
          12,
          13,
          4,
          7,
          10,
          7,
          13,
          10,
          11,
          9,
          10,
          9,
          7,
          10,
          12,
          10,
          7,
          15,
          3,
          5,
          8,
          9,
          4,
          11,
          10,
          7,
          7,
          9,
          14,
          9,
          12,
          11,
          14,
          10,
          8,
          14,
          9,
          12,
          11,
          11,
          16,
          3,
          7,
          11,
          7,
          10,
          7,
          11,
          5,
          8,
          11,
          9,
          8,
          12,
          10,
          10,
          7,
          7,
          10,
          10,
          6,
          16,
          12,
          7,
          12,
          7,
          6,
          5,
          7,
          11,
          13,
          10,
          10,
          11,
          7,
          13,
          10,
          13,
          15,
          13,
          2,
          11,
          9,
          9,
          12,
          10,
          5,
          4,
          11,
          16,
          7,
          4,
          8,
          9,
          8,
          7,
          6,
          13,
          8,
          12,
          6,
          9,
          11,
          7,
          5,
          12,
          6,
          10,
          8,
          10,
          10,
          7,
          12,
          6,
          10,
          7,
          8,
          10,
          15,
          5,
          8,
          10,
          12,
          9,
          8,
          8,
          10,
          4,
          13,
          12,
          9,
          7,
          9,
          6,
          14,
          7,
          9,
          10,
          6,
          6,
          12,
          9,
          11,
          10,
          8,
          9,
          2,
          13,
          9,
          7,
          8,
          7,
          12,
          8,
          7,
          5,
          5,
          13,
          7,
          5,
          13,
          6,
          9,
          5,
          11,
          8,
          4,
          11,
          6,
          9,
          13,
          7,
          6,
          9,
          8,
          8,
          10,
          16,
          10,
          9,
          8,
          9,
          7,
          10,
          12,
          10,
          9,
          8,
          5,
          5,
          9,
          11,
          11,
          14,
          13,
          9,
          8,
          9,
          12,
          9,
          10,
          12,
          12,
          12,
          9,
          10,
          5,
          13,
          7,
          13,
          11,
          7,
          7,
          16,
          11,
          12,
          15,
          4,
          7,
          12,
          7,
          11,
          13,
          12,
          11,
          9,
          9,
          6,
          4,
          14,
          11,
          11,
          6,
          7,
          14,
          6,
          11,
          7,
          12,
          9,
          9,
          10,
          7,
          6,
          12,
          10,
          9,
          6,
          8,
          2,
          14,
          5,
          9,
          10,
          3,
          11,
          9,
          10,
          12,
          10,
          13,
          8,
          9,
          6,
          12,
          10,
          6,
          10,
          11,
          8,
          7,
          13,
          11,
          7,
          8,
          10,
          10,
          13,
          9,
          8,
          7,
          9,
          10,
          8,
          8,
          8,
          8,
          9,
          15,
          11,
          15,
          11,
          10,
          13,
          12,
          6,
          12,
          7,
          6,
          4,
          10,
          8,
          8,
          8,
          7,
          8,
          11,
          8,
          12,
          8,
          16,
          12,
          11,
          12,
          10,
          16,
          7,
          11,
          11,
          5,
          10,
          10,
          8,
          8,
          12,
          12,
          7,
          12,
          14,
          10,
          6,
          8,
          8,
          14,
          3,
          11,
          12,
          13,
          6,
          6,
          13,
          9,
          8,
          11,
          11,
          8,
          11,
          11,
          7,
          10,
          13,
          9,
          12,
          9,
          11,
          10,
          15,
          10,
          4,
          13,
          7,
          10,
          10,
          8,
          10,
          5,
          16,
          8,
          7,
          10,
          10,
          5,
          11,
          5,
          10,
          10,
          4,
          6,
          11,
          9,
          15,
          7,
          16,
          11,
          12,
          11,
          10,
          15,
          13,
          7,
          8,
          4,
          11,
          6,
          9,
          11,
          11,
          8,
          6,
          5,
          1,
          13,
          11,
          5,
          12,
          13,
          7,
          13,
          7,
          7,
          8,
          9,
          4,
          10,
          8,
          6,
          10,
          5,
          4
         ],
         "xaxis": "x",
         "y": [
          713109.95,
          790714.38,
          1197239.33,
          449185.78,
          1006373.16,
          1629562.41,
          771179.95,
          707837.61,
          888983.66,
          1098512.64,
          695548.78,
          556632.55,
          800123.32,
          1544423.2,
          1058543.63,
          783081.11,
          566156.05,
          1047680.24,
          836793.37,
          1072955.49,
          1125089.99,
          1424196.41,
          1376884.23,
          1240936.73,
          947515.95,
          1237763.98,
          1181642.63,
          782097.18,
          111926.48,
          489936.94,
          1164187.89,
          1418374.5,
          1325421.71,
          445704.4,
          958656.71,
          1207754.02,
          1258551.12,
          1051870.82,
          1116791.99,
          944040.44,
          878314.15,
          645734.68,
          1197770.02,
          619332.74,
          973809.28,
          1055849.89,
          743078.06,
          853682.38,
          1188462.86,
          1922245.53,
          854257.82,
          296714.92,
          1398126.07,
          1366079.54,
          615848.03,
          95680.54,
          588181.56,
          2263343.91,
          992946.81,
          990270.34,
          899158.38,
          969864.84,
          866778.96,
          1523849.47,
          842146.63,
          431140.66,
          1102025.65,
          837639.72,
          1539172.91,
          662659.12,
          873208.52,
          1191112.82,
          936929.11,
          653645.84,
          914998.87,
          931561.93,
          1489753.71,
          389151.32,
          734331.53,
          1195418.56,
          1077111.04,
          1098366.38,
          1578288.81,
          903521.24,
          1293348.75,
          559870.94,
          1378891.79,
          1124033.51,
          1239188.62,
          241891.6,
          226715.57,
          316147.85,
          983027.55,
          1081112.62,
          1351509.91,
          705494.09,
          1616152.72,
          121410.81,
          1379112.59,
          371592.27,
          1005847.92,
          909973.14,
          717966.54,
          1079558.76,
          348577.69,
          1419109.8,
          785108.04,
          2083352.96,
          705535.84,
          1102257.75,
          184770.26,
          1146243.42,
          1706382.47,
          1932443.78,
          1443795.53,
          1388175.16,
          1033935.28,
          1506130.56,
          971873.18,
          1231155.45,
          856263.52,
          789695.82,
          617845.52,
          997025.99,
          993329.43,
          1439742.37,
          1083390.19,
          763290.3,
          1132167.53,
          1404262.26,
          833741.24,
          833486.37,
          949003.35,
          1383614.28,
          603109.29,
          810709.96,
          735388.51,
          1574289.73,
          1589880.1,
          993467.4,
          863881.59,
          332979.68,
          831586.64,
          18421.22,
          823011.86,
          643092.4,
          958451.91,
          1841715.96,
          1114979.28,
          843237.64,
          853807.58,
          1267527.12,
          722272.13,
          580396.98,
          1153343.69,
          1243667.61,
          1655885.31,
          1563607.42,
          1404873.5,
          723535.75,
          1276078.67,
          810805.33,
          1555042.97,
          1142214.41,
          1272544.7,
          983440.97,
          103994.8,
          1236114.44,
          1565259.29,
          909928.51,
          1518495.54,
          1353384.97,
          1050126.53,
          1094043.53,
          1078181.16,
          1480465.17,
          267812.36,
          1754666.01,
          1070918.51,
          334835.36,
          1290549.96,
          1363863.52,
          834438.57,
          1301428.04,
          148061.36,
          850020.42,
          650241.43,
          494926.48,
          1057767.62,
          627273.65,
          665358.48,
          740201.08,
          991762.16,
          1230575.08,
          174738.56,
          1407737.12,
          1376121.85,
          763143.44,
          1009984.8,
          965508.49,
          1118393.81,
          1094810.2,
          1093585.71,
          1248640.73,
          1475870,
          564348.59,
          768322.67,
          1032819.03,
          816484.64,
          535199.75,
          743926.38,
          852074.86,
          1194723.4,
          849942.63,
          1330082.14,
          861194.33,
          312067.61,
          554967.95,
          608858.82,
          271560.28,
          1171807.82,
          1063111.93,
          726828.81,
          864076.14,
          1134311.38,
          1220385.54,
          988495.51,
          769054.24,
          1027960.98,
          1063262.79,
          910568.59,
          1716130.92,
          1230763.9,
          1014070.01,
          989109.67,
          531384.99,
          84497.94,
          1385339.46,
          1009392.87,
          787481.84,
          679053.92,
          1100001.65,
          2390677.22,
          977980.47,
          598717.71,
          1025701.64,
          788278.22,
          64711.22,
          1570819.07,
          1993908.63,
          785668.64,
          1258737.22,
          1320450.27,
          911615.28,
          533072.17,
          659624.71,
          1367765.95,
          1370699.52,
          757658.35,
          1286670.98,
          1650111.3,
          803823.34,
          1133686.14,
          1016606.48,
          1209830.96,
          768946.51,
          1236870.36,
          1373604.43,
          791201.94,
          470253.72,
          1244020.43,
          323593.53,
          839638.4,
          1460403.03,
          1255764.84,
          915799.22,
          1541762.74,
          429688.53,
          800004.44,
          1017325.17,
          60516.83,
          1207098.74,
          791704.75,
          1655693.05,
          1281521.01,
          1902144.56,
          853723.67,
          1344366.16,
          884940.1,
          625599.74,
          908289.25,
          1032183.53,
          2107306.42,
          481595.99,
          663326.41,
          1588245.25,
          921770.07,
          163682.26,
          1247176.41,
          1212901.4,
          851080.66,
          942883.08,
          1707923.52,
          1177227.98,
          499441.3,
          1395925.1,
          1456142.58,
          693629.48,
          1209549.81,
          1713025.38,
          1292741.18,
          911521.72,
          1094337.38,
          880090.72,
          1015654.17,
          1398871.6,
          1327130.38,
          1129203.5,
          941612.29,
          854382.67,
          1318621.28,
          1458066.67,
          1728544.72,
          1161568.8,
          780121.59,
          1298316.46,
          1337880.08,
          231562.65,
          823374.93,
          356229.62,
          1532181.14,
          1006625.13,
          1104801.34,
          722920.8,
          734238.96,
          805436.7,
          1647453.28,
          898610.61,
          626629.6,
          1794352.93,
          1043981.61,
          665572.04,
          932845.17,
          1569380.97,
          1216938.1,
          1093042.03,
          1348626.67,
          203045.12,
          602393.66,
          1010038.24,
          929711.04,
          1116387.07,
          1683711.93,
          626776.88,
          1219653.63,
          1314583.32,
          1535533.76,
          1936486.41,
          1382271.23,
          1238547.54,
          944765.54,
          1057982.09,
          1046845.34,
          333127.92,
          1189103.92,
          1003981.55,
          629572.6,
          753664.57,
          549149.57,
          1288325.43,
          928727.24,
          1843761.24,
          244825,
          656377.77,
          1574626.03,
          1439950.65,
          721463.53,
          1436673,
          841346.81,
          1485834.15,
          1459878,
          1349860.72,
          1952250.45,
          1027285.87,
          1053130.05,
          990690.47,
          1118793.07,
          1902367.98,
          981440.96,
          506672.67,
          1735063.39,
          686102.63,
          715243.69,
          1193834.4,
          1743573.32,
          1167501.7,
          989883.92,
          1058929.85,
          673865.11,
          591593.3,
          916748.4,
          1694996.88,
          550053.3,
          1195575.01,
          1867234.3,
          1077943.15,
          1228736.22,
          1003381.76,
          603305.03,
          1220941.7,
          545859.25,
          1124754.89,
          1167866.74,
          1362343.3,
          1103149.26,
          743480.47,
          434194.11,
          479869.9,
          1071831.13,
          593531.52,
          1492116.94,
          658580.22,
          869605.13,
          879688.87,
          725022.65,
          1316076.16,
          1056532.62,
          836973.51,
          79015.03,
          1780802.99,
          1328577.86,
          435489.53,
          844782.42,
          1298004.31,
          1662826.01,
          970959.21,
          869638.69,
          1009839.03,
          1021085.99,
          1239494.05,
          1536684.3,
          1068322.53,
          983540.2,
          880695.38,
          119950.58,
          1346978.95,
          1752009.96,
          1061121.78,
          1358513.26,
          254263.2,
          475032.23,
          1330014.86,
          1042344.43,
          429809.37,
          1198949.59,
          1024828.18,
          1878689.05,
          1635893.76,
          1147381.02,
          1155825.73,
          1295183.25,
          654953.48,
          1130027.72,
          25576.28,
          1227045.41,
          805517.39,
          1169132.47,
          1109076.58,
          695368.23,
          1355673.25,
          809933.42,
          1229181.97,
          1693342.51,
          618250.8,
          811781.56,
          745302.32,
          1052598.3,
          1103740.65,
          1810013.45,
          1334308.97,
          1425718.91,
          1662467.08,
          1681458.49,
          1509385.85,
          1533062.06,
          786224.94,
          445571.87,
          505124.91,
          2006688.81,
          416429.3,
          215580.61,
          1050776.57,
          785671.05,
          658330.45,
          1643153.26,
          1581841.42,
          1291309.57,
          2211489.85,
          1460860.46,
          173684.43
         ],
         "yaxis": "y"
        }
       ],
       "layout": {
        "coloraxis": {
         "colorbar": {
          "title": {
           "text": "cluster"
          }
         },
         "colorscale": [
          [
           0,
           "#0d0887"
          ],
          [
           0.1111111111111111,
           "#46039f"
          ],
          [
           0.2222222222222222,
           "#7201a8"
          ],
          [
           0.3333333333333333,
           "#9c179e"
          ],
          [
           0.4444444444444444,
           "#bd3786"
          ],
          [
           0.5555555555555556,
           "#d8576b"
          ],
          [
           0.6666666666666666,
           "#ed7953"
          ],
          [
           0.7777777777777778,
           "#fb9f3a"
          ],
          [
           0.8888888888888888,
           "#fdca26"
          ],
          [
           1,
           "#f0f921"
          ]
         ]
        },
        "legend": {
         "tracegroupgap": 0
        },
        "margin": {
         "t": 60
        },
        "template": {
         "data": {
          "bar": [
           {
            "error_x": {
             "color": "#2a3f5f"
            },
            "error_y": {
             "color": "#2a3f5f"
            },
            "marker": {
             "line": {
              "color": "#E5ECF6",
              "width": 0.5
             },
             "pattern": {
              "fillmode": "overlay",
              "size": 10,
              "solidity": 0.2
             }
            },
            "type": "bar"
           }
          ],
          "barpolar": [
           {
            "marker": {
             "line": {
              "color": "#E5ECF6",
              "width": 0.5
             },
             "pattern": {
              "fillmode": "overlay",
              "size": 10,
              "solidity": 0.2
             }
            },
            "type": "barpolar"
           }
          ],
          "carpet": [
           {
            "aaxis": {
             "endlinecolor": "#2a3f5f",
             "gridcolor": "white",
             "linecolor": "white",
             "minorgridcolor": "white",
             "startlinecolor": "#2a3f5f"
            },
            "baxis": {
             "endlinecolor": "#2a3f5f",
             "gridcolor": "white",
             "linecolor": "white",
             "minorgridcolor": "white",
             "startlinecolor": "#2a3f5f"
            },
            "type": "carpet"
           }
          ],
          "choropleth": [
           {
            "colorbar": {
             "outlinewidth": 0,
             "ticks": ""
            },
            "type": "choropleth"
           }
          ],
          "contour": [
           {
            "colorbar": {
             "outlinewidth": 0,
             "ticks": ""
            },
            "colorscale": [
             [
              0,
              "#0d0887"
             ],
             [
              0.1111111111111111,
              "#46039f"
             ],
             [
              0.2222222222222222,
              "#7201a8"
             ],
             [
              0.3333333333333333,
              "#9c179e"
             ],
             [
              0.4444444444444444,
              "#bd3786"
             ],
             [
              0.5555555555555556,
              "#d8576b"
             ],
             [
              0.6666666666666666,
              "#ed7953"
             ],
             [
              0.7777777777777778,
              "#fb9f3a"
             ],
             [
              0.8888888888888888,
              "#fdca26"
             ],
             [
              1,
              "#f0f921"
             ]
            ],
            "type": "contour"
           }
          ],
          "contourcarpet": [
           {
            "colorbar": {
             "outlinewidth": 0,
             "ticks": ""
            },
            "type": "contourcarpet"
           }
          ],
          "heatmap": [
           {
            "colorbar": {
             "outlinewidth": 0,
             "ticks": ""
            },
            "colorscale": [
             [
              0,
              "#0d0887"
             ],
             [
              0.1111111111111111,
              "#46039f"
             ],
             [
              0.2222222222222222,
              "#7201a8"
             ],
             [
              0.3333333333333333,
              "#9c179e"
             ],
             [
              0.4444444444444444,
              "#bd3786"
             ],
             [
              0.5555555555555556,
              "#d8576b"
             ],
             [
              0.6666666666666666,
              "#ed7953"
             ],
             [
              0.7777777777777778,
              "#fb9f3a"
             ],
             [
              0.8888888888888888,
              "#fdca26"
             ],
             [
              1,
              "#f0f921"
             ]
            ],
            "type": "heatmap"
           }
          ],
          "heatmapgl": [
           {
            "colorbar": {
             "outlinewidth": 0,
             "ticks": ""
            },
            "colorscale": [
             [
              0,
              "#0d0887"
             ],
             [
              0.1111111111111111,
              "#46039f"
             ],
             [
              0.2222222222222222,
              "#7201a8"
             ],
             [
              0.3333333333333333,
              "#9c179e"
             ],
             [
              0.4444444444444444,
              "#bd3786"
             ],
             [
              0.5555555555555556,
              "#d8576b"
             ],
             [
              0.6666666666666666,
              "#ed7953"
             ],
             [
              0.7777777777777778,
              "#fb9f3a"
             ],
             [
              0.8888888888888888,
              "#fdca26"
             ],
             [
              1,
              "#f0f921"
             ]
            ],
            "type": "heatmapgl"
           }
          ],
          "histogram": [
           {
            "marker": {
             "pattern": {
              "fillmode": "overlay",
              "size": 10,
              "solidity": 0.2
             }
            },
            "type": "histogram"
           }
          ],
          "histogram2d": [
           {
            "colorbar": {
             "outlinewidth": 0,
             "ticks": ""
            },
            "colorscale": [
             [
              0,
              "#0d0887"
             ],
             [
              0.1111111111111111,
              "#46039f"
             ],
             [
              0.2222222222222222,
              "#7201a8"
             ],
             [
              0.3333333333333333,
              "#9c179e"
             ],
             [
              0.4444444444444444,
              "#bd3786"
             ],
             [
              0.5555555555555556,
              "#d8576b"
             ],
             [
              0.6666666666666666,
              "#ed7953"
             ],
             [
              0.7777777777777778,
              "#fb9f3a"
             ],
             [
              0.8888888888888888,
              "#fdca26"
             ],
             [
              1,
              "#f0f921"
             ]
            ],
            "type": "histogram2d"
           }
          ],
          "histogram2dcontour": [
           {
            "colorbar": {
             "outlinewidth": 0,
             "ticks": ""
            },
            "colorscale": [
             [
              0,
              "#0d0887"
             ],
             [
              0.1111111111111111,
              "#46039f"
             ],
             [
              0.2222222222222222,
              "#7201a8"
             ],
             [
              0.3333333333333333,
              "#9c179e"
             ],
             [
              0.4444444444444444,
              "#bd3786"
             ],
             [
              0.5555555555555556,
              "#d8576b"
             ],
             [
              0.6666666666666666,
              "#ed7953"
             ],
             [
              0.7777777777777778,
              "#fb9f3a"
             ],
             [
              0.8888888888888888,
              "#fdca26"
             ],
             [
              1,
              "#f0f921"
             ]
            ],
            "type": "histogram2dcontour"
           }
          ],
          "mesh3d": [
           {
            "colorbar": {
             "outlinewidth": 0,
             "ticks": ""
            },
            "type": "mesh3d"
           }
          ],
          "parcoords": [
           {
            "line": {
             "colorbar": {
              "outlinewidth": 0,
              "ticks": ""
             }
            },
            "type": "parcoords"
           }
          ],
          "pie": [
           {
            "automargin": true,
            "type": "pie"
           }
          ],
          "scatter": [
           {
            "fillpattern": {
             "fillmode": "overlay",
             "size": 10,
             "solidity": 0.2
            },
            "type": "scatter"
           }
          ],
          "scatter3d": [
           {
            "line": {
             "colorbar": {
              "outlinewidth": 0,
              "ticks": ""
             }
            },
            "marker": {
             "colorbar": {
              "outlinewidth": 0,
              "ticks": ""
             }
            },
            "type": "scatter3d"
           }
          ],
          "scattercarpet": [
           {
            "marker": {
             "colorbar": {
              "outlinewidth": 0,
              "ticks": ""
             }
            },
            "type": "scattercarpet"
           }
          ],
          "scattergeo": [
           {
            "marker": {
             "colorbar": {
              "outlinewidth": 0,
              "ticks": ""
             }
            },
            "type": "scattergeo"
           }
          ],
          "scattergl": [
           {
            "marker": {
             "colorbar": {
              "outlinewidth": 0,
              "ticks": ""
             }
            },
            "type": "scattergl"
           }
          ],
          "scattermapbox": [
           {
            "marker": {
             "colorbar": {
              "outlinewidth": 0,
              "ticks": ""
             }
            },
            "type": "scattermapbox"
           }
          ],
          "scatterpolar": [
           {
            "marker": {
             "colorbar": {
              "outlinewidth": 0,
              "ticks": ""
             }
            },
            "type": "scatterpolar"
           }
          ],
          "scatterpolargl": [
           {
            "marker": {
             "colorbar": {
              "outlinewidth": 0,
              "ticks": ""
             }
            },
            "type": "scatterpolargl"
           }
          ],
          "scatterternary": [
           {
            "marker": {
             "colorbar": {
              "outlinewidth": 0,
              "ticks": ""
             }
            },
            "type": "scatterternary"
           }
          ],
          "surface": [
           {
            "colorbar": {
             "outlinewidth": 0,
             "ticks": ""
            },
            "colorscale": [
             [
              0,
              "#0d0887"
             ],
             [
              0.1111111111111111,
              "#46039f"
             ],
             [
              0.2222222222222222,
              "#7201a8"
             ],
             [
              0.3333333333333333,
              "#9c179e"
             ],
             [
              0.4444444444444444,
              "#bd3786"
             ],
             [
              0.5555555555555556,
              "#d8576b"
             ],
             [
              0.6666666666666666,
              "#ed7953"
             ],
             [
              0.7777777777777778,
              "#fb9f3a"
             ],
             [
              0.8888888888888888,
              "#fdca26"
             ],
             [
              1,
              "#f0f921"
             ]
            ],
            "type": "surface"
           }
          ],
          "table": [
           {
            "cells": {
             "fill": {
              "color": "#EBF0F8"
             },
             "line": {
              "color": "white"
             }
            },
            "header": {
             "fill": {
              "color": "#C8D4E3"
             },
             "line": {
              "color": "white"
             }
            },
            "type": "table"
           }
          ]
         },
         "layout": {
          "annotationdefaults": {
           "arrowcolor": "#2a3f5f",
           "arrowhead": 0,
           "arrowwidth": 1
          },
          "autotypenumbers": "strict",
          "coloraxis": {
           "colorbar": {
            "outlinewidth": 0,
            "ticks": ""
           }
          },
          "colorscale": {
           "diverging": [
            [
             0,
             "#8e0152"
            ],
            [
             0.1,
             "#c51b7d"
            ],
            [
             0.2,
             "#de77ae"
            ],
            [
             0.3,
             "#f1b6da"
            ],
            [
             0.4,
             "#fde0ef"
            ],
            [
             0.5,
             "#f7f7f7"
            ],
            [
             0.6,
             "#e6f5d0"
            ],
            [
             0.7,
             "#b8e186"
            ],
            [
             0.8,
             "#7fbc41"
            ],
            [
             0.9,
             "#4d9221"
            ],
            [
             1,
             "#276419"
            ]
           ],
           "sequential": [
            [
             0,
             "#0d0887"
            ],
            [
             0.1111111111111111,
             "#46039f"
            ],
            [
             0.2222222222222222,
             "#7201a8"
            ],
            [
             0.3333333333333333,
             "#9c179e"
            ],
            [
             0.4444444444444444,
             "#bd3786"
            ],
            [
             0.5555555555555556,
             "#d8576b"
            ],
            [
             0.6666666666666666,
             "#ed7953"
            ],
            [
             0.7777777777777778,
             "#fb9f3a"
            ],
            [
             0.8888888888888888,
             "#fdca26"
            ],
            [
             1,
             "#f0f921"
            ]
           ],
           "sequentialminus": [
            [
             0,
             "#0d0887"
            ],
            [
             0.1111111111111111,
             "#46039f"
            ],
            [
             0.2222222222222222,
             "#7201a8"
            ],
            [
             0.3333333333333333,
             "#9c179e"
            ],
            [
             0.4444444444444444,
             "#bd3786"
            ],
            [
             0.5555555555555556,
             "#d8576b"
            ],
            [
             0.6666666666666666,
             "#ed7953"
            ],
            [
             0.7777777777777778,
             "#fb9f3a"
            ],
            [
             0.8888888888888888,
             "#fdca26"
            ],
            [
             1,
             "#f0f921"
            ]
           ]
          },
          "colorway": [
           "#636efa",
           "#EF553B",
           "#00cc96",
           "#ab63fa",
           "#FFA15A",
           "#19d3f3",
           "#FF6692",
           "#B6E880",
           "#FF97FF",
           "#FECB52"
          ],
          "font": {
           "color": "#2a3f5f"
          },
          "geo": {
           "bgcolor": "white",
           "lakecolor": "white",
           "landcolor": "#E5ECF6",
           "showlakes": true,
           "showland": true,
           "subunitcolor": "white"
          },
          "hoverlabel": {
           "align": "left"
          },
          "hovermode": "closest",
          "mapbox": {
           "style": "light"
          },
          "paper_bgcolor": "white",
          "plot_bgcolor": "#E5ECF6",
          "polar": {
           "angularaxis": {
            "gridcolor": "white",
            "linecolor": "white",
            "ticks": ""
           },
           "bgcolor": "#E5ECF6",
           "radialaxis": {
            "gridcolor": "white",
            "linecolor": "white",
            "ticks": ""
           }
          },
          "scene": {
           "xaxis": {
            "backgroundcolor": "#E5ECF6",
            "gridcolor": "white",
            "gridwidth": 2,
            "linecolor": "white",
            "showbackground": true,
            "ticks": "",
            "zerolinecolor": "white"
           },
           "yaxis": {
            "backgroundcolor": "#E5ECF6",
            "gridcolor": "white",
            "gridwidth": 2,
            "linecolor": "white",
            "showbackground": true,
            "ticks": "",
            "zerolinecolor": "white"
           },
           "zaxis": {
            "backgroundcolor": "#E5ECF6",
            "gridcolor": "white",
            "gridwidth": 2,
            "linecolor": "white",
            "showbackground": true,
            "ticks": "",
            "zerolinecolor": "white"
           }
          },
          "shapedefaults": {
           "line": {
            "color": "#2a3f5f"
           }
          },
          "ternary": {
           "aaxis": {
            "gridcolor": "white",
            "linecolor": "white",
            "ticks": ""
           },
           "baxis": {
            "gridcolor": "white",
            "linecolor": "white",
            "ticks": ""
           },
           "bgcolor": "#E5ECF6",
           "caxis": {
            "gridcolor": "white",
            "linecolor": "white",
            "ticks": ""
           }
          },
          "title": {
           "x": 0.05
          },
          "xaxis": {
           "automargin": true,
           "gridcolor": "white",
           "linecolor": "white",
           "ticks": "",
           "title": {
            "standoff": 15
           },
           "zerolinecolor": "white",
           "zerolinewidth": 2
          },
          "yaxis": {
           "automargin": true,
           "gridcolor": "white",
           "linecolor": "white",
           "ticks": "",
           "title": {
            "standoff": 15
           },
           "zerolinecolor": "white",
           "zerolinewidth": 2
          }
         }
        },
        "xaxis": {
         "anchor": "y",
         "domain": [
          0,
          1
         ],
         "title": {
          "text": "idade"
         }
        },
        "yaxis": {
         "anchor": "x",
         "domain": [
          0,
          1
         ],
         "title": {
          "text": "faturamento_mensal"
         }
        }
       }
      }
     },
     "metadata": {},
     "output_type": "display_data"
    }
   ],
   "source": [
    "# Cruzar idade e faturamento em um grafico de dispersão \n",
    "px.scatter(data_frame=df_clients, x='idade', y='faturamento_mensal', color='cluster')"
   ]
  },
  {
   "cell_type": "code",
   "execution_count": 78,
   "metadata": {},
   "outputs": [
    {
     "data": {
      "application/vnd.plotly.v1+json": {
       "config": {
        "plotlyServerURL": "https://plot.ly"
       },
       "data": [
        {
         "hovertemplate": "inovacao=%{x}<br>faturamento_mensal=%{y}<br>cluster=%{marker.color}<extra></extra>",
         "legendgroup": "",
         "marker": {
          "color": [
           0,
           0,
           1,
           0,
           1,
           2,
           0,
           1,
           0,
           2,
           2,
           2,
           1,
           2,
           1,
           1,
           1,
           0,
           1,
           2,
           0,
           0,
           2,
           2,
           0,
           0,
           1,
           1,
           0,
           0,
           0,
           1,
           2,
           1,
           2,
           2,
           2,
           1,
           1,
           1,
           1,
           2,
           2,
           2,
           0,
           1,
           2,
           0,
           1,
           1,
           1,
           0,
           0,
           2,
           0,
           0,
           0,
           0,
           2,
           1,
           1,
           2,
           0,
           1,
           1,
           2,
           2,
           0,
           0,
           0,
           2,
           0,
           0,
           1,
           2,
           0,
           0,
           2,
           2,
           1,
           1,
           0,
           0,
           1,
           2,
           1,
           1,
           0,
           0,
           1,
           0,
           2,
           2,
           0,
           0,
           1,
           1,
           1,
           1,
           2,
           0,
           0,
           2,
           2,
           0,
           2,
           1,
           2,
           2,
           1,
           1,
           1,
           1,
           1,
           0,
           0,
           1,
           0,
           2,
           2,
           0,
           0,
           2,
           2,
           1,
           0,
           1,
           2,
           2,
           1,
           1,
           0,
           0,
           2,
           0,
           0,
           1,
           1,
           0,
           2,
           1,
           0,
           0,
           0,
           1,
           0,
           1,
           0,
           1,
           1,
           0,
           2,
           2,
           1,
           0,
           1,
           1,
           1,
           0,
           0,
           2,
           1,
           1,
           1,
           2,
           2,
           0,
           0,
           1,
           1,
           1,
           1,
           0,
           2,
           1,
           0,
           1,
           1,
           1,
           1,
           0,
           2,
           1,
           1,
           1,
           2,
           1,
           0,
           1,
           1,
           1,
           0,
           2,
           1,
           0,
           1,
           0,
           0,
           2,
           2,
           2,
           1,
           1,
           0,
           0,
           1,
           2,
           0,
           2,
           0,
           0,
           0,
           0,
           0,
           0,
           2,
           2,
           1,
           0,
           0,
           1,
           2,
           1,
           1,
           1,
           1,
           0,
           1,
           0,
           2,
           0,
           2,
           1,
           1,
           0,
           1,
           2,
           2,
           1,
           2,
           1,
           2,
           0,
           0,
           0,
           1,
           2,
           1,
           1,
           1,
           1,
           0,
           0,
           0,
           1,
           2,
           1,
           1,
           1,
           0,
           2,
           1,
           0,
           1,
           0,
           2,
           1,
           1,
           0,
           2,
           1,
           1,
           0,
           1,
           1,
           2,
           2,
           1,
           2,
           1,
           2,
           1,
           0,
           0,
           1,
           1,
           1,
           1,
           2,
           0,
           0,
           1,
           0,
           2,
           1,
           0,
           1,
           2,
           1,
           0,
           2,
           1,
           1,
           0,
           0,
           1,
           1,
           2,
           2,
           0,
           0,
           2,
           0,
           0,
           0,
           0,
           1,
           2,
           1,
           0,
           0,
           1,
           0,
           1,
           1,
           1,
           1,
           1,
           0,
           1,
           1,
           0,
           2,
           1,
           2,
           2,
           0,
           0,
           1,
           1,
           1,
           2,
           1,
           0,
           0,
           1,
           0,
           1,
           2,
           1,
           2,
           0,
           1,
           1,
           2,
           1,
           2,
           2,
           1,
           2,
           1,
           0,
           1,
           1,
           2,
           0,
           0,
           0,
           1,
           2,
           0,
           0,
           2,
           2,
           1,
           1,
           2,
           2,
           0,
           1,
           2,
           1,
           0,
           1,
           1,
           2,
           0,
           1,
           1,
           1,
           1,
           2,
           0,
           2,
           1,
           1,
           0,
           1,
           1,
           1,
           0,
           2,
           1,
           0,
           2,
           1,
           1,
           2,
           0,
           0,
           0,
           1,
           2,
           1,
           1,
           2,
           1,
           2,
           1,
           2,
           1,
           2,
           2,
           2,
           0,
           2,
           2,
           1,
           0,
           1,
           2,
           0,
           0,
           0,
           1,
           2,
           1,
           1,
           0,
           1,
           2,
           1,
           1,
           1,
           2,
           0,
           0,
           2,
           1,
           2,
           0,
           2,
           0,
           1,
           0,
           2,
           1,
           1,
           2,
           1,
           1,
           1,
           2,
           0,
           0,
           0,
           2,
           1,
           0,
           2,
           0,
           0,
           1,
           1,
           2,
           2,
           2,
           1,
           0,
           0,
           2,
           1,
           1,
           0,
           1,
           0,
           0,
           2,
           2,
           0,
           2,
           0,
           0,
           1,
           0,
           0,
           1,
           0,
           2,
           1
          ],
          "coloraxis": "coloraxis",
          "symbol": "circle"
         },
         "mode": "markers",
         "name": "",
         "orientation": "v",
         "showlegend": false,
         "type": "scatter",
         "x": [
          1,
          0,
          9,
          0,
          8,
          4,
          1,
          6,
          1,
          3,
          4,
          4,
          6,
          3,
          8,
          7,
          8,
          0,
          7,
          5,
          2,
          2,
          4,
          5,
          2,
          1,
          7,
          6,
          2,
          1,
          2,
          9,
          5,
          6,
          5,
          3,
          5,
          6,
          8,
          7,
          6,
          3,
          3,
          4,
          1,
          9,
          3,
          0,
          8,
          7,
          6,
          1,
          2,
          3,
          0,
          0,
          2,
          1,
          5,
          9,
          9,
          4,
          1,
          7,
          8,
          3,
          5,
          2,
          0,
          1,
          5,
          1,
          1,
          7,
          5,
          2,
          2,
          3,
          5,
          8,
          7,
          2,
          2,
          7,
          3,
          9,
          6,
          1,
          0,
          6,
          0,
          3,
          4,
          1,
          2,
          8,
          7,
          6,
          9,
          4,
          1,
          1,
          4,
          5,
          0,
          3,
          8,
          3,
          5,
          9,
          8,
          7,
          7,
          7,
          0,
          2,
          8,
          0,
          4,
          3,
          0,
          2,
          5,
          4,
          9,
          2,
          9,
          4,
          4,
          9,
          6,
          0,
          1,
          3,
          2,
          2,
          9,
          6,
          0,
          4,
          7,
          0,
          1,
          2,
          9,
          2,
          7,
          0,
          6,
          6,
          2,
          3,
          5,
          7,
          2,
          6,
          7,
          7,
          2,
          2,
          4,
          9,
          8,
          6,
          3,
          5,
          1,
          1,
          9,
          7,
          9,
          6,
          2,
          4,
          6,
          0,
          9,
          9,
          8,
          7,
          0,
          4,
          7,
          9,
          6,
          5,
          8,
          1,
          9,
          8,
          9,
          0,
          3,
          8,
          1,
          8,
          1,
          0,
          4,
          4,
          3,
          8,
          7,
          1,
          0,
          7,
          4,
          1,
          5,
          0,
          0,
          2,
          1,
          0,
          2,
          4,
          3,
          9,
          1,
          0,
          9,
          5,
          6,
          6,
          7,
          8,
          2,
          8,
          0,
          3,
          0,
          3,
          7,
          6,
          2,
          7,
          5,
          4,
          8,
          4,
          7,
          3,
          1,
          2,
          2,
          9,
          3,
          6,
          8,
          6,
          9,
          0,
          0,
          1,
          6,
          5,
          7,
          6,
          7,
          0,
          5,
          9,
          2,
          8,
          2,
          4,
          9,
          7,
          0,
          3,
          7,
          6,
          0,
          8,
          6,
          5,
          4,
          7,
          5,
          6,
          4,
          9,
          2,
          0,
          7,
          7,
          8,
          8,
          4,
          2,
          1,
          8,
          1,
          3,
          9,
          0,
          6,
          4,
          8,
          1,
          5,
          8,
          6,
          1,
          1,
          8,
          8,
          3,
          5,
          2,
          0,
          3,
          1,
          1,
          2,
          0,
          7,
          3,
          9,
          1,
          2,
          6,
          2,
          7,
          7,
          6,
          9,
          6,
          1,
          9,
          6,
          1,
          3,
          8,
          3,
          4,
          2,
          0,
          9,
          9,
          9,
          4,
          6,
          1,
          2,
          7,
          0,
          6,
          3,
          8,
          5,
          0,
          6,
          7,
          5,
          6,
          3,
          5,
          7,
          3,
          7,
          0,
          8,
          8,
          5,
          2,
          1,
          0,
          8,
          4,
          2,
          1,
          4,
          4,
          9,
          7,
          5,
          3,
          2,
          6,
          5,
          9,
          0,
          8,
          9,
          3,
          2,
          7,
          8,
          8,
          6,
          3,
          1,
          5,
          6,
          7,
          1,
          8,
          7,
          6,
          2,
          4,
          9,
          1,
          4,
          9,
          8,
          3,
          1,
          1,
          2,
          6,
          5,
          7,
          6,
          4,
          6,
          3,
          9,
          3,
          7,
          3,
          4,
          3,
          1,
          3,
          5,
          6,
          2,
          7,
          3,
          0,
          1,
          2,
          9,
          5,
          6,
          6,
          1,
          6,
          5,
          9,
          6,
          9,
          4,
          2,
          0,
          4,
          8,
          5,
          1,
          5,
          1,
          6,
          1,
          4,
          7,
          6,
          4,
          7,
          6,
          7,
          5,
          2,
          0,
          1,
          3,
          8,
          2,
          5,
          0,
          0,
          7,
          8,
          4,
          3,
          4,
          8,
          0,
          2,
          5,
          7,
          8,
          0,
          9,
          2,
          1,
          5,
          5,
          1,
          3,
          0,
          2,
          8,
          1,
          2,
          9,
          0,
          3,
          9
         ],
         "xaxis": "x",
         "y": [
          713109.95,
          790714.38,
          1197239.33,
          449185.78,
          1006373.16,
          1629562.41,
          771179.95,
          707837.61,
          888983.66,
          1098512.64,
          695548.78,
          556632.55,
          800123.32,
          1544423.2,
          1058543.63,
          783081.11,
          566156.05,
          1047680.24,
          836793.37,
          1072955.49,
          1125089.99,
          1424196.41,
          1376884.23,
          1240936.73,
          947515.95,
          1237763.98,
          1181642.63,
          782097.18,
          111926.48,
          489936.94,
          1164187.89,
          1418374.5,
          1325421.71,
          445704.4,
          958656.71,
          1207754.02,
          1258551.12,
          1051870.82,
          1116791.99,
          944040.44,
          878314.15,
          645734.68,
          1197770.02,
          619332.74,
          973809.28,
          1055849.89,
          743078.06,
          853682.38,
          1188462.86,
          1922245.53,
          854257.82,
          296714.92,
          1398126.07,
          1366079.54,
          615848.03,
          95680.54,
          588181.56,
          2263343.91,
          992946.81,
          990270.34,
          899158.38,
          969864.84,
          866778.96,
          1523849.47,
          842146.63,
          431140.66,
          1102025.65,
          837639.72,
          1539172.91,
          662659.12,
          873208.52,
          1191112.82,
          936929.11,
          653645.84,
          914998.87,
          931561.93,
          1489753.71,
          389151.32,
          734331.53,
          1195418.56,
          1077111.04,
          1098366.38,
          1578288.81,
          903521.24,
          1293348.75,
          559870.94,
          1378891.79,
          1124033.51,
          1239188.62,
          241891.6,
          226715.57,
          316147.85,
          983027.55,
          1081112.62,
          1351509.91,
          705494.09,
          1616152.72,
          121410.81,
          1379112.59,
          371592.27,
          1005847.92,
          909973.14,
          717966.54,
          1079558.76,
          348577.69,
          1419109.8,
          785108.04,
          2083352.96,
          705535.84,
          1102257.75,
          184770.26,
          1146243.42,
          1706382.47,
          1932443.78,
          1443795.53,
          1388175.16,
          1033935.28,
          1506130.56,
          971873.18,
          1231155.45,
          856263.52,
          789695.82,
          617845.52,
          997025.99,
          993329.43,
          1439742.37,
          1083390.19,
          763290.3,
          1132167.53,
          1404262.26,
          833741.24,
          833486.37,
          949003.35,
          1383614.28,
          603109.29,
          810709.96,
          735388.51,
          1574289.73,
          1589880.1,
          993467.4,
          863881.59,
          332979.68,
          831586.64,
          18421.22,
          823011.86,
          643092.4,
          958451.91,
          1841715.96,
          1114979.28,
          843237.64,
          853807.58,
          1267527.12,
          722272.13,
          580396.98,
          1153343.69,
          1243667.61,
          1655885.31,
          1563607.42,
          1404873.5,
          723535.75,
          1276078.67,
          810805.33,
          1555042.97,
          1142214.41,
          1272544.7,
          983440.97,
          103994.8,
          1236114.44,
          1565259.29,
          909928.51,
          1518495.54,
          1353384.97,
          1050126.53,
          1094043.53,
          1078181.16,
          1480465.17,
          267812.36,
          1754666.01,
          1070918.51,
          334835.36,
          1290549.96,
          1363863.52,
          834438.57,
          1301428.04,
          148061.36,
          850020.42,
          650241.43,
          494926.48,
          1057767.62,
          627273.65,
          665358.48,
          740201.08,
          991762.16,
          1230575.08,
          174738.56,
          1407737.12,
          1376121.85,
          763143.44,
          1009984.8,
          965508.49,
          1118393.81,
          1094810.2,
          1093585.71,
          1248640.73,
          1475870,
          564348.59,
          768322.67,
          1032819.03,
          816484.64,
          535199.75,
          743926.38,
          852074.86,
          1194723.4,
          849942.63,
          1330082.14,
          861194.33,
          312067.61,
          554967.95,
          608858.82,
          271560.28,
          1171807.82,
          1063111.93,
          726828.81,
          864076.14,
          1134311.38,
          1220385.54,
          988495.51,
          769054.24,
          1027960.98,
          1063262.79,
          910568.59,
          1716130.92,
          1230763.9,
          1014070.01,
          989109.67,
          531384.99,
          84497.94,
          1385339.46,
          1009392.87,
          787481.84,
          679053.92,
          1100001.65,
          2390677.22,
          977980.47,
          598717.71,
          1025701.64,
          788278.22,
          64711.22,
          1570819.07,
          1993908.63,
          785668.64,
          1258737.22,
          1320450.27,
          911615.28,
          533072.17,
          659624.71,
          1367765.95,
          1370699.52,
          757658.35,
          1286670.98,
          1650111.3,
          803823.34,
          1133686.14,
          1016606.48,
          1209830.96,
          768946.51,
          1236870.36,
          1373604.43,
          791201.94,
          470253.72,
          1244020.43,
          323593.53,
          839638.4,
          1460403.03,
          1255764.84,
          915799.22,
          1541762.74,
          429688.53,
          800004.44,
          1017325.17,
          60516.83,
          1207098.74,
          791704.75,
          1655693.05,
          1281521.01,
          1902144.56,
          853723.67,
          1344366.16,
          884940.1,
          625599.74,
          908289.25,
          1032183.53,
          2107306.42,
          481595.99,
          663326.41,
          1588245.25,
          921770.07,
          163682.26,
          1247176.41,
          1212901.4,
          851080.66,
          942883.08,
          1707923.52,
          1177227.98,
          499441.3,
          1395925.1,
          1456142.58,
          693629.48,
          1209549.81,
          1713025.38,
          1292741.18,
          911521.72,
          1094337.38,
          880090.72,
          1015654.17,
          1398871.6,
          1327130.38,
          1129203.5,
          941612.29,
          854382.67,
          1318621.28,
          1458066.67,
          1728544.72,
          1161568.8,
          780121.59,
          1298316.46,
          1337880.08,
          231562.65,
          823374.93,
          356229.62,
          1532181.14,
          1006625.13,
          1104801.34,
          722920.8,
          734238.96,
          805436.7,
          1647453.28,
          898610.61,
          626629.6,
          1794352.93,
          1043981.61,
          665572.04,
          932845.17,
          1569380.97,
          1216938.1,
          1093042.03,
          1348626.67,
          203045.12,
          602393.66,
          1010038.24,
          929711.04,
          1116387.07,
          1683711.93,
          626776.88,
          1219653.63,
          1314583.32,
          1535533.76,
          1936486.41,
          1382271.23,
          1238547.54,
          944765.54,
          1057982.09,
          1046845.34,
          333127.92,
          1189103.92,
          1003981.55,
          629572.6,
          753664.57,
          549149.57,
          1288325.43,
          928727.24,
          1843761.24,
          244825,
          656377.77,
          1574626.03,
          1439950.65,
          721463.53,
          1436673,
          841346.81,
          1485834.15,
          1459878,
          1349860.72,
          1952250.45,
          1027285.87,
          1053130.05,
          990690.47,
          1118793.07,
          1902367.98,
          981440.96,
          506672.67,
          1735063.39,
          686102.63,
          715243.69,
          1193834.4,
          1743573.32,
          1167501.7,
          989883.92,
          1058929.85,
          673865.11,
          591593.3,
          916748.4,
          1694996.88,
          550053.3,
          1195575.01,
          1867234.3,
          1077943.15,
          1228736.22,
          1003381.76,
          603305.03,
          1220941.7,
          545859.25,
          1124754.89,
          1167866.74,
          1362343.3,
          1103149.26,
          743480.47,
          434194.11,
          479869.9,
          1071831.13,
          593531.52,
          1492116.94,
          658580.22,
          869605.13,
          879688.87,
          725022.65,
          1316076.16,
          1056532.62,
          836973.51,
          79015.03,
          1780802.99,
          1328577.86,
          435489.53,
          844782.42,
          1298004.31,
          1662826.01,
          970959.21,
          869638.69,
          1009839.03,
          1021085.99,
          1239494.05,
          1536684.3,
          1068322.53,
          983540.2,
          880695.38,
          119950.58,
          1346978.95,
          1752009.96,
          1061121.78,
          1358513.26,
          254263.2,
          475032.23,
          1330014.86,
          1042344.43,
          429809.37,
          1198949.59,
          1024828.18,
          1878689.05,
          1635893.76,
          1147381.02,
          1155825.73,
          1295183.25,
          654953.48,
          1130027.72,
          25576.28,
          1227045.41,
          805517.39,
          1169132.47,
          1109076.58,
          695368.23,
          1355673.25,
          809933.42,
          1229181.97,
          1693342.51,
          618250.8,
          811781.56,
          745302.32,
          1052598.3,
          1103740.65,
          1810013.45,
          1334308.97,
          1425718.91,
          1662467.08,
          1681458.49,
          1509385.85,
          1533062.06,
          786224.94,
          445571.87,
          505124.91,
          2006688.81,
          416429.3,
          215580.61,
          1050776.57,
          785671.05,
          658330.45,
          1643153.26,
          1581841.42,
          1291309.57,
          2211489.85,
          1460860.46,
          173684.43
         ],
         "yaxis": "y"
        }
       ],
       "layout": {
        "coloraxis": {
         "colorbar": {
          "title": {
           "text": "cluster"
          }
         },
         "colorscale": [
          [
           0,
           "#0d0887"
          ],
          [
           0.1111111111111111,
           "#46039f"
          ],
          [
           0.2222222222222222,
           "#7201a8"
          ],
          [
           0.3333333333333333,
           "#9c179e"
          ],
          [
           0.4444444444444444,
           "#bd3786"
          ],
          [
           0.5555555555555556,
           "#d8576b"
          ],
          [
           0.6666666666666666,
           "#ed7953"
          ],
          [
           0.7777777777777778,
           "#fb9f3a"
          ],
          [
           0.8888888888888888,
           "#fdca26"
          ],
          [
           1,
           "#f0f921"
          ]
         ]
        },
        "legend": {
         "tracegroupgap": 0
        },
        "margin": {
         "t": 60
        },
        "template": {
         "data": {
          "bar": [
           {
            "error_x": {
             "color": "#2a3f5f"
            },
            "error_y": {
             "color": "#2a3f5f"
            },
            "marker": {
             "line": {
              "color": "#E5ECF6",
              "width": 0.5
             },
             "pattern": {
              "fillmode": "overlay",
              "size": 10,
              "solidity": 0.2
             }
            },
            "type": "bar"
           }
          ],
          "barpolar": [
           {
            "marker": {
             "line": {
              "color": "#E5ECF6",
              "width": 0.5
             },
             "pattern": {
              "fillmode": "overlay",
              "size": 10,
              "solidity": 0.2
             }
            },
            "type": "barpolar"
           }
          ],
          "carpet": [
           {
            "aaxis": {
             "endlinecolor": "#2a3f5f",
             "gridcolor": "white",
             "linecolor": "white",
             "minorgridcolor": "white",
             "startlinecolor": "#2a3f5f"
            },
            "baxis": {
             "endlinecolor": "#2a3f5f",
             "gridcolor": "white",
             "linecolor": "white",
             "minorgridcolor": "white",
             "startlinecolor": "#2a3f5f"
            },
            "type": "carpet"
           }
          ],
          "choropleth": [
           {
            "colorbar": {
             "outlinewidth": 0,
             "ticks": ""
            },
            "type": "choropleth"
           }
          ],
          "contour": [
           {
            "colorbar": {
             "outlinewidth": 0,
             "ticks": ""
            },
            "colorscale": [
             [
              0,
              "#0d0887"
             ],
             [
              0.1111111111111111,
              "#46039f"
             ],
             [
              0.2222222222222222,
              "#7201a8"
             ],
             [
              0.3333333333333333,
              "#9c179e"
             ],
             [
              0.4444444444444444,
              "#bd3786"
             ],
             [
              0.5555555555555556,
              "#d8576b"
             ],
             [
              0.6666666666666666,
              "#ed7953"
             ],
             [
              0.7777777777777778,
              "#fb9f3a"
             ],
             [
              0.8888888888888888,
              "#fdca26"
             ],
             [
              1,
              "#f0f921"
             ]
            ],
            "type": "contour"
           }
          ],
          "contourcarpet": [
           {
            "colorbar": {
             "outlinewidth": 0,
             "ticks": ""
            },
            "type": "contourcarpet"
           }
          ],
          "heatmap": [
           {
            "colorbar": {
             "outlinewidth": 0,
             "ticks": ""
            },
            "colorscale": [
             [
              0,
              "#0d0887"
             ],
             [
              0.1111111111111111,
              "#46039f"
             ],
             [
              0.2222222222222222,
              "#7201a8"
             ],
             [
              0.3333333333333333,
              "#9c179e"
             ],
             [
              0.4444444444444444,
              "#bd3786"
             ],
             [
              0.5555555555555556,
              "#d8576b"
             ],
             [
              0.6666666666666666,
              "#ed7953"
             ],
             [
              0.7777777777777778,
              "#fb9f3a"
             ],
             [
              0.8888888888888888,
              "#fdca26"
             ],
             [
              1,
              "#f0f921"
             ]
            ],
            "type": "heatmap"
           }
          ],
          "heatmapgl": [
           {
            "colorbar": {
             "outlinewidth": 0,
             "ticks": ""
            },
            "colorscale": [
             [
              0,
              "#0d0887"
             ],
             [
              0.1111111111111111,
              "#46039f"
             ],
             [
              0.2222222222222222,
              "#7201a8"
             ],
             [
              0.3333333333333333,
              "#9c179e"
             ],
             [
              0.4444444444444444,
              "#bd3786"
             ],
             [
              0.5555555555555556,
              "#d8576b"
             ],
             [
              0.6666666666666666,
              "#ed7953"
             ],
             [
              0.7777777777777778,
              "#fb9f3a"
             ],
             [
              0.8888888888888888,
              "#fdca26"
             ],
             [
              1,
              "#f0f921"
             ]
            ],
            "type": "heatmapgl"
           }
          ],
          "histogram": [
           {
            "marker": {
             "pattern": {
              "fillmode": "overlay",
              "size": 10,
              "solidity": 0.2
             }
            },
            "type": "histogram"
           }
          ],
          "histogram2d": [
           {
            "colorbar": {
             "outlinewidth": 0,
             "ticks": ""
            },
            "colorscale": [
             [
              0,
              "#0d0887"
             ],
             [
              0.1111111111111111,
              "#46039f"
             ],
             [
              0.2222222222222222,
              "#7201a8"
             ],
             [
              0.3333333333333333,
              "#9c179e"
             ],
             [
              0.4444444444444444,
              "#bd3786"
             ],
             [
              0.5555555555555556,
              "#d8576b"
             ],
             [
              0.6666666666666666,
              "#ed7953"
             ],
             [
              0.7777777777777778,
              "#fb9f3a"
             ],
             [
              0.8888888888888888,
              "#fdca26"
             ],
             [
              1,
              "#f0f921"
             ]
            ],
            "type": "histogram2d"
           }
          ],
          "histogram2dcontour": [
           {
            "colorbar": {
             "outlinewidth": 0,
             "ticks": ""
            },
            "colorscale": [
             [
              0,
              "#0d0887"
             ],
             [
              0.1111111111111111,
              "#46039f"
             ],
             [
              0.2222222222222222,
              "#7201a8"
             ],
             [
              0.3333333333333333,
              "#9c179e"
             ],
             [
              0.4444444444444444,
              "#bd3786"
             ],
             [
              0.5555555555555556,
              "#d8576b"
             ],
             [
              0.6666666666666666,
              "#ed7953"
             ],
             [
              0.7777777777777778,
              "#fb9f3a"
             ],
             [
              0.8888888888888888,
              "#fdca26"
             ],
             [
              1,
              "#f0f921"
             ]
            ],
            "type": "histogram2dcontour"
           }
          ],
          "mesh3d": [
           {
            "colorbar": {
             "outlinewidth": 0,
             "ticks": ""
            },
            "type": "mesh3d"
           }
          ],
          "parcoords": [
           {
            "line": {
             "colorbar": {
              "outlinewidth": 0,
              "ticks": ""
             }
            },
            "type": "parcoords"
           }
          ],
          "pie": [
           {
            "automargin": true,
            "type": "pie"
           }
          ],
          "scatter": [
           {
            "fillpattern": {
             "fillmode": "overlay",
             "size": 10,
             "solidity": 0.2
            },
            "type": "scatter"
           }
          ],
          "scatter3d": [
           {
            "line": {
             "colorbar": {
              "outlinewidth": 0,
              "ticks": ""
             }
            },
            "marker": {
             "colorbar": {
              "outlinewidth": 0,
              "ticks": ""
             }
            },
            "type": "scatter3d"
           }
          ],
          "scattercarpet": [
           {
            "marker": {
             "colorbar": {
              "outlinewidth": 0,
              "ticks": ""
             }
            },
            "type": "scattercarpet"
           }
          ],
          "scattergeo": [
           {
            "marker": {
             "colorbar": {
              "outlinewidth": 0,
              "ticks": ""
             }
            },
            "type": "scattergeo"
           }
          ],
          "scattergl": [
           {
            "marker": {
             "colorbar": {
              "outlinewidth": 0,
              "ticks": ""
             }
            },
            "type": "scattergl"
           }
          ],
          "scattermapbox": [
           {
            "marker": {
             "colorbar": {
              "outlinewidth": 0,
              "ticks": ""
             }
            },
            "type": "scattermapbox"
           }
          ],
          "scatterpolar": [
           {
            "marker": {
             "colorbar": {
              "outlinewidth": 0,
              "ticks": ""
             }
            },
            "type": "scatterpolar"
           }
          ],
          "scatterpolargl": [
           {
            "marker": {
             "colorbar": {
              "outlinewidth": 0,
              "ticks": ""
             }
            },
            "type": "scatterpolargl"
           }
          ],
          "scatterternary": [
           {
            "marker": {
             "colorbar": {
              "outlinewidth": 0,
              "ticks": ""
             }
            },
            "type": "scatterternary"
           }
          ],
          "surface": [
           {
            "colorbar": {
             "outlinewidth": 0,
             "ticks": ""
            },
            "colorscale": [
             [
              0,
              "#0d0887"
             ],
             [
              0.1111111111111111,
              "#46039f"
             ],
             [
              0.2222222222222222,
              "#7201a8"
             ],
             [
              0.3333333333333333,
              "#9c179e"
             ],
             [
              0.4444444444444444,
              "#bd3786"
             ],
             [
              0.5555555555555556,
              "#d8576b"
             ],
             [
              0.6666666666666666,
              "#ed7953"
             ],
             [
              0.7777777777777778,
              "#fb9f3a"
             ],
             [
              0.8888888888888888,
              "#fdca26"
             ],
             [
              1,
              "#f0f921"
             ]
            ],
            "type": "surface"
           }
          ],
          "table": [
           {
            "cells": {
             "fill": {
              "color": "#EBF0F8"
             },
             "line": {
              "color": "white"
             }
            },
            "header": {
             "fill": {
              "color": "#C8D4E3"
             },
             "line": {
              "color": "white"
             }
            },
            "type": "table"
           }
          ]
         },
         "layout": {
          "annotationdefaults": {
           "arrowcolor": "#2a3f5f",
           "arrowhead": 0,
           "arrowwidth": 1
          },
          "autotypenumbers": "strict",
          "coloraxis": {
           "colorbar": {
            "outlinewidth": 0,
            "ticks": ""
           }
          },
          "colorscale": {
           "diverging": [
            [
             0,
             "#8e0152"
            ],
            [
             0.1,
             "#c51b7d"
            ],
            [
             0.2,
             "#de77ae"
            ],
            [
             0.3,
             "#f1b6da"
            ],
            [
             0.4,
             "#fde0ef"
            ],
            [
             0.5,
             "#f7f7f7"
            ],
            [
             0.6,
             "#e6f5d0"
            ],
            [
             0.7,
             "#b8e186"
            ],
            [
             0.8,
             "#7fbc41"
            ],
            [
             0.9,
             "#4d9221"
            ],
            [
             1,
             "#276419"
            ]
           ],
           "sequential": [
            [
             0,
             "#0d0887"
            ],
            [
             0.1111111111111111,
             "#46039f"
            ],
            [
             0.2222222222222222,
             "#7201a8"
            ],
            [
             0.3333333333333333,
             "#9c179e"
            ],
            [
             0.4444444444444444,
             "#bd3786"
            ],
            [
             0.5555555555555556,
             "#d8576b"
            ],
            [
             0.6666666666666666,
             "#ed7953"
            ],
            [
             0.7777777777777778,
             "#fb9f3a"
            ],
            [
             0.8888888888888888,
             "#fdca26"
            ],
            [
             1,
             "#f0f921"
            ]
           ],
           "sequentialminus": [
            [
             0,
             "#0d0887"
            ],
            [
             0.1111111111111111,
             "#46039f"
            ],
            [
             0.2222222222222222,
             "#7201a8"
            ],
            [
             0.3333333333333333,
             "#9c179e"
            ],
            [
             0.4444444444444444,
             "#bd3786"
            ],
            [
             0.5555555555555556,
             "#d8576b"
            ],
            [
             0.6666666666666666,
             "#ed7953"
            ],
            [
             0.7777777777777778,
             "#fb9f3a"
            ],
            [
             0.8888888888888888,
             "#fdca26"
            ],
            [
             1,
             "#f0f921"
            ]
           ]
          },
          "colorway": [
           "#636efa",
           "#EF553B",
           "#00cc96",
           "#ab63fa",
           "#FFA15A",
           "#19d3f3",
           "#FF6692",
           "#B6E880",
           "#FF97FF",
           "#FECB52"
          ],
          "font": {
           "color": "#2a3f5f"
          },
          "geo": {
           "bgcolor": "white",
           "lakecolor": "white",
           "landcolor": "#E5ECF6",
           "showlakes": true,
           "showland": true,
           "subunitcolor": "white"
          },
          "hoverlabel": {
           "align": "left"
          },
          "hovermode": "closest",
          "mapbox": {
           "style": "light"
          },
          "paper_bgcolor": "white",
          "plot_bgcolor": "#E5ECF6",
          "polar": {
           "angularaxis": {
            "gridcolor": "white",
            "linecolor": "white",
            "ticks": ""
           },
           "bgcolor": "#E5ECF6",
           "radialaxis": {
            "gridcolor": "white",
            "linecolor": "white",
            "ticks": ""
           }
          },
          "scene": {
           "xaxis": {
            "backgroundcolor": "#E5ECF6",
            "gridcolor": "white",
            "gridwidth": 2,
            "linecolor": "white",
            "showbackground": true,
            "ticks": "",
            "zerolinecolor": "white"
           },
           "yaxis": {
            "backgroundcolor": "#E5ECF6",
            "gridcolor": "white",
            "gridwidth": 2,
            "linecolor": "white",
            "showbackground": true,
            "ticks": "",
            "zerolinecolor": "white"
           },
           "zaxis": {
            "backgroundcolor": "#E5ECF6",
            "gridcolor": "white",
            "gridwidth": 2,
            "linecolor": "white",
            "showbackground": true,
            "ticks": "",
            "zerolinecolor": "white"
           }
          },
          "shapedefaults": {
           "line": {
            "color": "#2a3f5f"
           }
          },
          "ternary": {
           "aaxis": {
            "gridcolor": "white",
            "linecolor": "white",
            "ticks": ""
           },
           "baxis": {
            "gridcolor": "white",
            "linecolor": "white",
            "ticks": ""
           },
           "bgcolor": "#E5ECF6",
           "caxis": {
            "gridcolor": "white",
            "linecolor": "white",
            "ticks": ""
           }
          },
          "title": {
           "x": 0.05
          },
          "xaxis": {
           "automargin": true,
           "gridcolor": "white",
           "linecolor": "white",
           "ticks": "",
           "title": {
            "standoff": 15
           },
           "zerolinecolor": "white",
           "zerolinewidth": 2
          },
          "yaxis": {
           "automargin": true,
           "gridcolor": "white",
           "linecolor": "white",
           "ticks": "",
           "title": {
            "standoff": 15
           },
           "zerolinecolor": "white",
           "zerolinewidth": 2
          }
         }
        },
        "xaxis": {
         "anchor": "y",
         "domain": [
          0,
          1
         ],
         "title": {
          "text": "inovacao"
         }
        },
        "yaxis": {
         "anchor": "x",
         "domain": [
          0,
          1
         ],
         "title": {
          "text": "faturamento_mensal"
         }
        }
       }
      }
     },
     "metadata": {},
     "output_type": "display_data"
    }
   ],
   "source": [
    "# Cruzar inovação e faturamento em um grafico de dispersão\n",
    "px.scatter(df_clients, x='inovacao', y='faturamento_mensal', color='cluster')"
   ]
  },
  {
   "cell_type": "code",
   "execution_count": 79,
   "metadata": {},
   "outputs": [
    {
     "data": {
      "application/vnd.plotly.v1+json": {
       "config": {
        "plotlyServerURL": "https://plot.ly"
       },
       "data": [
        {
         "hovertemplate": "numero_de_funcionarios=%{x}<br>faturamento_mensal=%{y}<br>cluster=%{marker.color}<extra></extra>",
         "legendgroup": "",
         "marker": {
          "color": [
           0,
           0,
           1,
           0,
           1,
           2,
           0,
           1,
           0,
           2,
           2,
           2,
           1,
           2,
           1,
           1,
           1,
           0,
           1,
           2,
           0,
           0,
           2,
           2,
           0,
           0,
           1,
           1,
           0,
           0,
           0,
           1,
           2,
           1,
           2,
           2,
           2,
           1,
           1,
           1,
           1,
           2,
           2,
           2,
           0,
           1,
           2,
           0,
           1,
           1,
           1,
           0,
           0,
           2,
           0,
           0,
           0,
           0,
           2,
           1,
           1,
           2,
           0,
           1,
           1,
           2,
           2,
           0,
           0,
           0,
           2,
           0,
           0,
           1,
           2,
           0,
           0,
           2,
           2,
           1,
           1,
           0,
           0,
           1,
           2,
           1,
           1,
           0,
           0,
           1,
           0,
           2,
           2,
           0,
           0,
           1,
           1,
           1,
           1,
           2,
           0,
           0,
           2,
           2,
           0,
           2,
           1,
           2,
           2,
           1,
           1,
           1,
           1,
           1,
           0,
           0,
           1,
           0,
           2,
           2,
           0,
           0,
           2,
           2,
           1,
           0,
           1,
           2,
           2,
           1,
           1,
           0,
           0,
           2,
           0,
           0,
           1,
           1,
           0,
           2,
           1,
           0,
           0,
           0,
           1,
           0,
           1,
           0,
           1,
           1,
           0,
           2,
           2,
           1,
           0,
           1,
           1,
           1,
           0,
           0,
           2,
           1,
           1,
           1,
           2,
           2,
           0,
           0,
           1,
           1,
           1,
           1,
           0,
           2,
           1,
           0,
           1,
           1,
           1,
           1,
           0,
           2,
           1,
           1,
           1,
           2,
           1,
           0,
           1,
           1,
           1,
           0,
           2,
           1,
           0,
           1,
           0,
           0,
           2,
           2,
           2,
           1,
           1,
           0,
           0,
           1,
           2,
           0,
           2,
           0,
           0,
           0,
           0,
           0,
           0,
           2,
           2,
           1,
           0,
           0,
           1,
           2,
           1,
           1,
           1,
           1,
           0,
           1,
           0,
           2,
           0,
           2,
           1,
           1,
           0,
           1,
           2,
           2,
           1,
           2,
           1,
           2,
           0,
           0,
           0,
           1,
           2,
           1,
           1,
           1,
           1,
           0,
           0,
           0,
           1,
           2,
           1,
           1,
           1,
           0,
           2,
           1,
           0,
           1,
           0,
           2,
           1,
           1,
           0,
           2,
           1,
           1,
           0,
           1,
           1,
           2,
           2,
           1,
           2,
           1,
           2,
           1,
           0,
           0,
           1,
           1,
           1,
           1,
           2,
           0,
           0,
           1,
           0,
           2,
           1,
           0,
           1,
           2,
           1,
           0,
           2,
           1,
           1,
           0,
           0,
           1,
           1,
           2,
           2,
           0,
           0,
           2,
           0,
           0,
           0,
           0,
           1,
           2,
           1,
           0,
           0,
           1,
           0,
           1,
           1,
           1,
           1,
           1,
           0,
           1,
           1,
           0,
           2,
           1,
           2,
           2,
           0,
           0,
           1,
           1,
           1,
           2,
           1,
           0,
           0,
           1,
           0,
           1,
           2,
           1,
           2,
           0,
           1,
           1,
           2,
           1,
           2,
           2,
           1,
           2,
           1,
           0,
           1,
           1,
           2,
           0,
           0,
           0,
           1,
           2,
           0,
           0,
           2,
           2,
           1,
           1,
           2,
           2,
           0,
           1,
           2,
           1,
           0,
           1,
           1,
           2,
           0,
           1,
           1,
           1,
           1,
           2,
           0,
           2,
           1,
           1,
           0,
           1,
           1,
           1,
           0,
           2,
           1,
           0,
           2,
           1,
           1,
           2,
           0,
           0,
           0,
           1,
           2,
           1,
           1,
           2,
           1,
           2,
           1,
           2,
           1,
           2,
           2,
           2,
           0,
           2,
           2,
           1,
           0,
           1,
           2,
           0,
           0,
           0,
           1,
           2,
           1,
           1,
           0,
           1,
           2,
           1,
           1,
           1,
           2,
           0,
           0,
           2,
           1,
           2,
           0,
           2,
           0,
           1,
           0,
           2,
           1,
           1,
           2,
           1,
           1,
           1,
           2,
           0,
           0,
           0,
           2,
           1,
           0,
           2,
           0,
           0,
           1,
           1,
           2,
           2,
           2,
           1,
           0,
           0,
           2,
           1,
           1,
           0,
           1,
           0,
           0,
           2,
           2,
           0,
           2,
           0,
           0,
           1,
           0,
           0,
           1,
           0,
           2,
           1
          ],
          "coloraxis": "coloraxis",
          "symbol": "circle"
         },
         "mode": "markers",
         "name": "",
         "orientation": "v",
         "showlegend": false,
         "type": "scatter",
         "x": [
          12,
          9,
          17,
          15,
          15,
          16,
          13,
          16,
          17,
          13,
          11,
          14,
          15,
          15,
          12,
          10,
          15,
          14,
          12,
          14,
          16,
          17,
          17,
          19,
          18,
          18,
          10,
          11,
          13,
          13,
          13,
          16,
          14,
          13,
          4,
          12,
          15,
          16,
          17,
          10,
          9,
          15,
          17,
          17,
          17,
          16,
          12,
          11,
          17,
          10,
          13,
          8,
          12,
          15,
          15,
          12,
          16,
          12,
          16,
          16,
          10,
          17,
          15,
          16,
          12,
          10,
          6,
          14,
          12,
          15,
          13,
          15,
          14,
          10,
          14,
          9,
          11,
          13,
          15,
          14,
          9,
          13,
          13,
          18,
          18,
          17,
          13,
          12,
          16,
          13,
          16,
          15,
          19,
          16,
          16,
          18,
          16,
          3,
          9,
          14,
          13,
          17,
          14,
          12,
          17,
          13,
          14,
          4,
          16,
          12,
          11,
          16,
          15,
          13,
          14,
          13,
          9,
          18,
          13,
          11,
          14,
          14,
          13,
          19,
          18,
          15,
          17,
          11,
          7,
          15,
          12,
          18,
          12,
          14,
          18,
          14,
          17,
          16,
          9,
          9,
          15,
          12,
          13,
          14,
          13,
          7,
          9,
          14,
          2,
          14,
          18,
          14,
          17,
          15,
          13,
          14,
          9,
          11,
          13,
          6,
          13,
          15,
          8,
          16,
          16,
          7,
          13,
          7,
          16,
          13,
          15,
          13,
          12,
          14,
          20,
          19,
          3,
          16,
          15,
          17,
          16,
          11,
          18,
          18,
          19,
          17,
          10,
          16,
          3,
          17,
          16,
          11,
          19,
          16,
          16,
          16,
          14,
          17,
          14,
          18,
          13,
          14,
          14,
          14,
          10,
          15,
          12,
          12,
          17,
          21,
          14,
          16,
          13,
          12,
          17,
          13,
          15,
          13,
          18,
          14,
          15,
          15,
          18,
          17,
          14,
          15,
          13,
          11,
          13,
          8,
          16,
          16,
          15,
          11,
          14,
          17,
          7,
          15,
          11,
          18,
          13,
          19,
          10,
          18,
          13,
          15,
          13,
          17,
          15,
          14,
          15,
          15,
          15,
          15,
          12,
          14,
          14,
          14,
          8,
          14,
          12,
          15,
          10,
          15,
          15,
          14,
          14,
          11,
          12,
          13,
          11,
          16,
          12,
          11,
          17,
          14,
          8,
          13,
          17,
          18,
          14,
          12,
          13,
          13,
          6,
          10,
          8,
          12,
          17,
          15,
          16,
          14,
          11,
          13,
          18,
          10,
          9,
          18,
          10,
          15,
          15,
          15,
          6,
          16,
          13,
          14,
          15,
          15,
          12,
          14,
          11,
          18,
          15,
          13,
          14,
          14,
          14,
          18,
          13,
          15,
          14,
          20,
          18,
          9,
          14,
          16,
          18,
          13,
          10,
          14,
          8,
          12,
          12,
          8,
          15,
          15,
          17,
          11,
          17,
          3,
          11,
          15,
          11,
          10,
          17,
          9,
          12,
          12,
          17,
          14,
          17,
          12,
          16,
          17,
          12,
          14,
          14,
          18,
          15,
          13,
          15,
          17,
          2,
          17,
          16,
          13,
          16,
          14,
          9,
          15,
          10,
          17,
          15,
          10,
          11,
          10,
          16,
          12,
          14,
          14,
          15,
          17,
          12,
          15,
          19,
          16,
          19,
          15,
          14,
          14,
          10,
          12,
          13,
          15,
          17,
          17,
          13,
          11,
          9,
          16,
          19,
          15,
          10,
          16,
          12,
          12,
          14,
          12,
          14,
          16,
          14,
          10,
          17,
          14,
          13,
          11,
          10,
          16,
          14,
          12,
          15,
          18,
          13,
          15,
          13,
          16,
          13,
          17,
          5,
          13,
          14,
          14,
          5,
          15,
          13,
          15,
          18,
          14,
          12,
          14,
          15,
          13,
          13,
          14,
          15,
          14,
          13,
          14,
          17,
          13,
          16,
          12,
          12,
          12,
          15,
          14,
          17,
          18,
          17,
          13,
          17,
          11,
          8,
          12,
          15,
          11,
          15,
          15,
          15,
          15,
          16,
          11,
          14,
          9,
          14,
          13,
          15,
          18,
          12,
          14,
          17,
          8,
          14,
          13,
          18,
          9,
          15,
          14,
          13,
          14,
          11,
          14,
          15,
          20,
          14,
          17,
          9,
          10,
          12,
          13
         ],
         "xaxis": "x",
         "y": [
          713109.95,
          790714.38,
          1197239.33,
          449185.78,
          1006373.16,
          1629562.41,
          771179.95,
          707837.61,
          888983.66,
          1098512.64,
          695548.78,
          556632.55,
          800123.32,
          1544423.2,
          1058543.63,
          783081.11,
          566156.05,
          1047680.24,
          836793.37,
          1072955.49,
          1125089.99,
          1424196.41,
          1376884.23,
          1240936.73,
          947515.95,
          1237763.98,
          1181642.63,
          782097.18,
          111926.48,
          489936.94,
          1164187.89,
          1418374.5,
          1325421.71,
          445704.4,
          958656.71,
          1207754.02,
          1258551.12,
          1051870.82,
          1116791.99,
          944040.44,
          878314.15,
          645734.68,
          1197770.02,
          619332.74,
          973809.28,
          1055849.89,
          743078.06,
          853682.38,
          1188462.86,
          1922245.53,
          854257.82,
          296714.92,
          1398126.07,
          1366079.54,
          615848.03,
          95680.54,
          588181.56,
          2263343.91,
          992946.81,
          990270.34,
          899158.38,
          969864.84,
          866778.96,
          1523849.47,
          842146.63,
          431140.66,
          1102025.65,
          837639.72,
          1539172.91,
          662659.12,
          873208.52,
          1191112.82,
          936929.11,
          653645.84,
          914998.87,
          931561.93,
          1489753.71,
          389151.32,
          734331.53,
          1195418.56,
          1077111.04,
          1098366.38,
          1578288.81,
          903521.24,
          1293348.75,
          559870.94,
          1378891.79,
          1124033.51,
          1239188.62,
          241891.6,
          226715.57,
          316147.85,
          983027.55,
          1081112.62,
          1351509.91,
          705494.09,
          1616152.72,
          121410.81,
          1379112.59,
          371592.27,
          1005847.92,
          909973.14,
          717966.54,
          1079558.76,
          348577.69,
          1419109.8,
          785108.04,
          2083352.96,
          705535.84,
          1102257.75,
          184770.26,
          1146243.42,
          1706382.47,
          1932443.78,
          1443795.53,
          1388175.16,
          1033935.28,
          1506130.56,
          971873.18,
          1231155.45,
          856263.52,
          789695.82,
          617845.52,
          997025.99,
          993329.43,
          1439742.37,
          1083390.19,
          763290.3,
          1132167.53,
          1404262.26,
          833741.24,
          833486.37,
          949003.35,
          1383614.28,
          603109.29,
          810709.96,
          735388.51,
          1574289.73,
          1589880.1,
          993467.4,
          863881.59,
          332979.68,
          831586.64,
          18421.22,
          823011.86,
          643092.4,
          958451.91,
          1841715.96,
          1114979.28,
          843237.64,
          853807.58,
          1267527.12,
          722272.13,
          580396.98,
          1153343.69,
          1243667.61,
          1655885.31,
          1563607.42,
          1404873.5,
          723535.75,
          1276078.67,
          810805.33,
          1555042.97,
          1142214.41,
          1272544.7,
          983440.97,
          103994.8,
          1236114.44,
          1565259.29,
          909928.51,
          1518495.54,
          1353384.97,
          1050126.53,
          1094043.53,
          1078181.16,
          1480465.17,
          267812.36,
          1754666.01,
          1070918.51,
          334835.36,
          1290549.96,
          1363863.52,
          834438.57,
          1301428.04,
          148061.36,
          850020.42,
          650241.43,
          494926.48,
          1057767.62,
          627273.65,
          665358.48,
          740201.08,
          991762.16,
          1230575.08,
          174738.56,
          1407737.12,
          1376121.85,
          763143.44,
          1009984.8,
          965508.49,
          1118393.81,
          1094810.2,
          1093585.71,
          1248640.73,
          1475870,
          564348.59,
          768322.67,
          1032819.03,
          816484.64,
          535199.75,
          743926.38,
          852074.86,
          1194723.4,
          849942.63,
          1330082.14,
          861194.33,
          312067.61,
          554967.95,
          608858.82,
          271560.28,
          1171807.82,
          1063111.93,
          726828.81,
          864076.14,
          1134311.38,
          1220385.54,
          988495.51,
          769054.24,
          1027960.98,
          1063262.79,
          910568.59,
          1716130.92,
          1230763.9,
          1014070.01,
          989109.67,
          531384.99,
          84497.94,
          1385339.46,
          1009392.87,
          787481.84,
          679053.92,
          1100001.65,
          2390677.22,
          977980.47,
          598717.71,
          1025701.64,
          788278.22,
          64711.22,
          1570819.07,
          1993908.63,
          785668.64,
          1258737.22,
          1320450.27,
          911615.28,
          533072.17,
          659624.71,
          1367765.95,
          1370699.52,
          757658.35,
          1286670.98,
          1650111.3,
          803823.34,
          1133686.14,
          1016606.48,
          1209830.96,
          768946.51,
          1236870.36,
          1373604.43,
          791201.94,
          470253.72,
          1244020.43,
          323593.53,
          839638.4,
          1460403.03,
          1255764.84,
          915799.22,
          1541762.74,
          429688.53,
          800004.44,
          1017325.17,
          60516.83,
          1207098.74,
          791704.75,
          1655693.05,
          1281521.01,
          1902144.56,
          853723.67,
          1344366.16,
          884940.1,
          625599.74,
          908289.25,
          1032183.53,
          2107306.42,
          481595.99,
          663326.41,
          1588245.25,
          921770.07,
          163682.26,
          1247176.41,
          1212901.4,
          851080.66,
          942883.08,
          1707923.52,
          1177227.98,
          499441.3,
          1395925.1,
          1456142.58,
          693629.48,
          1209549.81,
          1713025.38,
          1292741.18,
          911521.72,
          1094337.38,
          880090.72,
          1015654.17,
          1398871.6,
          1327130.38,
          1129203.5,
          941612.29,
          854382.67,
          1318621.28,
          1458066.67,
          1728544.72,
          1161568.8,
          780121.59,
          1298316.46,
          1337880.08,
          231562.65,
          823374.93,
          356229.62,
          1532181.14,
          1006625.13,
          1104801.34,
          722920.8,
          734238.96,
          805436.7,
          1647453.28,
          898610.61,
          626629.6,
          1794352.93,
          1043981.61,
          665572.04,
          932845.17,
          1569380.97,
          1216938.1,
          1093042.03,
          1348626.67,
          203045.12,
          602393.66,
          1010038.24,
          929711.04,
          1116387.07,
          1683711.93,
          626776.88,
          1219653.63,
          1314583.32,
          1535533.76,
          1936486.41,
          1382271.23,
          1238547.54,
          944765.54,
          1057982.09,
          1046845.34,
          333127.92,
          1189103.92,
          1003981.55,
          629572.6,
          753664.57,
          549149.57,
          1288325.43,
          928727.24,
          1843761.24,
          244825,
          656377.77,
          1574626.03,
          1439950.65,
          721463.53,
          1436673,
          841346.81,
          1485834.15,
          1459878,
          1349860.72,
          1952250.45,
          1027285.87,
          1053130.05,
          990690.47,
          1118793.07,
          1902367.98,
          981440.96,
          506672.67,
          1735063.39,
          686102.63,
          715243.69,
          1193834.4,
          1743573.32,
          1167501.7,
          989883.92,
          1058929.85,
          673865.11,
          591593.3,
          916748.4,
          1694996.88,
          550053.3,
          1195575.01,
          1867234.3,
          1077943.15,
          1228736.22,
          1003381.76,
          603305.03,
          1220941.7,
          545859.25,
          1124754.89,
          1167866.74,
          1362343.3,
          1103149.26,
          743480.47,
          434194.11,
          479869.9,
          1071831.13,
          593531.52,
          1492116.94,
          658580.22,
          869605.13,
          879688.87,
          725022.65,
          1316076.16,
          1056532.62,
          836973.51,
          79015.03,
          1780802.99,
          1328577.86,
          435489.53,
          844782.42,
          1298004.31,
          1662826.01,
          970959.21,
          869638.69,
          1009839.03,
          1021085.99,
          1239494.05,
          1536684.3,
          1068322.53,
          983540.2,
          880695.38,
          119950.58,
          1346978.95,
          1752009.96,
          1061121.78,
          1358513.26,
          254263.2,
          475032.23,
          1330014.86,
          1042344.43,
          429809.37,
          1198949.59,
          1024828.18,
          1878689.05,
          1635893.76,
          1147381.02,
          1155825.73,
          1295183.25,
          654953.48,
          1130027.72,
          25576.28,
          1227045.41,
          805517.39,
          1169132.47,
          1109076.58,
          695368.23,
          1355673.25,
          809933.42,
          1229181.97,
          1693342.51,
          618250.8,
          811781.56,
          745302.32,
          1052598.3,
          1103740.65,
          1810013.45,
          1334308.97,
          1425718.91,
          1662467.08,
          1681458.49,
          1509385.85,
          1533062.06,
          786224.94,
          445571.87,
          505124.91,
          2006688.81,
          416429.3,
          215580.61,
          1050776.57,
          785671.05,
          658330.45,
          1643153.26,
          1581841.42,
          1291309.57,
          2211489.85,
          1460860.46,
          173684.43
         ],
         "yaxis": "y"
        }
       ],
       "layout": {
        "coloraxis": {
         "colorbar": {
          "title": {
           "text": "cluster"
          }
         },
         "colorscale": [
          [
           0,
           "#0d0887"
          ],
          [
           0.1111111111111111,
           "#46039f"
          ],
          [
           0.2222222222222222,
           "#7201a8"
          ],
          [
           0.3333333333333333,
           "#9c179e"
          ],
          [
           0.4444444444444444,
           "#bd3786"
          ],
          [
           0.5555555555555556,
           "#d8576b"
          ],
          [
           0.6666666666666666,
           "#ed7953"
          ],
          [
           0.7777777777777778,
           "#fb9f3a"
          ],
          [
           0.8888888888888888,
           "#fdca26"
          ],
          [
           1,
           "#f0f921"
          ]
         ]
        },
        "legend": {
         "tracegroupgap": 0
        },
        "margin": {
         "t": 60
        },
        "template": {
         "data": {
          "bar": [
           {
            "error_x": {
             "color": "#2a3f5f"
            },
            "error_y": {
             "color": "#2a3f5f"
            },
            "marker": {
             "line": {
              "color": "#E5ECF6",
              "width": 0.5
             },
             "pattern": {
              "fillmode": "overlay",
              "size": 10,
              "solidity": 0.2
             }
            },
            "type": "bar"
           }
          ],
          "barpolar": [
           {
            "marker": {
             "line": {
              "color": "#E5ECF6",
              "width": 0.5
             },
             "pattern": {
              "fillmode": "overlay",
              "size": 10,
              "solidity": 0.2
             }
            },
            "type": "barpolar"
           }
          ],
          "carpet": [
           {
            "aaxis": {
             "endlinecolor": "#2a3f5f",
             "gridcolor": "white",
             "linecolor": "white",
             "minorgridcolor": "white",
             "startlinecolor": "#2a3f5f"
            },
            "baxis": {
             "endlinecolor": "#2a3f5f",
             "gridcolor": "white",
             "linecolor": "white",
             "minorgridcolor": "white",
             "startlinecolor": "#2a3f5f"
            },
            "type": "carpet"
           }
          ],
          "choropleth": [
           {
            "colorbar": {
             "outlinewidth": 0,
             "ticks": ""
            },
            "type": "choropleth"
           }
          ],
          "contour": [
           {
            "colorbar": {
             "outlinewidth": 0,
             "ticks": ""
            },
            "colorscale": [
             [
              0,
              "#0d0887"
             ],
             [
              0.1111111111111111,
              "#46039f"
             ],
             [
              0.2222222222222222,
              "#7201a8"
             ],
             [
              0.3333333333333333,
              "#9c179e"
             ],
             [
              0.4444444444444444,
              "#bd3786"
             ],
             [
              0.5555555555555556,
              "#d8576b"
             ],
             [
              0.6666666666666666,
              "#ed7953"
             ],
             [
              0.7777777777777778,
              "#fb9f3a"
             ],
             [
              0.8888888888888888,
              "#fdca26"
             ],
             [
              1,
              "#f0f921"
             ]
            ],
            "type": "contour"
           }
          ],
          "contourcarpet": [
           {
            "colorbar": {
             "outlinewidth": 0,
             "ticks": ""
            },
            "type": "contourcarpet"
           }
          ],
          "heatmap": [
           {
            "colorbar": {
             "outlinewidth": 0,
             "ticks": ""
            },
            "colorscale": [
             [
              0,
              "#0d0887"
             ],
             [
              0.1111111111111111,
              "#46039f"
             ],
             [
              0.2222222222222222,
              "#7201a8"
             ],
             [
              0.3333333333333333,
              "#9c179e"
             ],
             [
              0.4444444444444444,
              "#bd3786"
             ],
             [
              0.5555555555555556,
              "#d8576b"
             ],
             [
              0.6666666666666666,
              "#ed7953"
             ],
             [
              0.7777777777777778,
              "#fb9f3a"
             ],
             [
              0.8888888888888888,
              "#fdca26"
             ],
             [
              1,
              "#f0f921"
             ]
            ],
            "type": "heatmap"
           }
          ],
          "heatmapgl": [
           {
            "colorbar": {
             "outlinewidth": 0,
             "ticks": ""
            },
            "colorscale": [
             [
              0,
              "#0d0887"
             ],
             [
              0.1111111111111111,
              "#46039f"
             ],
             [
              0.2222222222222222,
              "#7201a8"
             ],
             [
              0.3333333333333333,
              "#9c179e"
             ],
             [
              0.4444444444444444,
              "#bd3786"
             ],
             [
              0.5555555555555556,
              "#d8576b"
             ],
             [
              0.6666666666666666,
              "#ed7953"
             ],
             [
              0.7777777777777778,
              "#fb9f3a"
             ],
             [
              0.8888888888888888,
              "#fdca26"
             ],
             [
              1,
              "#f0f921"
             ]
            ],
            "type": "heatmapgl"
           }
          ],
          "histogram": [
           {
            "marker": {
             "pattern": {
              "fillmode": "overlay",
              "size": 10,
              "solidity": 0.2
             }
            },
            "type": "histogram"
           }
          ],
          "histogram2d": [
           {
            "colorbar": {
             "outlinewidth": 0,
             "ticks": ""
            },
            "colorscale": [
             [
              0,
              "#0d0887"
             ],
             [
              0.1111111111111111,
              "#46039f"
             ],
             [
              0.2222222222222222,
              "#7201a8"
             ],
             [
              0.3333333333333333,
              "#9c179e"
             ],
             [
              0.4444444444444444,
              "#bd3786"
             ],
             [
              0.5555555555555556,
              "#d8576b"
             ],
             [
              0.6666666666666666,
              "#ed7953"
             ],
             [
              0.7777777777777778,
              "#fb9f3a"
             ],
             [
              0.8888888888888888,
              "#fdca26"
             ],
             [
              1,
              "#f0f921"
             ]
            ],
            "type": "histogram2d"
           }
          ],
          "histogram2dcontour": [
           {
            "colorbar": {
             "outlinewidth": 0,
             "ticks": ""
            },
            "colorscale": [
             [
              0,
              "#0d0887"
             ],
             [
              0.1111111111111111,
              "#46039f"
             ],
             [
              0.2222222222222222,
              "#7201a8"
             ],
             [
              0.3333333333333333,
              "#9c179e"
             ],
             [
              0.4444444444444444,
              "#bd3786"
             ],
             [
              0.5555555555555556,
              "#d8576b"
             ],
             [
              0.6666666666666666,
              "#ed7953"
             ],
             [
              0.7777777777777778,
              "#fb9f3a"
             ],
             [
              0.8888888888888888,
              "#fdca26"
             ],
             [
              1,
              "#f0f921"
             ]
            ],
            "type": "histogram2dcontour"
           }
          ],
          "mesh3d": [
           {
            "colorbar": {
             "outlinewidth": 0,
             "ticks": ""
            },
            "type": "mesh3d"
           }
          ],
          "parcoords": [
           {
            "line": {
             "colorbar": {
              "outlinewidth": 0,
              "ticks": ""
             }
            },
            "type": "parcoords"
           }
          ],
          "pie": [
           {
            "automargin": true,
            "type": "pie"
           }
          ],
          "scatter": [
           {
            "fillpattern": {
             "fillmode": "overlay",
             "size": 10,
             "solidity": 0.2
            },
            "type": "scatter"
           }
          ],
          "scatter3d": [
           {
            "line": {
             "colorbar": {
              "outlinewidth": 0,
              "ticks": ""
             }
            },
            "marker": {
             "colorbar": {
              "outlinewidth": 0,
              "ticks": ""
             }
            },
            "type": "scatter3d"
           }
          ],
          "scattercarpet": [
           {
            "marker": {
             "colorbar": {
              "outlinewidth": 0,
              "ticks": ""
             }
            },
            "type": "scattercarpet"
           }
          ],
          "scattergeo": [
           {
            "marker": {
             "colorbar": {
              "outlinewidth": 0,
              "ticks": ""
             }
            },
            "type": "scattergeo"
           }
          ],
          "scattergl": [
           {
            "marker": {
             "colorbar": {
              "outlinewidth": 0,
              "ticks": ""
             }
            },
            "type": "scattergl"
           }
          ],
          "scattermapbox": [
           {
            "marker": {
             "colorbar": {
              "outlinewidth": 0,
              "ticks": ""
             }
            },
            "type": "scattermapbox"
           }
          ],
          "scatterpolar": [
           {
            "marker": {
             "colorbar": {
              "outlinewidth": 0,
              "ticks": ""
             }
            },
            "type": "scatterpolar"
           }
          ],
          "scatterpolargl": [
           {
            "marker": {
             "colorbar": {
              "outlinewidth": 0,
              "ticks": ""
             }
            },
            "type": "scatterpolargl"
           }
          ],
          "scatterternary": [
           {
            "marker": {
             "colorbar": {
              "outlinewidth": 0,
              "ticks": ""
             }
            },
            "type": "scatterternary"
           }
          ],
          "surface": [
           {
            "colorbar": {
             "outlinewidth": 0,
             "ticks": ""
            },
            "colorscale": [
             [
              0,
              "#0d0887"
             ],
             [
              0.1111111111111111,
              "#46039f"
             ],
             [
              0.2222222222222222,
              "#7201a8"
             ],
             [
              0.3333333333333333,
              "#9c179e"
             ],
             [
              0.4444444444444444,
              "#bd3786"
             ],
             [
              0.5555555555555556,
              "#d8576b"
             ],
             [
              0.6666666666666666,
              "#ed7953"
             ],
             [
              0.7777777777777778,
              "#fb9f3a"
             ],
             [
              0.8888888888888888,
              "#fdca26"
             ],
             [
              1,
              "#f0f921"
             ]
            ],
            "type": "surface"
           }
          ],
          "table": [
           {
            "cells": {
             "fill": {
              "color": "#EBF0F8"
             },
             "line": {
              "color": "white"
             }
            },
            "header": {
             "fill": {
              "color": "#C8D4E3"
             },
             "line": {
              "color": "white"
             }
            },
            "type": "table"
           }
          ]
         },
         "layout": {
          "annotationdefaults": {
           "arrowcolor": "#2a3f5f",
           "arrowhead": 0,
           "arrowwidth": 1
          },
          "autotypenumbers": "strict",
          "coloraxis": {
           "colorbar": {
            "outlinewidth": 0,
            "ticks": ""
           }
          },
          "colorscale": {
           "diverging": [
            [
             0,
             "#8e0152"
            ],
            [
             0.1,
             "#c51b7d"
            ],
            [
             0.2,
             "#de77ae"
            ],
            [
             0.3,
             "#f1b6da"
            ],
            [
             0.4,
             "#fde0ef"
            ],
            [
             0.5,
             "#f7f7f7"
            ],
            [
             0.6,
             "#e6f5d0"
            ],
            [
             0.7,
             "#b8e186"
            ],
            [
             0.8,
             "#7fbc41"
            ],
            [
             0.9,
             "#4d9221"
            ],
            [
             1,
             "#276419"
            ]
           ],
           "sequential": [
            [
             0,
             "#0d0887"
            ],
            [
             0.1111111111111111,
             "#46039f"
            ],
            [
             0.2222222222222222,
             "#7201a8"
            ],
            [
             0.3333333333333333,
             "#9c179e"
            ],
            [
             0.4444444444444444,
             "#bd3786"
            ],
            [
             0.5555555555555556,
             "#d8576b"
            ],
            [
             0.6666666666666666,
             "#ed7953"
            ],
            [
             0.7777777777777778,
             "#fb9f3a"
            ],
            [
             0.8888888888888888,
             "#fdca26"
            ],
            [
             1,
             "#f0f921"
            ]
           ],
           "sequentialminus": [
            [
             0,
             "#0d0887"
            ],
            [
             0.1111111111111111,
             "#46039f"
            ],
            [
             0.2222222222222222,
             "#7201a8"
            ],
            [
             0.3333333333333333,
             "#9c179e"
            ],
            [
             0.4444444444444444,
             "#bd3786"
            ],
            [
             0.5555555555555556,
             "#d8576b"
            ],
            [
             0.6666666666666666,
             "#ed7953"
            ],
            [
             0.7777777777777778,
             "#fb9f3a"
            ],
            [
             0.8888888888888888,
             "#fdca26"
            ],
            [
             1,
             "#f0f921"
            ]
           ]
          },
          "colorway": [
           "#636efa",
           "#EF553B",
           "#00cc96",
           "#ab63fa",
           "#FFA15A",
           "#19d3f3",
           "#FF6692",
           "#B6E880",
           "#FF97FF",
           "#FECB52"
          ],
          "font": {
           "color": "#2a3f5f"
          },
          "geo": {
           "bgcolor": "white",
           "lakecolor": "white",
           "landcolor": "#E5ECF6",
           "showlakes": true,
           "showland": true,
           "subunitcolor": "white"
          },
          "hoverlabel": {
           "align": "left"
          },
          "hovermode": "closest",
          "mapbox": {
           "style": "light"
          },
          "paper_bgcolor": "white",
          "plot_bgcolor": "#E5ECF6",
          "polar": {
           "angularaxis": {
            "gridcolor": "white",
            "linecolor": "white",
            "ticks": ""
           },
           "bgcolor": "#E5ECF6",
           "radialaxis": {
            "gridcolor": "white",
            "linecolor": "white",
            "ticks": ""
           }
          },
          "scene": {
           "xaxis": {
            "backgroundcolor": "#E5ECF6",
            "gridcolor": "white",
            "gridwidth": 2,
            "linecolor": "white",
            "showbackground": true,
            "ticks": "",
            "zerolinecolor": "white"
           },
           "yaxis": {
            "backgroundcolor": "#E5ECF6",
            "gridcolor": "white",
            "gridwidth": 2,
            "linecolor": "white",
            "showbackground": true,
            "ticks": "",
            "zerolinecolor": "white"
           },
           "zaxis": {
            "backgroundcolor": "#E5ECF6",
            "gridcolor": "white",
            "gridwidth": 2,
            "linecolor": "white",
            "showbackground": true,
            "ticks": "",
            "zerolinecolor": "white"
           }
          },
          "shapedefaults": {
           "line": {
            "color": "#2a3f5f"
           }
          },
          "ternary": {
           "aaxis": {
            "gridcolor": "white",
            "linecolor": "white",
            "ticks": ""
           },
           "baxis": {
            "gridcolor": "white",
            "linecolor": "white",
            "ticks": ""
           },
           "bgcolor": "#E5ECF6",
           "caxis": {
            "gridcolor": "white",
            "linecolor": "white",
            "ticks": ""
           }
          },
          "title": {
           "x": 0.05
          },
          "xaxis": {
           "automargin": true,
           "gridcolor": "white",
           "linecolor": "white",
           "ticks": "",
           "title": {
            "standoff": 15
           },
           "zerolinecolor": "white",
           "zerolinewidth": 2
          },
          "yaxis": {
           "automargin": true,
           "gridcolor": "white",
           "linecolor": "white",
           "ticks": "",
           "title": {
            "standoff": 15
           },
           "zerolinecolor": "white",
           "zerolinewidth": 2
          }
         }
        },
        "xaxis": {
         "anchor": "y",
         "domain": [
          0,
          1
         ],
         "title": {
          "text": "numero_de_funcionarios"
         }
        },
        "yaxis": {
         "anchor": "x",
         "domain": [
          0,
          1
         ],
         "title": {
          "text": "faturamento_mensal"
         }
        }
       }
      }
     },
     "metadata": {},
     "output_type": "display_data"
    }
   ],
   "source": [
    "# cruzar numero de funcionários e faturamento em um grafico de dispersão\n",
    "px.scatter(df_clients, x='numero_de_funcionarios', y='faturamento_mensal', color='cluster')"
   ]
  },
  {
   "cell_type": "markdown",
   "metadata": {},
   "source": [
    "### Bloco 4 - Entrega do Modelo com App Batch"
   ]
  },
  {
   "cell_type": "markdown",
   "metadata": {},
   "source": [
    "#### Aplicação Batch com Gradio\n",
    "\n",
    "Nesta aula, desenvolvemos uma aplicação simples no Gradle. Utilizamos um algoritmo de clusterização não supervisionado para transformar os dados em um pipeline separado. Não fizemos predições, apenas trouxemos uma estrutura com o algoritmo. Carregamos o modelo, definimos uma função chamada \"clustering\" que recebe um arquivo CSV, lê o arquivo, transforma os dados para o formato necessário, treina o modelo e adiciona a coluna de cluster no DataFrame. Salvamos o DataFrame em um arquivo CSV e retornamos o nome desse arquivo. Criamos uma interface para chamar a função e rodamos a aplicação. Agora podemos fazer upload de um arquivo, que será processado e gerará um arquivo de saída com os clusters."
   ]
  },
  {
   "cell_type": "code",
   "execution_count": 80,
   "metadata": {},
   "outputs": [
    {
     "ename": "FileNotFoundError",
     "evalue": "[Errno 2] No such file or directory: '../pipelines/pipeline_clustering_clients.pkl'",
     "output_type": "error",
     "traceback": [
      "\u001b[1;31m---------------------------------------------------------------------------\u001b[0m",
      "\u001b[1;31mFileNotFoundError\u001b[0m                         Traceback (most recent call last)",
      "Cell \u001b[1;32mIn[80], line 5\u001b[0m\n\u001b[0;32m      2\u001b[0m joblib\u001b[38;5;241m.\u001b[39mdump(value\u001b[38;5;241m=\u001b[39mbest_kmeans, filename\u001b[38;5;241m=\u001b[39m\u001b[38;5;124m'\u001b[39m\u001b[38;5;124m../models/model_clustering_clients.pkl\u001b[39m\u001b[38;5;124m'\u001b[39m)\n\u001b[0;32m      4\u001b[0m \u001b[38;5;66;03m# salvar pipeline\u001b[39;00m\n\u001b[1;32m----> 5\u001b[0m \u001b[43mjoblib\u001b[49m\u001b[38;5;241;43m.\u001b[39;49m\u001b[43mdump\u001b[49m\u001b[43m(\u001b[49m\u001b[43mvalue\u001b[49m\u001b[38;5;241;43m=\u001b[39;49m\u001b[43mpreprocessor\u001b[49m\u001b[43m,\u001b[49m\u001b[43m \u001b[49m\u001b[43mfilename\u001b[49m\u001b[38;5;241;43m=\u001b[39;49m\u001b[38;5;124;43m'\u001b[39;49m\u001b[38;5;124;43m../pipelines/pipeline_clustering_clients.pkl\u001b[39;49m\u001b[38;5;124;43m'\u001b[39;49m\u001b[43m)\u001b[49m\n",
      "File \u001b[1;32mc:\\Users\\Usuário\\.virtualenvs\\unsupervised_algorithms-Vw0pKZJM\\Lib\\site-packages\\joblib\\numpy_pickle.py:552\u001b[0m, in \u001b[0;36mdump\u001b[1;34m(value, filename, compress, protocol, cache_size)\u001b[0m\n\u001b[0;32m    550\u001b[0m         NumpyPickler(f, protocol\u001b[38;5;241m=\u001b[39mprotocol)\u001b[38;5;241m.\u001b[39mdump(value)\n\u001b[0;32m    551\u001b[0m \u001b[38;5;28;01melif\u001b[39;00m is_filename:\n\u001b[1;32m--> 552\u001b[0m     \u001b[38;5;28;01mwith\u001b[39;00m \u001b[38;5;28;43mopen\u001b[39;49m\u001b[43m(\u001b[49m\u001b[43mfilename\u001b[49m\u001b[43m,\u001b[49m\u001b[43m \u001b[49m\u001b[38;5;124;43m'\u001b[39;49m\u001b[38;5;124;43mwb\u001b[39;49m\u001b[38;5;124;43m'\u001b[39;49m\u001b[43m)\u001b[49m \u001b[38;5;28;01mas\u001b[39;00m f:\n\u001b[0;32m    553\u001b[0m         NumpyPickler(f, protocol\u001b[38;5;241m=\u001b[39mprotocol)\u001b[38;5;241m.\u001b[39mdump(value)\n\u001b[0;32m    554\u001b[0m \u001b[38;5;28;01melse\u001b[39;00m:\n",
      "\u001b[1;31mFileNotFoundError\u001b[0m: [Errno 2] No such file or directory: '../pipelines/pipeline_clustering_clients.pkl'"
     ]
    }
   ],
   "source": [
    "# salvar modelo\n",
    "joblib.dump(value=best_kmeans, filename='../models/model_clustering_clients.pkl')\n",
    "\n",
    "# salvar pipeline\n",
    "joblib.dump(value=preprocessor, filename='../pipelines/pipeline_clustering_clients.pkl')"
   ]
  },
  {
   "cell_type": "code",
   "execution_count": null,
   "metadata": {},
   "outputs": [],
   "source": [
    "model = joblib.load(filename='../models/model_clustering_clients.pkl')\n",
    "preprocessor = joblib.load(filename='../pipelines/pipeline_clustering_clients.pkl')\n",
    "\n",
    "def clustering(file) -> str:\n",
    "    \n",
    "    # carregar CSV para Dataframe\n",
    "    df_companies = pd.read_csv(filepath_or_buffer=file.name)\n",
    "    \n",
    "    # transformar os dados do df para o formato de entrada do modelo\n",
    "    df_clients_transformed = preprocessor.fit_transform(X=df_companies)\n",
    "    \n",
    "    # treinar o modelo\n",
    "    model.fit(X=df_clients_transformed)\n",
    "    \n",
    "    # adicionar coluna com cluster\n",
    "    df_companies['cluster'] = model.labels_\n",
    "    \n",
    "    # exportar para csv\n",
    "    df_companies.to_csv(path_or_buf='../datasets/processed/companies_clusters.csv', index=False)\n",
    "    \n",
    "    return '../datasets/processed/companies_clusters.csv'"
   ]
  },
  {
   "cell_type": "code",
   "execution_count": null,
   "metadata": {},
   "outputs": [
    {
     "name": "stdout",
     "output_type": "stream",
     "text": [
      "Running on local URL:  http://127.0.0.1:7862\n",
      "\n",
      "To create a public link, set `share=True` in `launch()`.\n"
     ]
    },
    {
     "data": {
      "text/html": [
       "<div><iframe src=\"http://127.0.0.1:7862/\" width=\"100%\" height=\"500\" allow=\"autoplay; camera; microphone; clipboard-read; clipboard-write;\" frameborder=\"0\" allowfullscreen></iframe></div>"
      ],
      "text/plain": [
       "<IPython.core.display.HTML object>"
      ]
     },
     "metadata": {},
     "output_type": "display_data"
    },
    {
     "data": {
      "text/plain": []
     },
     "execution_count": 63,
     "metadata": {},
     "output_type": "execute_result"
    }
   ],
   "source": [
    "# criar interface\n",
    "app = gr.Interface(fn=clustering, inputs=gr.File(file_types=[\".csv\"]), outputs=\"file\")\n",
    "\n",
    "# executar\n",
    "app.launch()"
   ]
  }
 ],
 "metadata": {
  "kernelspec": {
   "display_name": "Python 3",
   "language": "python",
   "name": "python3"
  },
  "language_info": {
   "codemirror_mode": {
    "name": "ipython",
    "version": 3
   },
   "file_extension": ".py",
   "mimetype": "text/x-python",
   "name": "python",
   "nbconvert_exporter": "python",
   "pygments_lexer": "ipython3",
   "version": "3.12.3"
  }
 },
 "nbformat": 4,
 "nbformat_minor": 2
}
