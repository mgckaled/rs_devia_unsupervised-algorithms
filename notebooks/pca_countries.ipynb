{
 "cells": [
  {
   "cell_type": "markdown",
   "metadata": {},
   "source": [
    "## Módulo 16 - Análise de Componentes Principais (PCA)"
   ]
  },
  {
   "cell_type": "code",
   "execution_count": 57,
   "metadata": {},
   "outputs": [],
   "source": [
    "# EDA and data visualization\n",
    "import pandas as pd\n",
    "import seaborn as sns\n",
    "import plotly.express as px\n",
    "\n",
    "# statistics and maths\n",
    "import numpy as np\n",
    "\n",
    "# ML\n",
    "from sklearn.decomposition import PCA\n",
    "from sklearn.metrics import mean_squared_error\n",
    "from sklearn.preprocessing import StandardScaler\n",
    "from sklearn.compose import ColumnTransformer\n",
    "\n",
    "# save model\n",
    "import joblib"
   ]
  },
  {
   "cell_type": "markdown",
   "metadata": {},
   "source": [
    "### Bloco 1 - EAD"
   ]
  },
  {
   "cell_type": "markdown",
   "metadata": {},
   "source": [
    "#### Carga dos Dados\n",
    "\n",
    "Neste vídeo, iniciamos a prática do módulo de PCA, abordando a redução de dimensionalidade. Foram importadas bibliotecas como Pandas, Matplotlib e Scikit-Learn. Carregamos um conjunto de dados de países com informações como mortalidade infantil, exportação, renda e expectativa de vida. Expliquei a estrutura do dataset e mostramos os primeiros e últimos registros. Nos próximos vídeos, faremos a Análise Exploratória de Dados (EDA) e trabalharemos com o PCA."
   ]
  },
  {
   "cell_type": "code",
   "execution_count": 58,
   "metadata": {},
   "outputs": [
    {
     "data": {
      "text/html": [
       "<div>\n",
       "<style scoped>\n",
       "    .dataframe tbody tr th:only-of-type {\n",
       "        vertical-align: middle;\n",
       "    }\n",
       "\n",
       "    .dataframe tbody tr th {\n",
       "        vertical-align: top;\n",
       "    }\n",
       "\n",
       "    .dataframe thead th {\n",
       "        text-align: right;\n",
       "    }\n",
       "</style>\n",
       "<table border=\"1\" class=\"dataframe\">\n",
       "  <thead>\n",
       "    <tr style=\"text-align: right;\">\n",
       "      <th></th>\n",
       "      <th>country</th>\n",
       "      <th>child_mort</th>\n",
       "      <th>exports</th>\n",
       "      <th>health</th>\n",
       "      <th>imports</th>\n",
       "      <th>income</th>\n",
       "      <th>inflation</th>\n",
       "      <th>life_expec</th>\n",
       "      <th>total_fer</th>\n",
       "      <th>gdpp</th>\n",
       "      <th>income_category</th>\n",
       "    </tr>\n",
       "  </thead>\n",
       "  <tbody>\n",
       "    <tr>\n",
       "      <th>0</th>\n",
       "      <td>Afghanistan</td>\n",
       "      <td>90.2</td>\n",
       "      <td>10.0</td>\n",
       "      <td>7.58</td>\n",
       "      <td>44.9</td>\n",
       "      <td>1610</td>\n",
       "      <td>9.44</td>\n",
       "      <td>56.2</td>\n",
       "      <td>5.82</td>\n",
       "      <td>553</td>\n",
       "      <td>Low income</td>\n",
       "    </tr>\n",
       "    <tr>\n",
       "      <th>1</th>\n",
       "      <td>Albania</td>\n",
       "      <td>16.6</td>\n",
       "      <td>28.0</td>\n",
       "      <td>6.55</td>\n",
       "      <td>48.6</td>\n",
       "      <td>9930</td>\n",
       "      <td>4.49</td>\n",
       "      <td>76.3</td>\n",
       "      <td>1.65</td>\n",
       "      <td>4090</td>\n",
       "      <td>Upper middle income</td>\n",
       "    </tr>\n",
       "    <tr>\n",
       "      <th>2</th>\n",
       "      <td>Algeria</td>\n",
       "      <td>27.3</td>\n",
       "      <td>38.4</td>\n",
       "      <td>4.17</td>\n",
       "      <td>31.4</td>\n",
       "      <td>12900</td>\n",
       "      <td>16.10</td>\n",
       "      <td>76.5</td>\n",
       "      <td>2.89</td>\n",
       "      <td>4460</td>\n",
       "      <td>Lower middle income</td>\n",
       "    </tr>\n",
       "    <tr>\n",
       "      <th>3</th>\n",
       "      <td>Angola</td>\n",
       "      <td>119.0</td>\n",
       "      <td>62.3</td>\n",
       "      <td>2.85</td>\n",
       "      <td>42.9</td>\n",
       "      <td>5900</td>\n",
       "      <td>22.40</td>\n",
       "      <td>60.1</td>\n",
       "      <td>6.16</td>\n",
       "      <td>3530</td>\n",
       "      <td>Lower middle income</td>\n",
       "    </tr>\n",
       "    <tr>\n",
       "      <th>4</th>\n",
       "      <td>Antigua and Barbuda</td>\n",
       "      <td>10.3</td>\n",
       "      <td>45.5</td>\n",
       "      <td>6.03</td>\n",
       "      <td>58.9</td>\n",
       "      <td>19100</td>\n",
       "      <td>1.44</td>\n",
       "      <td>76.8</td>\n",
       "      <td>2.13</td>\n",
       "      <td>12200</td>\n",
       "      <td>High income</td>\n",
       "    </tr>\n",
       "  </tbody>\n",
       "</table>\n",
       "</div>"
      ],
      "text/plain": [
       "               country  child_mort  exports  health  imports  income  \\\n",
       "0          Afghanistan        90.2     10.0    7.58     44.9    1610   \n",
       "1              Albania        16.6     28.0    6.55     48.6    9930   \n",
       "2              Algeria        27.3     38.4    4.17     31.4   12900   \n",
       "3               Angola       119.0     62.3    2.85     42.9    5900   \n",
       "4  Antigua and Barbuda        10.3     45.5    6.03     58.9   19100   \n",
       "\n",
       "   inflation  life_expec  total_fer   gdpp      income_category  \n",
       "0       9.44        56.2       5.82    553           Low income  \n",
       "1       4.49        76.3       1.65   4090  Upper middle income  \n",
       "2      16.10        76.5       2.89   4460  Lower middle income  \n",
       "3      22.40        60.1       6.16   3530  Lower middle income  \n",
       "4       1.44        76.8       2.13  12200          High income  "
      ]
     },
     "execution_count": 58,
     "metadata": {},
     "output_type": "execute_result"
    }
   ],
   "source": [
    "# Load dataframe\n",
    "df_countries = pd.read_csv(filepath_or_buffer='../datasets/raw/dataset_countries.csv', sep=';', decimal=',')\n",
    "df_countries.head()"
   ]
  },
  {
   "cell_type": "code",
   "execution_count": 59,
   "metadata": {},
   "outputs": [
    {
     "name": "stdout",
     "output_type": "stream",
     "text": [
      "<class 'pandas.core.frame.DataFrame'>\n",
      "RangeIndex: 165 entries, 0 to 164\n",
      "Data columns (total 11 columns):\n",
      " #   Column           Non-Null Count  Dtype  \n",
      "---  ------           --------------  -----  \n",
      " 0   country          165 non-null    object \n",
      " 1   child_mort       165 non-null    float64\n",
      " 2   exports          165 non-null    float64\n",
      " 3   health           165 non-null    float64\n",
      " 4   imports          165 non-null    float64\n",
      " 5   income           165 non-null    int64  \n",
      " 6   inflation        165 non-null    float64\n",
      " 7   life_expec       165 non-null    float64\n",
      " 8   total_fer        165 non-null    float64\n",
      " 9   gdpp             165 non-null    int64  \n",
      " 10  income_category  165 non-null    object \n",
      "dtypes: float64(7), int64(2), object(2)\n",
      "memory usage: 14.3+ KB\n"
     ]
    }
   ],
   "source": [
    "df_countries.info()"
   ]
  },
  {
   "cell_type": "markdown",
   "metadata": {},
   "source": [
    "**features description:**\n",
    "\n",
    "- country - Nome do País\n",
    "- child_mort - Mortalidade infantil a cada 1000 nascimentos\n",
    "- exports; - Nível de Exportação (percentual com base no PIB)\n",
    "- health - Investimento em Saúde (percentual com base no PIB)\n",
    "- imports - Nível de Importação (percentual com base no PIB)\n",
    "- income - Renda média por habitante\n",
    "- inflation - Inflação\n",
    "- life_expec - Expectativa de vida em anos\n",
    "- total_fer - Total de crianças que poderiam ter nascido pra cada mulher, se o nível de fertilidade se mantem o mesmo\n",
    "- gdpp - PIB per capita (PIB do país dividido pela população)\n",
    "- income_category - Categoria do país com base na renda"
   ]
  },
  {
   "cell_type": "markdown",
   "metadata": {},
   "source": [
    "#### Análise Univariada\n",
    "\n",
    "Neste resumo, expliquei como foi realizada a Análise Exploratória de Dados (EDA) em um conjunto de dados de países. Foram analisadas estatísticas das variáveis, distribuição da categoria de renda, distribuição da renda média, do PIB per capita, da inflação e da expectativa de vida. Observou-se que a maioria dos países são considerados de alta renda, com concentração de valores em determinadas faixas para as variáveis analisadas. A análise univariada foi concluída, preparando para a análise bivariada no próximo vídeo."
   ]
  },
  {
   "cell_type": "code",
   "execution_count": 60,
   "metadata": {},
   "outputs": [
    {
     "data": {
      "text/html": [
       "<div>\n",
       "<style scoped>\n",
       "    .dataframe tbody tr th:only-of-type {\n",
       "        vertical-align: middle;\n",
       "    }\n",
       "\n",
       "    .dataframe tbody tr th {\n",
       "        vertical-align: top;\n",
       "    }\n",
       "\n",
       "    .dataframe thead th {\n",
       "        text-align: right;\n",
       "    }\n",
       "</style>\n",
       "<table border=\"1\" class=\"dataframe\">\n",
       "  <thead>\n",
       "    <tr style=\"text-align: right;\">\n",
       "      <th></th>\n",
       "      <th>child_mort</th>\n",
       "      <th>exports</th>\n",
       "      <th>health</th>\n",
       "      <th>imports</th>\n",
       "      <th>income</th>\n",
       "      <th>inflation</th>\n",
       "      <th>life_expec</th>\n",
       "      <th>total_fer</th>\n",
       "      <th>gdpp</th>\n",
       "    </tr>\n",
       "  </thead>\n",
       "  <tbody>\n",
       "    <tr>\n",
       "      <th>count</th>\n",
       "      <td>165.000000</td>\n",
       "      <td>165.000000</td>\n",
       "      <td>165.000000</td>\n",
       "      <td>165.000000</td>\n",
       "      <td>165.000000</td>\n",
       "      <td>165.000000</td>\n",
       "      <td>165.000000</td>\n",
       "      <td>165.000000</td>\n",
       "      <td>165.000000</td>\n",
       "    </tr>\n",
       "    <tr>\n",
       "      <th>mean</th>\n",
       "      <td>38.567273</td>\n",
       "      <td>41.193327</td>\n",
       "      <td>6.825576</td>\n",
       "      <td>46.999793</td>\n",
       "      <td>17183.412121</td>\n",
       "      <td>7.585612</td>\n",
       "      <td>70.505455</td>\n",
       "      <td>2.959818</td>\n",
       "      <td>13011.963636</td>\n",
       "    </tr>\n",
       "    <tr>\n",
       "      <th>std</th>\n",
       "      <td>40.480851</td>\n",
       "      <td>27.560749</td>\n",
       "      <td>2.759425</td>\n",
       "      <td>24.233083</td>\n",
       "      <td>19389.968166</td>\n",
       "      <td>10.198185</td>\n",
       "      <td>8.935045</td>\n",
       "      <td>1.518166</td>\n",
       "      <td>18428.279743</td>\n",
       "    </tr>\n",
       "    <tr>\n",
       "      <th>min</th>\n",
       "      <td>2.600000</td>\n",
       "      <td>0.109000</td>\n",
       "      <td>1.810000</td>\n",
       "      <td>0.065900</td>\n",
       "      <td>609.000000</td>\n",
       "      <td>-4.210000</td>\n",
       "      <td>32.100000</td>\n",
       "      <td>1.150000</td>\n",
       "      <td>231.000000</td>\n",
       "    </tr>\n",
       "    <tr>\n",
       "      <th>25%</th>\n",
       "      <td>7.900000</td>\n",
       "      <td>23.800000</td>\n",
       "      <td>4.930000</td>\n",
       "      <td>30.400000</td>\n",
       "      <td>3340.000000</td>\n",
       "      <td>1.770000</td>\n",
       "      <td>65.300000</td>\n",
       "      <td>1.800000</td>\n",
       "      <td>1310.000000</td>\n",
       "    </tr>\n",
       "    <tr>\n",
       "      <th>50%</th>\n",
       "      <td>19.700000</td>\n",
       "      <td>35.000000</td>\n",
       "      <td>6.320000</td>\n",
       "      <td>43.300000</td>\n",
       "      <td>9940.000000</td>\n",
       "      <td>5.390000</td>\n",
       "      <td>73.100000</td>\n",
       "      <td>2.410000</td>\n",
       "      <td>4660.000000</td>\n",
       "    </tr>\n",
       "    <tr>\n",
       "      <th>75%</th>\n",
       "      <td>62.200000</td>\n",
       "      <td>51.400000</td>\n",
       "      <td>8.650000</td>\n",
       "      <td>58.900000</td>\n",
       "      <td>22900.000000</td>\n",
       "      <td>10.600000</td>\n",
       "      <td>76.800000</td>\n",
       "      <td>3.910000</td>\n",
       "      <td>14600.000000</td>\n",
       "    </tr>\n",
       "    <tr>\n",
       "      <th>max</th>\n",
       "      <td>208.000000</td>\n",
       "      <td>200.000000</td>\n",
       "      <td>17.900000</td>\n",
       "      <td>174.000000</td>\n",
       "      <td>125000.000000</td>\n",
       "      <td>104.000000</td>\n",
       "      <td>82.800000</td>\n",
       "      <td>7.490000</td>\n",
       "      <td>105000.000000</td>\n",
       "    </tr>\n",
       "  </tbody>\n",
       "</table>\n",
       "</div>"
      ],
      "text/plain": [
       "       child_mort     exports      health     imports         income  \\\n",
       "count  165.000000  165.000000  165.000000  165.000000     165.000000   \n",
       "mean    38.567273   41.193327    6.825576   46.999793   17183.412121   \n",
       "std     40.480851   27.560749    2.759425   24.233083   19389.968166   \n",
       "min      2.600000    0.109000    1.810000    0.065900     609.000000   \n",
       "25%      7.900000   23.800000    4.930000   30.400000    3340.000000   \n",
       "50%     19.700000   35.000000    6.320000   43.300000    9940.000000   \n",
       "75%     62.200000   51.400000    8.650000   58.900000   22900.000000   \n",
       "max    208.000000  200.000000   17.900000  174.000000  125000.000000   \n",
       "\n",
       "        inflation  life_expec   total_fer           gdpp  \n",
       "count  165.000000  165.000000  165.000000     165.000000  \n",
       "mean     7.585612   70.505455    2.959818   13011.963636  \n",
       "std     10.198185    8.935045    1.518166   18428.279743  \n",
       "min     -4.210000   32.100000    1.150000     231.000000  \n",
       "25%      1.770000   65.300000    1.800000    1310.000000  \n",
       "50%      5.390000   73.100000    2.410000    4660.000000  \n",
       "75%     10.600000   76.800000    3.910000   14600.000000  \n",
       "max    104.000000   82.800000    7.490000  105000.000000  "
      ]
     },
     "execution_count": 60,
     "metadata": {},
     "output_type": "execute_result"
    }
   ],
   "source": [
    "# Descriptive statistics\n",
    "df_countries.describe()"
   ]
  },
  {
   "cell_type": "code",
   "execution_count": 61,
   "metadata": {},
   "outputs": [
    {
     "data": {
      "application/vnd.plotly.v1+json": {
       "config": {
        "plotlyServerURL": "https://plot.ly"
       },
       "data": [
        {
         "alignmentgroup": "True",
         "hovertemplate": "income_category=%{x}<br>value=%{y}<br>color=%{marker.color}<extra></extra>",
         "legendgroup": "",
         "marker": {
          "color": [
           32.121212121212125,
           28.484848484848484,
           26.666666666666668,
           12.727272727272727
          ],
          "coloraxis": "coloraxis",
          "pattern": {
           "shape": ""
          }
         },
         "name": "",
         "offsetgroup": "",
         "orientation": "v",
         "showlegend": false,
         "textposition": "auto",
         "type": "bar",
         "x": [
          "High income",
          "Lower middle income",
          "Upper middle income",
          "Low income"
         ],
         "xaxis": "x",
         "y": [
          32.121212121212125,
          28.484848484848484,
          26.666666666666668,
          12.727272727272727
         ],
         "yaxis": "y"
        }
       ],
       "layout": {
        "barmode": "relative",
        "coloraxis": {
         "colorbar": {
          "title": {
           "text": "color"
          }
         },
         "colorscale": [
          [
           0,
           "rgb(103,0,31)"
          ],
          [
           0.1,
           "rgb(178,24,43)"
          ],
          [
           0.2,
           "rgb(214,96,77)"
          ],
          [
           0.3,
           "rgb(244,165,130)"
          ],
          [
           0.4,
           "rgb(253,219,199)"
          ],
          [
           0.5,
           "rgb(247,247,247)"
          ],
          [
           0.6,
           "rgb(209,229,240)"
          ],
          [
           0.7,
           "rgb(146,197,222)"
          ],
          [
           0.8,
           "rgb(67,147,195)"
          ],
          [
           0.9,
           "rgb(33,102,172)"
          ],
          [
           1,
           "rgb(5,48,97)"
          ]
         ]
        },
        "legend": {
         "tracegroupgap": 0
        },
        "margin": {
         "t": 60
        },
        "template": {
         "data": {
          "bar": [
           {
            "error_x": {
             "color": "#2a3f5f"
            },
            "error_y": {
             "color": "#2a3f5f"
            },
            "marker": {
             "line": {
              "color": "#E5ECF6",
              "width": 0.5
             },
             "pattern": {
              "fillmode": "overlay",
              "size": 10,
              "solidity": 0.2
             }
            },
            "type": "bar"
           }
          ],
          "barpolar": [
           {
            "marker": {
             "line": {
              "color": "#E5ECF6",
              "width": 0.5
             },
             "pattern": {
              "fillmode": "overlay",
              "size": 10,
              "solidity": 0.2
             }
            },
            "type": "barpolar"
           }
          ],
          "carpet": [
           {
            "aaxis": {
             "endlinecolor": "#2a3f5f",
             "gridcolor": "white",
             "linecolor": "white",
             "minorgridcolor": "white",
             "startlinecolor": "#2a3f5f"
            },
            "baxis": {
             "endlinecolor": "#2a3f5f",
             "gridcolor": "white",
             "linecolor": "white",
             "minorgridcolor": "white",
             "startlinecolor": "#2a3f5f"
            },
            "type": "carpet"
           }
          ],
          "choropleth": [
           {
            "colorbar": {
             "outlinewidth": 0,
             "ticks": ""
            },
            "type": "choropleth"
           }
          ],
          "contour": [
           {
            "colorbar": {
             "outlinewidth": 0,
             "ticks": ""
            },
            "colorscale": [
             [
              0,
              "#0d0887"
             ],
             [
              0.1111111111111111,
              "#46039f"
             ],
             [
              0.2222222222222222,
              "#7201a8"
             ],
             [
              0.3333333333333333,
              "#9c179e"
             ],
             [
              0.4444444444444444,
              "#bd3786"
             ],
             [
              0.5555555555555556,
              "#d8576b"
             ],
             [
              0.6666666666666666,
              "#ed7953"
             ],
             [
              0.7777777777777778,
              "#fb9f3a"
             ],
             [
              0.8888888888888888,
              "#fdca26"
             ],
             [
              1,
              "#f0f921"
             ]
            ],
            "type": "contour"
           }
          ],
          "contourcarpet": [
           {
            "colorbar": {
             "outlinewidth": 0,
             "ticks": ""
            },
            "type": "contourcarpet"
           }
          ],
          "heatmap": [
           {
            "colorbar": {
             "outlinewidth": 0,
             "ticks": ""
            },
            "colorscale": [
             [
              0,
              "#0d0887"
             ],
             [
              0.1111111111111111,
              "#46039f"
             ],
             [
              0.2222222222222222,
              "#7201a8"
             ],
             [
              0.3333333333333333,
              "#9c179e"
             ],
             [
              0.4444444444444444,
              "#bd3786"
             ],
             [
              0.5555555555555556,
              "#d8576b"
             ],
             [
              0.6666666666666666,
              "#ed7953"
             ],
             [
              0.7777777777777778,
              "#fb9f3a"
             ],
             [
              0.8888888888888888,
              "#fdca26"
             ],
             [
              1,
              "#f0f921"
             ]
            ],
            "type": "heatmap"
           }
          ],
          "heatmapgl": [
           {
            "colorbar": {
             "outlinewidth": 0,
             "ticks": ""
            },
            "colorscale": [
             [
              0,
              "#0d0887"
             ],
             [
              0.1111111111111111,
              "#46039f"
             ],
             [
              0.2222222222222222,
              "#7201a8"
             ],
             [
              0.3333333333333333,
              "#9c179e"
             ],
             [
              0.4444444444444444,
              "#bd3786"
             ],
             [
              0.5555555555555556,
              "#d8576b"
             ],
             [
              0.6666666666666666,
              "#ed7953"
             ],
             [
              0.7777777777777778,
              "#fb9f3a"
             ],
             [
              0.8888888888888888,
              "#fdca26"
             ],
             [
              1,
              "#f0f921"
             ]
            ],
            "type": "heatmapgl"
           }
          ],
          "histogram": [
           {
            "marker": {
             "pattern": {
              "fillmode": "overlay",
              "size": 10,
              "solidity": 0.2
             }
            },
            "type": "histogram"
           }
          ],
          "histogram2d": [
           {
            "colorbar": {
             "outlinewidth": 0,
             "ticks": ""
            },
            "colorscale": [
             [
              0,
              "#0d0887"
             ],
             [
              0.1111111111111111,
              "#46039f"
             ],
             [
              0.2222222222222222,
              "#7201a8"
             ],
             [
              0.3333333333333333,
              "#9c179e"
             ],
             [
              0.4444444444444444,
              "#bd3786"
             ],
             [
              0.5555555555555556,
              "#d8576b"
             ],
             [
              0.6666666666666666,
              "#ed7953"
             ],
             [
              0.7777777777777778,
              "#fb9f3a"
             ],
             [
              0.8888888888888888,
              "#fdca26"
             ],
             [
              1,
              "#f0f921"
             ]
            ],
            "type": "histogram2d"
           }
          ],
          "histogram2dcontour": [
           {
            "colorbar": {
             "outlinewidth": 0,
             "ticks": ""
            },
            "colorscale": [
             [
              0,
              "#0d0887"
             ],
             [
              0.1111111111111111,
              "#46039f"
             ],
             [
              0.2222222222222222,
              "#7201a8"
             ],
             [
              0.3333333333333333,
              "#9c179e"
             ],
             [
              0.4444444444444444,
              "#bd3786"
             ],
             [
              0.5555555555555556,
              "#d8576b"
             ],
             [
              0.6666666666666666,
              "#ed7953"
             ],
             [
              0.7777777777777778,
              "#fb9f3a"
             ],
             [
              0.8888888888888888,
              "#fdca26"
             ],
             [
              1,
              "#f0f921"
             ]
            ],
            "type": "histogram2dcontour"
           }
          ],
          "mesh3d": [
           {
            "colorbar": {
             "outlinewidth": 0,
             "ticks": ""
            },
            "type": "mesh3d"
           }
          ],
          "parcoords": [
           {
            "line": {
             "colorbar": {
              "outlinewidth": 0,
              "ticks": ""
             }
            },
            "type": "parcoords"
           }
          ],
          "pie": [
           {
            "automargin": true,
            "type": "pie"
           }
          ],
          "scatter": [
           {
            "fillpattern": {
             "fillmode": "overlay",
             "size": 10,
             "solidity": 0.2
            },
            "type": "scatter"
           }
          ],
          "scatter3d": [
           {
            "line": {
             "colorbar": {
              "outlinewidth": 0,
              "ticks": ""
             }
            },
            "marker": {
             "colorbar": {
              "outlinewidth": 0,
              "ticks": ""
             }
            },
            "type": "scatter3d"
           }
          ],
          "scattercarpet": [
           {
            "marker": {
             "colorbar": {
              "outlinewidth": 0,
              "ticks": ""
             }
            },
            "type": "scattercarpet"
           }
          ],
          "scattergeo": [
           {
            "marker": {
             "colorbar": {
              "outlinewidth": 0,
              "ticks": ""
             }
            },
            "type": "scattergeo"
           }
          ],
          "scattergl": [
           {
            "marker": {
             "colorbar": {
              "outlinewidth": 0,
              "ticks": ""
             }
            },
            "type": "scattergl"
           }
          ],
          "scattermapbox": [
           {
            "marker": {
             "colorbar": {
              "outlinewidth": 0,
              "ticks": ""
             }
            },
            "type": "scattermapbox"
           }
          ],
          "scatterpolar": [
           {
            "marker": {
             "colorbar": {
              "outlinewidth": 0,
              "ticks": ""
             }
            },
            "type": "scatterpolar"
           }
          ],
          "scatterpolargl": [
           {
            "marker": {
             "colorbar": {
              "outlinewidth": 0,
              "ticks": ""
             }
            },
            "type": "scatterpolargl"
           }
          ],
          "scatterternary": [
           {
            "marker": {
             "colorbar": {
              "outlinewidth": 0,
              "ticks": ""
             }
            },
            "type": "scatterternary"
           }
          ],
          "surface": [
           {
            "colorbar": {
             "outlinewidth": 0,
             "ticks": ""
            },
            "colorscale": [
             [
              0,
              "#0d0887"
             ],
             [
              0.1111111111111111,
              "#46039f"
             ],
             [
              0.2222222222222222,
              "#7201a8"
             ],
             [
              0.3333333333333333,
              "#9c179e"
             ],
             [
              0.4444444444444444,
              "#bd3786"
             ],
             [
              0.5555555555555556,
              "#d8576b"
             ],
             [
              0.6666666666666666,
              "#ed7953"
             ],
             [
              0.7777777777777778,
              "#fb9f3a"
             ],
             [
              0.8888888888888888,
              "#fdca26"
             ],
             [
              1,
              "#f0f921"
             ]
            ],
            "type": "surface"
           }
          ],
          "table": [
           {
            "cells": {
             "fill": {
              "color": "#EBF0F8"
             },
             "line": {
              "color": "white"
             }
            },
            "header": {
             "fill": {
              "color": "#C8D4E3"
             },
             "line": {
              "color": "white"
             }
            },
            "type": "table"
           }
          ]
         },
         "layout": {
          "annotationdefaults": {
           "arrowcolor": "#2a3f5f",
           "arrowhead": 0,
           "arrowwidth": 1
          },
          "autotypenumbers": "strict",
          "coloraxis": {
           "colorbar": {
            "outlinewidth": 0,
            "ticks": ""
           }
          },
          "colorscale": {
           "diverging": [
            [
             0,
             "#8e0152"
            ],
            [
             0.1,
             "#c51b7d"
            ],
            [
             0.2,
             "#de77ae"
            ],
            [
             0.3,
             "#f1b6da"
            ],
            [
             0.4,
             "#fde0ef"
            ],
            [
             0.5,
             "#f7f7f7"
            ],
            [
             0.6,
             "#e6f5d0"
            ],
            [
             0.7,
             "#b8e186"
            ],
            [
             0.8,
             "#7fbc41"
            ],
            [
             0.9,
             "#4d9221"
            ],
            [
             1,
             "#276419"
            ]
           ],
           "sequential": [
            [
             0,
             "#0d0887"
            ],
            [
             0.1111111111111111,
             "#46039f"
            ],
            [
             0.2222222222222222,
             "#7201a8"
            ],
            [
             0.3333333333333333,
             "#9c179e"
            ],
            [
             0.4444444444444444,
             "#bd3786"
            ],
            [
             0.5555555555555556,
             "#d8576b"
            ],
            [
             0.6666666666666666,
             "#ed7953"
            ],
            [
             0.7777777777777778,
             "#fb9f3a"
            ],
            [
             0.8888888888888888,
             "#fdca26"
            ],
            [
             1,
             "#f0f921"
            ]
           ],
           "sequentialminus": [
            [
             0,
             "#0d0887"
            ],
            [
             0.1111111111111111,
             "#46039f"
            ],
            [
             0.2222222222222222,
             "#7201a8"
            ],
            [
             0.3333333333333333,
             "#9c179e"
            ],
            [
             0.4444444444444444,
             "#bd3786"
            ],
            [
             0.5555555555555556,
             "#d8576b"
            ],
            [
             0.6666666666666666,
             "#ed7953"
            ],
            [
             0.7777777777777778,
             "#fb9f3a"
            ],
            [
             0.8888888888888888,
             "#fdca26"
            ],
            [
             1,
             "#f0f921"
            ]
           ]
          },
          "colorway": [
           "#636efa",
           "#EF553B",
           "#00cc96",
           "#ab63fa",
           "#FFA15A",
           "#19d3f3",
           "#FF6692",
           "#B6E880",
           "#FF97FF",
           "#FECB52"
          ],
          "font": {
           "color": "#2a3f5f"
          },
          "geo": {
           "bgcolor": "white",
           "lakecolor": "white",
           "landcolor": "#E5ECF6",
           "showlakes": true,
           "showland": true,
           "subunitcolor": "white"
          },
          "hoverlabel": {
           "align": "left"
          },
          "hovermode": "closest",
          "mapbox": {
           "style": "light"
          },
          "paper_bgcolor": "white",
          "plot_bgcolor": "#E5ECF6",
          "polar": {
           "angularaxis": {
            "gridcolor": "white",
            "linecolor": "white",
            "ticks": ""
           },
           "bgcolor": "#E5ECF6",
           "radialaxis": {
            "gridcolor": "white",
            "linecolor": "white",
            "ticks": ""
           }
          },
          "scene": {
           "xaxis": {
            "backgroundcolor": "#E5ECF6",
            "gridcolor": "white",
            "gridwidth": 2,
            "linecolor": "white",
            "showbackground": true,
            "ticks": "",
            "zerolinecolor": "white"
           },
           "yaxis": {
            "backgroundcolor": "#E5ECF6",
            "gridcolor": "white",
            "gridwidth": 2,
            "linecolor": "white",
            "showbackground": true,
            "ticks": "",
            "zerolinecolor": "white"
           },
           "zaxis": {
            "backgroundcolor": "#E5ECF6",
            "gridcolor": "white",
            "gridwidth": 2,
            "linecolor": "white",
            "showbackground": true,
            "ticks": "",
            "zerolinecolor": "white"
           }
          },
          "shapedefaults": {
           "line": {
            "color": "#2a3f5f"
           }
          },
          "ternary": {
           "aaxis": {
            "gridcolor": "white",
            "linecolor": "white",
            "ticks": ""
           },
           "baxis": {
            "gridcolor": "white",
            "linecolor": "white",
            "ticks": ""
           },
           "bgcolor": "#E5ECF6",
           "caxis": {
            "gridcolor": "white",
            "linecolor": "white",
            "ticks": ""
           }
          },
          "title": {
           "x": 0.05
          },
          "xaxis": {
           "automargin": true,
           "gridcolor": "white",
           "linecolor": "white",
           "ticks": "",
           "title": {
            "standoff": 15
           },
           "zerolinecolor": "white",
           "zerolinewidth": 2
          },
          "yaxis": {
           "automargin": true,
           "gridcolor": "white",
           "linecolor": "white",
           "ticks": "",
           "title": {
            "standoff": 15
           },
           "zerolinecolor": "white",
           "zerolinewidth": 2
          }
         }
        },
        "xaxis": {
         "anchor": "y",
         "domain": [
          0,
          1
         ],
         "title": {
          "text": "income_category"
         }
        },
        "yaxis": {
         "anchor": "x",
         "domain": [
          0,
          1
         ],
         "title": {
          "text": "value"
         }
        }
       }
      }
     },
     "metadata": {},
     "output_type": "display_data"
    }
   ],
   "source": [
    "# Percentage of income category\n",
    "percentual_income_category = df_countries.value_counts(subset='income_category') / len(df_countries) * 100\n",
    "\n",
    "# Bar chart of income category\n",
    "px.bar(data_frame=percentual_income_category, color=percentual_income_category, color_continuous_scale='RdBu')"
   ]
  },
  {
   "cell_type": "code",
   "execution_count": 62,
   "metadata": {},
   "outputs": [
    {
     "data": {
      "application/vnd.plotly.v1+json": {
       "config": {
        "plotlyServerURL": "https://plot.ly"
       },
       "data": [
        {
         "alignmentgroup": "True",
         "bingroup": "x",
         "hovertemplate": "variable=income<br>value=%{x}<br>count=%{y}<extra></extra>",
         "legendgroup": "income",
         "marker": {
          "color": "#636efa",
          "pattern": {
           "shape": ""
          }
         },
         "name": "income",
         "offsetgroup": "income",
         "orientation": "v",
         "showlegend": true,
         "type": "histogram",
         "x": [
          1610,
          9930,
          12900,
          5900,
          19100,
          18700,
          6700,
          41400,
          43200,
          16000,
          22900,
          41100,
          2440,
          15300,
          16200,
          41100,
          7880,
          1820,
          6420,
          5410,
          9720,
          13300,
          14500,
          80600,
          15300,
          1430,
          764,
          2520,
          2660,
          40700,
          5830,
          888,
          1930,
          19400,
          9530,
          10900,
          1410,
          609,
          5190,
          13000,
          2690,
          20100,
          33900,
          28300,
          44000,
          11100,
          9350,
          9860,
          7300,
          33700,
          1420,
          22700,
          7350,
          39800,
          36900,
          15400,
          1660,
          6730,
          40400,
          3060,
          28700,
          11200,
          6710,
          1190,
          1390,
          5840,
          1500,
          22300,
          38800,
          4410,
          8430,
          17400,
          12700,
          45700,
          29600,
          36200,
          8000,
          35800,
          9470,
          20100,
          2480,
          1730,
          75200,
          2790,
          3980,
          18300,
          16300,
          2380,
          700,
          29600,
          21100,
          91700,
          1390,
          1030,
          21100,
          10500,
          1870,
          28300,
          3320,
          15900,
          3340,
          3910,
          7710,
          14000,
          6440,
          918,
          3720,
          8460,
          1990,
          45500,
          32300,
          814,
          5150,
          62300,
          45300,
          4280,
          15400,
          7290,
          9960,
          5600,
          21800,
          27200,
          125000,
          17800,
          23100,
          1350,
          5400,
          45400,
          2180,
          12700,
          20400,
          1220,
          72100,
          25200,
          28700,
          1780,
          12000,
          30400,
          32500,
          8560,
          9920,
          3370,
          14200,
          42900,
          55500,
          2110,
          2090,
          13500,
          1850,
          1210,
          4980,
          10400,
          18000,
          9940,
          1540,
          7820,
          57600,
          36200,
          49400,
          17100,
          4240,
          2950,
          4490,
          4480,
          3280
         ],
         "xaxis": "x",
         "yaxis": "y"
        }
       ],
       "layout": {
        "barmode": "relative",
        "legend": {
         "title": {
          "text": "variable"
         },
         "tracegroupgap": 0
        },
        "template": {
         "data": {
          "bar": [
           {
            "error_x": {
             "color": "#2a3f5f"
            },
            "error_y": {
             "color": "#2a3f5f"
            },
            "marker": {
             "line": {
              "color": "#E5ECF6",
              "width": 0.5
             },
             "pattern": {
              "fillmode": "overlay",
              "size": 10,
              "solidity": 0.2
             }
            },
            "type": "bar"
           }
          ],
          "barpolar": [
           {
            "marker": {
             "line": {
              "color": "#E5ECF6",
              "width": 0.5
             },
             "pattern": {
              "fillmode": "overlay",
              "size": 10,
              "solidity": 0.2
             }
            },
            "type": "barpolar"
           }
          ],
          "carpet": [
           {
            "aaxis": {
             "endlinecolor": "#2a3f5f",
             "gridcolor": "white",
             "linecolor": "white",
             "minorgridcolor": "white",
             "startlinecolor": "#2a3f5f"
            },
            "baxis": {
             "endlinecolor": "#2a3f5f",
             "gridcolor": "white",
             "linecolor": "white",
             "minorgridcolor": "white",
             "startlinecolor": "#2a3f5f"
            },
            "type": "carpet"
           }
          ],
          "choropleth": [
           {
            "colorbar": {
             "outlinewidth": 0,
             "ticks": ""
            },
            "type": "choropleth"
           }
          ],
          "contour": [
           {
            "colorbar": {
             "outlinewidth": 0,
             "ticks": ""
            },
            "colorscale": [
             [
              0,
              "#0d0887"
             ],
             [
              0.1111111111111111,
              "#46039f"
             ],
             [
              0.2222222222222222,
              "#7201a8"
             ],
             [
              0.3333333333333333,
              "#9c179e"
             ],
             [
              0.4444444444444444,
              "#bd3786"
             ],
             [
              0.5555555555555556,
              "#d8576b"
             ],
             [
              0.6666666666666666,
              "#ed7953"
             ],
             [
              0.7777777777777778,
              "#fb9f3a"
             ],
             [
              0.8888888888888888,
              "#fdca26"
             ],
             [
              1,
              "#f0f921"
             ]
            ],
            "type": "contour"
           }
          ],
          "contourcarpet": [
           {
            "colorbar": {
             "outlinewidth": 0,
             "ticks": ""
            },
            "type": "contourcarpet"
           }
          ],
          "heatmap": [
           {
            "colorbar": {
             "outlinewidth": 0,
             "ticks": ""
            },
            "colorscale": [
             [
              0,
              "#0d0887"
             ],
             [
              0.1111111111111111,
              "#46039f"
             ],
             [
              0.2222222222222222,
              "#7201a8"
             ],
             [
              0.3333333333333333,
              "#9c179e"
             ],
             [
              0.4444444444444444,
              "#bd3786"
             ],
             [
              0.5555555555555556,
              "#d8576b"
             ],
             [
              0.6666666666666666,
              "#ed7953"
             ],
             [
              0.7777777777777778,
              "#fb9f3a"
             ],
             [
              0.8888888888888888,
              "#fdca26"
             ],
             [
              1,
              "#f0f921"
             ]
            ],
            "type": "heatmap"
           }
          ],
          "heatmapgl": [
           {
            "colorbar": {
             "outlinewidth": 0,
             "ticks": ""
            },
            "colorscale": [
             [
              0,
              "#0d0887"
             ],
             [
              0.1111111111111111,
              "#46039f"
             ],
             [
              0.2222222222222222,
              "#7201a8"
             ],
             [
              0.3333333333333333,
              "#9c179e"
             ],
             [
              0.4444444444444444,
              "#bd3786"
             ],
             [
              0.5555555555555556,
              "#d8576b"
             ],
             [
              0.6666666666666666,
              "#ed7953"
             ],
             [
              0.7777777777777778,
              "#fb9f3a"
             ],
             [
              0.8888888888888888,
              "#fdca26"
             ],
             [
              1,
              "#f0f921"
             ]
            ],
            "type": "heatmapgl"
           }
          ],
          "histogram": [
           {
            "marker": {
             "pattern": {
              "fillmode": "overlay",
              "size": 10,
              "solidity": 0.2
             }
            },
            "type": "histogram"
           }
          ],
          "histogram2d": [
           {
            "colorbar": {
             "outlinewidth": 0,
             "ticks": ""
            },
            "colorscale": [
             [
              0,
              "#0d0887"
             ],
             [
              0.1111111111111111,
              "#46039f"
             ],
             [
              0.2222222222222222,
              "#7201a8"
             ],
             [
              0.3333333333333333,
              "#9c179e"
             ],
             [
              0.4444444444444444,
              "#bd3786"
             ],
             [
              0.5555555555555556,
              "#d8576b"
             ],
             [
              0.6666666666666666,
              "#ed7953"
             ],
             [
              0.7777777777777778,
              "#fb9f3a"
             ],
             [
              0.8888888888888888,
              "#fdca26"
             ],
             [
              1,
              "#f0f921"
             ]
            ],
            "type": "histogram2d"
           }
          ],
          "histogram2dcontour": [
           {
            "colorbar": {
             "outlinewidth": 0,
             "ticks": ""
            },
            "colorscale": [
             [
              0,
              "#0d0887"
             ],
             [
              0.1111111111111111,
              "#46039f"
             ],
             [
              0.2222222222222222,
              "#7201a8"
             ],
             [
              0.3333333333333333,
              "#9c179e"
             ],
             [
              0.4444444444444444,
              "#bd3786"
             ],
             [
              0.5555555555555556,
              "#d8576b"
             ],
             [
              0.6666666666666666,
              "#ed7953"
             ],
             [
              0.7777777777777778,
              "#fb9f3a"
             ],
             [
              0.8888888888888888,
              "#fdca26"
             ],
             [
              1,
              "#f0f921"
             ]
            ],
            "type": "histogram2dcontour"
           }
          ],
          "mesh3d": [
           {
            "colorbar": {
             "outlinewidth": 0,
             "ticks": ""
            },
            "type": "mesh3d"
           }
          ],
          "parcoords": [
           {
            "line": {
             "colorbar": {
              "outlinewidth": 0,
              "ticks": ""
             }
            },
            "type": "parcoords"
           }
          ],
          "pie": [
           {
            "automargin": true,
            "type": "pie"
           }
          ],
          "scatter": [
           {
            "fillpattern": {
             "fillmode": "overlay",
             "size": 10,
             "solidity": 0.2
            },
            "type": "scatter"
           }
          ],
          "scatter3d": [
           {
            "line": {
             "colorbar": {
              "outlinewidth": 0,
              "ticks": ""
             }
            },
            "marker": {
             "colorbar": {
              "outlinewidth": 0,
              "ticks": ""
             }
            },
            "type": "scatter3d"
           }
          ],
          "scattercarpet": [
           {
            "marker": {
             "colorbar": {
              "outlinewidth": 0,
              "ticks": ""
             }
            },
            "type": "scattercarpet"
           }
          ],
          "scattergeo": [
           {
            "marker": {
             "colorbar": {
              "outlinewidth": 0,
              "ticks": ""
             }
            },
            "type": "scattergeo"
           }
          ],
          "scattergl": [
           {
            "marker": {
             "colorbar": {
              "outlinewidth": 0,
              "ticks": ""
             }
            },
            "type": "scattergl"
           }
          ],
          "scattermapbox": [
           {
            "marker": {
             "colorbar": {
              "outlinewidth": 0,
              "ticks": ""
             }
            },
            "type": "scattermapbox"
           }
          ],
          "scatterpolar": [
           {
            "marker": {
             "colorbar": {
              "outlinewidth": 0,
              "ticks": ""
             }
            },
            "type": "scatterpolar"
           }
          ],
          "scatterpolargl": [
           {
            "marker": {
             "colorbar": {
              "outlinewidth": 0,
              "ticks": ""
             }
            },
            "type": "scatterpolargl"
           }
          ],
          "scatterternary": [
           {
            "marker": {
             "colorbar": {
              "outlinewidth": 0,
              "ticks": ""
             }
            },
            "type": "scatterternary"
           }
          ],
          "surface": [
           {
            "colorbar": {
             "outlinewidth": 0,
             "ticks": ""
            },
            "colorscale": [
             [
              0,
              "#0d0887"
             ],
             [
              0.1111111111111111,
              "#46039f"
             ],
             [
              0.2222222222222222,
              "#7201a8"
             ],
             [
              0.3333333333333333,
              "#9c179e"
             ],
             [
              0.4444444444444444,
              "#bd3786"
             ],
             [
              0.5555555555555556,
              "#d8576b"
             ],
             [
              0.6666666666666666,
              "#ed7953"
             ],
             [
              0.7777777777777778,
              "#fb9f3a"
             ],
             [
              0.8888888888888888,
              "#fdca26"
             ],
             [
              1,
              "#f0f921"
             ]
            ],
            "type": "surface"
           }
          ],
          "table": [
           {
            "cells": {
             "fill": {
              "color": "#EBF0F8"
             },
             "line": {
              "color": "white"
             }
            },
            "header": {
             "fill": {
              "color": "#C8D4E3"
             },
             "line": {
              "color": "white"
             }
            },
            "type": "table"
           }
          ]
         },
         "layout": {
          "annotationdefaults": {
           "arrowcolor": "#2a3f5f",
           "arrowhead": 0,
           "arrowwidth": 1
          },
          "autotypenumbers": "strict",
          "coloraxis": {
           "colorbar": {
            "outlinewidth": 0,
            "ticks": ""
           }
          },
          "colorscale": {
           "diverging": [
            [
             0,
             "#8e0152"
            ],
            [
             0.1,
             "#c51b7d"
            ],
            [
             0.2,
             "#de77ae"
            ],
            [
             0.3,
             "#f1b6da"
            ],
            [
             0.4,
             "#fde0ef"
            ],
            [
             0.5,
             "#f7f7f7"
            ],
            [
             0.6,
             "#e6f5d0"
            ],
            [
             0.7,
             "#b8e186"
            ],
            [
             0.8,
             "#7fbc41"
            ],
            [
             0.9,
             "#4d9221"
            ],
            [
             1,
             "#276419"
            ]
           ],
           "sequential": [
            [
             0,
             "#0d0887"
            ],
            [
             0.1111111111111111,
             "#46039f"
            ],
            [
             0.2222222222222222,
             "#7201a8"
            ],
            [
             0.3333333333333333,
             "#9c179e"
            ],
            [
             0.4444444444444444,
             "#bd3786"
            ],
            [
             0.5555555555555556,
             "#d8576b"
            ],
            [
             0.6666666666666666,
             "#ed7953"
            ],
            [
             0.7777777777777778,
             "#fb9f3a"
            ],
            [
             0.8888888888888888,
             "#fdca26"
            ],
            [
             1,
             "#f0f921"
            ]
           ],
           "sequentialminus": [
            [
             0,
             "#0d0887"
            ],
            [
             0.1111111111111111,
             "#46039f"
            ],
            [
             0.2222222222222222,
             "#7201a8"
            ],
            [
             0.3333333333333333,
             "#9c179e"
            ],
            [
             0.4444444444444444,
             "#bd3786"
            ],
            [
             0.5555555555555556,
             "#d8576b"
            ],
            [
             0.6666666666666666,
             "#ed7953"
            ],
            [
             0.7777777777777778,
             "#fb9f3a"
            ],
            [
             0.8888888888888888,
             "#fdca26"
            ],
            [
             1,
             "#f0f921"
            ]
           ]
          },
          "colorway": [
           "#636efa",
           "#EF553B",
           "#00cc96",
           "#ab63fa",
           "#FFA15A",
           "#19d3f3",
           "#FF6692",
           "#B6E880",
           "#FF97FF",
           "#FECB52"
          ],
          "font": {
           "color": "#2a3f5f"
          },
          "geo": {
           "bgcolor": "white",
           "lakecolor": "white",
           "landcolor": "#E5ECF6",
           "showlakes": true,
           "showland": true,
           "subunitcolor": "white"
          },
          "hoverlabel": {
           "align": "left"
          },
          "hovermode": "closest",
          "mapbox": {
           "style": "light"
          },
          "paper_bgcolor": "white",
          "plot_bgcolor": "#E5ECF6",
          "polar": {
           "angularaxis": {
            "gridcolor": "white",
            "linecolor": "white",
            "ticks": ""
           },
           "bgcolor": "#E5ECF6",
           "radialaxis": {
            "gridcolor": "white",
            "linecolor": "white",
            "ticks": ""
           }
          },
          "scene": {
           "xaxis": {
            "backgroundcolor": "#E5ECF6",
            "gridcolor": "white",
            "gridwidth": 2,
            "linecolor": "white",
            "showbackground": true,
            "ticks": "",
            "zerolinecolor": "white"
           },
           "yaxis": {
            "backgroundcolor": "#E5ECF6",
            "gridcolor": "white",
            "gridwidth": 2,
            "linecolor": "white",
            "showbackground": true,
            "ticks": "",
            "zerolinecolor": "white"
           },
           "zaxis": {
            "backgroundcolor": "#E5ECF6",
            "gridcolor": "white",
            "gridwidth": 2,
            "linecolor": "white",
            "showbackground": true,
            "ticks": "",
            "zerolinecolor": "white"
           }
          },
          "shapedefaults": {
           "line": {
            "color": "#2a3f5f"
           }
          },
          "ternary": {
           "aaxis": {
            "gridcolor": "white",
            "linecolor": "white",
            "ticks": ""
           },
           "baxis": {
            "gridcolor": "white",
            "linecolor": "white",
            "ticks": ""
           },
           "bgcolor": "#E5ECF6",
           "caxis": {
            "gridcolor": "white",
            "linecolor": "white",
            "ticks": ""
           }
          },
          "title": {
           "x": 0.05
          },
          "xaxis": {
           "automargin": true,
           "gridcolor": "white",
           "linecolor": "white",
           "ticks": "",
           "title": {
            "standoff": 15
           },
           "zerolinecolor": "white",
           "zerolinewidth": 2
          },
          "yaxis": {
           "automargin": true,
           "gridcolor": "white",
           "linecolor": "white",
           "ticks": "",
           "title": {
            "standoff": 15
           },
           "zerolinecolor": "white",
           "zerolinewidth": 2
          }
         }
        },
        "title": {
         "text": "Histograma da variável Income"
        },
        "xaxis": {
         "anchor": "y",
         "domain": [
          0,
          1
         ],
         "title": {
          "text": "value"
         }
        },
        "yaxis": {
         "anchor": "x",
         "domain": [
          0,
          1
         ],
         "title": {
          "text": "count"
         }
        }
       }
      }
     },
     "metadata": {},
     "output_type": "display_data"
    }
   ],
   "source": [
    "# Histogram of income\n",
    "px.histogram(data_frame=df_countries['income'],\n",
    "             title='Histograma da variável Income')"
   ]
  },
  {
   "cell_type": "code",
   "execution_count": 63,
   "metadata": {},
   "outputs": [
    {
     "data": {
      "application/vnd.plotly.v1+json": {
       "config": {
        "plotlyServerURL": "https://plot.ly"
       },
       "data": [
        {
         "alignmentgroup": "True",
         "bingroup": "x",
         "hovertemplate": "variable=gdpp<br>value=%{x}<br>count=%{y}<extra></extra>",
         "legendgroup": "gdpp",
         "marker": {
          "color": "#636efa",
          "pattern": {
           "shape": ""
          }
         },
         "name": "gdpp",
         "offsetgroup": "gdpp",
         "orientation": "v",
         "showlegend": true,
         "type": "histogram",
         "x": [
          553,
          4090,
          4460,
          3530,
          12200,
          10300,
          3220,
          51900,
          46900,
          5840,
          28000,
          20700,
          758,
          16000,
          6030,
          44400,
          4340,
          758,
          2180,
          1980,
          4610,
          6350,
          11200,
          35300,
          6840,
          575,
          231,
          786,
          1310,
          47400,
          3310,
          446,
          897,
          12900,
          4560,
          6250,
          769,
          334,
          2740,
          8200,
          1220,
          13500,
          30800,
          19800,
          58000,
          5450,
          4660,
          2600,
          2990,
          17100,
          482,
          14600,
          3650,
          46200,
          40600,
          8750,
          562,
          2960,
          41800,
          1310,
          26900,
          7370,
          2830,
          648,
          547,
          3040,
          662,
          13100,
          41900,
          1350,
          3110,
          6530,
          4500,
          48700,
          30600,
          35800,
          4680,
          44500,
          3680,
          9070,
          967,
          1490,
          38500,
          880,
          1140,
          11300,
          8860,
          1170,
          327,
          12100,
          12000,
          105000,
          413,
          459,
          9070,
          7100,
          708,
          21100,
          1200,
          8000,
          2860,
          1630,
          2650,
          6680,
          2830,
          419,
          988,
          5190,
          592,
          50300,
          33700,
          348,
          2330,
          87800,
          19300,
          1040,
          8080,
          3230,
          5020,
          2130,
          12600,
          22500,
          70300,
          8230,
          10700,
          563,
          3450,
          19300,
          1000,
          5410,
          10800,
          399,
          46600,
          16600,
          23400,
          1290,
          7280,
          22100,
          30700,
          2810,
          6230,
          1480,
          8300,
          52100,
          74600,
          738,
          702,
          5080,
          3600,
          488,
          3550,
          4140,
          10700,
          4440,
          595,
          2970,
          35000,
          38900,
          48400,
          11900,
          1380,
          2970,
          1310,
          1310,
          1460
         ],
         "xaxis": "x",
         "yaxis": "y"
        }
       ],
       "layout": {
        "barmode": "relative",
        "legend": {
         "title": {
          "text": "variable"
         },
         "tracegroupgap": 0
        },
        "template": {
         "data": {
          "bar": [
           {
            "error_x": {
             "color": "#2a3f5f"
            },
            "error_y": {
             "color": "#2a3f5f"
            },
            "marker": {
             "line": {
              "color": "#E5ECF6",
              "width": 0.5
             },
             "pattern": {
              "fillmode": "overlay",
              "size": 10,
              "solidity": 0.2
             }
            },
            "type": "bar"
           }
          ],
          "barpolar": [
           {
            "marker": {
             "line": {
              "color": "#E5ECF6",
              "width": 0.5
             },
             "pattern": {
              "fillmode": "overlay",
              "size": 10,
              "solidity": 0.2
             }
            },
            "type": "barpolar"
           }
          ],
          "carpet": [
           {
            "aaxis": {
             "endlinecolor": "#2a3f5f",
             "gridcolor": "white",
             "linecolor": "white",
             "minorgridcolor": "white",
             "startlinecolor": "#2a3f5f"
            },
            "baxis": {
             "endlinecolor": "#2a3f5f",
             "gridcolor": "white",
             "linecolor": "white",
             "minorgridcolor": "white",
             "startlinecolor": "#2a3f5f"
            },
            "type": "carpet"
           }
          ],
          "choropleth": [
           {
            "colorbar": {
             "outlinewidth": 0,
             "ticks": ""
            },
            "type": "choropleth"
           }
          ],
          "contour": [
           {
            "colorbar": {
             "outlinewidth": 0,
             "ticks": ""
            },
            "colorscale": [
             [
              0,
              "#0d0887"
             ],
             [
              0.1111111111111111,
              "#46039f"
             ],
             [
              0.2222222222222222,
              "#7201a8"
             ],
             [
              0.3333333333333333,
              "#9c179e"
             ],
             [
              0.4444444444444444,
              "#bd3786"
             ],
             [
              0.5555555555555556,
              "#d8576b"
             ],
             [
              0.6666666666666666,
              "#ed7953"
             ],
             [
              0.7777777777777778,
              "#fb9f3a"
             ],
             [
              0.8888888888888888,
              "#fdca26"
             ],
             [
              1,
              "#f0f921"
             ]
            ],
            "type": "contour"
           }
          ],
          "contourcarpet": [
           {
            "colorbar": {
             "outlinewidth": 0,
             "ticks": ""
            },
            "type": "contourcarpet"
           }
          ],
          "heatmap": [
           {
            "colorbar": {
             "outlinewidth": 0,
             "ticks": ""
            },
            "colorscale": [
             [
              0,
              "#0d0887"
             ],
             [
              0.1111111111111111,
              "#46039f"
             ],
             [
              0.2222222222222222,
              "#7201a8"
             ],
             [
              0.3333333333333333,
              "#9c179e"
             ],
             [
              0.4444444444444444,
              "#bd3786"
             ],
             [
              0.5555555555555556,
              "#d8576b"
             ],
             [
              0.6666666666666666,
              "#ed7953"
             ],
             [
              0.7777777777777778,
              "#fb9f3a"
             ],
             [
              0.8888888888888888,
              "#fdca26"
             ],
             [
              1,
              "#f0f921"
             ]
            ],
            "type": "heatmap"
           }
          ],
          "heatmapgl": [
           {
            "colorbar": {
             "outlinewidth": 0,
             "ticks": ""
            },
            "colorscale": [
             [
              0,
              "#0d0887"
             ],
             [
              0.1111111111111111,
              "#46039f"
             ],
             [
              0.2222222222222222,
              "#7201a8"
             ],
             [
              0.3333333333333333,
              "#9c179e"
             ],
             [
              0.4444444444444444,
              "#bd3786"
             ],
             [
              0.5555555555555556,
              "#d8576b"
             ],
             [
              0.6666666666666666,
              "#ed7953"
             ],
             [
              0.7777777777777778,
              "#fb9f3a"
             ],
             [
              0.8888888888888888,
              "#fdca26"
             ],
             [
              1,
              "#f0f921"
             ]
            ],
            "type": "heatmapgl"
           }
          ],
          "histogram": [
           {
            "marker": {
             "pattern": {
              "fillmode": "overlay",
              "size": 10,
              "solidity": 0.2
             }
            },
            "type": "histogram"
           }
          ],
          "histogram2d": [
           {
            "colorbar": {
             "outlinewidth": 0,
             "ticks": ""
            },
            "colorscale": [
             [
              0,
              "#0d0887"
             ],
             [
              0.1111111111111111,
              "#46039f"
             ],
             [
              0.2222222222222222,
              "#7201a8"
             ],
             [
              0.3333333333333333,
              "#9c179e"
             ],
             [
              0.4444444444444444,
              "#bd3786"
             ],
             [
              0.5555555555555556,
              "#d8576b"
             ],
             [
              0.6666666666666666,
              "#ed7953"
             ],
             [
              0.7777777777777778,
              "#fb9f3a"
             ],
             [
              0.8888888888888888,
              "#fdca26"
             ],
             [
              1,
              "#f0f921"
             ]
            ],
            "type": "histogram2d"
           }
          ],
          "histogram2dcontour": [
           {
            "colorbar": {
             "outlinewidth": 0,
             "ticks": ""
            },
            "colorscale": [
             [
              0,
              "#0d0887"
             ],
             [
              0.1111111111111111,
              "#46039f"
             ],
             [
              0.2222222222222222,
              "#7201a8"
             ],
             [
              0.3333333333333333,
              "#9c179e"
             ],
             [
              0.4444444444444444,
              "#bd3786"
             ],
             [
              0.5555555555555556,
              "#d8576b"
             ],
             [
              0.6666666666666666,
              "#ed7953"
             ],
             [
              0.7777777777777778,
              "#fb9f3a"
             ],
             [
              0.8888888888888888,
              "#fdca26"
             ],
             [
              1,
              "#f0f921"
             ]
            ],
            "type": "histogram2dcontour"
           }
          ],
          "mesh3d": [
           {
            "colorbar": {
             "outlinewidth": 0,
             "ticks": ""
            },
            "type": "mesh3d"
           }
          ],
          "parcoords": [
           {
            "line": {
             "colorbar": {
              "outlinewidth": 0,
              "ticks": ""
             }
            },
            "type": "parcoords"
           }
          ],
          "pie": [
           {
            "automargin": true,
            "type": "pie"
           }
          ],
          "scatter": [
           {
            "fillpattern": {
             "fillmode": "overlay",
             "size": 10,
             "solidity": 0.2
            },
            "type": "scatter"
           }
          ],
          "scatter3d": [
           {
            "line": {
             "colorbar": {
              "outlinewidth": 0,
              "ticks": ""
             }
            },
            "marker": {
             "colorbar": {
              "outlinewidth": 0,
              "ticks": ""
             }
            },
            "type": "scatter3d"
           }
          ],
          "scattercarpet": [
           {
            "marker": {
             "colorbar": {
              "outlinewidth": 0,
              "ticks": ""
             }
            },
            "type": "scattercarpet"
           }
          ],
          "scattergeo": [
           {
            "marker": {
             "colorbar": {
              "outlinewidth": 0,
              "ticks": ""
             }
            },
            "type": "scattergeo"
           }
          ],
          "scattergl": [
           {
            "marker": {
             "colorbar": {
              "outlinewidth": 0,
              "ticks": ""
             }
            },
            "type": "scattergl"
           }
          ],
          "scattermapbox": [
           {
            "marker": {
             "colorbar": {
              "outlinewidth": 0,
              "ticks": ""
             }
            },
            "type": "scattermapbox"
           }
          ],
          "scatterpolar": [
           {
            "marker": {
             "colorbar": {
              "outlinewidth": 0,
              "ticks": ""
             }
            },
            "type": "scatterpolar"
           }
          ],
          "scatterpolargl": [
           {
            "marker": {
             "colorbar": {
              "outlinewidth": 0,
              "ticks": ""
             }
            },
            "type": "scatterpolargl"
           }
          ],
          "scatterternary": [
           {
            "marker": {
             "colorbar": {
              "outlinewidth": 0,
              "ticks": ""
             }
            },
            "type": "scatterternary"
           }
          ],
          "surface": [
           {
            "colorbar": {
             "outlinewidth": 0,
             "ticks": ""
            },
            "colorscale": [
             [
              0,
              "#0d0887"
             ],
             [
              0.1111111111111111,
              "#46039f"
             ],
             [
              0.2222222222222222,
              "#7201a8"
             ],
             [
              0.3333333333333333,
              "#9c179e"
             ],
             [
              0.4444444444444444,
              "#bd3786"
             ],
             [
              0.5555555555555556,
              "#d8576b"
             ],
             [
              0.6666666666666666,
              "#ed7953"
             ],
             [
              0.7777777777777778,
              "#fb9f3a"
             ],
             [
              0.8888888888888888,
              "#fdca26"
             ],
             [
              1,
              "#f0f921"
             ]
            ],
            "type": "surface"
           }
          ],
          "table": [
           {
            "cells": {
             "fill": {
              "color": "#EBF0F8"
             },
             "line": {
              "color": "white"
             }
            },
            "header": {
             "fill": {
              "color": "#C8D4E3"
             },
             "line": {
              "color": "white"
             }
            },
            "type": "table"
           }
          ]
         },
         "layout": {
          "annotationdefaults": {
           "arrowcolor": "#2a3f5f",
           "arrowhead": 0,
           "arrowwidth": 1
          },
          "autotypenumbers": "strict",
          "coloraxis": {
           "colorbar": {
            "outlinewidth": 0,
            "ticks": ""
           }
          },
          "colorscale": {
           "diverging": [
            [
             0,
             "#8e0152"
            ],
            [
             0.1,
             "#c51b7d"
            ],
            [
             0.2,
             "#de77ae"
            ],
            [
             0.3,
             "#f1b6da"
            ],
            [
             0.4,
             "#fde0ef"
            ],
            [
             0.5,
             "#f7f7f7"
            ],
            [
             0.6,
             "#e6f5d0"
            ],
            [
             0.7,
             "#b8e186"
            ],
            [
             0.8,
             "#7fbc41"
            ],
            [
             0.9,
             "#4d9221"
            ],
            [
             1,
             "#276419"
            ]
           ],
           "sequential": [
            [
             0,
             "#0d0887"
            ],
            [
             0.1111111111111111,
             "#46039f"
            ],
            [
             0.2222222222222222,
             "#7201a8"
            ],
            [
             0.3333333333333333,
             "#9c179e"
            ],
            [
             0.4444444444444444,
             "#bd3786"
            ],
            [
             0.5555555555555556,
             "#d8576b"
            ],
            [
             0.6666666666666666,
             "#ed7953"
            ],
            [
             0.7777777777777778,
             "#fb9f3a"
            ],
            [
             0.8888888888888888,
             "#fdca26"
            ],
            [
             1,
             "#f0f921"
            ]
           ],
           "sequentialminus": [
            [
             0,
             "#0d0887"
            ],
            [
             0.1111111111111111,
             "#46039f"
            ],
            [
             0.2222222222222222,
             "#7201a8"
            ],
            [
             0.3333333333333333,
             "#9c179e"
            ],
            [
             0.4444444444444444,
             "#bd3786"
            ],
            [
             0.5555555555555556,
             "#d8576b"
            ],
            [
             0.6666666666666666,
             "#ed7953"
            ],
            [
             0.7777777777777778,
             "#fb9f3a"
            ],
            [
             0.8888888888888888,
             "#fdca26"
            ],
            [
             1,
             "#f0f921"
            ]
           ]
          },
          "colorway": [
           "#636efa",
           "#EF553B",
           "#00cc96",
           "#ab63fa",
           "#FFA15A",
           "#19d3f3",
           "#FF6692",
           "#B6E880",
           "#FF97FF",
           "#FECB52"
          ],
          "font": {
           "color": "#2a3f5f"
          },
          "geo": {
           "bgcolor": "white",
           "lakecolor": "white",
           "landcolor": "#E5ECF6",
           "showlakes": true,
           "showland": true,
           "subunitcolor": "white"
          },
          "hoverlabel": {
           "align": "left"
          },
          "hovermode": "closest",
          "mapbox": {
           "style": "light"
          },
          "paper_bgcolor": "white",
          "plot_bgcolor": "#E5ECF6",
          "polar": {
           "angularaxis": {
            "gridcolor": "white",
            "linecolor": "white",
            "ticks": ""
           },
           "bgcolor": "#E5ECF6",
           "radialaxis": {
            "gridcolor": "white",
            "linecolor": "white",
            "ticks": ""
           }
          },
          "scene": {
           "xaxis": {
            "backgroundcolor": "#E5ECF6",
            "gridcolor": "white",
            "gridwidth": 2,
            "linecolor": "white",
            "showbackground": true,
            "ticks": "",
            "zerolinecolor": "white"
           },
           "yaxis": {
            "backgroundcolor": "#E5ECF6",
            "gridcolor": "white",
            "gridwidth": 2,
            "linecolor": "white",
            "showbackground": true,
            "ticks": "",
            "zerolinecolor": "white"
           },
           "zaxis": {
            "backgroundcolor": "#E5ECF6",
            "gridcolor": "white",
            "gridwidth": 2,
            "linecolor": "white",
            "showbackground": true,
            "ticks": "",
            "zerolinecolor": "white"
           }
          },
          "shapedefaults": {
           "line": {
            "color": "#2a3f5f"
           }
          },
          "ternary": {
           "aaxis": {
            "gridcolor": "white",
            "linecolor": "white",
            "ticks": ""
           },
           "baxis": {
            "gridcolor": "white",
            "linecolor": "white",
            "ticks": ""
           },
           "bgcolor": "#E5ECF6",
           "caxis": {
            "gridcolor": "white",
            "linecolor": "white",
            "ticks": ""
           }
          },
          "title": {
           "x": 0.05
          },
          "xaxis": {
           "automargin": true,
           "gridcolor": "white",
           "linecolor": "white",
           "ticks": "",
           "title": {
            "standoff": 15
           },
           "zerolinecolor": "white",
           "zerolinewidth": 2
          },
          "yaxis": {
           "automargin": true,
           "gridcolor": "white",
           "linecolor": "white",
           "ticks": "",
           "title": {
            "standoff": 15
           },
           "zerolinecolor": "white",
           "zerolinewidth": 2
          }
         }
        },
        "title": {
         "text": "Histograma da variável GDPP"
        },
        "xaxis": {
         "anchor": "y",
         "domain": [
          0,
          1
         ],
         "title": {
          "text": "value"
         }
        },
        "yaxis": {
         "anchor": "x",
         "domain": [
          0,
          1
         ],
         "title": {
          "text": "count"
         }
        }
       }
      }
     },
     "metadata": {},
     "output_type": "display_data"
    }
   ],
   "source": [
    "# Histogram of gdpp\n",
    "px.histogram(data_frame=df_countries['gdpp'],\n",
    "             title='Histograma da variável GDPP')"
   ]
  },
  {
   "cell_type": "code",
   "execution_count": 64,
   "metadata": {},
   "outputs": [
    {
     "data": {
      "application/vnd.plotly.v1+json": {
       "config": {
        "plotlyServerURL": "https://plot.ly"
       },
       "data": [
        {
         "alignmentgroup": "True",
         "bingroup": "x",
         "hovertemplate": "variable=inflation<br>value=%{x}<br>count=%{y}<extra></extra>",
         "legendgroup": "inflation",
         "marker": {
          "color": "#636efa",
          "pattern": {
           "shape": ""
          }
         },
         "name": "inflation",
         "offsetgroup": "inflation",
         "orientation": "v",
         "showlegend": true,
         "type": "histogram",
         "x": [
          9.44,
          4.49,
          16.1,
          22.4,
          1.44,
          20.9,
          7.77,
          1.16,
          0.873,
          13.8,
          -0.393,
          7.44,
          7.14,
          0.321,
          15.1,
          1.88,
          1.14,
          0.885,
          5.99,
          8.78,
          1.4,
          8.92,
          8.41,
          16.7,
          1.11,
          6.81,
          12.3,
          3.12,
          1.91,
          2.87,
          0.505,
          2.01,
          6.39,
          8.96,
          6.94,
          3.86,
          3.87,
          20.8,
          20.7,
          6.57,
          5.39,
          0.821,
          2.01,
          -1.43,
          3.22,
          5.44,
          7.47,
          10.1,
          2.65,
          24.9,
          11.6,
          1.74,
          4.23,
          0.351,
          1.05,
          16.6,
          4.3,
          8.55,
          0.758,
          16.6,
          0.673,
          0.48,
          5.14,
          16.1,
          2.97,
          5.73,
          5.45,
          2.33,
          5.47,
          8.98,
          15.3,
          15.9,
          16.6,
          -3.22,
          1.77,
          0.319,
          9.81,
          -1.9,
          8.43,
          19.5,
          2.09,
          1.52,
          11.2,
          10,
          9.2,
          -0.812,
          0.238,
          4.15,
          5.47,
          14.2,
          2.38,
          3.62,
          8.79,
          12.1,
          7.27,
          2.88,
          4.37,
          3.83,
          18.9,
          1.13,
          3.8,
          11.1,
          39.2,
          1.6,
          0.976,
          7.64,
          7.04,
          3.56,
          15.1,
          0.848,
          3.73,
          2.55,
          104,
          5.95,
          15.6,
          10.9,
          2.59,
          6.1,
          5.71,
          4.22,
          1.66,
          0.643,
          6.98,
          3.53,
          14.2,
          2.61,
          1.72,
          17.2,
          1.85,
          5.88,
          -4.21,
          17.2,
          -0.046,
          0.485,
          -0.987,
          6.81,
          6.35,
          3.16,
          0.16,
          22.8,
          4.44,
          19.6,
          7.2,
          0.991,
          0.317,
          12.5,
          9.25,
          4.08,
          26.5,
          1.18,
          3.68,
          3.82,
          7.01,
          2.31,
          10.6,
          13.4,
          12.5,
          1.57,
          1.22,
          4.91,
          16.5,
          2.62,
          12.1,
          23.6,
          14
         ],
         "xaxis": "x",
         "yaxis": "y"
        }
       ],
       "layout": {
        "barmode": "relative",
        "legend": {
         "title": {
          "text": "variable"
         },
         "tracegroupgap": 0
        },
        "template": {
         "data": {
          "bar": [
           {
            "error_x": {
             "color": "#2a3f5f"
            },
            "error_y": {
             "color": "#2a3f5f"
            },
            "marker": {
             "line": {
              "color": "#E5ECF6",
              "width": 0.5
             },
             "pattern": {
              "fillmode": "overlay",
              "size": 10,
              "solidity": 0.2
             }
            },
            "type": "bar"
           }
          ],
          "barpolar": [
           {
            "marker": {
             "line": {
              "color": "#E5ECF6",
              "width": 0.5
             },
             "pattern": {
              "fillmode": "overlay",
              "size": 10,
              "solidity": 0.2
             }
            },
            "type": "barpolar"
           }
          ],
          "carpet": [
           {
            "aaxis": {
             "endlinecolor": "#2a3f5f",
             "gridcolor": "white",
             "linecolor": "white",
             "minorgridcolor": "white",
             "startlinecolor": "#2a3f5f"
            },
            "baxis": {
             "endlinecolor": "#2a3f5f",
             "gridcolor": "white",
             "linecolor": "white",
             "minorgridcolor": "white",
             "startlinecolor": "#2a3f5f"
            },
            "type": "carpet"
           }
          ],
          "choropleth": [
           {
            "colorbar": {
             "outlinewidth": 0,
             "ticks": ""
            },
            "type": "choropleth"
           }
          ],
          "contour": [
           {
            "colorbar": {
             "outlinewidth": 0,
             "ticks": ""
            },
            "colorscale": [
             [
              0,
              "#0d0887"
             ],
             [
              0.1111111111111111,
              "#46039f"
             ],
             [
              0.2222222222222222,
              "#7201a8"
             ],
             [
              0.3333333333333333,
              "#9c179e"
             ],
             [
              0.4444444444444444,
              "#bd3786"
             ],
             [
              0.5555555555555556,
              "#d8576b"
             ],
             [
              0.6666666666666666,
              "#ed7953"
             ],
             [
              0.7777777777777778,
              "#fb9f3a"
             ],
             [
              0.8888888888888888,
              "#fdca26"
             ],
             [
              1,
              "#f0f921"
             ]
            ],
            "type": "contour"
           }
          ],
          "contourcarpet": [
           {
            "colorbar": {
             "outlinewidth": 0,
             "ticks": ""
            },
            "type": "contourcarpet"
           }
          ],
          "heatmap": [
           {
            "colorbar": {
             "outlinewidth": 0,
             "ticks": ""
            },
            "colorscale": [
             [
              0,
              "#0d0887"
             ],
             [
              0.1111111111111111,
              "#46039f"
             ],
             [
              0.2222222222222222,
              "#7201a8"
             ],
             [
              0.3333333333333333,
              "#9c179e"
             ],
             [
              0.4444444444444444,
              "#bd3786"
             ],
             [
              0.5555555555555556,
              "#d8576b"
             ],
             [
              0.6666666666666666,
              "#ed7953"
             ],
             [
              0.7777777777777778,
              "#fb9f3a"
             ],
             [
              0.8888888888888888,
              "#fdca26"
             ],
             [
              1,
              "#f0f921"
             ]
            ],
            "type": "heatmap"
           }
          ],
          "heatmapgl": [
           {
            "colorbar": {
             "outlinewidth": 0,
             "ticks": ""
            },
            "colorscale": [
             [
              0,
              "#0d0887"
             ],
             [
              0.1111111111111111,
              "#46039f"
             ],
             [
              0.2222222222222222,
              "#7201a8"
             ],
             [
              0.3333333333333333,
              "#9c179e"
             ],
             [
              0.4444444444444444,
              "#bd3786"
             ],
             [
              0.5555555555555556,
              "#d8576b"
             ],
             [
              0.6666666666666666,
              "#ed7953"
             ],
             [
              0.7777777777777778,
              "#fb9f3a"
             ],
             [
              0.8888888888888888,
              "#fdca26"
             ],
             [
              1,
              "#f0f921"
             ]
            ],
            "type": "heatmapgl"
           }
          ],
          "histogram": [
           {
            "marker": {
             "pattern": {
              "fillmode": "overlay",
              "size": 10,
              "solidity": 0.2
             }
            },
            "type": "histogram"
           }
          ],
          "histogram2d": [
           {
            "colorbar": {
             "outlinewidth": 0,
             "ticks": ""
            },
            "colorscale": [
             [
              0,
              "#0d0887"
             ],
             [
              0.1111111111111111,
              "#46039f"
             ],
             [
              0.2222222222222222,
              "#7201a8"
             ],
             [
              0.3333333333333333,
              "#9c179e"
             ],
             [
              0.4444444444444444,
              "#bd3786"
             ],
             [
              0.5555555555555556,
              "#d8576b"
             ],
             [
              0.6666666666666666,
              "#ed7953"
             ],
             [
              0.7777777777777778,
              "#fb9f3a"
             ],
             [
              0.8888888888888888,
              "#fdca26"
             ],
             [
              1,
              "#f0f921"
             ]
            ],
            "type": "histogram2d"
           }
          ],
          "histogram2dcontour": [
           {
            "colorbar": {
             "outlinewidth": 0,
             "ticks": ""
            },
            "colorscale": [
             [
              0,
              "#0d0887"
             ],
             [
              0.1111111111111111,
              "#46039f"
             ],
             [
              0.2222222222222222,
              "#7201a8"
             ],
             [
              0.3333333333333333,
              "#9c179e"
             ],
             [
              0.4444444444444444,
              "#bd3786"
             ],
             [
              0.5555555555555556,
              "#d8576b"
             ],
             [
              0.6666666666666666,
              "#ed7953"
             ],
             [
              0.7777777777777778,
              "#fb9f3a"
             ],
             [
              0.8888888888888888,
              "#fdca26"
             ],
             [
              1,
              "#f0f921"
             ]
            ],
            "type": "histogram2dcontour"
           }
          ],
          "mesh3d": [
           {
            "colorbar": {
             "outlinewidth": 0,
             "ticks": ""
            },
            "type": "mesh3d"
           }
          ],
          "parcoords": [
           {
            "line": {
             "colorbar": {
              "outlinewidth": 0,
              "ticks": ""
             }
            },
            "type": "parcoords"
           }
          ],
          "pie": [
           {
            "automargin": true,
            "type": "pie"
           }
          ],
          "scatter": [
           {
            "fillpattern": {
             "fillmode": "overlay",
             "size": 10,
             "solidity": 0.2
            },
            "type": "scatter"
           }
          ],
          "scatter3d": [
           {
            "line": {
             "colorbar": {
              "outlinewidth": 0,
              "ticks": ""
             }
            },
            "marker": {
             "colorbar": {
              "outlinewidth": 0,
              "ticks": ""
             }
            },
            "type": "scatter3d"
           }
          ],
          "scattercarpet": [
           {
            "marker": {
             "colorbar": {
              "outlinewidth": 0,
              "ticks": ""
             }
            },
            "type": "scattercarpet"
           }
          ],
          "scattergeo": [
           {
            "marker": {
             "colorbar": {
              "outlinewidth": 0,
              "ticks": ""
             }
            },
            "type": "scattergeo"
           }
          ],
          "scattergl": [
           {
            "marker": {
             "colorbar": {
              "outlinewidth": 0,
              "ticks": ""
             }
            },
            "type": "scattergl"
           }
          ],
          "scattermapbox": [
           {
            "marker": {
             "colorbar": {
              "outlinewidth": 0,
              "ticks": ""
             }
            },
            "type": "scattermapbox"
           }
          ],
          "scatterpolar": [
           {
            "marker": {
             "colorbar": {
              "outlinewidth": 0,
              "ticks": ""
             }
            },
            "type": "scatterpolar"
           }
          ],
          "scatterpolargl": [
           {
            "marker": {
             "colorbar": {
              "outlinewidth": 0,
              "ticks": ""
             }
            },
            "type": "scatterpolargl"
           }
          ],
          "scatterternary": [
           {
            "marker": {
             "colorbar": {
              "outlinewidth": 0,
              "ticks": ""
             }
            },
            "type": "scatterternary"
           }
          ],
          "surface": [
           {
            "colorbar": {
             "outlinewidth": 0,
             "ticks": ""
            },
            "colorscale": [
             [
              0,
              "#0d0887"
             ],
             [
              0.1111111111111111,
              "#46039f"
             ],
             [
              0.2222222222222222,
              "#7201a8"
             ],
             [
              0.3333333333333333,
              "#9c179e"
             ],
             [
              0.4444444444444444,
              "#bd3786"
             ],
             [
              0.5555555555555556,
              "#d8576b"
             ],
             [
              0.6666666666666666,
              "#ed7953"
             ],
             [
              0.7777777777777778,
              "#fb9f3a"
             ],
             [
              0.8888888888888888,
              "#fdca26"
             ],
             [
              1,
              "#f0f921"
             ]
            ],
            "type": "surface"
           }
          ],
          "table": [
           {
            "cells": {
             "fill": {
              "color": "#EBF0F8"
             },
             "line": {
              "color": "white"
             }
            },
            "header": {
             "fill": {
              "color": "#C8D4E3"
             },
             "line": {
              "color": "white"
             }
            },
            "type": "table"
           }
          ]
         },
         "layout": {
          "annotationdefaults": {
           "arrowcolor": "#2a3f5f",
           "arrowhead": 0,
           "arrowwidth": 1
          },
          "autotypenumbers": "strict",
          "coloraxis": {
           "colorbar": {
            "outlinewidth": 0,
            "ticks": ""
           }
          },
          "colorscale": {
           "diverging": [
            [
             0,
             "#8e0152"
            ],
            [
             0.1,
             "#c51b7d"
            ],
            [
             0.2,
             "#de77ae"
            ],
            [
             0.3,
             "#f1b6da"
            ],
            [
             0.4,
             "#fde0ef"
            ],
            [
             0.5,
             "#f7f7f7"
            ],
            [
             0.6,
             "#e6f5d0"
            ],
            [
             0.7,
             "#b8e186"
            ],
            [
             0.8,
             "#7fbc41"
            ],
            [
             0.9,
             "#4d9221"
            ],
            [
             1,
             "#276419"
            ]
           ],
           "sequential": [
            [
             0,
             "#0d0887"
            ],
            [
             0.1111111111111111,
             "#46039f"
            ],
            [
             0.2222222222222222,
             "#7201a8"
            ],
            [
             0.3333333333333333,
             "#9c179e"
            ],
            [
             0.4444444444444444,
             "#bd3786"
            ],
            [
             0.5555555555555556,
             "#d8576b"
            ],
            [
             0.6666666666666666,
             "#ed7953"
            ],
            [
             0.7777777777777778,
             "#fb9f3a"
            ],
            [
             0.8888888888888888,
             "#fdca26"
            ],
            [
             1,
             "#f0f921"
            ]
           ],
           "sequentialminus": [
            [
             0,
             "#0d0887"
            ],
            [
             0.1111111111111111,
             "#46039f"
            ],
            [
             0.2222222222222222,
             "#7201a8"
            ],
            [
             0.3333333333333333,
             "#9c179e"
            ],
            [
             0.4444444444444444,
             "#bd3786"
            ],
            [
             0.5555555555555556,
             "#d8576b"
            ],
            [
             0.6666666666666666,
             "#ed7953"
            ],
            [
             0.7777777777777778,
             "#fb9f3a"
            ],
            [
             0.8888888888888888,
             "#fdca26"
            ],
            [
             1,
             "#f0f921"
            ]
           ]
          },
          "colorway": [
           "#636efa",
           "#EF553B",
           "#00cc96",
           "#ab63fa",
           "#FFA15A",
           "#19d3f3",
           "#FF6692",
           "#B6E880",
           "#FF97FF",
           "#FECB52"
          ],
          "font": {
           "color": "#2a3f5f"
          },
          "geo": {
           "bgcolor": "white",
           "lakecolor": "white",
           "landcolor": "#E5ECF6",
           "showlakes": true,
           "showland": true,
           "subunitcolor": "white"
          },
          "hoverlabel": {
           "align": "left"
          },
          "hovermode": "closest",
          "mapbox": {
           "style": "light"
          },
          "paper_bgcolor": "white",
          "plot_bgcolor": "#E5ECF6",
          "polar": {
           "angularaxis": {
            "gridcolor": "white",
            "linecolor": "white",
            "ticks": ""
           },
           "bgcolor": "#E5ECF6",
           "radialaxis": {
            "gridcolor": "white",
            "linecolor": "white",
            "ticks": ""
           }
          },
          "scene": {
           "xaxis": {
            "backgroundcolor": "#E5ECF6",
            "gridcolor": "white",
            "gridwidth": 2,
            "linecolor": "white",
            "showbackground": true,
            "ticks": "",
            "zerolinecolor": "white"
           },
           "yaxis": {
            "backgroundcolor": "#E5ECF6",
            "gridcolor": "white",
            "gridwidth": 2,
            "linecolor": "white",
            "showbackground": true,
            "ticks": "",
            "zerolinecolor": "white"
           },
           "zaxis": {
            "backgroundcolor": "#E5ECF6",
            "gridcolor": "white",
            "gridwidth": 2,
            "linecolor": "white",
            "showbackground": true,
            "ticks": "",
            "zerolinecolor": "white"
           }
          },
          "shapedefaults": {
           "line": {
            "color": "#2a3f5f"
           }
          },
          "ternary": {
           "aaxis": {
            "gridcolor": "white",
            "linecolor": "white",
            "ticks": ""
           },
           "baxis": {
            "gridcolor": "white",
            "linecolor": "white",
            "ticks": ""
           },
           "bgcolor": "#E5ECF6",
           "caxis": {
            "gridcolor": "white",
            "linecolor": "white",
            "ticks": ""
           }
          },
          "title": {
           "x": 0.05
          },
          "xaxis": {
           "automargin": true,
           "gridcolor": "white",
           "linecolor": "white",
           "ticks": "",
           "title": {
            "standoff": 15
           },
           "zerolinecolor": "white",
           "zerolinewidth": 2
          },
          "yaxis": {
           "automargin": true,
           "gridcolor": "white",
           "linecolor": "white",
           "ticks": "",
           "title": {
            "standoff": 15
           },
           "zerolinecolor": "white",
           "zerolinewidth": 2
          }
         }
        },
        "title": {
         "text": "Histograma da variável Inflation"
        },
        "xaxis": {
         "anchor": "y",
         "domain": [
          0,
          1
         ],
         "title": {
          "text": "value"
         }
        },
        "yaxis": {
         "anchor": "x",
         "domain": [
          0,
          1
         ],
         "title": {
          "text": "count"
         }
        }
       }
      }
     },
     "metadata": {},
     "output_type": "display_data"
    }
   ],
   "source": [
    "# Histogram of inflation\n",
    "px.histogram(data_frame=df_countries['inflation'],\n",
    "             title='Histograma da variável Inflation')"
   ]
  },
  {
   "cell_type": "code",
   "execution_count": 65,
   "metadata": {},
   "outputs": [
    {
     "data": {
      "application/vnd.plotly.v1+json": {
       "config": {
        "plotlyServerURL": "https://plot.ly"
       },
       "data": [
        {
         "alignmentgroup": "True",
         "bingroup": "x",
         "hovertemplate": "variable=life_expec<br>value=%{x}<br>count=%{y}<extra></extra>",
         "legendgroup": "life_expec",
         "marker": {
          "color": "#636efa",
          "pattern": {
           "shape": ""
          }
         },
         "name": "life_expec",
         "offsetgroup": "life_expec",
         "orientation": "v",
         "showlegend": true,
         "type": "histogram",
         "x": [
          56.2,
          76.3,
          76.5,
          60.1,
          76.8,
          75.8,
          73.3,
          82,
          80.5,
          69.1,
          73.8,
          76,
          70.4,
          76.7,
          70.4,
          80,
          71.4,
          61.8,
          72.1,
          71.6,
          76.8,
          57.1,
          74.2,
          77.1,
          73.9,
          57.9,
          57.7,
          66.1,
          57.3,
          81.3,
          72.5,
          47.5,
          56.5,
          79.1,
          74.6,
          76.4,
          65.9,
          57.5,
          60.4,
          80.4,
          56.3,
          76.3,
          79.9,
          77.5,
          79.5,
          74.6,
          76.7,
          70.5,
          74.1,
          60.9,
          61.7,
          76,
          65.3,
          80,
          81.4,
          62.9,
          65.5,
          72.8,
          80.1,
          62.2,
          80.4,
          71.3,
          71.3,
          58,
          55.6,
          65.5,
          32.1,
          74.5,
          82,
          66.2,
          69.9,
          74.5,
          67.2,
          80.4,
          81.4,
          81.7,
          74.7,
          82.8,
          75.8,
          68.4,
          62.8,
          60.7,
          78.2,
          68.5,
          63.8,
          73.1,
          79.8,
          46.5,
          60.8,
          76.1,
          73.2,
          81.3,
          60.8,
          53.1,
          74.5,
          77.9,
          59.5,
          80.3,
          68.2,
          73.4,
          65.4,
          69.7,
          66.2,
          76.4,
          73.5,
          54.5,
          66.8,
          58.6,
          68.3,
          80.7,
          80.9,
          58.8,
          60.5,
          81,
          76.1,
          65.3,
          77.8,
          74.1,
          77.9,
          69,
          76.3,
          79.8,
          79.5,
          73.7,
          69.2,
          64.6,
          71.5,
          75.1,
          64,
          74.7,
          73.4,
          55,
          82.7,
          75.5,
          79.5,
          61.7,
          54.3,
          80.1,
          81.9,
          74.4,
          71.6,
          66.3,
          70.3,
          81.5,
          82.2,
          69.6,
          59.3,
          76.6,
          71.1,
          58.7,
          69.9,
          76.9,
          78.2,
          67.9,
          56.8,
          70.4,
          76.5,
          80.3,
          78.7,
          76.4,
          68.8,
          63,
          73.1,
          67.5,
          52
         ],
         "xaxis": "x",
         "yaxis": "y"
        }
       ],
       "layout": {
        "barmode": "relative",
        "legend": {
         "title": {
          "text": "variable"
         },
         "tracegroupgap": 0
        },
        "template": {
         "data": {
          "bar": [
           {
            "error_x": {
             "color": "#2a3f5f"
            },
            "error_y": {
             "color": "#2a3f5f"
            },
            "marker": {
             "line": {
              "color": "#E5ECF6",
              "width": 0.5
             },
             "pattern": {
              "fillmode": "overlay",
              "size": 10,
              "solidity": 0.2
             }
            },
            "type": "bar"
           }
          ],
          "barpolar": [
           {
            "marker": {
             "line": {
              "color": "#E5ECF6",
              "width": 0.5
             },
             "pattern": {
              "fillmode": "overlay",
              "size": 10,
              "solidity": 0.2
             }
            },
            "type": "barpolar"
           }
          ],
          "carpet": [
           {
            "aaxis": {
             "endlinecolor": "#2a3f5f",
             "gridcolor": "white",
             "linecolor": "white",
             "minorgridcolor": "white",
             "startlinecolor": "#2a3f5f"
            },
            "baxis": {
             "endlinecolor": "#2a3f5f",
             "gridcolor": "white",
             "linecolor": "white",
             "minorgridcolor": "white",
             "startlinecolor": "#2a3f5f"
            },
            "type": "carpet"
           }
          ],
          "choropleth": [
           {
            "colorbar": {
             "outlinewidth": 0,
             "ticks": ""
            },
            "type": "choropleth"
           }
          ],
          "contour": [
           {
            "colorbar": {
             "outlinewidth": 0,
             "ticks": ""
            },
            "colorscale": [
             [
              0,
              "#0d0887"
             ],
             [
              0.1111111111111111,
              "#46039f"
             ],
             [
              0.2222222222222222,
              "#7201a8"
             ],
             [
              0.3333333333333333,
              "#9c179e"
             ],
             [
              0.4444444444444444,
              "#bd3786"
             ],
             [
              0.5555555555555556,
              "#d8576b"
             ],
             [
              0.6666666666666666,
              "#ed7953"
             ],
             [
              0.7777777777777778,
              "#fb9f3a"
             ],
             [
              0.8888888888888888,
              "#fdca26"
             ],
             [
              1,
              "#f0f921"
             ]
            ],
            "type": "contour"
           }
          ],
          "contourcarpet": [
           {
            "colorbar": {
             "outlinewidth": 0,
             "ticks": ""
            },
            "type": "contourcarpet"
           }
          ],
          "heatmap": [
           {
            "colorbar": {
             "outlinewidth": 0,
             "ticks": ""
            },
            "colorscale": [
             [
              0,
              "#0d0887"
             ],
             [
              0.1111111111111111,
              "#46039f"
             ],
             [
              0.2222222222222222,
              "#7201a8"
             ],
             [
              0.3333333333333333,
              "#9c179e"
             ],
             [
              0.4444444444444444,
              "#bd3786"
             ],
             [
              0.5555555555555556,
              "#d8576b"
             ],
             [
              0.6666666666666666,
              "#ed7953"
             ],
             [
              0.7777777777777778,
              "#fb9f3a"
             ],
             [
              0.8888888888888888,
              "#fdca26"
             ],
             [
              1,
              "#f0f921"
             ]
            ],
            "type": "heatmap"
           }
          ],
          "heatmapgl": [
           {
            "colorbar": {
             "outlinewidth": 0,
             "ticks": ""
            },
            "colorscale": [
             [
              0,
              "#0d0887"
             ],
             [
              0.1111111111111111,
              "#46039f"
             ],
             [
              0.2222222222222222,
              "#7201a8"
             ],
             [
              0.3333333333333333,
              "#9c179e"
             ],
             [
              0.4444444444444444,
              "#bd3786"
             ],
             [
              0.5555555555555556,
              "#d8576b"
             ],
             [
              0.6666666666666666,
              "#ed7953"
             ],
             [
              0.7777777777777778,
              "#fb9f3a"
             ],
             [
              0.8888888888888888,
              "#fdca26"
             ],
             [
              1,
              "#f0f921"
             ]
            ],
            "type": "heatmapgl"
           }
          ],
          "histogram": [
           {
            "marker": {
             "pattern": {
              "fillmode": "overlay",
              "size": 10,
              "solidity": 0.2
             }
            },
            "type": "histogram"
           }
          ],
          "histogram2d": [
           {
            "colorbar": {
             "outlinewidth": 0,
             "ticks": ""
            },
            "colorscale": [
             [
              0,
              "#0d0887"
             ],
             [
              0.1111111111111111,
              "#46039f"
             ],
             [
              0.2222222222222222,
              "#7201a8"
             ],
             [
              0.3333333333333333,
              "#9c179e"
             ],
             [
              0.4444444444444444,
              "#bd3786"
             ],
             [
              0.5555555555555556,
              "#d8576b"
             ],
             [
              0.6666666666666666,
              "#ed7953"
             ],
             [
              0.7777777777777778,
              "#fb9f3a"
             ],
             [
              0.8888888888888888,
              "#fdca26"
             ],
             [
              1,
              "#f0f921"
             ]
            ],
            "type": "histogram2d"
           }
          ],
          "histogram2dcontour": [
           {
            "colorbar": {
             "outlinewidth": 0,
             "ticks": ""
            },
            "colorscale": [
             [
              0,
              "#0d0887"
             ],
             [
              0.1111111111111111,
              "#46039f"
             ],
             [
              0.2222222222222222,
              "#7201a8"
             ],
             [
              0.3333333333333333,
              "#9c179e"
             ],
             [
              0.4444444444444444,
              "#bd3786"
             ],
             [
              0.5555555555555556,
              "#d8576b"
             ],
             [
              0.6666666666666666,
              "#ed7953"
             ],
             [
              0.7777777777777778,
              "#fb9f3a"
             ],
             [
              0.8888888888888888,
              "#fdca26"
             ],
             [
              1,
              "#f0f921"
             ]
            ],
            "type": "histogram2dcontour"
           }
          ],
          "mesh3d": [
           {
            "colorbar": {
             "outlinewidth": 0,
             "ticks": ""
            },
            "type": "mesh3d"
           }
          ],
          "parcoords": [
           {
            "line": {
             "colorbar": {
              "outlinewidth": 0,
              "ticks": ""
             }
            },
            "type": "parcoords"
           }
          ],
          "pie": [
           {
            "automargin": true,
            "type": "pie"
           }
          ],
          "scatter": [
           {
            "fillpattern": {
             "fillmode": "overlay",
             "size": 10,
             "solidity": 0.2
            },
            "type": "scatter"
           }
          ],
          "scatter3d": [
           {
            "line": {
             "colorbar": {
              "outlinewidth": 0,
              "ticks": ""
             }
            },
            "marker": {
             "colorbar": {
              "outlinewidth": 0,
              "ticks": ""
             }
            },
            "type": "scatter3d"
           }
          ],
          "scattercarpet": [
           {
            "marker": {
             "colorbar": {
              "outlinewidth": 0,
              "ticks": ""
             }
            },
            "type": "scattercarpet"
           }
          ],
          "scattergeo": [
           {
            "marker": {
             "colorbar": {
              "outlinewidth": 0,
              "ticks": ""
             }
            },
            "type": "scattergeo"
           }
          ],
          "scattergl": [
           {
            "marker": {
             "colorbar": {
              "outlinewidth": 0,
              "ticks": ""
             }
            },
            "type": "scattergl"
           }
          ],
          "scattermapbox": [
           {
            "marker": {
             "colorbar": {
              "outlinewidth": 0,
              "ticks": ""
             }
            },
            "type": "scattermapbox"
           }
          ],
          "scatterpolar": [
           {
            "marker": {
             "colorbar": {
              "outlinewidth": 0,
              "ticks": ""
             }
            },
            "type": "scatterpolar"
           }
          ],
          "scatterpolargl": [
           {
            "marker": {
             "colorbar": {
              "outlinewidth": 0,
              "ticks": ""
             }
            },
            "type": "scatterpolargl"
           }
          ],
          "scatterternary": [
           {
            "marker": {
             "colorbar": {
              "outlinewidth": 0,
              "ticks": ""
             }
            },
            "type": "scatterternary"
           }
          ],
          "surface": [
           {
            "colorbar": {
             "outlinewidth": 0,
             "ticks": ""
            },
            "colorscale": [
             [
              0,
              "#0d0887"
             ],
             [
              0.1111111111111111,
              "#46039f"
             ],
             [
              0.2222222222222222,
              "#7201a8"
             ],
             [
              0.3333333333333333,
              "#9c179e"
             ],
             [
              0.4444444444444444,
              "#bd3786"
             ],
             [
              0.5555555555555556,
              "#d8576b"
             ],
             [
              0.6666666666666666,
              "#ed7953"
             ],
             [
              0.7777777777777778,
              "#fb9f3a"
             ],
             [
              0.8888888888888888,
              "#fdca26"
             ],
             [
              1,
              "#f0f921"
             ]
            ],
            "type": "surface"
           }
          ],
          "table": [
           {
            "cells": {
             "fill": {
              "color": "#EBF0F8"
             },
             "line": {
              "color": "white"
             }
            },
            "header": {
             "fill": {
              "color": "#C8D4E3"
             },
             "line": {
              "color": "white"
             }
            },
            "type": "table"
           }
          ]
         },
         "layout": {
          "annotationdefaults": {
           "arrowcolor": "#2a3f5f",
           "arrowhead": 0,
           "arrowwidth": 1
          },
          "autotypenumbers": "strict",
          "coloraxis": {
           "colorbar": {
            "outlinewidth": 0,
            "ticks": ""
           }
          },
          "colorscale": {
           "diverging": [
            [
             0,
             "#8e0152"
            ],
            [
             0.1,
             "#c51b7d"
            ],
            [
             0.2,
             "#de77ae"
            ],
            [
             0.3,
             "#f1b6da"
            ],
            [
             0.4,
             "#fde0ef"
            ],
            [
             0.5,
             "#f7f7f7"
            ],
            [
             0.6,
             "#e6f5d0"
            ],
            [
             0.7,
             "#b8e186"
            ],
            [
             0.8,
             "#7fbc41"
            ],
            [
             0.9,
             "#4d9221"
            ],
            [
             1,
             "#276419"
            ]
           ],
           "sequential": [
            [
             0,
             "#0d0887"
            ],
            [
             0.1111111111111111,
             "#46039f"
            ],
            [
             0.2222222222222222,
             "#7201a8"
            ],
            [
             0.3333333333333333,
             "#9c179e"
            ],
            [
             0.4444444444444444,
             "#bd3786"
            ],
            [
             0.5555555555555556,
             "#d8576b"
            ],
            [
             0.6666666666666666,
             "#ed7953"
            ],
            [
             0.7777777777777778,
             "#fb9f3a"
            ],
            [
             0.8888888888888888,
             "#fdca26"
            ],
            [
             1,
             "#f0f921"
            ]
           ],
           "sequentialminus": [
            [
             0,
             "#0d0887"
            ],
            [
             0.1111111111111111,
             "#46039f"
            ],
            [
             0.2222222222222222,
             "#7201a8"
            ],
            [
             0.3333333333333333,
             "#9c179e"
            ],
            [
             0.4444444444444444,
             "#bd3786"
            ],
            [
             0.5555555555555556,
             "#d8576b"
            ],
            [
             0.6666666666666666,
             "#ed7953"
            ],
            [
             0.7777777777777778,
             "#fb9f3a"
            ],
            [
             0.8888888888888888,
             "#fdca26"
            ],
            [
             1,
             "#f0f921"
            ]
           ]
          },
          "colorway": [
           "#636efa",
           "#EF553B",
           "#00cc96",
           "#ab63fa",
           "#FFA15A",
           "#19d3f3",
           "#FF6692",
           "#B6E880",
           "#FF97FF",
           "#FECB52"
          ],
          "font": {
           "color": "#2a3f5f"
          },
          "geo": {
           "bgcolor": "white",
           "lakecolor": "white",
           "landcolor": "#E5ECF6",
           "showlakes": true,
           "showland": true,
           "subunitcolor": "white"
          },
          "hoverlabel": {
           "align": "left"
          },
          "hovermode": "closest",
          "mapbox": {
           "style": "light"
          },
          "paper_bgcolor": "white",
          "plot_bgcolor": "#E5ECF6",
          "polar": {
           "angularaxis": {
            "gridcolor": "white",
            "linecolor": "white",
            "ticks": ""
           },
           "bgcolor": "#E5ECF6",
           "radialaxis": {
            "gridcolor": "white",
            "linecolor": "white",
            "ticks": ""
           }
          },
          "scene": {
           "xaxis": {
            "backgroundcolor": "#E5ECF6",
            "gridcolor": "white",
            "gridwidth": 2,
            "linecolor": "white",
            "showbackground": true,
            "ticks": "",
            "zerolinecolor": "white"
           },
           "yaxis": {
            "backgroundcolor": "#E5ECF6",
            "gridcolor": "white",
            "gridwidth": 2,
            "linecolor": "white",
            "showbackground": true,
            "ticks": "",
            "zerolinecolor": "white"
           },
           "zaxis": {
            "backgroundcolor": "#E5ECF6",
            "gridcolor": "white",
            "gridwidth": 2,
            "linecolor": "white",
            "showbackground": true,
            "ticks": "",
            "zerolinecolor": "white"
           }
          },
          "shapedefaults": {
           "line": {
            "color": "#2a3f5f"
           }
          },
          "ternary": {
           "aaxis": {
            "gridcolor": "white",
            "linecolor": "white",
            "ticks": ""
           },
           "baxis": {
            "gridcolor": "white",
            "linecolor": "white",
            "ticks": ""
           },
           "bgcolor": "#E5ECF6",
           "caxis": {
            "gridcolor": "white",
            "linecolor": "white",
            "ticks": ""
           }
          },
          "title": {
           "x": 0.05
          },
          "xaxis": {
           "automargin": true,
           "gridcolor": "white",
           "linecolor": "white",
           "ticks": "",
           "title": {
            "standoff": 15
           },
           "zerolinecolor": "white",
           "zerolinewidth": 2
          },
          "yaxis": {
           "automargin": true,
           "gridcolor": "white",
           "linecolor": "white",
           "ticks": "",
           "title": {
            "standoff": 15
           },
           "zerolinecolor": "white",
           "zerolinewidth": 2
          }
         }
        },
        "title": {
         "text": "Histograma da variável Life Expectation"
        },
        "xaxis": {
         "anchor": "y",
         "domain": [
          0,
          1
         ],
         "title": {
          "text": "value"
         }
        },
        "yaxis": {
         "anchor": "x",
         "domain": [
          0,
          1
         ],
         "title": {
          "text": "count"
         }
        }
       }
      }
     },
     "metadata": {},
     "output_type": "display_data"
    }
   ],
   "source": [
    "# Histogram of life expectation\n",
    "px.histogram(data_frame=df_countries['life_expec'],\n",
    "             title='Histograma da variável Life Expectation')"
   ]
  },
  {
   "cell_type": "markdown",
   "metadata": {},
   "source": [
    "#### Análise Bivariada\n",
    "\n",
    "Neste vídeo, continuamos o EDA com análises bivariadas, utilizando gráficos de Box Plot e Scatter Plot para explorar a correlação entre variáveis como Income, GDPP e Inflation, de acordo com as categorias de renda dos países. Observamos outliers e padrões interessantes, como a relação entre Income e GDPP. Também geramos uma matriz de correlação para identificar relações fortes entre variáveis numéricas, preparando o terreno para a próxima etapa de redução de dimensionalidade com o PCA."
   ]
  },
  {
   "cell_type": "code",
   "execution_count": 66,
   "metadata": {},
   "outputs": [
    {
     "data": {
      "application/vnd.plotly.v1+json": {
       "config": {
        "plotlyServerURL": "https://plot.ly"
       },
       "data": [
        {
         "alignmentgroup": "True",
         "customdata": [
          [
           "Afghanistan"
          ],
          [
           "Burkina Faso"
          ],
          [
           "Burundi"
          ],
          [
           "Central African Republic"
          ],
          [
           "Chad"
          ],
          [
           "Congo Dem. Rep."
          ],
          [
           "Eritrea"
          ],
          [
           "Gambia"
          ],
          [
           "Guinea-Bissau"
          ],
          [
           "Liberia"
          ],
          [
           "Madagascar"
          ],
          [
           "Malawi"
          ],
          [
           "Mali"
          ],
          [
           "Mozambique"
          ],
          [
           "Niger"
          ],
          [
           "Rwanda"
          ],
          [
           "Sierra Leone"
          ],
          [
           "Sudan"
          ],
          [
           "Togo"
          ],
          [
           "Uganda"
          ],
          [
           "Yemen"
          ]
         ],
         "hovertemplate": "income_category=%{y}<br>income=%{x}<br>country=%{customdata[0]}<extra></extra>",
         "legendgroup": "Low income",
         "marker": {
          "color": "rgb(136, 204, 238)"
         },
         "name": "Low income",
         "notched": false,
         "offsetgroup": "Low income",
         "orientation": "h",
         "showlegend": true,
         "type": "box",
         "x": [
          1610,
          1430,
          764,
          888,
          1930,
          609,
          1420,
          1660,
          1390,
          700,
          1390,
          1030,
          1870,
          918,
          814,
          1350,
          1220,
          3370,
          1210,
          1540,
          4480
         ],
         "x0": " ",
         "xaxis": "x",
         "y": [
          "Low income",
          "Low income",
          "Low income",
          "Low income",
          "Low income",
          "Low income",
          "Low income",
          "Low income",
          "Low income",
          "Low income",
          "Low income",
          "Low income",
          "Low income",
          "Low income",
          "Low income",
          "Low income",
          "Low income",
          "Low income",
          "Low income",
          "Low income",
          "Low income"
         ],
         "y0": " ",
         "yaxis": "y"
        },
        {
         "alignmentgroup": "True",
         "customdata": [
          [
           "Albania"
          ],
          [
           "Argentina"
          ],
          [
           "Armenia"
          ],
          [
           "Azerbaijan"
          ],
          [
           "Belarus"
          ],
          [
           "Belize"
          ],
          [
           "Bosnia and Herzegovina"
          ],
          [
           "Botswana"
          ],
          [
           "Brazil"
          ],
          [
           "Bulgaria"
          ],
          [
           "China"
          ],
          [
           "Colombia"
          ],
          [
           "Costa Rica"
          ],
          [
           "Dominican Republic"
          ],
          [
           "Ecuador"
          ],
          [
           "El Salvador"
          ],
          [
           "Equatorial Guinea"
          ],
          [
           "Fiji"
          ],
          [
           "Gabon"
          ],
          [
           "Georgia"
          ],
          [
           "Grenada"
          ],
          [
           "Guatemala"
          ],
          [
           "Indonesia"
          ],
          [
           "Iraq"
          ],
          [
           "Jamaica"
          ],
          [
           "Kazakhstan"
          ],
          [
           "Libya"
          ],
          [
           "Malaysia"
          ],
          [
           "Maldives"
          ],
          [
           "Mauritius"
          ],
          [
           "Moldova"
          ],
          [
           "Montenegro"
          ],
          [
           "Namibia"
          ],
          [
           "Paraguay"
          ],
          [
           "Peru"
          ],
          [
           "Russia"
          ],
          [
           "Serbia"
          ],
          [
           "South Africa"
          ],
          [
           "St. Vincent and the Grenadines"
          ],
          [
           "Suriname"
          ],
          [
           "Thailand"
          ],
          [
           "Tonga"
          ],
          [
           "Turkey"
          ],
          [
           "Turkmenistan"
          ]
         ],
         "hovertemplate": "income_category=%{y}<br>income=%{x}<br>country=%{customdata[0]}<extra></extra>",
         "legendgroup": "Upper middle income",
         "marker": {
          "color": "rgb(204, 102, 119)"
         },
         "name": "Upper middle income",
         "notched": false,
         "offsetgroup": "Upper middle income",
         "orientation": "h",
         "showlegend": true,
         "type": "box",
         "x": [
          9930,
          18700,
          6700,
          16000,
          16200,
          7880,
          9720,
          13300,
          14500,
          15300,
          9530,
          10900,
          13000,
          11100,
          9350,
          7300,
          33700,
          7350,
          15400,
          6730,
          11200,
          6710,
          8430,
          12700,
          8000,
          20100,
          29600,
          21100,
          10500,
          15900,
          3910,
          14000,
          8460,
          7290,
          9960,
          23100,
          12700,
          12000,
          9920,
          14200,
          13500,
          4980,
          18000,
          9940
         ],
         "x0": " ",
         "xaxis": "x",
         "y": [
          "Upper middle income",
          "Upper middle income",
          "Upper middle income",
          "Upper middle income",
          "Upper middle income",
          "Upper middle income",
          "Upper middle income",
          "Upper middle income",
          "Upper middle income",
          "Upper middle income",
          "Upper middle income",
          "Upper middle income",
          "Upper middle income",
          "Upper middle income",
          "Upper middle income",
          "Upper middle income",
          "Upper middle income",
          "Upper middle income",
          "Upper middle income",
          "Upper middle income",
          "Upper middle income",
          "Upper middle income",
          "Upper middle income",
          "Upper middle income",
          "Upper middle income",
          "Upper middle income",
          "Upper middle income",
          "Upper middle income",
          "Upper middle income",
          "Upper middle income",
          "Upper middle income",
          "Upper middle income",
          "Upper middle income",
          "Upper middle income",
          "Upper middle income",
          "Upper middle income",
          "Upper middle income",
          "Upper middle income",
          "Upper middle income",
          "Upper middle income",
          "Upper middle income",
          "Upper middle income",
          "Upper middle income",
          "Upper middle income"
         ],
         "y0": " ",
         "yaxis": "y"
        },
        {
         "alignmentgroup": "True",
         "customdata": [
          [
           "Algeria"
          ],
          [
           "Angola"
          ],
          [
           "Bangladesh"
          ],
          [
           "Benin"
          ],
          [
           "Bhutan"
          ],
          [
           "Bolivia"
          ],
          [
           "Cambodia"
          ],
          [
           "Cameroon"
          ],
          [
           "Cape Verde"
          ],
          [
           "Comoros"
          ],
          [
           "Congo Rep."
          ],
          [
           "Cote d'Ivoire"
          ],
          [
           "Egypt"
          ],
          [
           "Ghana"
          ],
          [
           "Guinea"
          ],
          [
           "Haiti"
          ],
          [
           "India"
          ],
          [
           "Iran"
          ],
          [
           "Jordan"
          ],
          [
           "Kenya"
          ],
          [
           "Kiribati"
          ],
          [
           "Kyrgyz Republic"
          ],
          [
           "Lao"
          ],
          [
           "Lebanon"
          ],
          [
           "Lesotho"
          ],
          [
           "Mauritania"
          ],
          [
           "Micronesia"
          ],
          [
           "Mongolia"
          ],
          [
           "Morocco"
          ],
          [
           "Myanmar"
          ],
          [
           "Nepal"
          ],
          [
           "Nigeria"
          ],
          [
           "Pakistan"
          ],
          [
           "Philippines"
          ],
          [
           "Samoa"
          ],
          [
           "Senegal"
          ],
          [
           "Solomon Islands"
          ],
          [
           "Sri Lanka"
          ],
          [
           "Tajikistan"
          ],
          [
           "Tanzania"
          ],
          [
           "Timor-Leste"
          ],
          [
           "Tunisia"
          ],
          [
           "Ukraine"
          ],
          [
           "Uzbekistan"
          ],
          [
           "Vanuatu"
          ],
          [
           "Vietnam"
          ],
          [
           "Zambia"
          ]
         ],
         "hovertemplate": "income_category=%{y}<br>income=%{x}<br>country=%{customdata[0]}<extra></extra>",
         "legendgroup": "Lower middle income",
         "marker": {
          "color": "rgb(221, 204, 119)"
         },
         "name": "Lower middle income",
         "notched": false,
         "offsetgroup": "Lower middle income",
         "orientation": "h",
         "showlegend": true,
         "type": "box",
         "x": [
          12900,
          5900,
          2440,
          1820,
          6420,
          5410,
          2520,
          2660,
          5830,
          1410,
          5190,
          2690,
          9860,
          3060,
          1190,
          1500,
          4410,
          17400,
          9470,
          2480,
          1730,
          2790,
          3980,
          16300,
          2380,
          3320,
          3340,
          7710,
          6440,
          3720,
          1990,
          5150,
          4280,
          5600,
          5400,
          2180,
          1780,
          8560,
          2110,
          2090,
          1850,
          10400,
          7820,
          4240,
          2950,
          4490,
          3280
         ],
         "x0": " ",
         "xaxis": "x",
         "y": [
          "Lower middle income",
          "Lower middle income",
          "Lower middle income",
          "Lower middle income",
          "Lower middle income",
          "Lower middle income",
          "Lower middle income",
          "Lower middle income",
          "Lower middle income",
          "Lower middle income",
          "Lower middle income",
          "Lower middle income",
          "Lower middle income",
          "Lower middle income",
          "Lower middle income",
          "Lower middle income",
          "Lower middle income",
          "Lower middle income",
          "Lower middle income",
          "Lower middle income",
          "Lower middle income",
          "Lower middle income",
          "Lower middle income",
          "Lower middle income",
          "Lower middle income",
          "Lower middle income",
          "Lower middle income",
          "Lower middle income",
          "Lower middle income",
          "Lower middle income",
          "Lower middle income",
          "Lower middle income",
          "Lower middle income",
          "Lower middle income",
          "Lower middle income",
          "Lower middle income",
          "Lower middle income",
          "Lower middle income",
          "Lower middle income",
          "Lower middle income",
          "Lower middle income",
          "Lower middle income",
          "Lower middle income",
          "Lower middle income",
          "Lower middle income",
          "Lower middle income",
          "Lower middle income"
         ],
         "y0": " ",
         "yaxis": "y"
        },
        {
         "alignmentgroup": "True",
         "customdata": [
          [
           "Antigua and Barbuda"
          ],
          [
           "Australia"
          ],
          [
           "Austria"
          ],
          [
           "Bahamas"
          ],
          [
           "Bahrain"
          ],
          [
           "Barbados"
          ],
          [
           "Belgium"
          ],
          [
           "Brunei"
          ],
          [
           "Canada"
          ],
          [
           "Chile"
          ],
          [
           "Croatia"
          ],
          [
           "Cyprus"
          ],
          [
           "Czech Republic"
          ],
          [
           "Denmark"
          ],
          [
           "Estonia"
          ],
          [
           "Finland"
          ],
          [
           "France"
          ],
          [
           "Germany"
          ],
          [
           "Greece"
          ],
          [
           "Guyana"
          ],
          [
           "Hungary"
          ],
          [
           "Iceland"
          ],
          [
           "Ireland"
          ],
          [
           "Israel"
          ],
          [
           "Italy"
          ],
          [
           "Japan"
          ],
          [
           "Kuwait"
          ],
          [
           "Latvia"
          ],
          [
           "Lithuania"
          ],
          [
           "Luxembourg"
          ],
          [
           "Malta"
          ],
          [
           "Netherlands"
          ],
          [
           "New Zealand"
          ],
          [
           "Norway"
          ],
          [
           "Oman"
          ],
          [
           "Panama"
          ],
          [
           "Poland"
          ],
          [
           "Portugal"
          ],
          [
           "Qatar"
          ],
          [
           "Romania"
          ],
          [
           "Saudi Arabia"
          ],
          [
           "Seychelles"
          ],
          [
           "Singapore"
          ],
          [
           "Slovak Republic"
          ],
          [
           "Slovenia"
          ],
          [
           "South Korea"
          ],
          [
           "Spain"
          ],
          [
           "Sweden"
          ],
          [
           "Switzerland"
          ],
          [
           "United Arab Emirates"
          ],
          [
           "United Kingdom"
          ],
          [
           "United States"
          ],
          [
           "Uruguay"
          ]
         ],
         "hovertemplate": "income_category=%{y}<br>income=%{x}<br>country=%{customdata[0]}<extra></extra>",
         "legendgroup": "High income",
         "marker": {
          "color": "rgb(17, 119, 51)"
         },
         "name": "High income",
         "notched": false,
         "offsetgroup": "High income",
         "orientation": "h",
         "showlegend": true,
         "type": "box",
         "x": [
          19100,
          41400,
          43200,
          22900,
          41100,
          15300,
          41100,
          80600,
          40700,
          19400,
          20100,
          33900,
          28300,
          44000,
          22700,
          39800,
          36900,
          40400,
          28700,
          5840,
          22300,
          38800,
          45700,
          29600,
          36200,
          35800,
          75200,
          18300,
          21100,
          91700,
          28300,
          45500,
          32300,
          62300,
          45300,
          15400,
          21800,
          27200,
          125000,
          17800,
          45400,
          20400,
          72100,
          25200,
          28700,
          30400,
          32500,
          42900,
          55500,
          57600,
          36200,
          49400,
          17100
         ],
         "x0": " ",
         "xaxis": "x",
         "y": [
          "High income",
          "High income",
          "High income",
          "High income",
          "High income",
          "High income",
          "High income",
          "High income",
          "High income",
          "High income",
          "High income",
          "High income",
          "High income",
          "High income",
          "High income",
          "High income",
          "High income",
          "High income",
          "High income",
          "High income",
          "High income",
          "High income",
          "High income",
          "High income",
          "High income",
          "High income",
          "High income",
          "High income",
          "High income",
          "High income",
          "High income",
          "High income",
          "High income",
          "High income",
          "High income",
          "High income",
          "High income",
          "High income",
          "High income",
          "High income",
          "High income",
          "High income",
          "High income",
          "High income",
          "High income",
          "High income",
          "High income",
          "High income",
          "High income",
          "High income",
          "High income",
          "High income",
          "High income"
         ],
         "y0": " ",
         "yaxis": "y"
        }
       ],
       "layout": {
        "boxmode": "overlay",
        "legend": {
         "title": {
          "text": "income_category"
         },
         "tracegroupgap": 0
        },
        "template": {
         "data": {
          "bar": [
           {
            "error_x": {
             "color": "rgb(51,51,51)"
            },
            "error_y": {
             "color": "rgb(51,51,51)"
            },
            "marker": {
             "line": {
              "color": "rgb(237,237,237)",
              "width": 0.5
             },
             "pattern": {
              "fillmode": "overlay",
              "size": 10,
              "solidity": 0.2
             }
            },
            "type": "bar"
           }
          ],
          "barpolar": [
           {
            "marker": {
             "line": {
              "color": "rgb(237,237,237)",
              "width": 0.5
             },
             "pattern": {
              "fillmode": "overlay",
              "size": 10,
              "solidity": 0.2
             }
            },
            "type": "barpolar"
           }
          ],
          "carpet": [
           {
            "aaxis": {
             "endlinecolor": "rgb(51,51,51)",
             "gridcolor": "white",
             "linecolor": "white",
             "minorgridcolor": "white",
             "startlinecolor": "rgb(51,51,51)"
            },
            "baxis": {
             "endlinecolor": "rgb(51,51,51)",
             "gridcolor": "white",
             "linecolor": "white",
             "minorgridcolor": "white",
             "startlinecolor": "rgb(51,51,51)"
            },
            "type": "carpet"
           }
          ],
          "choropleth": [
           {
            "colorbar": {
             "outlinewidth": 0,
             "tickcolor": "rgb(237,237,237)",
             "ticklen": 6,
             "ticks": "inside"
            },
            "type": "choropleth"
           }
          ],
          "contour": [
           {
            "colorbar": {
             "outlinewidth": 0,
             "tickcolor": "rgb(237,237,237)",
             "ticklen": 6,
             "ticks": "inside"
            },
            "colorscale": [
             [
              0,
              "rgb(20,44,66)"
             ],
             [
              1,
              "rgb(90,179,244)"
             ]
            ],
            "type": "contour"
           }
          ],
          "contourcarpet": [
           {
            "colorbar": {
             "outlinewidth": 0,
             "tickcolor": "rgb(237,237,237)",
             "ticklen": 6,
             "ticks": "inside"
            },
            "type": "contourcarpet"
           }
          ],
          "heatmap": [
           {
            "colorbar": {
             "outlinewidth": 0,
             "tickcolor": "rgb(237,237,237)",
             "ticklen": 6,
             "ticks": "inside"
            },
            "colorscale": [
             [
              0,
              "rgb(20,44,66)"
             ],
             [
              1,
              "rgb(90,179,244)"
             ]
            ],
            "type": "heatmap"
           }
          ],
          "heatmapgl": [
           {
            "colorbar": {
             "outlinewidth": 0,
             "tickcolor": "rgb(237,237,237)",
             "ticklen": 6,
             "ticks": "inside"
            },
            "colorscale": [
             [
              0,
              "rgb(20,44,66)"
             ],
             [
              1,
              "rgb(90,179,244)"
             ]
            ],
            "type": "heatmapgl"
           }
          ],
          "histogram": [
           {
            "marker": {
             "pattern": {
              "fillmode": "overlay",
              "size": 10,
              "solidity": 0.2
             }
            },
            "type": "histogram"
           }
          ],
          "histogram2d": [
           {
            "colorbar": {
             "outlinewidth": 0,
             "tickcolor": "rgb(237,237,237)",
             "ticklen": 6,
             "ticks": "inside"
            },
            "colorscale": [
             [
              0,
              "rgb(20,44,66)"
             ],
             [
              1,
              "rgb(90,179,244)"
             ]
            ],
            "type": "histogram2d"
           }
          ],
          "histogram2dcontour": [
           {
            "colorbar": {
             "outlinewidth": 0,
             "tickcolor": "rgb(237,237,237)",
             "ticklen": 6,
             "ticks": "inside"
            },
            "colorscale": [
             [
              0,
              "rgb(20,44,66)"
             ],
             [
              1,
              "rgb(90,179,244)"
             ]
            ],
            "type": "histogram2dcontour"
           }
          ],
          "mesh3d": [
           {
            "colorbar": {
             "outlinewidth": 0,
             "tickcolor": "rgb(237,237,237)",
             "ticklen": 6,
             "ticks": "inside"
            },
            "type": "mesh3d"
           }
          ],
          "parcoords": [
           {
            "line": {
             "colorbar": {
              "outlinewidth": 0,
              "tickcolor": "rgb(237,237,237)",
              "ticklen": 6,
              "ticks": "inside"
             }
            },
            "type": "parcoords"
           }
          ],
          "pie": [
           {
            "automargin": true,
            "type": "pie"
           }
          ],
          "scatter": [
           {
            "fillpattern": {
             "fillmode": "overlay",
             "size": 10,
             "solidity": 0.2
            },
            "type": "scatter"
           }
          ],
          "scatter3d": [
           {
            "line": {
             "colorbar": {
              "outlinewidth": 0,
              "tickcolor": "rgb(237,237,237)",
              "ticklen": 6,
              "ticks": "inside"
             }
            },
            "marker": {
             "colorbar": {
              "outlinewidth": 0,
              "tickcolor": "rgb(237,237,237)",
              "ticklen": 6,
              "ticks": "inside"
             }
            },
            "type": "scatter3d"
           }
          ],
          "scattercarpet": [
           {
            "marker": {
             "colorbar": {
              "outlinewidth": 0,
              "tickcolor": "rgb(237,237,237)",
              "ticklen": 6,
              "ticks": "inside"
             }
            },
            "type": "scattercarpet"
           }
          ],
          "scattergeo": [
           {
            "marker": {
             "colorbar": {
              "outlinewidth": 0,
              "tickcolor": "rgb(237,237,237)",
              "ticklen": 6,
              "ticks": "inside"
             }
            },
            "type": "scattergeo"
           }
          ],
          "scattergl": [
           {
            "marker": {
             "colorbar": {
              "outlinewidth": 0,
              "tickcolor": "rgb(237,237,237)",
              "ticklen": 6,
              "ticks": "inside"
             }
            },
            "type": "scattergl"
           }
          ],
          "scattermapbox": [
           {
            "marker": {
             "colorbar": {
              "outlinewidth": 0,
              "tickcolor": "rgb(237,237,237)",
              "ticklen": 6,
              "ticks": "inside"
             }
            },
            "type": "scattermapbox"
           }
          ],
          "scatterpolar": [
           {
            "marker": {
             "colorbar": {
              "outlinewidth": 0,
              "tickcolor": "rgb(237,237,237)",
              "ticklen": 6,
              "ticks": "inside"
             }
            },
            "type": "scatterpolar"
           }
          ],
          "scatterpolargl": [
           {
            "marker": {
             "colorbar": {
              "outlinewidth": 0,
              "tickcolor": "rgb(237,237,237)",
              "ticklen": 6,
              "ticks": "inside"
             }
            },
            "type": "scatterpolargl"
           }
          ],
          "scatterternary": [
           {
            "marker": {
             "colorbar": {
              "outlinewidth": 0,
              "tickcolor": "rgb(237,237,237)",
              "ticklen": 6,
              "ticks": "inside"
             }
            },
            "type": "scatterternary"
           }
          ],
          "surface": [
           {
            "colorbar": {
             "outlinewidth": 0,
             "tickcolor": "rgb(237,237,237)",
             "ticklen": 6,
             "ticks": "inside"
            },
            "colorscale": [
             [
              0,
              "rgb(20,44,66)"
             ],
             [
              1,
              "rgb(90,179,244)"
             ]
            ],
            "type": "surface"
           }
          ],
          "table": [
           {
            "cells": {
             "fill": {
              "color": "rgb(237,237,237)"
             },
             "line": {
              "color": "white"
             }
            },
            "header": {
             "fill": {
              "color": "rgb(217,217,217)"
             },
             "line": {
              "color": "white"
             }
            },
            "type": "table"
           }
          ]
         },
         "layout": {
          "annotationdefaults": {
           "arrowhead": 0,
           "arrowwidth": 1
          },
          "autotypenumbers": "strict",
          "coloraxis": {
           "colorbar": {
            "outlinewidth": 0,
            "tickcolor": "rgb(237,237,237)",
            "ticklen": 6,
            "ticks": "inside"
           }
          },
          "colorscale": {
           "sequential": [
            [
             0,
             "rgb(20,44,66)"
            ],
            [
             1,
             "rgb(90,179,244)"
            ]
           ],
           "sequentialminus": [
            [
             0,
             "rgb(20,44,66)"
            ],
            [
             1,
             "rgb(90,179,244)"
            ]
           ]
          },
          "colorway": [
           "#F8766D",
           "#A3A500",
           "#00BF7D",
           "#00B0F6",
           "#E76BF3"
          ],
          "font": {
           "color": "rgb(51,51,51)"
          },
          "geo": {
           "bgcolor": "white",
           "lakecolor": "white",
           "landcolor": "rgb(237,237,237)",
           "showlakes": true,
           "showland": true,
           "subunitcolor": "white"
          },
          "hoverlabel": {
           "align": "left"
          },
          "hovermode": "closest",
          "paper_bgcolor": "white",
          "plot_bgcolor": "rgb(237,237,237)",
          "polar": {
           "angularaxis": {
            "gridcolor": "white",
            "linecolor": "white",
            "showgrid": true,
            "tickcolor": "rgb(51,51,51)",
            "ticks": "outside"
           },
           "bgcolor": "rgb(237,237,237)",
           "radialaxis": {
            "gridcolor": "white",
            "linecolor": "white",
            "showgrid": true,
            "tickcolor": "rgb(51,51,51)",
            "ticks": "outside"
           }
          },
          "scene": {
           "xaxis": {
            "backgroundcolor": "rgb(237,237,237)",
            "gridcolor": "white",
            "gridwidth": 2,
            "linecolor": "white",
            "showbackground": true,
            "showgrid": true,
            "tickcolor": "rgb(51,51,51)",
            "ticks": "outside",
            "zerolinecolor": "white"
           },
           "yaxis": {
            "backgroundcolor": "rgb(237,237,237)",
            "gridcolor": "white",
            "gridwidth": 2,
            "linecolor": "white",
            "showbackground": true,
            "showgrid": true,
            "tickcolor": "rgb(51,51,51)",
            "ticks": "outside",
            "zerolinecolor": "white"
           },
           "zaxis": {
            "backgroundcolor": "rgb(237,237,237)",
            "gridcolor": "white",
            "gridwidth": 2,
            "linecolor": "white",
            "showbackground": true,
            "showgrid": true,
            "tickcolor": "rgb(51,51,51)",
            "ticks": "outside",
            "zerolinecolor": "white"
           }
          },
          "shapedefaults": {
           "fillcolor": "black",
           "line": {
            "width": 0
           },
           "opacity": 0.3
          },
          "ternary": {
           "aaxis": {
            "gridcolor": "white",
            "linecolor": "white",
            "showgrid": true,
            "tickcolor": "rgb(51,51,51)",
            "ticks": "outside"
           },
           "baxis": {
            "gridcolor": "white",
            "linecolor": "white",
            "showgrid": true,
            "tickcolor": "rgb(51,51,51)",
            "ticks": "outside"
           },
           "bgcolor": "rgb(237,237,237)",
           "caxis": {
            "gridcolor": "white",
            "linecolor": "white",
            "showgrid": true,
            "tickcolor": "rgb(51,51,51)",
            "ticks": "outside"
           }
          },
          "xaxis": {
           "automargin": true,
           "gridcolor": "white",
           "linecolor": "white",
           "showgrid": true,
           "tickcolor": "rgb(51,51,51)",
           "ticks": "outside",
           "title": {
            "standoff": 15
           },
           "zerolinecolor": "white"
          },
          "yaxis": {
           "automargin": true,
           "gridcolor": "white",
           "linecolor": "white",
           "showgrid": true,
           "tickcolor": "rgb(51,51,51)",
           "ticks": "outside",
           "title": {
            "standoff": 15
           },
           "zerolinecolor": "white"
          }
         }
        },
        "title": {
         "text": "Boxplot Income x Income Category"
        },
        "xaxis": {
         "anchor": "y",
         "domain": [
          0,
          1
         ],
         "title": {
          "text": "income"
         }
        },
        "yaxis": {
         "anchor": "x",
         "categoryarray": [
          "High income",
          "Lower middle income",
          "Upper middle income",
          "Low income"
         ],
         "categoryorder": "array",
         "domain": [
          0,
          1
         ],
         "title": {
          "text": "income_category"
         }
        }
       }
      }
     },
     "metadata": {},
     "output_type": "display_data"
    }
   ],
   "source": [
    "# Boxplot of income x income category\n",
    "px.box(data_frame=df_countries, x='income', y='income_category', color='income_category', orientation='h', hover_data=[\n",
    "       'country'], title='Boxplot Income x Income Category', color_discrete_sequence=px.colors.qualitative.Safe, template='ggplot2')"
   ]
  },
  {
   "cell_type": "code",
   "execution_count": 67,
   "metadata": {},
   "outputs": [
    {
     "data": {
      "application/vnd.plotly.v1+json": {
       "config": {
        "plotlyServerURL": "https://plot.ly"
       },
       "data": [
        {
         "alignmentgroup": "True",
         "customdata": [
          [
           "Afghanistan"
          ],
          [
           "Burkina Faso"
          ],
          [
           "Burundi"
          ],
          [
           "Central African Republic"
          ],
          [
           "Chad"
          ],
          [
           "Congo Dem. Rep."
          ],
          [
           "Eritrea"
          ],
          [
           "Gambia"
          ],
          [
           "Guinea-Bissau"
          ],
          [
           "Liberia"
          ],
          [
           "Madagascar"
          ],
          [
           "Malawi"
          ],
          [
           "Mali"
          ],
          [
           "Mozambique"
          ],
          [
           "Niger"
          ],
          [
           "Rwanda"
          ],
          [
           "Sierra Leone"
          ],
          [
           "Sudan"
          ],
          [
           "Togo"
          ],
          [
           "Uganda"
          ],
          [
           "Yemen"
          ]
         ],
         "hovertemplate": "income_category=%{y}<br>gdpp=%{x}<br>country=%{customdata[0]}<extra></extra>",
         "legendgroup": "Low income",
         "marker": {
          "color": "rgb(136, 204, 238)"
         },
         "name": "Low income",
         "notched": false,
         "offsetgroup": "Low income",
         "orientation": "h",
         "showlegend": true,
         "type": "box",
         "x": [
          553,
          575,
          231,
          446,
          897,
          334,
          482,
          562,
          547,
          327,
          413,
          459,
          708,
          419,
          348,
          563,
          399,
          1480,
          488,
          595,
          1310
         ],
         "x0": " ",
         "xaxis": "x",
         "y": [
          "Low income",
          "Low income",
          "Low income",
          "Low income",
          "Low income",
          "Low income",
          "Low income",
          "Low income",
          "Low income",
          "Low income",
          "Low income",
          "Low income",
          "Low income",
          "Low income",
          "Low income",
          "Low income",
          "Low income",
          "Low income",
          "Low income",
          "Low income",
          "Low income"
         ],
         "y0": " ",
         "yaxis": "y"
        },
        {
         "alignmentgroup": "True",
         "customdata": [
          [
           "Albania"
          ],
          [
           "Argentina"
          ],
          [
           "Armenia"
          ],
          [
           "Azerbaijan"
          ],
          [
           "Belarus"
          ],
          [
           "Belize"
          ],
          [
           "Bosnia and Herzegovina"
          ],
          [
           "Botswana"
          ],
          [
           "Brazil"
          ],
          [
           "Bulgaria"
          ],
          [
           "China"
          ],
          [
           "Colombia"
          ],
          [
           "Costa Rica"
          ],
          [
           "Dominican Republic"
          ],
          [
           "Ecuador"
          ],
          [
           "El Salvador"
          ],
          [
           "Equatorial Guinea"
          ],
          [
           "Fiji"
          ],
          [
           "Gabon"
          ],
          [
           "Georgia"
          ],
          [
           "Grenada"
          ],
          [
           "Guatemala"
          ],
          [
           "Indonesia"
          ],
          [
           "Iraq"
          ],
          [
           "Jamaica"
          ],
          [
           "Kazakhstan"
          ],
          [
           "Libya"
          ],
          [
           "Malaysia"
          ],
          [
           "Maldives"
          ],
          [
           "Mauritius"
          ],
          [
           "Moldova"
          ],
          [
           "Montenegro"
          ],
          [
           "Namibia"
          ],
          [
           "Paraguay"
          ],
          [
           "Peru"
          ],
          [
           "Russia"
          ],
          [
           "Serbia"
          ],
          [
           "South Africa"
          ],
          [
           "St. Vincent and the Grenadines"
          ],
          [
           "Suriname"
          ],
          [
           "Thailand"
          ],
          [
           "Tonga"
          ],
          [
           "Turkey"
          ],
          [
           "Turkmenistan"
          ]
         ],
         "hovertemplate": "income_category=%{y}<br>gdpp=%{x}<br>country=%{customdata[0]}<extra></extra>",
         "legendgroup": "Upper middle income",
         "marker": {
          "color": "rgb(204, 102, 119)"
         },
         "name": "Upper middle income",
         "notched": false,
         "offsetgroup": "Upper middle income",
         "orientation": "h",
         "showlegend": true,
         "type": "box",
         "x": [
          4090,
          10300,
          3220,
          5840,
          6030,
          4340,
          4610,
          6350,
          11200,
          6840,
          4560,
          6250,
          8200,
          5450,
          4660,
          2990,
          17100,
          3650,
          8750,
          2960,
          7370,
          2830,
          3110,
          4500,
          4680,
          9070,
          12100,
          9070,
          7100,
          8000,
          1630,
          6680,
          5190,
          3230,
          5020,
          10700,
          5410,
          7280,
          6230,
          8300,
          5080,
          3550,
          10700,
          4440
         ],
         "x0": " ",
         "xaxis": "x",
         "y": [
          "Upper middle income",
          "Upper middle income",
          "Upper middle income",
          "Upper middle income",
          "Upper middle income",
          "Upper middle income",
          "Upper middle income",
          "Upper middle income",
          "Upper middle income",
          "Upper middle income",
          "Upper middle income",
          "Upper middle income",
          "Upper middle income",
          "Upper middle income",
          "Upper middle income",
          "Upper middle income",
          "Upper middle income",
          "Upper middle income",
          "Upper middle income",
          "Upper middle income",
          "Upper middle income",
          "Upper middle income",
          "Upper middle income",
          "Upper middle income",
          "Upper middle income",
          "Upper middle income",
          "Upper middle income",
          "Upper middle income",
          "Upper middle income",
          "Upper middle income",
          "Upper middle income",
          "Upper middle income",
          "Upper middle income",
          "Upper middle income",
          "Upper middle income",
          "Upper middle income",
          "Upper middle income",
          "Upper middle income",
          "Upper middle income",
          "Upper middle income",
          "Upper middle income",
          "Upper middle income",
          "Upper middle income",
          "Upper middle income"
         ],
         "y0": " ",
         "yaxis": "y"
        },
        {
         "alignmentgroup": "True",
         "customdata": [
          [
           "Algeria"
          ],
          [
           "Angola"
          ],
          [
           "Bangladesh"
          ],
          [
           "Benin"
          ],
          [
           "Bhutan"
          ],
          [
           "Bolivia"
          ],
          [
           "Cambodia"
          ],
          [
           "Cameroon"
          ],
          [
           "Cape Verde"
          ],
          [
           "Comoros"
          ],
          [
           "Congo Rep."
          ],
          [
           "Cote d'Ivoire"
          ],
          [
           "Egypt"
          ],
          [
           "Ghana"
          ],
          [
           "Guinea"
          ],
          [
           "Haiti"
          ],
          [
           "India"
          ],
          [
           "Iran"
          ],
          [
           "Jordan"
          ],
          [
           "Kenya"
          ],
          [
           "Kiribati"
          ],
          [
           "Kyrgyz Republic"
          ],
          [
           "Lao"
          ],
          [
           "Lebanon"
          ],
          [
           "Lesotho"
          ],
          [
           "Mauritania"
          ],
          [
           "Micronesia"
          ],
          [
           "Mongolia"
          ],
          [
           "Morocco"
          ],
          [
           "Myanmar"
          ],
          [
           "Nepal"
          ],
          [
           "Nigeria"
          ],
          [
           "Pakistan"
          ],
          [
           "Philippines"
          ],
          [
           "Samoa"
          ],
          [
           "Senegal"
          ],
          [
           "Solomon Islands"
          ],
          [
           "Sri Lanka"
          ],
          [
           "Tajikistan"
          ],
          [
           "Tanzania"
          ],
          [
           "Timor-Leste"
          ],
          [
           "Tunisia"
          ],
          [
           "Ukraine"
          ],
          [
           "Uzbekistan"
          ],
          [
           "Vanuatu"
          ],
          [
           "Vietnam"
          ],
          [
           "Zambia"
          ]
         ],
         "hovertemplate": "income_category=%{y}<br>gdpp=%{x}<br>country=%{customdata[0]}<extra></extra>",
         "legendgroup": "Lower middle income",
         "marker": {
          "color": "rgb(221, 204, 119)"
         },
         "name": "Lower middle income",
         "notched": false,
         "offsetgroup": "Lower middle income",
         "orientation": "h",
         "showlegend": true,
         "type": "box",
         "x": [
          4460,
          3530,
          758,
          758,
          2180,
          1980,
          786,
          1310,
          3310,
          769,
          2740,
          1220,
          2600,
          1310,
          648,
          662,
          1350,
          6530,
          3680,
          967,
          1490,
          880,
          1140,
          8860,
          1170,
          1200,
          2860,
          2650,
          2830,
          988,
          592,
          2330,
          1040,
          2130,
          3450,
          1000,
          1290,
          2810,
          738,
          702,
          3600,
          4140,
          2970,
          1380,
          2970,
          1310,
          1460
         ],
         "x0": " ",
         "xaxis": "x",
         "y": [
          "Lower middle income",
          "Lower middle income",
          "Lower middle income",
          "Lower middle income",
          "Lower middle income",
          "Lower middle income",
          "Lower middle income",
          "Lower middle income",
          "Lower middle income",
          "Lower middle income",
          "Lower middle income",
          "Lower middle income",
          "Lower middle income",
          "Lower middle income",
          "Lower middle income",
          "Lower middle income",
          "Lower middle income",
          "Lower middle income",
          "Lower middle income",
          "Lower middle income",
          "Lower middle income",
          "Lower middle income",
          "Lower middle income",
          "Lower middle income",
          "Lower middle income",
          "Lower middle income",
          "Lower middle income",
          "Lower middle income",
          "Lower middle income",
          "Lower middle income",
          "Lower middle income",
          "Lower middle income",
          "Lower middle income",
          "Lower middle income",
          "Lower middle income",
          "Lower middle income",
          "Lower middle income",
          "Lower middle income",
          "Lower middle income",
          "Lower middle income",
          "Lower middle income",
          "Lower middle income",
          "Lower middle income",
          "Lower middle income",
          "Lower middle income",
          "Lower middle income",
          "Lower middle income"
         ],
         "y0": " ",
         "yaxis": "y"
        },
        {
         "alignmentgroup": "True",
         "customdata": [
          [
           "Antigua and Barbuda"
          ],
          [
           "Australia"
          ],
          [
           "Austria"
          ],
          [
           "Bahamas"
          ],
          [
           "Bahrain"
          ],
          [
           "Barbados"
          ],
          [
           "Belgium"
          ],
          [
           "Brunei"
          ],
          [
           "Canada"
          ],
          [
           "Chile"
          ],
          [
           "Croatia"
          ],
          [
           "Cyprus"
          ],
          [
           "Czech Republic"
          ],
          [
           "Denmark"
          ],
          [
           "Estonia"
          ],
          [
           "Finland"
          ],
          [
           "France"
          ],
          [
           "Germany"
          ],
          [
           "Greece"
          ],
          [
           "Guyana"
          ],
          [
           "Hungary"
          ],
          [
           "Iceland"
          ],
          [
           "Ireland"
          ],
          [
           "Israel"
          ],
          [
           "Italy"
          ],
          [
           "Japan"
          ],
          [
           "Kuwait"
          ],
          [
           "Latvia"
          ],
          [
           "Lithuania"
          ],
          [
           "Luxembourg"
          ],
          [
           "Malta"
          ],
          [
           "Netherlands"
          ],
          [
           "New Zealand"
          ],
          [
           "Norway"
          ],
          [
           "Oman"
          ],
          [
           "Panama"
          ],
          [
           "Poland"
          ],
          [
           "Portugal"
          ],
          [
           "Qatar"
          ],
          [
           "Romania"
          ],
          [
           "Saudi Arabia"
          ],
          [
           "Seychelles"
          ],
          [
           "Singapore"
          ],
          [
           "Slovak Republic"
          ],
          [
           "Slovenia"
          ],
          [
           "South Korea"
          ],
          [
           "Spain"
          ],
          [
           "Sweden"
          ],
          [
           "Switzerland"
          ],
          [
           "United Arab Emirates"
          ],
          [
           "United Kingdom"
          ],
          [
           "United States"
          ],
          [
           "Uruguay"
          ]
         ],
         "hovertemplate": "income_category=%{y}<br>gdpp=%{x}<br>country=%{customdata[0]}<extra></extra>",
         "legendgroup": "High income",
         "marker": {
          "color": "rgb(17, 119, 51)"
         },
         "name": "High income",
         "notched": false,
         "offsetgroup": "High income",
         "orientation": "h",
         "showlegend": true,
         "type": "box",
         "x": [
          12200,
          51900,
          46900,
          28000,
          20700,
          16000,
          44400,
          35300,
          47400,
          12900,
          13500,
          30800,
          19800,
          58000,
          14600,
          46200,
          40600,
          41800,
          26900,
          3040,
          13100,
          41900,
          48700,
          30600,
          35800,
          44500,
          38500,
          11300,
          12000,
          105000,
          21100,
          50300,
          33700,
          87800,
          19300,
          8080,
          12600,
          22500,
          70300,
          8230,
          19300,
          10800,
          46600,
          16600,
          23400,
          22100,
          30700,
          52100,
          74600,
          35000,
          38900,
          48400,
          11900
         ],
         "x0": " ",
         "xaxis": "x",
         "y": [
          "High income",
          "High income",
          "High income",
          "High income",
          "High income",
          "High income",
          "High income",
          "High income",
          "High income",
          "High income",
          "High income",
          "High income",
          "High income",
          "High income",
          "High income",
          "High income",
          "High income",
          "High income",
          "High income",
          "High income",
          "High income",
          "High income",
          "High income",
          "High income",
          "High income",
          "High income",
          "High income",
          "High income",
          "High income",
          "High income",
          "High income",
          "High income",
          "High income",
          "High income",
          "High income",
          "High income",
          "High income",
          "High income",
          "High income",
          "High income",
          "High income",
          "High income",
          "High income",
          "High income",
          "High income",
          "High income",
          "High income",
          "High income",
          "High income",
          "High income",
          "High income",
          "High income",
          "High income"
         ],
         "y0": " ",
         "yaxis": "y"
        }
       ],
       "layout": {
        "boxmode": "overlay",
        "legend": {
         "title": {
          "text": "income_category"
         },
         "tracegroupgap": 0
        },
        "template": {
         "data": {
          "bar": [
           {
            "error_x": {
             "color": "rgb(51,51,51)"
            },
            "error_y": {
             "color": "rgb(51,51,51)"
            },
            "marker": {
             "line": {
              "color": "rgb(237,237,237)",
              "width": 0.5
             },
             "pattern": {
              "fillmode": "overlay",
              "size": 10,
              "solidity": 0.2
             }
            },
            "type": "bar"
           }
          ],
          "barpolar": [
           {
            "marker": {
             "line": {
              "color": "rgb(237,237,237)",
              "width": 0.5
             },
             "pattern": {
              "fillmode": "overlay",
              "size": 10,
              "solidity": 0.2
             }
            },
            "type": "barpolar"
           }
          ],
          "carpet": [
           {
            "aaxis": {
             "endlinecolor": "rgb(51,51,51)",
             "gridcolor": "white",
             "linecolor": "white",
             "minorgridcolor": "white",
             "startlinecolor": "rgb(51,51,51)"
            },
            "baxis": {
             "endlinecolor": "rgb(51,51,51)",
             "gridcolor": "white",
             "linecolor": "white",
             "minorgridcolor": "white",
             "startlinecolor": "rgb(51,51,51)"
            },
            "type": "carpet"
           }
          ],
          "choropleth": [
           {
            "colorbar": {
             "outlinewidth": 0,
             "tickcolor": "rgb(237,237,237)",
             "ticklen": 6,
             "ticks": "inside"
            },
            "type": "choropleth"
           }
          ],
          "contour": [
           {
            "colorbar": {
             "outlinewidth": 0,
             "tickcolor": "rgb(237,237,237)",
             "ticklen": 6,
             "ticks": "inside"
            },
            "colorscale": [
             [
              0,
              "rgb(20,44,66)"
             ],
             [
              1,
              "rgb(90,179,244)"
             ]
            ],
            "type": "contour"
           }
          ],
          "contourcarpet": [
           {
            "colorbar": {
             "outlinewidth": 0,
             "tickcolor": "rgb(237,237,237)",
             "ticklen": 6,
             "ticks": "inside"
            },
            "type": "contourcarpet"
           }
          ],
          "heatmap": [
           {
            "colorbar": {
             "outlinewidth": 0,
             "tickcolor": "rgb(237,237,237)",
             "ticklen": 6,
             "ticks": "inside"
            },
            "colorscale": [
             [
              0,
              "rgb(20,44,66)"
             ],
             [
              1,
              "rgb(90,179,244)"
             ]
            ],
            "type": "heatmap"
           }
          ],
          "heatmapgl": [
           {
            "colorbar": {
             "outlinewidth": 0,
             "tickcolor": "rgb(237,237,237)",
             "ticklen": 6,
             "ticks": "inside"
            },
            "colorscale": [
             [
              0,
              "rgb(20,44,66)"
             ],
             [
              1,
              "rgb(90,179,244)"
             ]
            ],
            "type": "heatmapgl"
           }
          ],
          "histogram": [
           {
            "marker": {
             "pattern": {
              "fillmode": "overlay",
              "size": 10,
              "solidity": 0.2
             }
            },
            "type": "histogram"
           }
          ],
          "histogram2d": [
           {
            "colorbar": {
             "outlinewidth": 0,
             "tickcolor": "rgb(237,237,237)",
             "ticklen": 6,
             "ticks": "inside"
            },
            "colorscale": [
             [
              0,
              "rgb(20,44,66)"
             ],
             [
              1,
              "rgb(90,179,244)"
             ]
            ],
            "type": "histogram2d"
           }
          ],
          "histogram2dcontour": [
           {
            "colorbar": {
             "outlinewidth": 0,
             "tickcolor": "rgb(237,237,237)",
             "ticklen": 6,
             "ticks": "inside"
            },
            "colorscale": [
             [
              0,
              "rgb(20,44,66)"
             ],
             [
              1,
              "rgb(90,179,244)"
             ]
            ],
            "type": "histogram2dcontour"
           }
          ],
          "mesh3d": [
           {
            "colorbar": {
             "outlinewidth": 0,
             "tickcolor": "rgb(237,237,237)",
             "ticklen": 6,
             "ticks": "inside"
            },
            "type": "mesh3d"
           }
          ],
          "parcoords": [
           {
            "line": {
             "colorbar": {
              "outlinewidth": 0,
              "tickcolor": "rgb(237,237,237)",
              "ticklen": 6,
              "ticks": "inside"
             }
            },
            "type": "parcoords"
           }
          ],
          "pie": [
           {
            "automargin": true,
            "type": "pie"
           }
          ],
          "scatter": [
           {
            "fillpattern": {
             "fillmode": "overlay",
             "size": 10,
             "solidity": 0.2
            },
            "type": "scatter"
           }
          ],
          "scatter3d": [
           {
            "line": {
             "colorbar": {
              "outlinewidth": 0,
              "tickcolor": "rgb(237,237,237)",
              "ticklen": 6,
              "ticks": "inside"
             }
            },
            "marker": {
             "colorbar": {
              "outlinewidth": 0,
              "tickcolor": "rgb(237,237,237)",
              "ticklen": 6,
              "ticks": "inside"
             }
            },
            "type": "scatter3d"
           }
          ],
          "scattercarpet": [
           {
            "marker": {
             "colorbar": {
              "outlinewidth": 0,
              "tickcolor": "rgb(237,237,237)",
              "ticklen": 6,
              "ticks": "inside"
             }
            },
            "type": "scattercarpet"
           }
          ],
          "scattergeo": [
           {
            "marker": {
             "colorbar": {
              "outlinewidth": 0,
              "tickcolor": "rgb(237,237,237)",
              "ticklen": 6,
              "ticks": "inside"
             }
            },
            "type": "scattergeo"
           }
          ],
          "scattergl": [
           {
            "marker": {
             "colorbar": {
              "outlinewidth": 0,
              "tickcolor": "rgb(237,237,237)",
              "ticklen": 6,
              "ticks": "inside"
             }
            },
            "type": "scattergl"
           }
          ],
          "scattermapbox": [
           {
            "marker": {
             "colorbar": {
              "outlinewidth": 0,
              "tickcolor": "rgb(237,237,237)",
              "ticklen": 6,
              "ticks": "inside"
             }
            },
            "type": "scattermapbox"
           }
          ],
          "scatterpolar": [
           {
            "marker": {
             "colorbar": {
              "outlinewidth": 0,
              "tickcolor": "rgb(237,237,237)",
              "ticklen": 6,
              "ticks": "inside"
             }
            },
            "type": "scatterpolar"
           }
          ],
          "scatterpolargl": [
           {
            "marker": {
             "colorbar": {
              "outlinewidth": 0,
              "tickcolor": "rgb(237,237,237)",
              "ticklen": 6,
              "ticks": "inside"
             }
            },
            "type": "scatterpolargl"
           }
          ],
          "scatterternary": [
           {
            "marker": {
             "colorbar": {
              "outlinewidth": 0,
              "tickcolor": "rgb(237,237,237)",
              "ticklen": 6,
              "ticks": "inside"
             }
            },
            "type": "scatterternary"
           }
          ],
          "surface": [
           {
            "colorbar": {
             "outlinewidth": 0,
             "tickcolor": "rgb(237,237,237)",
             "ticklen": 6,
             "ticks": "inside"
            },
            "colorscale": [
             [
              0,
              "rgb(20,44,66)"
             ],
             [
              1,
              "rgb(90,179,244)"
             ]
            ],
            "type": "surface"
           }
          ],
          "table": [
           {
            "cells": {
             "fill": {
              "color": "rgb(237,237,237)"
             },
             "line": {
              "color": "white"
             }
            },
            "header": {
             "fill": {
              "color": "rgb(217,217,217)"
             },
             "line": {
              "color": "white"
             }
            },
            "type": "table"
           }
          ]
         },
         "layout": {
          "annotationdefaults": {
           "arrowhead": 0,
           "arrowwidth": 1
          },
          "autotypenumbers": "strict",
          "coloraxis": {
           "colorbar": {
            "outlinewidth": 0,
            "tickcolor": "rgb(237,237,237)",
            "ticklen": 6,
            "ticks": "inside"
           }
          },
          "colorscale": {
           "sequential": [
            [
             0,
             "rgb(20,44,66)"
            ],
            [
             1,
             "rgb(90,179,244)"
            ]
           ],
           "sequentialminus": [
            [
             0,
             "rgb(20,44,66)"
            ],
            [
             1,
             "rgb(90,179,244)"
            ]
           ]
          },
          "colorway": [
           "#F8766D",
           "#A3A500",
           "#00BF7D",
           "#00B0F6",
           "#E76BF3"
          ],
          "font": {
           "color": "rgb(51,51,51)"
          },
          "geo": {
           "bgcolor": "white",
           "lakecolor": "white",
           "landcolor": "rgb(237,237,237)",
           "showlakes": true,
           "showland": true,
           "subunitcolor": "white"
          },
          "hoverlabel": {
           "align": "left"
          },
          "hovermode": "closest",
          "paper_bgcolor": "white",
          "plot_bgcolor": "rgb(237,237,237)",
          "polar": {
           "angularaxis": {
            "gridcolor": "white",
            "linecolor": "white",
            "showgrid": true,
            "tickcolor": "rgb(51,51,51)",
            "ticks": "outside"
           },
           "bgcolor": "rgb(237,237,237)",
           "radialaxis": {
            "gridcolor": "white",
            "linecolor": "white",
            "showgrid": true,
            "tickcolor": "rgb(51,51,51)",
            "ticks": "outside"
           }
          },
          "scene": {
           "xaxis": {
            "backgroundcolor": "rgb(237,237,237)",
            "gridcolor": "white",
            "gridwidth": 2,
            "linecolor": "white",
            "showbackground": true,
            "showgrid": true,
            "tickcolor": "rgb(51,51,51)",
            "ticks": "outside",
            "zerolinecolor": "white"
           },
           "yaxis": {
            "backgroundcolor": "rgb(237,237,237)",
            "gridcolor": "white",
            "gridwidth": 2,
            "linecolor": "white",
            "showbackground": true,
            "showgrid": true,
            "tickcolor": "rgb(51,51,51)",
            "ticks": "outside",
            "zerolinecolor": "white"
           },
           "zaxis": {
            "backgroundcolor": "rgb(237,237,237)",
            "gridcolor": "white",
            "gridwidth": 2,
            "linecolor": "white",
            "showbackground": true,
            "showgrid": true,
            "tickcolor": "rgb(51,51,51)",
            "ticks": "outside",
            "zerolinecolor": "white"
           }
          },
          "shapedefaults": {
           "fillcolor": "black",
           "line": {
            "width": 0
           },
           "opacity": 0.3
          },
          "ternary": {
           "aaxis": {
            "gridcolor": "white",
            "linecolor": "white",
            "showgrid": true,
            "tickcolor": "rgb(51,51,51)",
            "ticks": "outside"
           },
           "baxis": {
            "gridcolor": "white",
            "linecolor": "white",
            "showgrid": true,
            "tickcolor": "rgb(51,51,51)",
            "ticks": "outside"
           },
           "bgcolor": "rgb(237,237,237)",
           "caxis": {
            "gridcolor": "white",
            "linecolor": "white",
            "showgrid": true,
            "tickcolor": "rgb(51,51,51)",
            "ticks": "outside"
           }
          },
          "xaxis": {
           "automargin": true,
           "gridcolor": "white",
           "linecolor": "white",
           "showgrid": true,
           "tickcolor": "rgb(51,51,51)",
           "ticks": "outside",
           "title": {
            "standoff": 15
           },
           "zerolinecolor": "white"
          },
          "yaxis": {
           "automargin": true,
           "gridcolor": "white",
           "linecolor": "white",
           "showgrid": true,
           "tickcolor": "rgb(51,51,51)",
           "ticks": "outside",
           "title": {
            "standoff": 15
           },
           "zerolinecolor": "white"
          }
         }
        },
        "title": {
         "text": "Boxplot GDPP x Income Category"
        },
        "xaxis": {
         "anchor": "y",
         "domain": [
          0,
          1
         ],
         "title": {
          "text": "gdpp"
         }
        },
        "yaxis": {
         "anchor": "x",
         "categoryarray": [
          "High income",
          "Lower middle income",
          "Upper middle income",
          "Low income"
         ],
         "categoryorder": "array",
         "domain": [
          0,
          1
         ],
         "title": {
          "text": "income_category"
         }
        }
       }
      }
     },
     "metadata": {},
     "output_type": "display_data"
    }
   ],
   "source": [
    "# Boxplot of gdpp x income category\n",
    "px.box(data_frame=df_countries, x='gdpp', y='income_category', color='income_category', orientation='h', hover_data=[\n",
    "       'country'], title='Boxplot GDPP x Income Category', color_discrete_sequence=px.colors.qualitative.Safe, template='ggplot2')"
   ]
  },
  {
   "cell_type": "code",
   "execution_count": 68,
   "metadata": {},
   "outputs": [
    {
     "data": {
      "application/vnd.plotly.v1+json": {
       "config": {
        "plotlyServerURL": "https://plot.ly"
       },
       "data": [
        {
         "alignmentgroup": "True",
         "customdata": [
          [
           "Afghanistan"
          ],
          [
           "Burkina Faso"
          ],
          [
           "Burundi"
          ],
          [
           "Central African Republic"
          ],
          [
           "Chad"
          ],
          [
           "Congo Dem. Rep."
          ],
          [
           "Eritrea"
          ],
          [
           "Gambia"
          ],
          [
           "Guinea-Bissau"
          ],
          [
           "Liberia"
          ],
          [
           "Madagascar"
          ],
          [
           "Malawi"
          ],
          [
           "Mali"
          ],
          [
           "Mozambique"
          ],
          [
           "Niger"
          ],
          [
           "Rwanda"
          ],
          [
           "Sierra Leone"
          ],
          [
           "Sudan"
          ],
          [
           "Togo"
          ],
          [
           "Uganda"
          ],
          [
           "Yemen"
          ]
         ],
         "hovertemplate": "income_category=%{y}<br>inflation=%{x}<br>country=%{customdata[0]}<extra></extra>",
         "legendgroup": "Low income",
         "marker": {
          "color": "#AA0DFE"
         },
         "name": "Low income",
         "notched": false,
         "offsetgroup": "Low income",
         "orientation": "h",
         "showlegend": true,
         "type": "box",
         "x": [
          9.44,
          6.81,
          12.3,
          2.01,
          6.39,
          20.8,
          11.6,
          4.3,
          2.97,
          5.47,
          8.79,
          12.1,
          4.37,
          7.64,
          2.55,
          2.61,
          17.2,
          19.6,
          1.18,
          10.6,
          23.6
         ],
         "x0": " ",
         "xaxis": "x",
         "y": [
          "Low income",
          "Low income",
          "Low income",
          "Low income",
          "Low income",
          "Low income",
          "Low income",
          "Low income",
          "Low income",
          "Low income",
          "Low income",
          "Low income",
          "Low income",
          "Low income",
          "Low income",
          "Low income",
          "Low income",
          "Low income",
          "Low income",
          "Low income",
          "Low income"
         ],
         "y0": " ",
         "yaxis": "y"
        },
        {
         "alignmentgroup": "True",
         "customdata": [
          [
           "Albania"
          ],
          [
           "Argentina"
          ],
          [
           "Armenia"
          ],
          [
           "Azerbaijan"
          ],
          [
           "Belarus"
          ],
          [
           "Belize"
          ],
          [
           "Bosnia and Herzegovina"
          ],
          [
           "Botswana"
          ],
          [
           "Brazil"
          ],
          [
           "Bulgaria"
          ],
          [
           "China"
          ],
          [
           "Colombia"
          ],
          [
           "Costa Rica"
          ],
          [
           "Dominican Republic"
          ],
          [
           "Ecuador"
          ],
          [
           "El Salvador"
          ],
          [
           "Equatorial Guinea"
          ],
          [
           "Fiji"
          ],
          [
           "Gabon"
          ],
          [
           "Georgia"
          ],
          [
           "Grenada"
          ],
          [
           "Guatemala"
          ],
          [
           "Indonesia"
          ],
          [
           "Iraq"
          ],
          [
           "Jamaica"
          ],
          [
           "Kazakhstan"
          ],
          [
           "Libya"
          ],
          [
           "Malaysia"
          ],
          [
           "Maldives"
          ],
          [
           "Mauritius"
          ],
          [
           "Moldova"
          ],
          [
           "Montenegro"
          ],
          [
           "Namibia"
          ],
          [
           "Paraguay"
          ],
          [
           "Peru"
          ],
          [
           "Russia"
          ],
          [
           "Serbia"
          ],
          [
           "South Africa"
          ],
          [
           "St. Vincent and the Grenadines"
          ],
          [
           "Suriname"
          ],
          [
           "Thailand"
          ],
          [
           "Tonga"
          ],
          [
           "Turkey"
          ],
          [
           "Turkmenistan"
          ]
         ],
         "hovertemplate": "income_category=%{y}<br>inflation=%{x}<br>country=%{customdata[0]}<extra></extra>",
         "legendgroup": "Upper middle income",
         "marker": {
          "color": "#3283FE"
         },
         "name": "Upper middle income",
         "notched": false,
         "offsetgroup": "Upper middle income",
         "orientation": "h",
         "showlegend": true,
         "type": "box",
         "x": [
          4.49,
          20.9,
          7.77,
          13.8,
          15.1,
          1.14,
          1.4,
          8.92,
          8.41,
          1.11,
          6.94,
          3.86,
          6.57,
          5.44,
          7.47,
          2.65,
          24.9,
          4.23,
          16.6,
          8.55,
          0.48,
          5.14,
          15.3,
          16.6,
          9.81,
          19.5,
          14.2,
          7.27,
          2.88,
          1.13,
          11.1,
          1.6,
          3.56,
          6.1,
          5.71,
          14.2,
          5.88,
          6.35,
          4.44,
          7.2,
          4.08,
          3.68,
          7.01,
          2.31
         ],
         "x0": " ",
         "xaxis": "x",
         "y": [
          "Upper middle income",
          "Upper middle income",
          "Upper middle income",
          "Upper middle income",
          "Upper middle income",
          "Upper middle income",
          "Upper middle income",
          "Upper middle income",
          "Upper middle income",
          "Upper middle income",
          "Upper middle income",
          "Upper middle income",
          "Upper middle income",
          "Upper middle income",
          "Upper middle income",
          "Upper middle income",
          "Upper middle income",
          "Upper middle income",
          "Upper middle income",
          "Upper middle income",
          "Upper middle income",
          "Upper middle income",
          "Upper middle income",
          "Upper middle income",
          "Upper middle income",
          "Upper middle income",
          "Upper middle income",
          "Upper middle income",
          "Upper middle income",
          "Upper middle income",
          "Upper middle income",
          "Upper middle income",
          "Upper middle income",
          "Upper middle income",
          "Upper middle income",
          "Upper middle income",
          "Upper middle income",
          "Upper middle income",
          "Upper middle income",
          "Upper middle income",
          "Upper middle income",
          "Upper middle income",
          "Upper middle income",
          "Upper middle income"
         ],
         "y0": " ",
         "yaxis": "y"
        },
        {
         "alignmentgroup": "True",
         "customdata": [
          [
           "Algeria"
          ],
          [
           "Angola"
          ],
          [
           "Bangladesh"
          ],
          [
           "Benin"
          ],
          [
           "Bhutan"
          ],
          [
           "Bolivia"
          ],
          [
           "Cambodia"
          ],
          [
           "Cameroon"
          ],
          [
           "Cape Verde"
          ],
          [
           "Comoros"
          ],
          [
           "Congo Rep."
          ],
          [
           "Cote d'Ivoire"
          ],
          [
           "Egypt"
          ],
          [
           "Ghana"
          ],
          [
           "Guinea"
          ],
          [
           "Haiti"
          ],
          [
           "India"
          ],
          [
           "Iran"
          ],
          [
           "Jordan"
          ],
          [
           "Kenya"
          ],
          [
           "Kiribati"
          ],
          [
           "Kyrgyz Republic"
          ],
          [
           "Lao"
          ],
          [
           "Lebanon"
          ],
          [
           "Lesotho"
          ],
          [
           "Mauritania"
          ],
          [
           "Micronesia"
          ],
          [
           "Mongolia"
          ],
          [
           "Morocco"
          ],
          [
           "Myanmar"
          ],
          [
           "Nepal"
          ],
          [
           "Nigeria"
          ],
          [
           "Pakistan"
          ],
          [
           "Philippines"
          ],
          [
           "Samoa"
          ],
          [
           "Senegal"
          ],
          [
           "Solomon Islands"
          ],
          [
           "Sri Lanka"
          ],
          [
           "Tajikistan"
          ],
          [
           "Tanzania"
          ],
          [
           "Timor-Leste"
          ],
          [
           "Tunisia"
          ],
          [
           "Ukraine"
          ],
          [
           "Uzbekistan"
          ],
          [
           "Vanuatu"
          ],
          [
           "Vietnam"
          ],
          [
           "Zambia"
          ]
         ],
         "hovertemplate": "income_category=%{y}<br>inflation=%{x}<br>country=%{customdata[0]}<extra></extra>",
         "legendgroup": "Lower middle income",
         "marker": {
          "color": "#85660D"
         },
         "name": "Lower middle income",
         "notched": false,
         "offsetgroup": "Lower middle income",
         "orientation": "h",
         "showlegend": true,
         "type": "box",
         "x": [
          16.1,
          22.4,
          7.14,
          0.885,
          5.99,
          8.78,
          3.12,
          1.91,
          0.505,
          3.87,
          20.7,
          5.39,
          10.1,
          16.6,
          16.1,
          5.45,
          8.98,
          15.9,
          8.43,
          2.09,
          1.52,
          10,
          9.2,
          0.238,
          4.15,
          18.9,
          3.8,
          39.2,
          0.976,
          7.04,
          15.1,
          104,
          10.9,
          4.22,
          1.72,
          1.85,
          6.81,
          22.8,
          12.5,
          9.25,
          26.5,
          3.82,
          13.4,
          16.5,
          2.62,
          12.1,
          14
         ],
         "x0": " ",
         "xaxis": "x",
         "y": [
          "Lower middle income",
          "Lower middle income",
          "Lower middle income",
          "Lower middle income",
          "Lower middle income",
          "Lower middle income",
          "Lower middle income",
          "Lower middle income",
          "Lower middle income",
          "Lower middle income",
          "Lower middle income",
          "Lower middle income",
          "Lower middle income",
          "Lower middle income",
          "Lower middle income",
          "Lower middle income",
          "Lower middle income",
          "Lower middle income",
          "Lower middle income",
          "Lower middle income",
          "Lower middle income",
          "Lower middle income",
          "Lower middle income",
          "Lower middle income",
          "Lower middle income",
          "Lower middle income",
          "Lower middle income",
          "Lower middle income",
          "Lower middle income",
          "Lower middle income",
          "Lower middle income",
          "Lower middle income",
          "Lower middle income",
          "Lower middle income",
          "Lower middle income",
          "Lower middle income",
          "Lower middle income",
          "Lower middle income",
          "Lower middle income",
          "Lower middle income",
          "Lower middle income",
          "Lower middle income",
          "Lower middle income",
          "Lower middle income",
          "Lower middle income",
          "Lower middle income",
          "Lower middle income"
         ],
         "y0": " ",
         "yaxis": "y"
        },
        {
         "alignmentgroup": "True",
         "customdata": [
          [
           "Antigua and Barbuda"
          ],
          [
           "Australia"
          ],
          [
           "Austria"
          ],
          [
           "Bahamas"
          ],
          [
           "Bahrain"
          ],
          [
           "Barbados"
          ],
          [
           "Belgium"
          ],
          [
           "Brunei"
          ],
          [
           "Canada"
          ],
          [
           "Chile"
          ],
          [
           "Croatia"
          ],
          [
           "Cyprus"
          ],
          [
           "Czech Republic"
          ],
          [
           "Denmark"
          ],
          [
           "Estonia"
          ],
          [
           "Finland"
          ],
          [
           "France"
          ],
          [
           "Germany"
          ],
          [
           "Greece"
          ],
          [
           "Guyana"
          ],
          [
           "Hungary"
          ],
          [
           "Iceland"
          ],
          [
           "Ireland"
          ],
          [
           "Israel"
          ],
          [
           "Italy"
          ],
          [
           "Japan"
          ],
          [
           "Kuwait"
          ],
          [
           "Latvia"
          ],
          [
           "Lithuania"
          ],
          [
           "Luxembourg"
          ],
          [
           "Malta"
          ],
          [
           "Netherlands"
          ],
          [
           "New Zealand"
          ],
          [
           "Norway"
          ],
          [
           "Oman"
          ],
          [
           "Panama"
          ],
          [
           "Poland"
          ],
          [
           "Portugal"
          ],
          [
           "Qatar"
          ],
          [
           "Romania"
          ],
          [
           "Saudi Arabia"
          ],
          [
           "Seychelles"
          ],
          [
           "Singapore"
          ],
          [
           "Slovak Republic"
          ],
          [
           "Slovenia"
          ],
          [
           "South Korea"
          ],
          [
           "Spain"
          ],
          [
           "Sweden"
          ],
          [
           "Switzerland"
          ],
          [
           "United Arab Emirates"
          ],
          [
           "United Kingdom"
          ],
          [
           "United States"
          ],
          [
           "Uruguay"
          ]
         ],
         "hovertemplate": "income_category=%{y}<br>inflation=%{x}<br>country=%{customdata[0]}<extra></extra>",
         "legendgroup": "High income",
         "marker": {
          "color": "#782AB6"
         },
         "name": "High income",
         "notched": false,
         "offsetgroup": "High income",
         "orientation": "h",
         "showlegend": true,
         "type": "box",
         "x": [
          1.44,
          1.16,
          0.873,
          -0.393,
          7.44,
          0.321,
          1.88,
          16.7,
          2.87,
          8.96,
          0.821,
          2.01,
          -1.43,
          3.22,
          1.74,
          0.351,
          1.05,
          0.758,
          0.673,
          5.73,
          2.33,
          5.47,
          -3.22,
          1.77,
          0.319,
          -1.9,
          11.2,
          -0.812,
          2.38,
          3.62,
          3.83,
          0.848,
          3.73,
          5.95,
          15.6,
          2.59,
          1.66,
          0.643,
          6.98,
          3.53,
          17.2,
          -4.21,
          -0.046,
          0.485,
          -0.987,
          3.16,
          0.16,
          0.991,
          0.317,
          12.5,
          1.57,
          1.22,
          4.91
         ],
         "x0": " ",
         "xaxis": "x",
         "y": [
          "High income",
          "High income",
          "High income",
          "High income",
          "High income",
          "High income",
          "High income",
          "High income",
          "High income",
          "High income",
          "High income",
          "High income",
          "High income",
          "High income",
          "High income",
          "High income",
          "High income",
          "High income",
          "High income",
          "High income",
          "High income",
          "High income",
          "High income",
          "High income",
          "High income",
          "High income",
          "High income",
          "High income",
          "High income",
          "High income",
          "High income",
          "High income",
          "High income",
          "High income",
          "High income",
          "High income",
          "High income",
          "High income",
          "High income",
          "High income",
          "High income",
          "High income",
          "High income",
          "High income",
          "High income",
          "High income",
          "High income",
          "High income",
          "High income",
          "High income",
          "High income",
          "High income",
          "High income"
         ],
         "y0": " ",
         "yaxis": "y"
        }
       ],
       "layout": {
        "boxmode": "overlay",
        "legend": {
         "title": {
          "text": "income_category"
         },
         "tracegroupgap": 0
        },
        "template": {
         "data": {
          "bar": [
           {
            "error_x": {
             "color": "rgb(51,51,51)"
            },
            "error_y": {
             "color": "rgb(51,51,51)"
            },
            "marker": {
             "line": {
              "color": "rgb(237,237,237)",
              "width": 0.5
             },
             "pattern": {
              "fillmode": "overlay",
              "size": 10,
              "solidity": 0.2
             }
            },
            "type": "bar"
           }
          ],
          "barpolar": [
           {
            "marker": {
             "line": {
              "color": "rgb(237,237,237)",
              "width": 0.5
             },
             "pattern": {
              "fillmode": "overlay",
              "size": 10,
              "solidity": 0.2
             }
            },
            "type": "barpolar"
           }
          ],
          "carpet": [
           {
            "aaxis": {
             "endlinecolor": "rgb(51,51,51)",
             "gridcolor": "white",
             "linecolor": "white",
             "minorgridcolor": "white",
             "startlinecolor": "rgb(51,51,51)"
            },
            "baxis": {
             "endlinecolor": "rgb(51,51,51)",
             "gridcolor": "white",
             "linecolor": "white",
             "minorgridcolor": "white",
             "startlinecolor": "rgb(51,51,51)"
            },
            "type": "carpet"
           }
          ],
          "choropleth": [
           {
            "colorbar": {
             "outlinewidth": 0,
             "tickcolor": "rgb(237,237,237)",
             "ticklen": 6,
             "ticks": "inside"
            },
            "type": "choropleth"
           }
          ],
          "contour": [
           {
            "colorbar": {
             "outlinewidth": 0,
             "tickcolor": "rgb(237,237,237)",
             "ticklen": 6,
             "ticks": "inside"
            },
            "colorscale": [
             [
              0,
              "rgb(20,44,66)"
             ],
             [
              1,
              "rgb(90,179,244)"
             ]
            ],
            "type": "contour"
           }
          ],
          "contourcarpet": [
           {
            "colorbar": {
             "outlinewidth": 0,
             "tickcolor": "rgb(237,237,237)",
             "ticklen": 6,
             "ticks": "inside"
            },
            "type": "contourcarpet"
           }
          ],
          "heatmap": [
           {
            "colorbar": {
             "outlinewidth": 0,
             "tickcolor": "rgb(237,237,237)",
             "ticklen": 6,
             "ticks": "inside"
            },
            "colorscale": [
             [
              0,
              "rgb(20,44,66)"
             ],
             [
              1,
              "rgb(90,179,244)"
             ]
            ],
            "type": "heatmap"
           }
          ],
          "heatmapgl": [
           {
            "colorbar": {
             "outlinewidth": 0,
             "tickcolor": "rgb(237,237,237)",
             "ticklen": 6,
             "ticks": "inside"
            },
            "colorscale": [
             [
              0,
              "rgb(20,44,66)"
             ],
             [
              1,
              "rgb(90,179,244)"
             ]
            ],
            "type": "heatmapgl"
           }
          ],
          "histogram": [
           {
            "marker": {
             "pattern": {
              "fillmode": "overlay",
              "size": 10,
              "solidity": 0.2
             }
            },
            "type": "histogram"
           }
          ],
          "histogram2d": [
           {
            "colorbar": {
             "outlinewidth": 0,
             "tickcolor": "rgb(237,237,237)",
             "ticklen": 6,
             "ticks": "inside"
            },
            "colorscale": [
             [
              0,
              "rgb(20,44,66)"
             ],
             [
              1,
              "rgb(90,179,244)"
             ]
            ],
            "type": "histogram2d"
           }
          ],
          "histogram2dcontour": [
           {
            "colorbar": {
             "outlinewidth": 0,
             "tickcolor": "rgb(237,237,237)",
             "ticklen": 6,
             "ticks": "inside"
            },
            "colorscale": [
             [
              0,
              "rgb(20,44,66)"
             ],
             [
              1,
              "rgb(90,179,244)"
             ]
            ],
            "type": "histogram2dcontour"
           }
          ],
          "mesh3d": [
           {
            "colorbar": {
             "outlinewidth": 0,
             "tickcolor": "rgb(237,237,237)",
             "ticklen": 6,
             "ticks": "inside"
            },
            "type": "mesh3d"
           }
          ],
          "parcoords": [
           {
            "line": {
             "colorbar": {
              "outlinewidth": 0,
              "tickcolor": "rgb(237,237,237)",
              "ticklen": 6,
              "ticks": "inside"
             }
            },
            "type": "parcoords"
           }
          ],
          "pie": [
           {
            "automargin": true,
            "type": "pie"
           }
          ],
          "scatter": [
           {
            "fillpattern": {
             "fillmode": "overlay",
             "size": 10,
             "solidity": 0.2
            },
            "type": "scatter"
           }
          ],
          "scatter3d": [
           {
            "line": {
             "colorbar": {
              "outlinewidth": 0,
              "tickcolor": "rgb(237,237,237)",
              "ticklen": 6,
              "ticks": "inside"
             }
            },
            "marker": {
             "colorbar": {
              "outlinewidth": 0,
              "tickcolor": "rgb(237,237,237)",
              "ticklen": 6,
              "ticks": "inside"
             }
            },
            "type": "scatter3d"
           }
          ],
          "scattercarpet": [
           {
            "marker": {
             "colorbar": {
              "outlinewidth": 0,
              "tickcolor": "rgb(237,237,237)",
              "ticklen": 6,
              "ticks": "inside"
             }
            },
            "type": "scattercarpet"
           }
          ],
          "scattergeo": [
           {
            "marker": {
             "colorbar": {
              "outlinewidth": 0,
              "tickcolor": "rgb(237,237,237)",
              "ticklen": 6,
              "ticks": "inside"
             }
            },
            "type": "scattergeo"
           }
          ],
          "scattergl": [
           {
            "marker": {
             "colorbar": {
              "outlinewidth": 0,
              "tickcolor": "rgb(237,237,237)",
              "ticklen": 6,
              "ticks": "inside"
             }
            },
            "type": "scattergl"
           }
          ],
          "scattermapbox": [
           {
            "marker": {
             "colorbar": {
              "outlinewidth": 0,
              "tickcolor": "rgb(237,237,237)",
              "ticklen": 6,
              "ticks": "inside"
             }
            },
            "type": "scattermapbox"
           }
          ],
          "scatterpolar": [
           {
            "marker": {
             "colorbar": {
              "outlinewidth": 0,
              "tickcolor": "rgb(237,237,237)",
              "ticklen": 6,
              "ticks": "inside"
             }
            },
            "type": "scatterpolar"
           }
          ],
          "scatterpolargl": [
           {
            "marker": {
             "colorbar": {
              "outlinewidth": 0,
              "tickcolor": "rgb(237,237,237)",
              "ticklen": 6,
              "ticks": "inside"
             }
            },
            "type": "scatterpolargl"
           }
          ],
          "scatterternary": [
           {
            "marker": {
             "colorbar": {
              "outlinewidth": 0,
              "tickcolor": "rgb(237,237,237)",
              "ticklen": 6,
              "ticks": "inside"
             }
            },
            "type": "scatterternary"
           }
          ],
          "surface": [
           {
            "colorbar": {
             "outlinewidth": 0,
             "tickcolor": "rgb(237,237,237)",
             "ticklen": 6,
             "ticks": "inside"
            },
            "colorscale": [
             [
              0,
              "rgb(20,44,66)"
             ],
             [
              1,
              "rgb(90,179,244)"
             ]
            ],
            "type": "surface"
           }
          ],
          "table": [
           {
            "cells": {
             "fill": {
              "color": "rgb(237,237,237)"
             },
             "line": {
              "color": "white"
             }
            },
            "header": {
             "fill": {
              "color": "rgb(217,217,217)"
             },
             "line": {
              "color": "white"
             }
            },
            "type": "table"
           }
          ]
         },
         "layout": {
          "annotationdefaults": {
           "arrowhead": 0,
           "arrowwidth": 1
          },
          "autotypenumbers": "strict",
          "coloraxis": {
           "colorbar": {
            "outlinewidth": 0,
            "tickcolor": "rgb(237,237,237)",
            "ticklen": 6,
            "ticks": "inside"
           }
          },
          "colorscale": {
           "sequential": [
            [
             0,
             "rgb(20,44,66)"
            ],
            [
             1,
             "rgb(90,179,244)"
            ]
           ],
           "sequentialminus": [
            [
             0,
             "rgb(20,44,66)"
            ],
            [
             1,
             "rgb(90,179,244)"
            ]
           ]
          },
          "colorway": [
           "#F8766D",
           "#A3A500",
           "#00BF7D",
           "#00B0F6",
           "#E76BF3"
          ],
          "font": {
           "color": "rgb(51,51,51)"
          },
          "geo": {
           "bgcolor": "white",
           "lakecolor": "white",
           "landcolor": "rgb(237,237,237)",
           "showlakes": true,
           "showland": true,
           "subunitcolor": "white"
          },
          "hoverlabel": {
           "align": "left"
          },
          "hovermode": "closest",
          "paper_bgcolor": "white",
          "plot_bgcolor": "rgb(237,237,237)",
          "polar": {
           "angularaxis": {
            "gridcolor": "white",
            "linecolor": "white",
            "showgrid": true,
            "tickcolor": "rgb(51,51,51)",
            "ticks": "outside"
           },
           "bgcolor": "rgb(237,237,237)",
           "radialaxis": {
            "gridcolor": "white",
            "linecolor": "white",
            "showgrid": true,
            "tickcolor": "rgb(51,51,51)",
            "ticks": "outside"
           }
          },
          "scene": {
           "xaxis": {
            "backgroundcolor": "rgb(237,237,237)",
            "gridcolor": "white",
            "gridwidth": 2,
            "linecolor": "white",
            "showbackground": true,
            "showgrid": true,
            "tickcolor": "rgb(51,51,51)",
            "ticks": "outside",
            "zerolinecolor": "white"
           },
           "yaxis": {
            "backgroundcolor": "rgb(237,237,237)",
            "gridcolor": "white",
            "gridwidth": 2,
            "linecolor": "white",
            "showbackground": true,
            "showgrid": true,
            "tickcolor": "rgb(51,51,51)",
            "ticks": "outside",
            "zerolinecolor": "white"
           },
           "zaxis": {
            "backgroundcolor": "rgb(237,237,237)",
            "gridcolor": "white",
            "gridwidth": 2,
            "linecolor": "white",
            "showbackground": true,
            "showgrid": true,
            "tickcolor": "rgb(51,51,51)",
            "ticks": "outside",
            "zerolinecolor": "white"
           }
          },
          "shapedefaults": {
           "fillcolor": "black",
           "line": {
            "width": 0
           },
           "opacity": 0.3
          },
          "ternary": {
           "aaxis": {
            "gridcolor": "white",
            "linecolor": "white",
            "showgrid": true,
            "tickcolor": "rgb(51,51,51)",
            "ticks": "outside"
           },
           "baxis": {
            "gridcolor": "white",
            "linecolor": "white",
            "showgrid": true,
            "tickcolor": "rgb(51,51,51)",
            "ticks": "outside"
           },
           "bgcolor": "rgb(237,237,237)",
           "caxis": {
            "gridcolor": "white",
            "linecolor": "white",
            "showgrid": true,
            "tickcolor": "rgb(51,51,51)",
            "ticks": "outside"
           }
          },
          "xaxis": {
           "automargin": true,
           "gridcolor": "white",
           "linecolor": "white",
           "showgrid": true,
           "tickcolor": "rgb(51,51,51)",
           "ticks": "outside",
           "title": {
            "standoff": 15
           },
           "zerolinecolor": "white"
          },
          "yaxis": {
           "automargin": true,
           "gridcolor": "white",
           "linecolor": "white",
           "showgrid": true,
           "tickcolor": "rgb(51,51,51)",
           "ticks": "outside",
           "title": {
            "standoff": 15
           },
           "zerolinecolor": "white"
          }
         }
        },
        "title": {
         "text": "Boxplot Inflation x Income Category"
        },
        "xaxis": {
         "anchor": "y",
         "domain": [
          0,
          1
         ],
         "title": {
          "text": "inflation"
         }
        },
        "yaxis": {
         "anchor": "x",
         "categoryarray": [
          "High income",
          "Lower middle income",
          "Upper middle income",
          "Low income"
         ],
         "categoryorder": "array",
         "domain": [
          0,
          1
         ],
         "title": {
          "text": "income_category"
         }
        }
       }
      }
     },
     "metadata": {},
     "output_type": "display_data"
    }
   ],
   "source": [
    "# Boxplot of inflation x income category\n",
    "px.box(data_frame=df_countries, x='inflation', y='income_category', color='income_category', orientation='h', hover_data=[\n",
    "       'country'], title='Boxplot Inflation x Income Category', color_discrete_sequence=px.colors.qualitative.Alphabet, template='ggplot2')"
   ]
  },
  {
   "cell_type": "code",
   "execution_count": 69,
   "metadata": {},
   "outputs": [
    {
     "data": {
      "application/vnd.plotly.v1+json": {
       "config": {
        "plotlyServerURL": "https://plot.ly"
       },
       "data": [
        {
         "alignmentgroup": "True",
         "customdata": [
          [
           "Afghanistan"
          ],
          [
           "Burkina Faso"
          ],
          [
           "Burundi"
          ],
          [
           "Central African Republic"
          ],
          [
           "Chad"
          ],
          [
           "Congo Dem. Rep."
          ],
          [
           "Eritrea"
          ],
          [
           "Gambia"
          ],
          [
           "Guinea-Bissau"
          ],
          [
           "Liberia"
          ],
          [
           "Madagascar"
          ],
          [
           "Malawi"
          ],
          [
           "Mali"
          ],
          [
           "Mozambique"
          ],
          [
           "Niger"
          ],
          [
           "Rwanda"
          ],
          [
           "Sierra Leone"
          ],
          [
           "Sudan"
          ],
          [
           "Togo"
          ],
          [
           "Uganda"
          ],
          [
           "Yemen"
          ]
         ],
         "hovertemplate": "income_category=%{y}<br>life_expec=%{x}<br>country=%{customdata[0]}<extra></extra>",
         "legendgroup": "Low income",
         "marker": {
          "color": "rgb(127, 60, 141)"
         },
         "name": "Low income",
         "notched": false,
         "offsetgroup": "Low income",
         "orientation": "h",
         "showlegend": true,
         "type": "box",
         "x": [
          56.2,
          57.9,
          57.7,
          47.5,
          56.5,
          57.5,
          61.7,
          65.5,
          55.6,
          60.8,
          60.8,
          53.1,
          59.5,
          54.5,
          58.8,
          64.6,
          55,
          66.3,
          58.7,
          56.8,
          67.5
         ],
         "x0": " ",
         "xaxis": "x",
         "y": [
          "Low income",
          "Low income",
          "Low income",
          "Low income",
          "Low income",
          "Low income",
          "Low income",
          "Low income",
          "Low income",
          "Low income",
          "Low income",
          "Low income",
          "Low income",
          "Low income",
          "Low income",
          "Low income",
          "Low income",
          "Low income",
          "Low income",
          "Low income",
          "Low income"
         ],
         "y0": " ",
         "yaxis": "y"
        },
        {
         "alignmentgroup": "True",
         "customdata": [
          [
           "Albania"
          ],
          [
           "Argentina"
          ],
          [
           "Armenia"
          ],
          [
           "Azerbaijan"
          ],
          [
           "Belarus"
          ],
          [
           "Belize"
          ],
          [
           "Bosnia and Herzegovina"
          ],
          [
           "Botswana"
          ],
          [
           "Brazil"
          ],
          [
           "Bulgaria"
          ],
          [
           "China"
          ],
          [
           "Colombia"
          ],
          [
           "Costa Rica"
          ],
          [
           "Dominican Republic"
          ],
          [
           "Ecuador"
          ],
          [
           "El Salvador"
          ],
          [
           "Equatorial Guinea"
          ],
          [
           "Fiji"
          ],
          [
           "Gabon"
          ],
          [
           "Georgia"
          ],
          [
           "Grenada"
          ],
          [
           "Guatemala"
          ],
          [
           "Indonesia"
          ],
          [
           "Iraq"
          ],
          [
           "Jamaica"
          ],
          [
           "Kazakhstan"
          ],
          [
           "Libya"
          ],
          [
           "Malaysia"
          ],
          [
           "Maldives"
          ],
          [
           "Mauritius"
          ],
          [
           "Moldova"
          ],
          [
           "Montenegro"
          ],
          [
           "Namibia"
          ],
          [
           "Paraguay"
          ],
          [
           "Peru"
          ],
          [
           "Russia"
          ],
          [
           "Serbia"
          ],
          [
           "South Africa"
          ],
          [
           "St. Vincent and the Grenadines"
          ],
          [
           "Suriname"
          ],
          [
           "Thailand"
          ],
          [
           "Tonga"
          ],
          [
           "Turkey"
          ],
          [
           "Turkmenistan"
          ]
         ],
         "hovertemplate": "income_category=%{y}<br>life_expec=%{x}<br>country=%{customdata[0]}<extra></extra>",
         "legendgroup": "Upper middle income",
         "marker": {
          "color": "rgb(17, 165, 121)"
         },
         "name": "Upper middle income",
         "notched": false,
         "offsetgroup": "Upper middle income",
         "orientation": "h",
         "showlegend": true,
         "type": "box",
         "x": [
          76.3,
          75.8,
          73.3,
          69.1,
          70.4,
          71.4,
          76.8,
          57.1,
          74.2,
          73.9,
          74.6,
          76.4,
          80.4,
          74.6,
          76.7,
          74.1,
          60.9,
          65.3,
          62.9,
          72.8,
          71.3,
          71.3,
          69.9,
          67.2,
          74.7,
          68.4,
          76.1,
          74.5,
          77.9,
          73.4,
          69.7,
          76.4,
          58.6,
          74.1,
          77.9,
          69.2,
          74.7,
          54.3,
          71.6,
          70.3,
          76.6,
          69.9,
          78.2,
          67.9
         ],
         "x0": " ",
         "xaxis": "x",
         "y": [
          "Upper middle income",
          "Upper middle income",
          "Upper middle income",
          "Upper middle income",
          "Upper middle income",
          "Upper middle income",
          "Upper middle income",
          "Upper middle income",
          "Upper middle income",
          "Upper middle income",
          "Upper middle income",
          "Upper middle income",
          "Upper middle income",
          "Upper middle income",
          "Upper middle income",
          "Upper middle income",
          "Upper middle income",
          "Upper middle income",
          "Upper middle income",
          "Upper middle income",
          "Upper middle income",
          "Upper middle income",
          "Upper middle income",
          "Upper middle income",
          "Upper middle income",
          "Upper middle income",
          "Upper middle income",
          "Upper middle income",
          "Upper middle income",
          "Upper middle income",
          "Upper middle income",
          "Upper middle income",
          "Upper middle income",
          "Upper middle income",
          "Upper middle income",
          "Upper middle income",
          "Upper middle income",
          "Upper middle income",
          "Upper middle income",
          "Upper middle income",
          "Upper middle income",
          "Upper middle income",
          "Upper middle income",
          "Upper middle income"
         ],
         "y0": " ",
         "yaxis": "y"
        },
        {
         "alignmentgroup": "True",
         "customdata": [
          [
           "Algeria"
          ],
          [
           "Angola"
          ],
          [
           "Bangladesh"
          ],
          [
           "Benin"
          ],
          [
           "Bhutan"
          ],
          [
           "Bolivia"
          ],
          [
           "Cambodia"
          ],
          [
           "Cameroon"
          ],
          [
           "Cape Verde"
          ],
          [
           "Comoros"
          ],
          [
           "Congo Rep."
          ],
          [
           "Cote d'Ivoire"
          ],
          [
           "Egypt"
          ],
          [
           "Ghana"
          ],
          [
           "Guinea"
          ],
          [
           "Haiti"
          ],
          [
           "India"
          ],
          [
           "Iran"
          ],
          [
           "Jordan"
          ],
          [
           "Kenya"
          ],
          [
           "Kiribati"
          ],
          [
           "Kyrgyz Republic"
          ],
          [
           "Lao"
          ],
          [
           "Lebanon"
          ],
          [
           "Lesotho"
          ],
          [
           "Mauritania"
          ],
          [
           "Micronesia"
          ],
          [
           "Mongolia"
          ],
          [
           "Morocco"
          ],
          [
           "Myanmar"
          ],
          [
           "Nepal"
          ],
          [
           "Nigeria"
          ],
          [
           "Pakistan"
          ],
          [
           "Philippines"
          ],
          [
           "Samoa"
          ],
          [
           "Senegal"
          ],
          [
           "Solomon Islands"
          ],
          [
           "Sri Lanka"
          ],
          [
           "Tajikistan"
          ],
          [
           "Tanzania"
          ],
          [
           "Timor-Leste"
          ],
          [
           "Tunisia"
          ],
          [
           "Ukraine"
          ],
          [
           "Uzbekistan"
          ],
          [
           "Vanuatu"
          ],
          [
           "Vietnam"
          ],
          [
           "Zambia"
          ]
         ],
         "hovertemplate": "income_category=%{y}<br>life_expec=%{x}<br>country=%{customdata[0]}<extra></extra>",
         "legendgroup": "Lower middle income",
         "marker": {
          "color": "rgb(57, 105, 172)"
         },
         "name": "Lower middle income",
         "notched": false,
         "offsetgroup": "Lower middle income",
         "orientation": "h",
         "showlegend": true,
         "type": "box",
         "x": [
          76.5,
          60.1,
          70.4,
          61.8,
          72.1,
          71.6,
          66.1,
          57.3,
          72.5,
          65.9,
          60.4,
          56.3,
          70.5,
          62.2,
          58,
          32.1,
          66.2,
          74.5,
          75.8,
          62.8,
          60.7,
          68.5,
          63.8,
          79.8,
          46.5,
          68.2,
          65.4,
          66.2,
          73.5,
          66.8,
          68.3,
          60.5,
          65.3,
          69,
          71.5,
          64,
          61.7,
          74.4,
          69.6,
          59.3,
          71.1,
          76.9,
          70.4,
          68.8,
          63,
          73.1,
          52
         ],
         "x0": " ",
         "xaxis": "x",
         "y": [
          "Lower middle income",
          "Lower middle income",
          "Lower middle income",
          "Lower middle income",
          "Lower middle income",
          "Lower middle income",
          "Lower middle income",
          "Lower middle income",
          "Lower middle income",
          "Lower middle income",
          "Lower middle income",
          "Lower middle income",
          "Lower middle income",
          "Lower middle income",
          "Lower middle income",
          "Lower middle income",
          "Lower middle income",
          "Lower middle income",
          "Lower middle income",
          "Lower middle income",
          "Lower middle income",
          "Lower middle income",
          "Lower middle income",
          "Lower middle income",
          "Lower middle income",
          "Lower middle income",
          "Lower middle income",
          "Lower middle income",
          "Lower middle income",
          "Lower middle income",
          "Lower middle income",
          "Lower middle income",
          "Lower middle income",
          "Lower middle income",
          "Lower middle income",
          "Lower middle income",
          "Lower middle income",
          "Lower middle income",
          "Lower middle income",
          "Lower middle income",
          "Lower middle income",
          "Lower middle income",
          "Lower middle income",
          "Lower middle income",
          "Lower middle income",
          "Lower middle income",
          "Lower middle income"
         ],
         "y0": " ",
         "yaxis": "y"
        },
        {
         "alignmentgroup": "True",
         "customdata": [
          [
           "Antigua and Barbuda"
          ],
          [
           "Australia"
          ],
          [
           "Austria"
          ],
          [
           "Bahamas"
          ],
          [
           "Bahrain"
          ],
          [
           "Barbados"
          ],
          [
           "Belgium"
          ],
          [
           "Brunei"
          ],
          [
           "Canada"
          ],
          [
           "Chile"
          ],
          [
           "Croatia"
          ],
          [
           "Cyprus"
          ],
          [
           "Czech Republic"
          ],
          [
           "Denmark"
          ],
          [
           "Estonia"
          ],
          [
           "Finland"
          ],
          [
           "France"
          ],
          [
           "Germany"
          ],
          [
           "Greece"
          ],
          [
           "Guyana"
          ],
          [
           "Hungary"
          ],
          [
           "Iceland"
          ],
          [
           "Ireland"
          ],
          [
           "Israel"
          ],
          [
           "Italy"
          ],
          [
           "Japan"
          ],
          [
           "Kuwait"
          ],
          [
           "Latvia"
          ],
          [
           "Lithuania"
          ],
          [
           "Luxembourg"
          ],
          [
           "Malta"
          ],
          [
           "Netherlands"
          ],
          [
           "New Zealand"
          ],
          [
           "Norway"
          ],
          [
           "Oman"
          ],
          [
           "Panama"
          ],
          [
           "Poland"
          ],
          [
           "Portugal"
          ],
          [
           "Qatar"
          ],
          [
           "Romania"
          ],
          [
           "Saudi Arabia"
          ],
          [
           "Seychelles"
          ],
          [
           "Singapore"
          ],
          [
           "Slovak Republic"
          ],
          [
           "Slovenia"
          ],
          [
           "South Korea"
          ],
          [
           "Spain"
          ],
          [
           "Sweden"
          ],
          [
           "Switzerland"
          ],
          [
           "United Arab Emirates"
          ],
          [
           "United Kingdom"
          ],
          [
           "United States"
          ],
          [
           "Uruguay"
          ]
         ],
         "hovertemplate": "income_category=%{y}<br>life_expec=%{x}<br>country=%{customdata[0]}<extra></extra>",
         "legendgroup": "High income",
         "marker": {
          "color": "rgb(242, 183, 1)"
         },
         "name": "High income",
         "notched": false,
         "offsetgroup": "High income",
         "orientation": "h",
         "showlegend": true,
         "type": "box",
         "x": [
          76.8,
          82,
          80.5,
          73.8,
          76,
          76.7,
          80,
          77.1,
          81.3,
          79.1,
          76.3,
          79.9,
          77.5,
          79.5,
          76,
          80,
          81.4,
          80.1,
          80.4,
          65.5,
          74.5,
          82,
          80.4,
          81.4,
          81.7,
          82.8,
          78.2,
          73.1,
          73.2,
          81.3,
          80.3,
          80.7,
          80.9,
          81,
          76.1,
          77.8,
          76.3,
          79.8,
          79.5,
          73.7,
          75.1,
          73.4,
          82.7,
          75.5,
          79.5,
          80.1,
          81.9,
          81.5,
          82.2,
          76.5,
          80.3,
          78.7,
          76.4
         ],
         "x0": " ",
         "xaxis": "x",
         "y": [
          "High income",
          "High income",
          "High income",
          "High income",
          "High income",
          "High income",
          "High income",
          "High income",
          "High income",
          "High income",
          "High income",
          "High income",
          "High income",
          "High income",
          "High income",
          "High income",
          "High income",
          "High income",
          "High income",
          "High income",
          "High income",
          "High income",
          "High income",
          "High income",
          "High income",
          "High income",
          "High income",
          "High income",
          "High income",
          "High income",
          "High income",
          "High income",
          "High income",
          "High income",
          "High income",
          "High income",
          "High income",
          "High income",
          "High income",
          "High income",
          "High income",
          "High income",
          "High income",
          "High income",
          "High income",
          "High income",
          "High income",
          "High income",
          "High income",
          "High income",
          "High income",
          "High income",
          "High income"
         ],
         "y0": " ",
         "yaxis": "y"
        }
       ],
       "layout": {
        "boxmode": "overlay",
        "legend": {
         "title": {
          "text": "income_category"
         },
         "tracegroupgap": 0
        },
        "template": {
         "data": {
          "bar": [
           {
            "error_x": {
             "color": "rgb(51,51,51)"
            },
            "error_y": {
             "color": "rgb(51,51,51)"
            },
            "marker": {
             "line": {
              "color": "rgb(237,237,237)",
              "width": 0.5
             },
             "pattern": {
              "fillmode": "overlay",
              "size": 10,
              "solidity": 0.2
             }
            },
            "type": "bar"
           }
          ],
          "barpolar": [
           {
            "marker": {
             "line": {
              "color": "rgb(237,237,237)",
              "width": 0.5
             },
             "pattern": {
              "fillmode": "overlay",
              "size": 10,
              "solidity": 0.2
             }
            },
            "type": "barpolar"
           }
          ],
          "carpet": [
           {
            "aaxis": {
             "endlinecolor": "rgb(51,51,51)",
             "gridcolor": "white",
             "linecolor": "white",
             "minorgridcolor": "white",
             "startlinecolor": "rgb(51,51,51)"
            },
            "baxis": {
             "endlinecolor": "rgb(51,51,51)",
             "gridcolor": "white",
             "linecolor": "white",
             "minorgridcolor": "white",
             "startlinecolor": "rgb(51,51,51)"
            },
            "type": "carpet"
           }
          ],
          "choropleth": [
           {
            "colorbar": {
             "outlinewidth": 0,
             "tickcolor": "rgb(237,237,237)",
             "ticklen": 6,
             "ticks": "inside"
            },
            "type": "choropleth"
           }
          ],
          "contour": [
           {
            "colorbar": {
             "outlinewidth": 0,
             "tickcolor": "rgb(237,237,237)",
             "ticklen": 6,
             "ticks": "inside"
            },
            "colorscale": [
             [
              0,
              "rgb(20,44,66)"
             ],
             [
              1,
              "rgb(90,179,244)"
             ]
            ],
            "type": "contour"
           }
          ],
          "contourcarpet": [
           {
            "colorbar": {
             "outlinewidth": 0,
             "tickcolor": "rgb(237,237,237)",
             "ticklen": 6,
             "ticks": "inside"
            },
            "type": "contourcarpet"
           }
          ],
          "heatmap": [
           {
            "colorbar": {
             "outlinewidth": 0,
             "tickcolor": "rgb(237,237,237)",
             "ticklen": 6,
             "ticks": "inside"
            },
            "colorscale": [
             [
              0,
              "rgb(20,44,66)"
             ],
             [
              1,
              "rgb(90,179,244)"
             ]
            ],
            "type": "heatmap"
           }
          ],
          "heatmapgl": [
           {
            "colorbar": {
             "outlinewidth": 0,
             "tickcolor": "rgb(237,237,237)",
             "ticklen": 6,
             "ticks": "inside"
            },
            "colorscale": [
             [
              0,
              "rgb(20,44,66)"
             ],
             [
              1,
              "rgb(90,179,244)"
             ]
            ],
            "type": "heatmapgl"
           }
          ],
          "histogram": [
           {
            "marker": {
             "pattern": {
              "fillmode": "overlay",
              "size": 10,
              "solidity": 0.2
             }
            },
            "type": "histogram"
           }
          ],
          "histogram2d": [
           {
            "colorbar": {
             "outlinewidth": 0,
             "tickcolor": "rgb(237,237,237)",
             "ticklen": 6,
             "ticks": "inside"
            },
            "colorscale": [
             [
              0,
              "rgb(20,44,66)"
             ],
             [
              1,
              "rgb(90,179,244)"
             ]
            ],
            "type": "histogram2d"
           }
          ],
          "histogram2dcontour": [
           {
            "colorbar": {
             "outlinewidth": 0,
             "tickcolor": "rgb(237,237,237)",
             "ticklen": 6,
             "ticks": "inside"
            },
            "colorscale": [
             [
              0,
              "rgb(20,44,66)"
             ],
             [
              1,
              "rgb(90,179,244)"
             ]
            ],
            "type": "histogram2dcontour"
           }
          ],
          "mesh3d": [
           {
            "colorbar": {
             "outlinewidth": 0,
             "tickcolor": "rgb(237,237,237)",
             "ticklen": 6,
             "ticks": "inside"
            },
            "type": "mesh3d"
           }
          ],
          "parcoords": [
           {
            "line": {
             "colorbar": {
              "outlinewidth": 0,
              "tickcolor": "rgb(237,237,237)",
              "ticklen": 6,
              "ticks": "inside"
             }
            },
            "type": "parcoords"
           }
          ],
          "pie": [
           {
            "automargin": true,
            "type": "pie"
           }
          ],
          "scatter": [
           {
            "fillpattern": {
             "fillmode": "overlay",
             "size": 10,
             "solidity": 0.2
            },
            "type": "scatter"
           }
          ],
          "scatter3d": [
           {
            "line": {
             "colorbar": {
              "outlinewidth": 0,
              "tickcolor": "rgb(237,237,237)",
              "ticklen": 6,
              "ticks": "inside"
             }
            },
            "marker": {
             "colorbar": {
              "outlinewidth": 0,
              "tickcolor": "rgb(237,237,237)",
              "ticklen": 6,
              "ticks": "inside"
             }
            },
            "type": "scatter3d"
           }
          ],
          "scattercarpet": [
           {
            "marker": {
             "colorbar": {
              "outlinewidth": 0,
              "tickcolor": "rgb(237,237,237)",
              "ticklen": 6,
              "ticks": "inside"
             }
            },
            "type": "scattercarpet"
           }
          ],
          "scattergeo": [
           {
            "marker": {
             "colorbar": {
              "outlinewidth": 0,
              "tickcolor": "rgb(237,237,237)",
              "ticklen": 6,
              "ticks": "inside"
             }
            },
            "type": "scattergeo"
           }
          ],
          "scattergl": [
           {
            "marker": {
             "colorbar": {
              "outlinewidth": 0,
              "tickcolor": "rgb(237,237,237)",
              "ticklen": 6,
              "ticks": "inside"
             }
            },
            "type": "scattergl"
           }
          ],
          "scattermapbox": [
           {
            "marker": {
             "colorbar": {
              "outlinewidth": 0,
              "tickcolor": "rgb(237,237,237)",
              "ticklen": 6,
              "ticks": "inside"
             }
            },
            "type": "scattermapbox"
           }
          ],
          "scatterpolar": [
           {
            "marker": {
             "colorbar": {
              "outlinewidth": 0,
              "tickcolor": "rgb(237,237,237)",
              "ticklen": 6,
              "ticks": "inside"
             }
            },
            "type": "scatterpolar"
           }
          ],
          "scatterpolargl": [
           {
            "marker": {
             "colorbar": {
              "outlinewidth": 0,
              "tickcolor": "rgb(237,237,237)",
              "ticklen": 6,
              "ticks": "inside"
             }
            },
            "type": "scatterpolargl"
           }
          ],
          "scatterternary": [
           {
            "marker": {
             "colorbar": {
              "outlinewidth": 0,
              "tickcolor": "rgb(237,237,237)",
              "ticklen": 6,
              "ticks": "inside"
             }
            },
            "type": "scatterternary"
           }
          ],
          "surface": [
           {
            "colorbar": {
             "outlinewidth": 0,
             "tickcolor": "rgb(237,237,237)",
             "ticklen": 6,
             "ticks": "inside"
            },
            "colorscale": [
             [
              0,
              "rgb(20,44,66)"
             ],
             [
              1,
              "rgb(90,179,244)"
             ]
            ],
            "type": "surface"
           }
          ],
          "table": [
           {
            "cells": {
             "fill": {
              "color": "rgb(237,237,237)"
             },
             "line": {
              "color": "white"
             }
            },
            "header": {
             "fill": {
              "color": "rgb(217,217,217)"
             },
             "line": {
              "color": "white"
             }
            },
            "type": "table"
           }
          ]
         },
         "layout": {
          "annotationdefaults": {
           "arrowhead": 0,
           "arrowwidth": 1
          },
          "autotypenumbers": "strict",
          "coloraxis": {
           "colorbar": {
            "outlinewidth": 0,
            "tickcolor": "rgb(237,237,237)",
            "ticklen": 6,
            "ticks": "inside"
           }
          },
          "colorscale": {
           "sequential": [
            [
             0,
             "rgb(20,44,66)"
            ],
            [
             1,
             "rgb(90,179,244)"
            ]
           ],
           "sequentialminus": [
            [
             0,
             "rgb(20,44,66)"
            ],
            [
             1,
             "rgb(90,179,244)"
            ]
           ]
          },
          "colorway": [
           "#F8766D",
           "#A3A500",
           "#00BF7D",
           "#00B0F6",
           "#E76BF3"
          ],
          "font": {
           "color": "rgb(51,51,51)"
          },
          "geo": {
           "bgcolor": "white",
           "lakecolor": "white",
           "landcolor": "rgb(237,237,237)",
           "showlakes": true,
           "showland": true,
           "subunitcolor": "white"
          },
          "hoverlabel": {
           "align": "left"
          },
          "hovermode": "closest",
          "paper_bgcolor": "white",
          "plot_bgcolor": "rgb(237,237,237)",
          "polar": {
           "angularaxis": {
            "gridcolor": "white",
            "linecolor": "white",
            "showgrid": true,
            "tickcolor": "rgb(51,51,51)",
            "ticks": "outside"
           },
           "bgcolor": "rgb(237,237,237)",
           "radialaxis": {
            "gridcolor": "white",
            "linecolor": "white",
            "showgrid": true,
            "tickcolor": "rgb(51,51,51)",
            "ticks": "outside"
           }
          },
          "scene": {
           "xaxis": {
            "backgroundcolor": "rgb(237,237,237)",
            "gridcolor": "white",
            "gridwidth": 2,
            "linecolor": "white",
            "showbackground": true,
            "showgrid": true,
            "tickcolor": "rgb(51,51,51)",
            "ticks": "outside",
            "zerolinecolor": "white"
           },
           "yaxis": {
            "backgroundcolor": "rgb(237,237,237)",
            "gridcolor": "white",
            "gridwidth": 2,
            "linecolor": "white",
            "showbackground": true,
            "showgrid": true,
            "tickcolor": "rgb(51,51,51)",
            "ticks": "outside",
            "zerolinecolor": "white"
           },
           "zaxis": {
            "backgroundcolor": "rgb(237,237,237)",
            "gridcolor": "white",
            "gridwidth": 2,
            "linecolor": "white",
            "showbackground": true,
            "showgrid": true,
            "tickcolor": "rgb(51,51,51)",
            "ticks": "outside",
            "zerolinecolor": "white"
           }
          },
          "shapedefaults": {
           "fillcolor": "black",
           "line": {
            "width": 0
           },
           "opacity": 0.3
          },
          "ternary": {
           "aaxis": {
            "gridcolor": "white",
            "linecolor": "white",
            "showgrid": true,
            "tickcolor": "rgb(51,51,51)",
            "ticks": "outside"
           },
           "baxis": {
            "gridcolor": "white",
            "linecolor": "white",
            "showgrid": true,
            "tickcolor": "rgb(51,51,51)",
            "ticks": "outside"
           },
           "bgcolor": "rgb(237,237,237)",
           "caxis": {
            "gridcolor": "white",
            "linecolor": "white",
            "showgrid": true,
            "tickcolor": "rgb(51,51,51)",
            "ticks": "outside"
           }
          },
          "xaxis": {
           "automargin": true,
           "gridcolor": "white",
           "linecolor": "white",
           "showgrid": true,
           "tickcolor": "rgb(51,51,51)",
           "ticks": "outside",
           "title": {
            "standoff": 15
           },
           "zerolinecolor": "white"
          },
          "yaxis": {
           "automargin": true,
           "gridcolor": "white",
           "linecolor": "white",
           "showgrid": true,
           "tickcolor": "rgb(51,51,51)",
           "ticks": "outside",
           "title": {
            "standoff": 15
           },
           "zerolinecolor": "white"
          }
         }
        },
        "title": {
         "text": "Boxplot Life Expectation x Income Category"
        },
        "xaxis": {
         "anchor": "y",
         "domain": [
          0,
          1
         ],
         "title": {
          "text": "life_expec"
         }
        },
        "yaxis": {
         "anchor": "x",
         "categoryarray": [
          "High income",
          "Lower middle income",
          "Upper middle income",
          "Low income"
         ],
         "categoryorder": "array",
         "domain": [
          0,
          1
         ],
         "title": {
          "text": "income_category"
         }
        }
       }
      }
     },
     "metadata": {},
     "output_type": "display_data"
    }
   ],
   "source": [
    "# Boxplot of life expec x income category\n",
    "px.box(data_frame=df_countries, x='life_expec', y='income_category', color='income_category', orientation='h', hover_data=[\n",
    "       'country'], title='Boxplot Life Expectation x Income Category', color_discrete_sequence=px.colors.qualitative.Bold, template='ggplot2')"
   ]
  },
  {
   "cell_type": "code",
   "execution_count": 70,
   "metadata": {},
   "outputs": [
    {
     "data": {
      "application/vnd.plotly.v1+json": {
       "config": {
        "plotlyServerURL": "https://plot.ly"
       },
       "data": [
        {
         "customdata": [
          [
           "Afghanistan"
          ],
          [
           "Burkina Faso"
          ],
          [
           "Burundi"
          ],
          [
           "Central African Republic"
          ],
          [
           "Chad"
          ],
          [
           "Congo Dem. Rep."
          ],
          [
           "Eritrea"
          ],
          [
           "Gambia"
          ],
          [
           "Guinea-Bissau"
          ],
          [
           "Liberia"
          ],
          [
           "Madagascar"
          ],
          [
           "Malawi"
          ],
          [
           "Mali"
          ],
          [
           "Mozambique"
          ],
          [
           "Niger"
          ],
          [
           "Rwanda"
          ],
          [
           "Sierra Leone"
          ],
          [
           "Sudan"
          ],
          [
           "Togo"
          ],
          [
           "Uganda"
          ],
          [
           "Yemen"
          ]
         ],
         "hovertemplate": "income_category=Low income<br>income=%{x}<br>gdpp=%{y}<br>country=%{customdata[0]}<extra></extra>",
         "legendgroup": "Low income",
         "marker": {
          "color": "rgb(136, 204, 238)",
          "symbol": "circle"
         },
         "mode": "markers",
         "name": "Low income",
         "orientation": "v",
         "showlegend": true,
         "type": "scatter",
         "x": [
          1610,
          1430,
          764,
          888,
          1930,
          609,
          1420,
          1660,
          1390,
          700,
          1390,
          1030,
          1870,
          918,
          814,
          1350,
          1220,
          3370,
          1210,
          1540,
          4480
         ],
         "xaxis": "x",
         "y": [
          553,
          575,
          231,
          446,
          897,
          334,
          482,
          562,
          547,
          327,
          413,
          459,
          708,
          419,
          348,
          563,
          399,
          1480,
          488,
          595,
          1310
         ],
         "yaxis": "y"
        },
        {
         "customdata": [
          [
           "Albania"
          ],
          [
           "Argentina"
          ],
          [
           "Armenia"
          ],
          [
           "Azerbaijan"
          ],
          [
           "Belarus"
          ],
          [
           "Belize"
          ],
          [
           "Bosnia and Herzegovina"
          ],
          [
           "Botswana"
          ],
          [
           "Brazil"
          ],
          [
           "Bulgaria"
          ],
          [
           "China"
          ],
          [
           "Colombia"
          ],
          [
           "Costa Rica"
          ],
          [
           "Dominican Republic"
          ],
          [
           "Ecuador"
          ],
          [
           "El Salvador"
          ],
          [
           "Equatorial Guinea"
          ],
          [
           "Fiji"
          ],
          [
           "Gabon"
          ],
          [
           "Georgia"
          ],
          [
           "Grenada"
          ],
          [
           "Guatemala"
          ],
          [
           "Indonesia"
          ],
          [
           "Iraq"
          ],
          [
           "Jamaica"
          ],
          [
           "Kazakhstan"
          ],
          [
           "Libya"
          ],
          [
           "Malaysia"
          ],
          [
           "Maldives"
          ],
          [
           "Mauritius"
          ],
          [
           "Moldova"
          ],
          [
           "Montenegro"
          ],
          [
           "Namibia"
          ],
          [
           "Paraguay"
          ],
          [
           "Peru"
          ],
          [
           "Russia"
          ],
          [
           "Serbia"
          ],
          [
           "South Africa"
          ],
          [
           "St. Vincent and the Grenadines"
          ],
          [
           "Suriname"
          ],
          [
           "Thailand"
          ],
          [
           "Tonga"
          ],
          [
           "Turkey"
          ],
          [
           "Turkmenistan"
          ]
         ],
         "hovertemplate": "income_category=Upper middle income<br>income=%{x}<br>gdpp=%{y}<br>country=%{customdata[0]}<extra></extra>",
         "legendgroup": "Upper middle income",
         "marker": {
          "color": "rgb(204, 102, 119)",
          "symbol": "circle"
         },
         "mode": "markers",
         "name": "Upper middle income",
         "orientation": "v",
         "showlegend": true,
         "type": "scatter",
         "x": [
          9930,
          18700,
          6700,
          16000,
          16200,
          7880,
          9720,
          13300,
          14500,
          15300,
          9530,
          10900,
          13000,
          11100,
          9350,
          7300,
          33700,
          7350,
          15400,
          6730,
          11200,
          6710,
          8430,
          12700,
          8000,
          20100,
          29600,
          21100,
          10500,
          15900,
          3910,
          14000,
          8460,
          7290,
          9960,
          23100,
          12700,
          12000,
          9920,
          14200,
          13500,
          4980,
          18000,
          9940
         ],
         "xaxis": "x",
         "y": [
          4090,
          10300,
          3220,
          5840,
          6030,
          4340,
          4610,
          6350,
          11200,
          6840,
          4560,
          6250,
          8200,
          5450,
          4660,
          2990,
          17100,
          3650,
          8750,
          2960,
          7370,
          2830,
          3110,
          4500,
          4680,
          9070,
          12100,
          9070,
          7100,
          8000,
          1630,
          6680,
          5190,
          3230,
          5020,
          10700,
          5410,
          7280,
          6230,
          8300,
          5080,
          3550,
          10700,
          4440
         ],
         "yaxis": "y"
        },
        {
         "customdata": [
          [
           "Algeria"
          ],
          [
           "Angola"
          ],
          [
           "Bangladesh"
          ],
          [
           "Benin"
          ],
          [
           "Bhutan"
          ],
          [
           "Bolivia"
          ],
          [
           "Cambodia"
          ],
          [
           "Cameroon"
          ],
          [
           "Cape Verde"
          ],
          [
           "Comoros"
          ],
          [
           "Congo Rep."
          ],
          [
           "Cote d'Ivoire"
          ],
          [
           "Egypt"
          ],
          [
           "Ghana"
          ],
          [
           "Guinea"
          ],
          [
           "Haiti"
          ],
          [
           "India"
          ],
          [
           "Iran"
          ],
          [
           "Jordan"
          ],
          [
           "Kenya"
          ],
          [
           "Kiribati"
          ],
          [
           "Kyrgyz Republic"
          ],
          [
           "Lao"
          ],
          [
           "Lebanon"
          ],
          [
           "Lesotho"
          ],
          [
           "Mauritania"
          ],
          [
           "Micronesia"
          ],
          [
           "Mongolia"
          ],
          [
           "Morocco"
          ],
          [
           "Myanmar"
          ],
          [
           "Nepal"
          ],
          [
           "Nigeria"
          ],
          [
           "Pakistan"
          ],
          [
           "Philippines"
          ],
          [
           "Samoa"
          ],
          [
           "Senegal"
          ],
          [
           "Solomon Islands"
          ],
          [
           "Sri Lanka"
          ],
          [
           "Tajikistan"
          ],
          [
           "Tanzania"
          ],
          [
           "Timor-Leste"
          ],
          [
           "Tunisia"
          ],
          [
           "Ukraine"
          ],
          [
           "Uzbekistan"
          ],
          [
           "Vanuatu"
          ],
          [
           "Vietnam"
          ],
          [
           "Zambia"
          ]
         ],
         "hovertemplate": "income_category=Lower middle income<br>income=%{x}<br>gdpp=%{y}<br>country=%{customdata[0]}<extra></extra>",
         "legendgroup": "Lower middle income",
         "marker": {
          "color": "rgb(221, 204, 119)",
          "symbol": "circle"
         },
         "mode": "markers",
         "name": "Lower middle income",
         "orientation": "v",
         "showlegend": true,
         "type": "scatter",
         "x": [
          12900,
          5900,
          2440,
          1820,
          6420,
          5410,
          2520,
          2660,
          5830,
          1410,
          5190,
          2690,
          9860,
          3060,
          1190,
          1500,
          4410,
          17400,
          9470,
          2480,
          1730,
          2790,
          3980,
          16300,
          2380,
          3320,
          3340,
          7710,
          6440,
          3720,
          1990,
          5150,
          4280,
          5600,
          5400,
          2180,
          1780,
          8560,
          2110,
          2090,
          1850,
          10400,
          7820,
          4240,
          2950,
          4490,
          3280
         ],
         "xaxis": "x",
         "y": [
          4460,
          3530,
          758,
          758,
          2180,
          1980,
          786,
          1310,
          3310,
          769,
          2740,
          1220,
          2600,
          1310,
          648,
          662,
          1350,
          6530,
          3680,
          967,
          1490,
          880,
          1140,
          8860,
          1170,
          1200,
          2860,
          2650,
          2830,
          988,
          592,
          2330,
          1040,
          2130,
          3450,
          1000,
          1290,
          2810,
          738,
          702,
          3600,
          4140,
          2970,
          1380,
          2970,
          1310,
          1460
         ],
         "yaxis": "y"
        },
        {
         "customdata": [
          [
           "Antigua and Barbuda"
          ],
          [
           "Australia"
          ],
          [
           "Austria"
          ],
          [
           "Bahamas"
          ],
          [
           "Bahrain"
          ],
          [
           "Barbados"
          ],
          [
           "Belgium"
          ],
          [
           "Brunei"
          ],
          [
           "Canada"
          ],
          [
           "Chile"
          ],
          [
           "Croatia"
          ],
          [
           "Cyprus"
          ],
          [
           "Czech Republic"
          ],
          [
           "Denmark"
          ],
          [
           "Estonia"
          ],
          [
           "Finland"
          ],
          [
           "France"
          ],
          [
           "Germany"
          ],
          [
           "Greece"
          ],
          [
           "Guyana"
          ],
          [
           "Hungary"
          ],
          [
           "Iceland"
          ],
          [
           "Ireland"
          ],
          [
           "Israel"
          ],
          [
           "Italy"
          ],
          [
           "Japan"
          ],
          [
           "Kuwait"
          ],
          [
           "Latvia"
          ],
          [
           "Lithuania"
          ],
          [
           "Luxembourg"
          ],
          [
           "Malta"
          ],
          [
           "Netherlands"
          ],
          [
           "New Zealand"
          ],
          [
           "Norway"
          ],
          [
           "Oman"
          ],
          [
           "Panama"
          ],
          [
           "Poland"
          ],
          [
           "Portugal"
          ],
          [
           "Qatar"
          ],
          [
           "Romania"
          ],
          [
           "Saudi Arabia"
          ],
          [
           "Seychelles"
          ],
          [
           "Singapore"
          ],
          [
           "Slovak Republic"
          ],
          [
           "Slovenia"
          ],
          [
           "South Korea"
          ],
          [
           "Spain"
          ],
          [
           "Sweden"
          ],
          [
           "Switzerland"
          ],
          [
           "United Arab Emirates"
          ],
          [
           "United Kingdom"
          ],
          [
           "United States"
          ],
          [
           "Uruguay"
          ]
         ],
         "hovertemplate": "income_category=High income<br>income=%{x}<br>gdpp=%{y}<br>country=%{customdata[0]}<extra></extra>",
         "legendgroup": "High income",
         "marker": {
          "color": "rgb(17, 119, 51)",
          "symbol": "circle"
         },
         "mode": "markers",
         "name": "High income",
         "orientation": "v",
         "showlegend": true,
         "type": "scatter",
         "x": [
          19100,
          41400,
          43200,
          22900,
          41100,
          15300,
          41100,
          80600,
          40700,
          19400,
          20100,
          33900,
          28300,
          44000,
          22700,
          39800,
          36900,
          40400,
          28700,
          5840,
          22300,
          38800,
          45700,
          29600,
          36200,
          35800,
          75200,
          18300,
          21100,
          91700,
          28300,
          45500,
          32300,
          62300,
          45300,
          15400,
          21800,
          27200,
          125000,
          17800,
          45400,
          20400,
          72100,
          25200,
          28700,
          30400,
          32500,
          42900,
          55500,
          57600,
          36200,
          49400,
          17100
         ],
         "xaxis": "x",
         "y": [
          12200,
          51900,
          46900,
          28000,
          20700,
          16000,
          44400,
          35300,
          47400,
          12900,
          13500,
          30800,
          19800,
          58000,
          14600,
          46200,
          40600,
          41800,
          26900,
          3040,
          13100,
          41900,
          48700,
          30600,
          35800,
          44500,
          38500,
          11300,
          12000,
          105000,
          21100,
          50300,
          33700,
          87800,
          19300,
          8080,
          12600,
          22500,
          70300,
          8230,
          19300,
          10800,
          46600,
          16600,
          23400,
          22100,
          30700,
          52100,
          74600,
          35000,
          38900,
          48400,
          11900
         ],
         "yaxis": "y"
        }
       ],
       "layout": {
        "legend": {
         "title": {
          "text": "income_category"
         },
         "tracegroupgap": 0
        },
        "template": {
         "data": {
          "bar": [
           {
            "error_x": {
             "color": "rgb(51,51,51)"
            },
            "error_y": {
             "color": "rgb(51,51,51)"
            },
            "marker": {
             "line": {
              "color": "rgb(237,237,237)",
              "width": 0.5
             },
             "pattern": {
              "fillmode": "overlay",
              "size": 10,
              "solidity": 0.2
             }
            },
            "type": "bar"
           }
          ],
          "barpolar": [
           {
            "marker": {
             "line": {
              "color": "rgb(237,237,237)",
              "width": 0.5
             },
             "pattern": {
              "fillmode": "overlay",
              "size": 10,
              "solidity": 0.2
             }
            },
            "type": "barpolar"
           }
          ],
          "carpet": [
           {
            "aaxis": {
             "endlinecolor": "rgb(51,51,51)",
             "gridcolor": "white",
             "linecolor": "white",
             "minorgridcolor": "white",
             "startlinecolor": "rgb(51,51,51)"
            },
            "baxis": {
             "endlinecolor": "rgb(51,51,51)",
             "gridcolor": "white",
             "linecolor": "white",
             "minorgridcolor": "white",
             "startlinecolor": "rgb(51,51,51)"
            },
            "type": "carpet"
           }
          ],
          "choropleth": [
           {
            "colorbar": {
             "outlinewidth": 0,
             "tickcolor": "rgb(237,237,237)",
             "ticklen": 6,
             "ticks": "inside"
            },
            "type": "choropleth"
           }
          ],
          "contour": [
           {
            "colorbar": {
             "outlinewidth": 0,
             "tickcolor": "rgb(237,237,237)",
             "ticklen": 6,
             "ticks": "inside"
            },
            "colorscale": [
             [
              0,
              "rgb(20,44,66)"
             ],
             [
              1,
              "rgb(90,179,244)"
             ]
            ],
            "type": "contour"
           }
          ],
          "contourcarpet": [
           {
            "colorbar": {
             "outlinewidth": 0,
             "tickcolor": "rgb(237,237,237)",
             "ticklen": 6,
             "ticks": "inside"
            },
            "type": "contourcarpet"
           }
          ],
          "heatmap": [
           {
            "colorbar": {
             "outlinewidth": 0,
             "tickcolor": "rgb(237,237,237)",
             "ticklen": 6,
             "ticks": "inside"
            },
            "colorscale": [
             [
              0,
              "rgb(20,44,66)"
             ],
             [
              1,
              "rgb(90,179,244)"
             ]
            ],
            "type": "heatmap"
           }
          ],
          "heatmapgl": [
           {
            "colorbar": {
             "outlinewidth": 0,
             "tickcolor": "rgb(237,237,237)",
             "ticklen": 6,
             "ticks": "inside"
            },
            "colorscale": [
             [
              0,
              "rgb(20,44,66)"
             ],
             [
              1,
              "rgb(90,179,244)"
             ]
            ],
            "type": "heatmapgl"
           }
          ],
          "histogram": [
           {
            "marker": {
             "pattern": {
              "fillmode": "overlay",
              "size": 10,
              "solidity": 0.2
             }
            },
            "type": "histogram"
           }
          ],
          "histogram2d": [
           {
            "colorbar": {
             "outlinewidth": 0,
             "tickcolor": "rgb(237,237,237)",
             "ticklen": 6,
             "ticks": "inside"
            },
            "colorscale": [
             [
              0,
              "rgb(20,44,66)"
             ],
             [
              1,
              "rgb(90,179,244)"
             ]
            ],
            "type": "histogram2d"
           }
          ],
          "histogram2dcontour": [
           {
            "colorbar": {
             "outlinewidth": 0,
             "tickcolor": "rgb(237,237,237)",
             "ticklen": 6,
             "ticks": "inside"
            },
            "colorscale": [
             [
              0,
              "rgb(20,44,66)"
             ],
             [
              1,
              "rgb(90,179,244)"
             ]
            ],
            "type": "histogram2dcontour"
           }
          ],
          "mesh3d": [
           {
            "colorbar": {
             "outlinewidth": 0,
             "tickcolor": "rgb(237,237,237)",
             "ticklen": 6,
             "ticks": "inside"
            },
            "type": "mesh3d"
           }
          ],
          "parcoords": [
           {
            "line": {
             "colorbar": {
              "outlinewidth": 0,
              "tickcolor": "rgb(237,237,237)",
              "ticklen": 6,
              "ticks": "inside"
             }
            },
            "type": "parcoords"
           }
          ],
          "pie": [
           {
            "automargin": true,
            "type": "pie"
           }
          ],
          "scatter": [
           {
            "fillpattern": {
             "fillmode": "overlay",
             "size": 10,
             "solidity": 0.2
            },
            "type": "scatter"
           }
          ],
          "scatter3d": [
           {
            "line": {
             "colorbar": {
              "outlinewidth": 0,
              "tickcolor": "rgb(237,237,237)",
              "ticklen": 6,
              "ticks": "inside"
             }
            },
            "marker": {
             "colorbar": {
              "outlinewidth": 0,
              "tickcolor": "rgb(237,237,237)",
              "ticklen": 6,
              "ticks": "inside"
             }
            },
            "type": "scatter3d"
           }
          ],
          "scattercarpet": [
           {
            "marker": {
             "colorbar": {
              "outlinewidth": 0,
              "tickcolor": "rgb(237,237,237)",
              "ticklen": 6,
              "ticks": "inside"
             }
            },
            "type": "scattercarpet"
           }
          ],
          "scattergeo": [
           {
            "marker": {
             "colorbar": {
              "outlinewidth": 0,
              "tickcolor": "rgb(237,237,237)",
              "ticklen": 6,
              "ticks": "inside"
             }
            },
            "type": "scattergeo"
           }
          ],
          "scattergl": [
           {
            "marker": {
             "colorbar": {
              "outlinewidth": 0,
              "tickcolor": "rgb(237,237,237)",
              "ticklen": 6,
              "ticks": "inside"
             }
            },
            "type": "scattergl"
           }
          ],
          "scattermapbox": [
           {
            "marker": {
             "colorbar": {
              "outlinewidth": 0,
              "tickcolor": "rgb(237,237,237)",
              "ticklen": 6,
              "ticks": "inside"
             }
            },
            "type": "scattermapbox"
           }
          ],
          "scatterpolar": [
           {
            "marker": {
             "colorbar": {
              "outlinewidth": 0,
              "tickcolor": "rgb(237,237,237)",
              "ticklen": 6,
              "ticks": "inside"
             }
            },
            "type": "scatterpolar"
           }
          ],
          "scatterpolargl": [
           {
            "marker": {
             "colorbar": {
              "outlinewidth": 0,
              "tickcolor": "rgb(237,237,237)",
              "ticklen": 6,
              "ticks": "inside"
             }
            },
            "type": "scatterpolargl"
           }
          ],
          "scatterternary": [
           {
            "marker": {
             "colorbar": {
              "outlinewidth": 0,
              "tickcolor": "rgb(237,237,237)",
              "ticklen": 6,
              "ticks": "inside"
             }
            },
            "type": "scatterternary"
           }
          ],
          "surface": [
           {
            "colorbar": {
             "outlinewidth": 0,
             "tickcolor": "rgb(237,237,237)",
             "ticklen": 6,
             "ticks": "inside"
            },
            "colorscale": [
             [
              0,
              "rgb(20,44,66)"
             ],
             [
              1,
              "rgb(90,179,244)"
             ]
            ],
            "type": "surface"
           }
          ],
          "table": [
           {
            "cells": {
             "fill": {
              "color": "rgb(237,237,237)"
             },
             "line": {
              "color": "white"
             }
            },
            "header": {
             "fill": {
              "color": "rgb(217,217,217)"
             },
             "line": {
              "color": "white"
             }
            },
            "type": "table"
           }
          ]
         },
         "layout": {
          "annotationdefaults": {
           "arrowhead": 0,
           "arrowwidth": 1
          },
          "autotypenumbers": "strict",
          "coloraxis": {
           "colorbar": {
            "outlinewidth": 0,
            "tickcolor": "rgb(237,237,237)",
            "ticklen": 6,
            "ticks": "inside"
           }
          },
          "colorscale": {
           "sequential": [
            [
             0,
             "rgb(20,44,66)"
            ],
            [
             1,
             "rgb(90,179,244)"
            ]
           ],
           "sequentialminus": [
            [
             0,
             "rgb(20,44,66)"
            ],
            [
             1,
             "rgb(90,179,244)"
            ]
           ]
          },
          "colorway": [
           "#F8766D",
           "#A3A500",
           "#00BF7D",
           "#00B0F6",
           "#E76BF3"
          ],
          "font": {
           "color": "rgb(51,51,51)"
          },
          "geo": {
           "bgcolor": "white",
           "lakecolor": "white",
           "landcolor": "rgb(237,237,237)",
           "showlakes": true,
           "showland": true,
           "subunitcolor": "white"
          },
          "hoverlabel": {
           "align": "left"
          },
          "hovermode": "closest",
          "paper_bgcolor": "white",
          "plot_bgcolor": "rgb(237,237,237)",
          "polar": {
           "angularaxis": {
            "gridcolor": "white",
            "linecolor": "white",
            "showgrid": true,
            "tickcolor": "rgb(51,51,51)",
            "ticks": "outside"
           },
           "bgcolor": "rgb(237,237,237)",
           "radialaxis": {
            "gridcolor": "white",
            "linecolor": "white",
            "showgrid": true,
            "tickcolor": "rgb(51,51,51)",
            "ticks": "outside"
           }
          },
          "scene": {
           "xaxis": {
            "backgroundcolor": "rgb(237,237,237)",
            "gridcolor": "white",
            "gridwidth": 2,
            "linecolor": "white",
            "showbackground": true,
            "showgrid": true,
            "tickcolor": "rgb(51,51,51)",
            "ticks": "outside",
            "zerolinecolor": "white"
           },
           "yaxis": {
            "backgroundcolor": "rgb(237,237,237)",
            "gridcolor": "white",
            "gridwidth": 2,
            "linecolor": "white",
            "showbackground": true,
            "showgrid": true,
            "tickcolor": "rgb(51,51,51)",
            "ticks": "outside",
            "zerolinecolor": "white"
           },
           "zaxis": {
            "backgroundcolor": "rgb(237,237,237)",
            "gridcolor": "white",
            "gridwidth": 2,
            "linecolor": "white",
            "showbackground": true,
            "showgrid": true,
            "tickcolor": "rgb(51,51,51)",
            "ticks": "outside",
            "zerolinecolor": "white"
           }
          },
          "shapedefaults": {
           "fillcolor": "black",
           "line": {
            "width": 0
           },
           "opacity": 0.3
          },
          "ternary": {
           "aaxis": {
            "gridcolor": "white",
            "linecolor": "white",
            "showgrid": true,
            "tickcolor": "rgb(51,51,51)",
            "ticks": "outside"
           },
           "baxis": {
            "gridcolor": "white",
            "linecolor": "white",
            "showgrid": true,
            "tickcolor": "rgb(51,51,51)",
            "ticks": "outside"
           },
           "bgcolor": "rgb(237,237,237)",
           "caxis": {
            "gridcolor": "white",
            "linecolor": "white",
            "showgrid": true,
            "tickcolor": "rgb(51,51,51)",
            "ticks": "outside"
           }
          },
          "xaxis": {
           "automargin": true,
           "gridcolor": "white",
           "linecolor": "white",
           "showgrid": true,
           "tickcolor": "rgb(51,51,51)",
           "ticks": "outside",
           "title": {
            "standoff": 15
           },
           "zerolinecolor": "white"
          },
          "yaxis": {
           "automargin": true,
           "gridcolor": "white",
           "linecolor": "white",
           "showgrid": true,
           "tickcolor": "rgb(51,51,51)",
           "ticks": "outside",
           "title": {
            "standoff": 15
           },
           "zerolinecolor": "white"
          }
         }
        },
        "title": {
         "text": "Scatterplot Income x GDPP"
        },
        "xaxis": {
         "anchor": "y",
         "domain": [
          0,
          1
         ],
         "title": {
          "text": "income"
         }
        },
        "yaxis": {
         "anchor": "x",
         "domain": [
          0,
          1
         ],
         "title": {
          "text": "gdpp"
         }
        }
       }
      }
     },
     "metadata": {},
     "output_type": "display_data"
    }
   ],
   "source": [
    "# Scatterplot of income x gdpp\n",
    "px.scatter(data_frame=df_countries, x='income', y='gdpp', color='income_category', hover_data=[\n",
    "           'country'], title='Scatterplot Income x GDPP', color_discrete_sequence=px.colors.qualitative.Safe, template='ggplot2')"
   ]
  },
  {
   "cell_type": "code",
   "execution_count": 71,
   "metadata": {},
   "outputs": [
    {
     "data": {
      "text/plain": [
       "<Axes: >"
      ]
     },
     "execution_count": 71,
     "metadata": {},
     "output_type": "execute_result"
    },
    {
     "data": {
      "image/png": "[encoded data removed]",
      "text/plain": [
       "<Figure size 640x480 with 2 Axes>"
      ]
     },
     "metadata": {},
     "output_type": "display_data"
    }
   ],
   "source": [
    "# Correlation matrix\n",
    "matrix_corr_countries = df_countries.corr(numeric_only=True)\n",
    "\n",
    "# Heatmap of correlation\n",
    "sns.heatmap(data=matrix_corr_countries, vmin=-1, vmax=1, annot=True, cmap='RdBu',\n",
    "            square=True, linewidths=0.1, cbar_kws={\"shrink\": 0.5}, annot_kws={\"size\": 8}, fmt='.2f', center=0)"
   ]
  },
  {
   "cell_type": "markdown",
   "metadata": {},
   "source": [
    "### Bloco 3 - Treinamento do Algoritmo\n",
    "\n",
    "Neste trecho, explicamos a importância de normalizar variáveis antes de aplicar o PCA. Demonstramos como selecionar e preparar as variáveis para o algoritmo, aplicar transformações nos dados numéricos e executar o PCA com 3 componentes. Mostramos como incorporar os componentes principais de volta ao DataFrame original e visualizamos os resultados. Por fim, mencionamos a próxima etapa de calcular métricas para avaliar a eficácia da redução de dimensionalidade."
   ]
  },
  {
   "cell_type": "code",
   "execution_count": 72,
   "metadata": {},
   "outputs": [
    {
     "data": {
      "text/html": [
       "<div>\n",
       "<style scoped>\n",
       "    .dataframe tbody tr th:only-of-type {\n",
       "        vertical-align: middle;\n",
       "    }\n",
       "\n",
       "    .dataframe tbody tr th {\n",
       "        vertical-align: top;\n",
       "    }\n",
       "\n",
       "    .dataframe thead th {\n",
       "        text-align: right;\n",
       "    }\n",
       "</style>\n",
       "<table border=\"1\" class=\"dataframe\">\n",
       "  <thead>\n",
       "    <tr style=\"text-align: right;\">\n",
       "      <th></th>\n",
       "      <th>child_mort</th>\n",
       "      <th>exports</th>\n",
       "      <th>health</th>\n",
       "      <th>imports</th>\n",
       "      <th>income</th>\n",
       "      <th>inflation</th>\n",
       "      <th>life_expec</th>\n",
       "      <th>total_fer</th>\n",
       "      <th>gdpp</th>\n",
       "    </tr>\n",
       "  </thead>\n",
       "  <tbody>\n",
       "    <tr>\n",
       "      <th>0</th>\n",
       "      <td>1.279368</td>\n",
       "      <td>-1.135248</td>\n",
       "      <td>0.274231</td>\n",
       "      <td>-0.086914</td>\n",
       "      <td>-0.805613</td>\n",
       "      <td>0.182389</td>\n",
       "      <td>-1.605924</td>\n",
       "      <td>1.889707</td>\n",
       "      <td>-0.678137</td>\n",
       "    </tr>\n",
       "    <tr>\n",
       "      <th>1</th>\n",
       "      <td>-0.544310</td>\n",
       "      <td>-0.480157</td>\n",
       "      <td>-0.100171</td>\n",
       "      <td>0.066235</td>\n",
       "      <td>-0.375219</td>\n",
       "      <td>-0.304469</td>\n",
       "      <td>0.650493</td>\n",
       "      <td>-0.865390</td>\n",
       "      <td>-0.485619</td>\n",
       "    </tr>\n",
       "    <tr>\n",
       "      <th>2</th>\n",
       "      <td>-0.279183</td>\n",
       "      <td>-0.101660</td>\n",
       "      <td>-0.965295</td>\n",
       "      <td>-0.645699</td>\n",
       "      <td>-0.221581</td>\n",
       "      <td>0.837434</td>\n",
       "      <td>0.672945</td>\n",
       "      <td>-0.046128</td>\n",
       "      <td>-0.465480</td>\n",
       "    </tr>\n",
       "    <tr>\n",
       "      <th>3</th>\n",
       "      <td>1.992981</td>\n",
       "      <td>0.768155</td>\n",
       "      <td>-1.445112</td>\n",
       "      <td>-0.169697</td>\n",
       "      <td>-0.583692</td>\n",
       "      <td>1.457072</td>\n",
       "      <td>-1.168112</td>\n",
       "      <td>2.114343</td>\n",
       "      <td>-0.516100</td>\n",
       "    </tr>\n",
       "    <tr>\n",
       "      <th>4</th>\n",
       "      <td>-0.700413</td>\n",
       "      <td>0.156737</td>\n",
       "      <td>-0.289190</td>\n",
       "      <td>0.492568</td>\n",
       "      <td>0.099145</td>\n",
       "      <td>-0.604453</td>\n",
       "      <td>0.706623</td>\n",
       "      <td>-0.548256</td>\n",
       "      <td>-0.044195</td>\n",
       "    </tr>\n",
       "    <tr>\n",
       "      <th>...</th>\n",
       "      <td>...</td>\n",
       "      <td>...</td>\n",
       "      <td>...</td>\n",
       "      <td>...</td>\n",
       "      <td>...</td>\n",
       "      <td>...</td>\n",
       "      <td>...</td>\n",
       "      <td>...</td>\n",
       "      <td>...</td>\n",
       "    </tr>\n",
       "    <tr>\n",
       "      <th>160</th>\n",
       "      <td>-0.056179</td>\n",
       "      <td>-0.345500</td>\n",
       "      <td>-0.369159</td>\n",
       "      <td>-0.765735</td>\n",
       "      <td>-0.669563</td>\n",
       "      <td>0.876776</td>\n",
       "      <td>-0.191454</td>\n",
       "      <td>-0.409510</td>\n",
       "      <td>-0.633123</td>\n",
       "    </tr>\n",
       "    <tr>\n",
       "      <th>161</th>\n",
       "      <td>-0.232105</td>\n",
       "      <td>0.196770</td>\n",
       "      <td>-0.572718</td>\n",
       "      <td>0.235940</td>\n",
       "      <td>-0.736295</td>\n",
       "      <td>-0.488394</td>\n",
       "      <td>-0.842559</td>\n",
       "      <td>0.356895</td>\n",
       "      <td>-0.546580</td>\n",
       "    </tr>\n",
       "    <tr>\n",
       "      <th>162</th>\n",
       "      <td>-0.378296</td>\n",
       "      <td>1.121176</td>\n",
       "      <td>0.005243</td>\n",
       "      <td>1.374207</td>\n",
       "      <td>-0.656631</td>\n",
       "      <td>0.444013</td>\n",
       "      <td>0.291263</td>\n",
       "      <td>-0.667181</td>\n",
       "      <td>-0.636933</td>\n",
       "    </tr>\n",
       "    <tr>\n",
       "      <th>163</th>\n",
       "      <td>0.439386</td>\n",
       "      <td>-0.407369</td>\n",
       "      <td>-0.598163</td>\n",
       "      <td>-0.521525</td>\n",
       "      <td>-0.657148</td>\n",
       "      <td>1.575098</td>\n",
       "      <td>-0.337391</td>\n",
       "      <td>1.129908</td>\n",
       "      <td>-0.636933</td>\n",
       "    </tr>\n",
       "    <tr>\n",
       "      <th>164</th>\n",
       "      <td>1.103443</td>\n",
       "      <td>-0.152612</td>\n",
       "      <td>-0.340079</td>\n",
       "      <td>-0.666395</td>\n",
       "      <td>-0.719224</td>\n",
       "      <td>0.630888</td>\n",
       "      <td>-2.077414</td>\n",
       "      <td>1.612215</td>\n",
       "      <td>-0.628769</td>\n",
       "    </tr>\n",
       "  </tbody>\n",
       "</table>\n",
       "<p>165 rows × 9 columns</p>\n",
       "</div>"
      ],
      "text/plain": [
       "     child_mort   exports    health   imports    income  inflation  \\\n",
       "0      1.279368 -1.135248  0.274231 -0.086914 -0.805613   0.182389   \n",
       "1     -0.544310 -0.480157 -0.100171  0.066235 -0.375219  -0.304469   \n",
       "2     -0.279183 -0.101660 -0.965295 -0.645699 -0.221581   0.837434   \n",
       "3      1.992981  0.768155 -1.445112 -0.169697 -0.583692   1.457072   \n",
       "4     -0.700413  0.156737 -0.289190  0.492568  0.099145  -0.604453   \n",
       "..          ...       ...       ...       ...       ...        ...   \n",
       "160   -0.056179 -0.345500 -0.369159 -0.765735 -0.669563   0.876776   \n",
       "161   -0.232105  0.196770 -0.572718  0.235940 -0.736295  -0.488394   \n",
       "162   -0.378296  1.121176  0.005243  1.374207 -0.656631   0.444013   \n",
       "163    0.439386 -0.407369 -0.598163 -0.521525 -0.657148   1.575098   \n",
       "164    1.103443 -0.152612 -0.340079 -0.666395 -0.719224   0.630888   \n",
       "\n",
       "     life_expec  total_fer      gdpp  \n",
       "0     -1.605924   1.889707 -0.678137  \n",
       "1      0.650493  -0.865390 -0.485619  \n",
       "2      0.672945  -0.046128 -0.465480  \n",
       "3     -1.168112   2.114343 -0.516100  \n",
       "4      0.706623  -0.548256 -0.044195  \n",
       "..          ...        ...       ...  \n",
       "160   -0.191454  -0.409510 -0.633123  \n",
       "161   -0.842559   0.356895 -0.546580  \n",
       "162    0.291263  -0.667181 -0.636933  \n",
       "163   -0.337391   1.129908 -0.636933  \n",
       "164   -2.077414   1.612215 -0.628769  \n",
       "\n",
       "[165 rows x 9 columns]"
      ]
     },
     "execution_count": 72,
     "metadata": {},
     "output_type": "execute_result"
    }
   ],
   "source": [
    "# copy dataframe\n",
    "df_countries_transformed = df_countries.copy()\n",
    "\n",
    "# drop unnecessary columns\n",
    "df_countries_transformed.drop(\n",
    "    columns=['country', 'income_category'], axis=1, inplace=True)\n",
    "\n",
    "# create list of numeric features\n",
    "numeric_features = df_countries_transformed.select_dtypes(\n",
    "    include=['int64', 'float64']).columns\n",
    "\n",
    "# standardize numeric features\n",
    "numeric_transformer = StandardScaler()\n",
    "\n",
    "# create preprocessor\n",
    "preprocessor = ColumnTransformer(\n",
    "    transformers=[('num', numeric_transformer, numeric_features)])\n",
    "\n",
    "# fit preprocessor\n",
    "df_countries_encoded = preprocessor.fit_transform(X=df_countries_transformed)\n",
    "\n",
    "# create dataframe from encoded data\n",
    "df_countries_encoded_display = pd.DataFrame(\n",
    "    pd.DataFrame(df_countries_encoded, columns=numeric_features))\n",
    "\n",
    "# display\n",
    "df_countries_encoded_display"
   ]
  },
  {
   "cell_type": "code",
   "execution_count": 73,
   "metadata": {},
   "outputs": [
    {
     "data": {
      "text/html": [
       "<div>\n",
       "<style scoped>\n",
       "    .dataframe tbody tr th:only-of-type {\n",
       "        vertical-align: middle;\n",
       "    }\n",
       "\n",
       "    .dataframe tbody tr th {\n",
       "        vertical-align: top;\n",
       "    }\n",
       "\n",
       "    .dataframe thead th {\n",
       "        text-align: right;\n",
       "    }\n",
       "</style>\n",
       "<table border=\"1\" class=\"dataframe\">\n",
       "  <thead>\n",
       "    <tr style=\"text-align: right;\">\n",
       "      <th></th>\n",
       "      <th>0</th>\n",
       "      <th>1</th>\n",
       "      <th>2</th>\n",
       "      <th>3</th>\n",
       "      <th>4</th>\n",
       "      <th>5</th>\n",
       "      <th>6</th>\n",
       "      <th>7</th>\n",
       "      <th>8</th>\n",
       "      <th>9</th>\n",
       "      <th>...</th>\n",
       "      <th>155</th>\n",
       "      <th>156</th>\n",
       "      <th>157</th>\n",
       "      <th>158</th>\n",
       "      <th>159</th>\n",
       "      <th>160</th>\n",
       "      <th>161</th>\n",
       "      <th>162</th>\n",
       "      <th>163</th>\n",
       "      <th>164</th>\n",
       "    </tr>\n",
       "  </thead>\n",
       "  <tbody>\n",
       "    <tr>\n",
       "      <th>0</th>\n",
       "      <td>1.281018</td>\n",
       "      <td>-0.309291</td>\n",
       "      <td>-0.132991</td>\n",
       "      <td>1.055036</td>\n",
       "      <td>-0.447859</td>\n",
       "      <td>-0.134766</td>\n",
       "      <td>-0.202244</td>\n",
       "      <td>-0.714776</td>\n",
       "      <td>-0.870255</td>\n",
       "      <td>-0.158039</td>\n",
       "      <td>...</td>\n",
       "      <td>-0.267971</td>\n",
       "      <td>-0.923682</td>\n",
       "      <td>-0.625688</td>\n",
       "      <td>-0.474692</td>\n",
       "      <td>-0.293142</td>\n",
       "      <td>0.094064</td>\n",
       "      <td>0.250492</td>\n",
       "      <td>-0.311630</td>\n",
       "      <td>0.603806</td>\n",
       "      <td>1.119862</td>\n",
       "    </tr>\n",
       "    <tr>\n",
       "      <th>1</th>\n",
       "      <td>-0.309291</td>\n",
       "      <td>0.190231</td>\n",
       "      <td>0.057183</td>\n",
       "      <td>-0.402486</td>\n",
       "      <td>0.158975</td>\n",
       "      <td>0.092268</td>\n",
       "      <td>0.134715</td>\n",
       "      <td>0.146901</td>\n",
       "      <td>0.192758</td>\n",
       "      <td>-0.024644</td>\n",
       "      <td>...</td>\n",
       "      <td>0.123051</td>\n",
       "      <td>0.064650</td>\n",
       "      <td>0.163735</td>\n",
       "      <td>0.171113</td>\n",
       "      <td>0.134192</td>\n",
       "      <td>0.001217</td>\n",
       "      <td>-0.096754</td>\n",
       "      <td>0.148551</td>\n",
       "      <td>-0.142873</td>\n",
       "      <td>-0.404532</td>\n",
       "    </tr>\n",
       "    <tr>\n",
       "      <th>2</th>\n",
       "      <td>-0.132991</td>\n",
       "      <td>0.057183</td>\n",
       "      <td>0.336890</td>\n",
       "      <td>0.238354</td>\n",
       "      <td>0.004402</td>\n",
       "      <td>0.261329</td>\n",
       "      <td>0.154519</td>\n",
       "      <td>-0.046112</td>\n",
       "      <td>-0.211639</td>\n",
       "      <td>0.174398</td>\n",
       "      <td>...</td>\n",
       "      <td>0.053309</td>\n",
       "      <td>0.141114</td>\n",
       "      <td>-0.087810</td>\n",
       "      <td>-0.414144</td>\n",
       "      <td>0.040733</td>\n",
       "      <td>0.202873</td>\n",
       "      <td>-0.060551</td>\n",
       "      <td>0.032610</td>\n",
       "      <td>0.289119</td>\n",
       "      <td>-0.024130</td>\n",
       "    </tr>\n",
       "    <tr>\n",
       "      <th>3</th>\n",
       "      <td>1.055036</td>\n",
       "      <td>-0.402486</td>\n",
       "      <td>0.238354</td>\n",
       "      <td>1.822171</td>\n",
       "      <td>-0.455312</td>\n",
       "      <td>-0.203773</td>\n",
       "      <td>-0.098385</td>\n",
       "      <td>-1.142357</td>\n",
       "      <td>-1.344139</td>\n",
       "      <td>0.172611</td>\n",
       "      <td>...</td>\n",
       "      <td>-0.247744</td>\n",
       "      <td>-0.425278</td>\n",
       "      <td>-1.077603</td>\n",
       "      <td>-1.807536</td>\n",
       "      <td>-0.537765</td>\n",
       "      <td>0.292091</td>\n",
       "      <td>0.366356</td>\n",
       "      <td>-0.096191</td>\n",
       "      <td>0.913746</td>\n",
       "      <td>1.315301</td>\n",
       "    </tr>\n",
       "    <tr>\n",
       "      <th>4</th>\n",
       "      <td>-0.447859</td>\n",
       "      <td>0.158975</td>\n",
       "      <td>0.004402</td>\n",
       "      <td>-0.455312</td>\n",
       "      <td>0.244875</td>\n",
       "      <td>-0.085335</td>\n",
       "      <td>0.099020</td>\n",
       "      <td>0.192302</td>\n",
       "      <td>0.290786</td>\n",
       "      <td>-0.074771</td>\n",
       "      <td>...</td>\n",
       "      <td>0.068234</td>\n",
       "      <td>0.305581</td>\n",
       "      <td>0.191033</td>\n",
       "      <td>0.049301</td>\n",
       "      <td>0.074909</td>\n",
       "      <td>-0.121587</td>\n",
       "      <td>-0.035386</td>\n",
       "      <td>0.181902</td>\n",
       "      <td>-0.287952</td>\n",
       "      <td>-0.488001</td>\n",
       "    </tr>\n",
       "    <tr>\n",
       "      <th>...</th>\n",
       "      <td>...</td>\n",
       "      <td>...</td>\n",
       "      <td>...</td>\n",
       "      <td>...</td>\n",
       "      <td>...</td>\n",
       "      <td>...</td>\n",
       "      <td>...</td>\n",
       "      <td>...</td>\n",
       "      <td>...</td>\n",
       "      <td>...</td>\n",
       "      <td>...</td>\n",
       "      <td>...</td>\n",
       "      <td>...</td>\n",
       "      <td>...</td>\n",
       "      <td>...</td>\n",
       "      <td>...</td>\n",
       "      <td>...</td>\n",
       "      <td>...</td>\n",
       "      <td>...</td>\n",
       "      <td>...</td>\n",
       "      <td>...</td>\n",
       "    </tr>\n",
       "    <tr>\n",
       "      <th>160</th>\n",
       "      <td>0.094064</td>\n",
       "      <td>0.001217</td>\n",
       "      <td>0.202873</td>\n",
       "      <td>0.292091</td>\n",
       "      <td>-0.121587</td>\n",
       "      <td>0.267169</td>\n",
       "      <td>0.073313</td>\n",
       "      <td>-0.178865</td>\n",
       "      <td>-0.257191</td>\n",
       "      <td>0.183447</td>\n",
       "      <td>...</td>\n",
       "      <td>0.111352</td>\n",
       "      <td>-0.123867</td>\n",
       "      <td>-0.161546</td>\n",
       "      <td>-0.212575</td>\n",
       "      <td>0.013622</td>\n",
       "      <td>0.242158</td>\n",
       "      <td>-0.043377</td>\n",
       "      <td>0.035599</td>\n",
       "      <td>0.319794</td>\n",
       "      <td>0.180534</td>\n",
       "    </tr>\n",
       "    <tr>\n",
       "      <th>161</th>\n",
       "      <td>0.250492</td>\n",
       "      <td>-0.096754</td>\n",
       "      <td>-0.060551</td>\n",
       "      <td>0.366356</td>\n",
       "      <td>-0.035386</td>\n",
       "      <td>-0.259299</td>\n",
       "      <td>-0.065908</td>\n",
       "      <td>-0.414803</td>\n",
       "      <td>-0.310785</td>\n",
       "      <td>-0.074589</td>\n",
       "      <td>...</td>\n",
       "      <td>-0.042458</td>\n",
       "      <td>-0.109389</td>\n",
       "      <td>-0.331553</td>\n",
       "      <td>-0.553219</td>\n",
       "      <td>-0.200838</td>\n",
       "      <td>-0.043377</td>\n",
       "      <td>0.203121</td>\n",
       "      <td>0.127859</td>\n",
       "      <td>0.097939</td>\n",
       "      <td>0.285078</td>\n",
       "    </tr>\n",
       "    <tr>\n",
       "      <th>162</th>\n",
       "      <td>-0.311630</td>\n",
       "      <td>0.148551</td>\n",
       "      <td>0.032610</td>\n",
       "      <td>-0.096191</td>\n",
       "      <td>0.181902</td>\n",
       "      <td>-0.163734</td>\n",
       "      <td>0.123775</td>\n",
       "      <td>-0.474109</td>\n",
       "      <td>-0.117290</td>\n",
       "      <td>0.020708</td>\n",
       "      <td>...</td>\n",
       "      <td>0.307123</td>\n",
       "      <td>0.135163</td>\n",
       "      <td>-0.285906</td>\n",
       "      <td>-0.615367</td>\n",
       "      <td>-0.110568</td>\n",
       "      <td>0.035599</td>\n",
       "      <td>0.127859</td>\n",
       "      <td>0.595400</td>\n",
       "      <td>-0.082116</td>\n",
       "      <td>-0.238820</td>\n",
       "    </tr>\n",
       "    <tr>\n",
       "      <th>163</th>\n",
       "      <td>0.603806</td>\n",
       "      <td>-0.142873</td>\n",
       "      <td>0.289119</td>\n",
       "      <td>0.913746</td>\n",
       "      <td>-0.287952</td>\n",
       "      <td>0.240452</td>\n",
       "      <td>0.038534</td>\n",
       "      <td>-0.533751</td>\n",
       "      <td>-0.756785</td>\n",
       "      <td>0.138990</td>\n",
       "      <td>...</td>\n",
       "      <td>-0.028588</td>\n",
       "      <td>-0.368377</td>\n",
       "      <td>-0.506749</td>\n",
       "      <td>-0.753601</td>\n",
       "      <td>-0.150614</td>\n",
       "      <td>0.319794</td>\n",
       "      <td>0.097939</td>\n",
       "      <td>-0.082116</td>\n",
       "      <td>0.712220</td>\n",
       "      <td>0.685677</td>\n",
       "    </tr>\n",
       "    <tr>\n",
       "      <th>164</th>\n",
       "      <td>1.119862</td>\n",
       "      <td>-0.404532</td>\n",
       "      <td>-0.024130</td>\n",
       "      <td>1.315301</td>\n",
       "      <td>-0.488001</td>\n",
       "      <td>-0.118095</td>\n",
       "      <td>-0.235971</td>\n",
       "      <td>-0.817905</td>\n",
       "      <td>-0.939227</td>\n",
       "      <td>0.057325</td>\n",
       "      <td>...</td>\n",
       "      <td>-0.216168</td>\n",
       "      <td>-0.633717</td>\n",
       "      <td>-0.740695</td>\n",
       "      <td>-0.806216</td>\n",
       "      <td>-0.370248</td>\n",
       "      <td>0.180534</td>\n",
       "      <td>0.285078</td>\n",
       "      <td>-0.238820</td>\n",
       "      <td>0.685677</td>\n",
       "      <td>1.231984</td>\n",
       "    </tr>\n",
       "  </tbody>\n",
       "</table>\n",
       "<p>165 rows × 165 columns</p>\n",
       "</div>"
      ],
      "text/plain": [
       "          0         1         2         3         4         5         6    \\\n",
       "0    1.281018 -0.309291 -0.132991  1.055036 -0.447859 -0.134766 -0.202244   \n",
       "1   -0.309291  0.190231  0.057183 -0.402486  0.158975  0.092268  0.134715   \n",
       "2   -0.132991  0.057183  0.336890  0.238354  0.004402  0.261329  0.154519   \n",
       "3    1.055036 -0.402486  0.238354  1.822171 -0.455312 -0.203773 -0.098385   \n",
       "4   -0.447859  0.158975  0.004402 -0.455312  0.244875 -0.085335  0.099020   \n",
       "..        ...       ...       ...       ...       ...       ...       ...   \n",
       "160  0.094064  0.001217  0.202873  0.292091 -0.121587  0.267169  0.073313   \n",
       "161  0.250492 -0.096754 -0.060551  0.366356 -0.035386 -0.259299 -0.065908   \n",
       "162 -0.311630  0.148551  0.032610 -0.096191  0.181902 -0.163734  0.123775   \n",
       "163  0.603806 -0.142873  0.289119  0.913746 -0.287952  0.240452  0.038534   \n",
       "164  1.119862 -0.404532 -0.024130  1.315301 -0.488001 -0.118095 -0.235971   \n",
       "\n",
       "          7         8         9    ...       155       156       157  \\\n",
       "0   -0.714776 -0.870255 -0.158039  ... -0.267971 -0.923682 -0.625688   \n",
       "1    0.146901  0.192758 -0.024644  ...  0.123051  0.064650  0.163735   \n",
       "2   -0.046112 -0.211639  0.174398  ...  0.053309  0.141114 -0.087810   \n",
       "3   -1.142357 -1.344139  0.172611  ... -0.247744 -0.425278 -1.077603   \n",
       "4    0.192302  0.290786 -0.074771  ...  0.068234  0.305581  0.191033   \n",
       "..        ...       ...       ...  ...       ...       ...       ...   \n",
       "160 -0.178865 -0.257191  0.183447  ...  0.111352 -0.123867 -0.161546   \n",
       "161 -0.414803 -0.310785 -0.074589  ... -0.042458 -0.109389 -0.331553   \n",
       "162 -0.474109 -0.117290  0.020708  ...  0.307123  0.135163 -0.285906   \n",
       "163 -0.533751 -0.756785  0.138990  ... -0.028588 -0.368377 -0.506749   \n",
       "164 -0.817905 -0.939227  0.057325  ... -0.216168 -0.633717 -0.740695   \n",
       "\n",
       "          158       159       160       161       162       163       164  \n",
       "0   -0.474692 -0.293142  0.094064  0.250492 -0.311630  0.603806  1.119862  \n",
       "1    0.171113  0.134192  0.001217 -0.096754  0.148551 -0.142873 -0.404532  \n",
       "2   -0.414144  0.040733  0.202873 -0.060551  0.032610  0.289119 -0.024130  \n",
       "3   -1.807536 -0.537765  0.292091  0.366356 -0.096191  0.913746  1.315301  \n",
       "4    0.049301  0.074909 -0.121587 -0.035386  0.181902 -0.287952 -0.488001  \n",
       "..        ...       ...       ...       ...       ...       ...       ...  \n",
       "160 -0.212575  0.013622  0.242158 -0.043377  0.035599  0.319794  0.180534  \n",
       "161 -0.553219 -0.200838 -0.043377  0.203121  0.127859  0.097939  0.285078  \n",
       "162 -0.615367 -0.110568  0.035599  0.127859  0.595400 -0.082116 -0.238820  \n",
       "163 -0.753601 -0.150614  0.319794  0.097939 -0.082116  0.712220  0.685677  \n",
       "164 -0.806216 -0.370248  0.180534  0.285078 -0.238820  0.685677  1.231984  \n",
       "\n",
       "[165 rows x 165 columns]"
      ]
     },
     "execution_count": 73,
     "metadata": {},
     "output_type": "execute_result"
    }
   ],
   "source": [
    "# display covariance\n",
    "df_countries_encoded_display_cov = pd.DataFrame(\n",
    "    pd.DataFrame(np.cov(df_countries_encoded)))\n",
    "\n",
    "# display\n",
    "df_countries_encoded_display_cov"
   ]
  },
  {
   "cell_type": "code",
   "execution_count": 74,
   "metadata": {},
   "outputs": [
    {
     "name": "stdout",
     "output_type": "stream",
     "text": [
      "<class 'pandas.core.frame.DataFrame'>\n",
      "RangeIndex: 165 entries, 0 to 164\n",
      "Data columns (total 3 columns):\n",
      " #   Column  Non-Null Count  Dtype  \n",
      "---  ------  --------------  -----  \n",
      " 0   PC1     165 non-null    float64\n",
      " 1   PC2     165 non-null    float64\n",
      " 2   PC3     165 non-null    float64\n",
      "dtypes: float64(3)\n",
      "memory usage: 4.0 KB\n"
     ]
    }
   ],
   "source": [
    "# create models PCA \n",
    "model_pca_3 = PCA(n_components=3)\n",
    "model_pca_2 = PCA(n_components=2)\n",
    "\n",
    "# fit models PCA\n",
    "X_pca_3 = model_pca_3.fit_transform(X=df_countries_encoded)\n",
    "X_pca_2 = model_pca_2.fit_transform(X=df_countries_encoded)\n",
    "\n",
    "# create dataframes from PCA\n",
    "df_countries_pca_3 = pd.DataFrame(data=X_pca_3, columns=['PC1', 'PC2', 'PC3'])\n",
    "df_countries_pca_2 = pd.DataFrame(data=X_pca_2, columns=['PC1', 'PC2'])\n",
    "\n",
    "# display info\n",
    "df_countries_pca_3.info(show_counts=True)"
   ]
  },
  {
   "cell_type": "code",
   "execution_count": 75,
   "metadata": {},
   "outputs": [
    {
     "data": {
      "text/html": [
       "<div>\n",
       "<style scoped>\n",
       "    .dataframe tbody tr th:only-of-type {\n",
       "        vertical-align: middle;\n",
       "    }\n",
       "\n",
       "    .dataframe tbody tr th {\n",
       "        vertical-align: top;\n",
       "    }\n",
       "\n",
       "    .dataframe thead th {\n",
       "        text-align: right;\n",
       "    }\n",
       "</style>\n",
       "<table border=\"1\" class=\"dataframe\">\n",
       "  <thead>\n",
       "    <tr style=\"text-align: right;\">\n",
       "      <th></th>\n",
       "      <th>country</th>\n",
       "      <th>child_mort</th>\n",
       "      <th>exports</th>\n",
       "      <th>health</th>\n",
       "      <th>imports</th>\n",
       "      <th>income</th>\n",
       "      <th>inflation</th>\n",
       "      <th>life_expec</th>\n",
       "      <th>total_fer</th>\n",
       "      <th>gdpp</th>\n",
       "      <th>income_category</th>\n",
       "      <th>PC1</th>\n",
       "      <th>PC2</th>\n",
       "      <th>PC3</th>\n",
       "    </tr>\n",
       "  </thead>\n",
       "  <tbody>\n",
       "    <tr>\n",
       "      <th>0</th>\n",
       "      <td>Afghanistan</td>\n",
       "      <td>90.2</td>\n",
       "      <td>10.0</td>\n",
       "      <td>7.58</td>\n",
       "      <td>44.9</td>\n",
       "      <td>1610</td>\n",
       "      <td>9.44</td>\n",
       "      <td>56.2</td>\n",
       "      <td>5.82</td>\n",
       "      <td>553</td>\n",
       "      <td>Low income</td>\n",
       "      <td>-2.898491</td>\n",
       "      <td>0.043830</td>\n",
       "      <td>-0.674704</td>\n",
       "    </tr>\n",
       "    <tr>\n",
       "      <th>1</th>\n",
       "      <td>Albania</td>\n",
       "      <td>16.6</td>\n",
       "      <td>28.0</td>\n",
       "      <td>6.55</td>\n",
       "      <td>48.6</td>\n",
       "      <td>9930</td>\n",
       "      <td>4.49</td>\n",
       "      <td>76.3</td>\n",
       "      <td>1.65</td>\n",
       "      <td>4090</td>\n",
       "      <td>Upper middle income</td>\n",
       "      <td>0.435969</td>\n",
       "      <td>-0.602095</td>\n",
       "      <td>-0.336181</td>\n",
       "    </tr>\n",
       "    <tr>\n",
       "      <th>2</th>\n",
       "      <td>Algeria</td>\n",
       "      <td>27.3</td>\n",
       "      <td>38.4</td>\n",
       "      <td>4.17</td>\n",
       "      <td>31.4</td>\n",
       "      <td>12900</td>\n",
       "      <td>16.10</td>\n",
       "      <td>76.5</td>\n",
       "      <td>2.89</td>\n",
       "      <td>4460</td>\n",
       "      <td>Lower middle income</td>\n",
       "      <td>-0.294489</td>\n",
       "      <td>-0.393013</td>\n",
       "      <td>1.237849</td>\n",
       "    </tr>\n",
       "    <tr>\n",
       "      <th>3</th>\n",
       "      <td>Angola</td>\n",
       "      <td>119.0</td>\n",
       "      <td>62.3</td>\n",
       "      <td>2.85</td>\n",
       "      <td>42.9</td>\n",
       "      <td>5900</td>\n",
       "      <td>22.40</td>\n",
       "      <td>60.1</td>\n",
       "      <td>6.16</td>\n",
       "      <td>3530</td>\n",
       "      <td>Lower middle income</td>\n",
       "      <td>-2.941128</td>\n",
       "      <td>1.746346</td>\n",
       "      <td>1.498419</td>\n",
       "    </tr>\n",
       "    <tr>\n",
       "      <th>4</th>\n",
       "      <td>Antigua and Barbuda</td>\n",
       "      <td>10.3</td>\n",
       "      <td>45.5</td>\n",
       "      <td>6.03</td>\n",
       "      <td>58.9</td>\n",
       "      <td>19100</td>\n",
       "      <td>1.44</td>\n",
       "      <td>76.8</td>\n",
       "      <td>2.13</td>\n",
       "      <td>12200</td>\n",
       "      <td>High income</td>\n",
       "      <td>1.038913</td>\n",
       "      <td>0.117437</td>\n",
       "      <td>-0.255625</td>\n",
       "    </tr>\n",
       "    <tr>\n",
       "      <th>5</th>\n",
       "      <td>Argentina</td>\n",
       "      <td>14.5</td>\n",
       "      <td>18.9</td>\n",
       "      <td>8.10</td>\n",
       "      <td>16.0</td>\n",
       "      <td>18700</td>\n",
       "      <td>20.90</td>\n",
       "      <td>75.8</td>\n",
       "      <td>2.37</td>\n",
       "      <td>10300</td>\n",
       "      <td>Upper middle income</td>\n",
       "      <td>0.005300</td>\n",
       "      <td>-1.713515</td>\n",
       "      <td>0.990698</td>\n",
       "    </tr>\n",
       "    <tr>\n",
       "      <th>6</th>\n",
       "      <td>Armenia</td>\n",
       "      <td>18.1</td>\n",
       "      <td>20.8</td>\n",
       "      <td>4.40</td>\n",
       "      <td>45.3</td>\n",
       "      <td>6700</td>\n",
       "      <td>7.77</td>\n",
       "      <td>73.3</td>\n",
       "      <td>1.69</td>\n",
       "      <td>3220</td>\n",
       "      <td>Upper middle income</td>\n",
       "      <td>-0.096950</td>\n",
       "      <td>-0.555750</td>\n",
       "      <td>0.231357</td>\n",
       "    </tr>\n",
       "  </tbody>\n",
       "</table>\n",
       "</div>"
      ],
      "text/plain": [
       "               country  child_mort  exports  health  imports  income  \\\n",
       "0          Afghanistan        90.2     10.0    7.58     44.9    1610   \n",
       "1              Albania        16.6     28.0    6.55     48.6    9930   \n",
       "2              Algeria        27.3     38.4    4.17     31.4   12900   \n",
       "3               Angola       119.0     62.3    2.85     42.9    5900   \n",
       "4  Antigua and Barbuda        10.3     45.5    6.03     58.9   19100   \n",
       "5            Argentina        14.5     18.9    8.10     16.0   18700   \n",
       "6              Armenia        18.1     20.8    4.40     45.3    6700   \n",
       "\n",
       "   inflation  life_expec  total_fer   gdpp      income_category       PC1  \\\n",
       "0       9.44        56.2       5.82    553           Low income -2.898491   \n",
       "1       4.49        76.3       1.65   4090  Upper middle income  0.435969   \n",
       "2      16.10        76.5       2.89   4460  Lower middle income -0.294489   \n",
       "3      22.40        60.1       6.16   3530  Lower middle income -2.941128   \n",
       "4       1.44        76.8       2.13  12200          High income  1.038913   \n",
       "5      20.90        75.8       2.37  10300  Upper middle income  0.005300   \n",
       "6       7.77        73.3       1.69   3220  Upper middle income -0.096950   \n",
       "\n",
       "        PC2       PC3  \n",
       "0  0.043830 -0.674704  \n",
       "1 -0.602095 -0.336181  \n",
       "2 -0.393013  1.237849  \n",
       "3  1.746346  1.498419  \n",
       "4  0.117437 -0.255625  \n",
       "5 -1.713515  0.990698  \n",
       "6 -0.555750  0.231357  "
      ]
     },
     "execution_count": 75,
     "metadata": {},
     "output_type": "execute_result"
    }
   ],
   "source": [
    "# add PCA to dataframe\n",
    "df_countries_pca_3 = df_countries.assign(\n",
    "    PC1=df_countries_pca_3['PC1'], PC2=df_countries_pca_3['PC2'], PC3=df_countries_pca_3['PC3'])\n",
    "\n",
    "df_countries_pca_2 = df_countries.assign(\n",
    "    PC1=df_countries_pca_2['PC1'], PC2=df_countries_pca_2['PC2'])\n",
    "\n",
    "# display data with PCA\n",
    "df_countries_pca_3.head(n=7)"
   ]
  },
  {
   "cell_type": "markdown",
   "metadata": {},
   "source": [
    "### Bloco 4 - Visualização dos Resultados\n",
    "\n",
    "Neste resumo, explicamos como criar uma visualização 3D dos países com base na categoria de renda usando o PCA. Mostramos como calcular os autovetores e autovalores, e como plotar um gráfico 3D com os componentes principais. Também discutimos a reconstrução dos dados a partir do PCA e a avaliação do erro de reconstrução. Por fim, demonstramos como seria a visualização com dois componentes principais e a importância do PCA na análise de dados. Encerramos salvando os modelos criados."
   ]
  },
  {
   "cell_type": "code",
   "execution_count": 76,
   "metadata": {},
   "outputs": [
    {
     "name": "stdout",
     "output_type": "stream",
     "text": [
      "Autovetores PCA 3: [4.18194258 1.55676483 1.15683401]\n",
      "Autovalores PCA 3: [[-0.41944537  0.28242091  0.15068193  0.16069962  0.39721431 -0.20064752\n",
      "   0.42542863 -0.40370133  0.39213733]\n",
      " [ 0.18639458  0.61906392 -0.26537269  0.6623149   0.03301443  0.03814569\n",
      "  -0.21355639  0.15172601 -0.04196516]\n",
      " [-0.02457745  0.11382205 -0.57151155 -0.33939771  0.32266099  0.63616571\n",
      "   0.11811594  0.02417555  0.14584745]]\n",
      "\n",
      "Autovetores PCA 2: [4.18194258 1.55676483]\n",
      "Autovalores PCA 2: [[-0.41944537  0.28242091  0.15068193  0.16069962  0.39721431 -0.20064752\n",
      "   0.42542863 -0.40370133  0.39213733]\n",
      " [ 0.18639458  0.61906392 -0.26537269  0.6623149   0.03301443  0.03814569\n",
      "  -0.21355639  0.15172601 -0.04196516]]\n"
     ]
    }
   ],
   "source": [
    "# autovalues and autovectors\n",
    "auto_vectors_pca_3 = model_pca_3.explained_variance_\n",
    "auto_values_pca_3 = model_pca_3.components_\n",
    "auto_vectors_pca_2 = model_pca_2.explained_variance_\n",
    "auto_values_pca_2 = model_pca_2.components_\n",
    "\n",
    "# display results\n",
    "print(f'Autovetores PCA 3: {auto_vectors_pca_3}\\nAutovalores PCA 3: {auto_values_pca_3}\\n\\nAutovetores PCA 2: {auto_vectors_pca_2}\\nAutovalores PCA 2: {auto_values_pca_2}')"
   ]
  },
  {
   "cell_type": "code",
   "execution_count": 77,
   "metadata": {},
   "outputs": [
    {
     "data": {
      "application/vnd.plotly.v1+json": {
       "config": {
        "plotlyServerURL": "https://plot.ly"
       },
       "data": [
        {
         "customdata": [
          [
           "Afghanistan"
          ],
          [
           "Burkina Faso"
          ],
          [
           "Burundi"
          ],
          [
           "Central African Republic"
          ],
          [
           "Chad"
          ],
          [
           "Congo Dem. Rep."
          ],
          [
           "Eritrea"
          ],
          [
           "Gambia"
          ],
          [
           "Guinea-Bissau"
          ],
          [
           "Liberia"
          ],
          [
           "Madagascar"
          ],
          [
           "Malawi"
          ],
          [
           "Mali"
          ],
          [
           "Mozambique"
          ],
          [
           "Niger"
          ],
          [
           "Rwanda"
          ],
          [
           "Sierra Leone"
          ],
          [
           "Sudan"
          ],
          [
           "Togo"
          ],
          [
           "Uganda"
          ],
          [
           "Yemen"
          ]
         ],
         "hovertemplate": "income_category=Low income<br>PC1=%{x}<br>PC2=%{y}<br>PC3=%{z}<br>country=%{customdata[0]}<extra></extra>",
         "legendgroup": "Low income",
         "marker": {
          "color": "rgb(136, 204, 238)",
          "symbol": "circle"
         },
         "mode": "markers",
         "name": "Low income",
         "scene": "scene",
         "showlegend": true,
         "type": "scatter3d",
         "x": [
          -2.898490769252386,
          -3.1033238206419758,
          -2.889074891379876,
          -3.9339629262532383,
          -3.5378470612401474,
          -3.1770212351589544,
          -2.464077486731817,
          -2.1957615472052985,
          -2.809855692310717,
          -1.7592902135524842,
          -2.124218602405221,
          -2.969226594269894,
          -3.389318607407583,
          -2.9043124176691224,
          -3.424616525558237,
          -1.6604128123753077,
          -3.3772533732498293,
          -2.3232204955867877,
          -1.9766227747420397,
          -2.842791629203893,
          -1.8998035592532414
         ],
         "y": [
          0.043830035561565436,
          -0.01411167123776974,
          -0.4906711840356298,
          0.31735415825295676,
          1.2379706822570564,
          1.0431123677731726,
          -0.5979632028009304,
          0.1778231653525809,
          -0.17795477222397646,
          0.9388778187981127,
          0.33282594725567927,
          0.18735518293174871,
          0.5056394279140652,
          0.8494257465659202,
          0.8970997807320247,
          -1.0828959630577442,
          -0.30275450260939685,
          -0.7351665977774892,
          0.871195643608402,
          -0.40065600254678374,
          -0.04836073574000474
         ],
         "z": [
          -0.6747035817987197,
          -0.40691299593542746,
          -1.2471089950370406,
          -0.29959330162942005,
          -0.11331033450418,
          0.024921207117268335,
          0.8355830185600693,
          -0.38711581887053403,
          -1.152559200916806,
          -2.400403900196297,
          0.2187305441246784,
          -0.1689571045840169,
          -0.22862073530984348,
          -0.27006478192135247,
          -0.5852777541696731,
          -1.3886691483192883,
          -1.2376845970437664,
          0.8159469989631679,
          -1.2444496914056307,
          -0.6228034834886343,
          1.1462513937402354
         ]
        },
        {
         "customdata": [
          [
           "Albania"
          ],
          [
           "Argentina"
          ],
          [
           "Armenia"
          ],
          [
           "Azerbaijan"
          ],
          [
           "Belarus"
          ],
          [
           "Belize"
          ],
          [
           "Bosnia and Herzegovina"
          ],
          [
           "Botswana"
          ],
          [
           "Brazil"
          ],
          [
           "Bulgaria"
          ],
          [
           "China"
          ],
          [
           "Colombia"
          ],
          [
           "Costa Rica"
          ],
          [
           "Dominican Republic"
          ],
          [
           "Ecuador"
          ],
          [
           "El Salvador"
          ],
          [
           "Equatorial Guinea"
          ],
          [
           "Fiji"
          ],
          [
           "Gabon"
          ],
          [
           "Georgia"
          ],
          [
           "Grenada"
          ],
          [
           "Guatemala"
          ],
          [
           "Indonesia"
          ],
          [
           "Iraq"
          ],
          [
           "Jamaica"
          ],
          [
           "Kazakhstan"
          ],
          [
           "Libya"
          ],
          [
           "Malaysia"
          ],
          [
           "Maldives"
          ],
          [
           "Mauritius"
          ],
          [
           "Moldova"
          ],
          [
           "Montenegro"
          ],
          [
           "Namibia"
          ],
          [
           "Paraguay"
          ],
          [
           "Peru"
          ],
          [
           "Russia"
          ],
          [
           "Serbia"
          ],
          [
           "South Africa"
          ],
          [
           "St. Vincent and the Grenadines"
          ],
          [
           "Suriname"
          ],
          [
           "Thailand"
          ],
          [
           "Tonga"
          ],
          [
           "Turkey"
          ],
          [
           "Turkmenistan"
          ]
         ],
         "hovertemplate": "income_category=Upper middle income<br>PC1=%{x}<br>PC2=%{y}<br>PC3=%{z}<br>country=%{customdata[0]}<extra></extra>",
         "legendgroup": "Upper middle income",
         "marker": {
          "color": "rgb(204, 102, 119)",
          "symbol": "circle"
         },
         "mode": "markers",
         "name": "Upper middle income",
         "scene": "scene",
         "showlegend": true,
         "type": "scatter3d",
         "x": [
          0.4359685213222639,
          0.005299760745141083,
          -0.09694990407604162,
          -0.1883995737526329,
          0.5678794011497826,
          0.22134906667700277,
          1.0037584208921135,
          -0.877962567699434,
          0.1428532130178438,
          0.9136825081252469,
          0.06212055925902198,
          0.13013023129779533,
          0.9372823128141138,
          -0.2236046238852772,
          0.012701340840973196,
          0.09241068620770548,
          -1.3176096042172118,
          -0.1811536500549313,
          -1.4281155633020801,
          0.3221711288450009,
          0.15886453588068125,
          -0.6535260750914894,
          -0.9578077068087523,
          -1.0364943990096132,
          0.01848215772033996,
          -0.3082502854854738,
          0.8042152550654147,
          1.2240976306337987,
          1.110255415977224,
          0.9066662303886421,
          0.5053103920879084,
          1.033045005030233,
          -1.0307341576430136,
          0.1211045389279194,
          -0.014597322956193221,
          0.15579063088357054,
          0.8340165193243306,
          -1.1810474048591715,
          0.03463109193809026,
          0.17270663159990426,
          0.9278401074758335,
          -0.7416299995645098,
          0.4031772613916824,
          -0.45373877746068086
         ],
         "y": [
          -0.6020952022254119,
          -1.713515237804841,
          -0.5557497397568757,
          -0.36442410682163473,
          0.5718955752276117,
          0.6697772902150291,
          -1.0326882754543774,
          0.4212005793624569,
          -2.1515752331523057,
          0.000767734180914705,
          -1.172382722436517,
          -1.7821021619877164,
          -1.374508603469438,
          -0.8884566619044968,
          -1.0543137406576757,
          -0.5984136407972238,
          2.4317009580593854,
          1.0479857287469836,
          0.37356610483433583,
          -0.5488247346237448,
          -0.4643063302667526,
          -0.6378575730817614,
          -0.6696496354940535,
          -0.26931963050571844,
          -0.2197581197177127,
          -0.16218326283430515,
          0.4571091983227706,
          1.6185944663245626,
          0.9893205651457087,
          0.3892657612597785,
          0.11618936938295457,
          -0.30516405583735073,
          0.9467978694263933,
          0.35270951184702815,
          -1.0742219057608569,
          -1.0116144998343102,
          -0.903606397886615,
          -0.604076595142536,
          -0.02459339810330824,
          -0.10056582900069669,
          0.8345536276382569,
          -0.11663518057545824,
          -1.4006637187963753,
          1.2847740360692654
         ],
         "z": [
          -0.3361814319478746,
          0.9906977916861117,
          0.23135699853429437,
          0.8967135425999658,
          0.44256041032037796,
          -0.34687940410488377,
          -1.4979128362447507,
          -0.5784648834972698,
          -0.05132171494981483,
          -0.5021024904923934,
          0.45688878014145634,
          -0.16989696439619997,
          -0.7506777457372041,
          -0.0030844741823397915,
          -0.22514400910764085,
          -0.5760401870390269,
          1.7608465352706553,
          -0.2735445219335516,
          1.5561664465595872,
          -0.9540572221797506,
          -0.4779927623318778,
          -0.3080171186469833,
          1.396854154264281,
          0.2490087863865053,
          0.31643299587146606,
          1.519027089056071,
          1.4745088786362381,
          0.4311904163207004,
          -0.3558020770677415,
          -0.4351797968139084,
          -1.5800731465775932,
          -1.1119241692284294,
          -0.7734624420017832,
          -0.0900381589488622,
          0.4341642748112169,
          1.1489483649932224,
          -0.9819019689207422,
          -0.655416358590567,
          -0.07245810180898675,
          0.017066526108238476,
          0.2517971485094576,
          -0.4445486101480178,
          0.29388359968665156,
          0.5092159143111997
         ]
        },
        {
         "customdata": [
          [
           "Algeria"
          ],
          [
           "Angola"
          ],
          [
           "Bangladesh"
          ],
          [
           "Benin"
          ],
          [
           "Bhutan"
          ],
          [
           "Bolivia"
          ],
          [
           "Cambodia"
          ],
          [
           "Cameroon"
          ],
          [
           "Cape Verde"
          ],
          [
           "Comoros"
          ],
          [
           "Congo Rep."
          ],
          [
           "Cote d'Ivoire"
          ],
          [
           "Egypt"
          ],
          [
           "Ghana"
          ],
          [
           "Guinea"
          ],
          [
           "Haiti"
          ],
          [
           "India"
          ],
          [
           "Iran"
          ],
          [
           "Jordan"
          ],
          [
           "Kenya"
          ],
          [
           "Kiribati"
          ],
          [
           "Kyrgyz Republic"
          ],
          [
           "Lao"
          ],
          [
           "Lebanon"
          ],
          [
           "Lesotho"
          ],
          [
           "Mauritania"
          ],
          [
           "Micronesia"
          ],
          [
           "Mongolia"
          ],
          [
           "Morocco"
          ],
          [
           "Myanmar"
          ],
          [
           "Nepal"
          ],
          [
           "Nigeria"
          ],
          [
           "Pakistan"
          ],
          [
           "Philippines"
          ],
          [
           "Samoa"
          ],
          [
           "Senegal"
          ],
          [
           "Solomon Islands"
          ],
          [
           "Sri Lanka"
          ],
          [
           "Tajikistan"
          ],
          [
           "Tanzania"
          ],
          [
           "Timor-Leste"
          ],
          [
           "Tunisia"
          ],
          [
           "Ukraine"
          ],
          [
           "Uzbekistan"
          ],
          [
           "Vanuatu"
          ],
          [
           "Vietnam"
          ],
          [
           "Zambia"
          ]
         ],
         "hovertemplate": "income_category=Lower middle income<br>PC1=%{x}<br>PC2=%{y}<br>PC3=%{z}<br>country=%{customdata[0]}<extra></extra>",
         "legendgroup": "Lower middle income",
         "marker": {
          "color": "rgb(221, 204, 119)",
          "symbol": "circle"
         },
         "mode": "markers",
         "name": "Lower middle income",
         "scene": "scene",
         "showlegend": true,
         "type": "scatter3d",
         "x": [
          -0.29448919537653445,
          -2.941127624111464,
          -1.1129554943859274,
          -2.64699022214811,
          -0.15098286879068804,
          -0.7893886868479618,
          -0.570792569731944,
          -2.783105096527529,
          -0.14134562477586565,
          -2.074741847675347,
          -1.737830520587209,
          -2.565060708999367,
          -0.8443712660947748,
          -2.0549571576005308,
          -2.965727885521191,
          -4.3813496533928635,
          -1.3343279666259271,
          -0.010261656646464654,
          0.15920406098882273,
          -1.8539561887551728,
          -1.2204126023443487,
          -0.3398981627026878,
          -1.5199734722745266,
          1.1795021403717958,
          -1.7868124843087578,
          -1.9607930703298255,
          -0.37034451005679275,
          -0.9852392076616975,
          -0.21873164533035194,
          -1.8217346805758667,
          -1.3069828186396197,
          -5.03069584387117,
          -2.350063907451173,
          -0.7708701392822245,
          -0.5488541787201738,
          -1.891639146552526,
          -0.7993342764525889,
          -0.5912332682598401,
          -1.2418478010859133,
          -2.5410966686017886,
          -2.3856690540342043,
          0.6067689270079825,
          0.29506478229885985,
          -0.8589754376187718,
          -0.8067898607222885,
          0.4905173964592033,
          -2.8577485720701663
         ],
         "y": [
          -0.3930131265209526,
          1.7463458714422564,
          -0.9490170688973903,
          0.3628391909718644,
          0.7590784871466576,
          -0.11196276680528705,
          0.854659344966364,
          0.02079417735470672,
          0.3218631570540187,
          0.3020554568915719,
          2.23238673020489,
          1.1582859078985577,
          -0.7983589523862324,
          0.3950352718121263,
          0.7298245595536765,
          1.6274856859956253,
          -0.5260620635011115,
          -1.2754176412251292,
          0.5199834627111651,
          -0.21182536677899075,
          0.25381219397160737,
          1.2809200147093054,
          0.5364803047142601,
          -0.2876406368150799,
          1.9084712322374977,
          1.4117432391184594,
          -0.01340071020266091,
          0.6633239702515628,
          -0.30862319796301213,
          -1.5884624114910666,
          -0.7634888906736109,
          0.31626572808338516,
          -0.45535222811418263,
          -0.10115141956667172,
          -0.06529080292081053,
          0.03885325645847283,
          1.242520568384505,
          -0.895725293825667,
          -0.031339162020501125,
          -0.24002282546179873,
          -1.1353641190546557,
          0.1579113008677415,
          -0.08594782463311583,
          -0.6168885807153203,
          0.6008836045167429,
          1.3908918741961818,
          0.4750510491811658
         ],
         "z": [
          1.2378490206088923,
          1.498418724419675,
          0.5470594200372527,
          -0.2623370319776406,
          -0.3459465110608896,
          0.39502747828642976,
          -0.5686165830757252,
          -0.31894618854509404,
          -0.3551921387612652,
          -0.3429281421928485,
          1.4018319848009317,
          -0.2606033297530059,
          0.6158603973026172,
          0.4247529082925525,
          0.3990014519518779,
          -1.4734086072359982,
          0.48544842716658787,
          1.0906934380073323,
          -0.5898815855311192,
          -0.24440038065559713,
          -2.3668490299726272,
          -0.5146280891001888,
          0.10899206916145233,
          -0.6387983759170217,
          -2.5601757174792263,
          0.6903594238049997,
          -2.6920206415051893,
          1.8575167571147693,
          -0.2803511759557815,
          1.0699003442099135,
          0.4232845456354517,
          6.3193641927275435,
          1.0435047732626492,
          0.2846091604655757,
          -0.6538998787948891,
          -0.5058020419778555,
          -1.2937280834187328,
          1.7847368575929894,
          -0.14939597765519355,
          -0.047220248562566285,
          0.5298522938180362,
          -0.2848519444080056,
          -0.10045215087882399,
          0.6498021935599875,
          -0.44354325377123105,
          -0.33651209053301717,
          0.24722178162452196
         ]
        },
        {
         "customdata": [
          [
           "Antigua and Barbuda"
          ],
          [
           "Australia"
          ],
          [
           "Austria"
          ],
          [
           "Bahamas"
          ],
          [
           "Bahrain"
          ],
          [
           "Barbados"
          ],
          [
           "Belgium"
          ],
          [
           "Brunei"
          ],
          [
           "Canada"
          ],
          [
           "Chile"
          ],
          [
           "Croatia"
          ],
          [
           "Cyprus"
          ],
          [
           "Czech Republic"
          ],
          [
           "Denmark"
          ],
          [
           "Estonia"
          ],
          [
           "Finland"
          ],
          [
           "France"
          ],
          [
           "Germany"
          ],
          [
           "Greece"
          ],
          [
           "Guyana"
          ],
          [
           "Hungary"
          ],
          [
           "Iceland"
          ],
          [
           "Ireland"
          ],
          [
           "Israel"
          ],
          [
           "Italy"
          ],
          [
           "Japan"
          ],
          [
           "Kuwait"
          ],
          [
           "Latvia"
          ],
          [
           "Lithuania"
          ],
          [
           "Luxembourg"
          ],
          [
           "Malta"
          ],
          [
           "Netherlands"
          ],
          [
           "New Zealand"
          ],
          [
           "Norway"
          ],
          [
           "Oman"
          ],
          [
           "Panama"
          ],
          [
           "Poland"
          ],
          [
           "Portugal"
          ],
          [
           "Qatar"
          ],
          [
           "Romania"
          ],
          [
           "Saudi Arabia"
          ],
          [
           "Seychelles"
          ],
          [
           "Singapore"
          ],
          [
           "Slovak Republic"
          ],
          [
           "Slovenia"
          ],
          [
           "South Korea"
          ],
          [
           "Spain"
          ],
          [
           "Sweden"
          ],
          [
           "Switzerland"
          ],
          [
           "United Arab Emirates"
          ],
          [
           "United Kingdom"
          ],
          [
           "United States"
          ],
          [
           "Uruguay"
          ]
         ],
         "hovertemplate": "income_category=High income<br>PC1=%{x}<br>PC2=%{y}<br>PC3=%{z}<br>country=%{customdata[0]}<extra></extra>",
         "legendgroup": "High income",
         "marker": {
          "color": "rgb(17, 119, 51)",
          "symbol": "circle"
         },
         "mode": "markers",
         "name": "High income",
         "scene": "scene",
         "showlegend": true,
         "type": "scatter3d",
         "x": [
          1.038913348713117,
          2.3398302490399154,
          2.967045790865981,
          1.2756158562160127,
          1.6608522484699524,
          1.088807178669335,
          3.1331653577652014,
          2.4289392652604564,
          2.537460147764596,
          0.9467226759360745,
          1.1553350442834962,
          2.171538443192836,
          2.055961099949542,
          2.999462582437047,
          1.6590472212283909,
          2.456516278177199,
          2.2527272552250146,
          2.6673851003548847,
          1.782670058402498,
          -0.3164195580222995,
          1.8372534440470603,
          2.469807726024717,
          3.660843522427698,
          1.4865311549654627,
          2.1665148456916916,
          2.269805754699772,
          2.442817347443438,
          1.1969706304941952,
          1.4109871934757008,
          6.873711988421931,
          3.6606562509924885,
          3.368642099437382,
          1.8127570459240352,
          3.7007058256186607,
          1.1073407266920514,
          1.1651990341834186,
          1.2225149566011122,
          1.8169552387861387,
          4.212215518333032,
          0.5787916940436135,
          0.8357143703688319,
          1.610575090767182,
          5.752854665513132,
          2.0293953665599305,
          2.280196478913427,
          1.9154623399629338,
          2.021377571337662,
          2.8120952456274515,
          4.074261951201806,
          2.4034880294788312,
          2.066772473007105,
          2.637020767988998,
          0.6209478392503374
         ],
         "y": [
          0.11743684102448314,
          -1.9875378365018703,
          -0.7614146909812493,
          -0.6907027829200253,
          0.5961002429662616,
          -0.518549900877876,
          0.6313891514347664,
          0.14564474165538058,
          -1.7431298362347283,
          -1.0615664494272448,
          -0.8695549304774519,
          -0.0007704881952397836,
          0.38729076916439664,
          -0.8821905082971702,
          1.0060723871644859,
          -1.0897333060942678,
          -1.8988792576657365,
          -1.3048446251451062,
          -1.7958266294260319,
          1.3303211180168797,
          1.2461846095255367,
          -0.6295985089501673,
          1.6868089385447995,
          -1.055482035463907,
          -1.7892140687699278,
          -2.4539603170859507,
          0.19086311349406265,
          0.12751830077155663,
          0.7047981815585741,
          4.872927632982971,
          4.720880361494468,
          0.0785711797775504,
          -1.5959153156843864,
          -1.412932872849045,
          0.5838713686222903,
          1.0748101096330944,
          -0.6782520585396662,
          -1.491201442510357,
          -0.06703610019400874,
          -0.6404022084391062,
          -0.09564747611519492,
          2.8940549219028613,
          6.685444112954703,
          1.005797089887013,
          0.15266789926137242,
          -0.42450183046304096,
          -1.8043921846618816,
          -0.9265991640169892,
          -0.448897009960923,
          1.2288163533914522,
          -1.5507125616519122,
          -3.0660909178693316,
          -1.4410601679672141
         ],
         "z": [
          -0.2556250381362432,
          0.3497954811716026,
          -0.42420778147923544,
          -0.44405038169380007,
          0.9773987996182171,
          -0.6527778530530625,
          -0.6277387152347981,
          3.0958191040980134,
          -0.24243860963744224,
          0.2074204077004171,
          -0.3802339070722493,
          0.2601713872358642,
          -0.5733265074426231,
          -0.20956444009634984,
          -0.18639381889321058,
          0.0016331241429432214,
          -0.5585904793650087,
          -0.5362785365670886,
          -0.5732720447053997,
          -0.5636947132061985,
          -0.5482591074550998,
          0.18766236741997308,
          -0.5692982122427875,
          0.1545578960936095,
          -0.160755922462159,
          -0.06614444242036346,
          2.714276649662337,
          -0.5245497366449069,
          -0.4646541776248801,
          0.8930669325581385,
          -1.2805872055521983,
          -0.6754526333317461,
          -0.1382282219375952,
          1.0912386400862997,
          2.135779696247041,
          -0.8624399847886248,
          -0.2925613730687337,
          -0.8517404156575828,
          3.7948356841893394,
          0.09388709263526979,
          1.9555565003523332,
          -0.5888248447218888,
          0.32934824771949917,
          -0.9163370083959662,
          -0.8076425817453388,
          0.15995330902280383,
          -0.26682746821355957,
          0.005348101530043595,
          -0.13863015264924694,
          1.8126263654434651,
          -0.13081628783463323,
          -1.4499954733021398,
          -0.17143994997184336
         ]
        }
       ],
       "layout": {
        "height": 750,
        "legend": {
         "title": {
          "text": "income_category"
         },
         "tracegroupgap": 0
        },
        "scene": {
         "domain": {
          "x": [
           0,
           1
          ],
          "y": [
           0,
           1
          ]
         },
         "xaxis": {
          "title": {
           "text": "PC1"
          }
         },
         "yaxis": {
          "title": {
           "text": "PC2"
          }
         },
         "zaxis": {
          "title": {
           "text": "PC3"
          }
         }
        },
        "template": {
         "data": {
          "bar": [
           {
            "error_x": {
             "color": "rgb(51,51,51)"
            },
            "error_y": {
             "color": "rgb(51,51,51)"
            },
            "marker": {
             "line": {
              "color": "rgb(237,237,237)",
              "width": 0.5
             },
             "pattern": {
              "fillmode": "overlay",
              "size": 10,
              "solidity": 0.2
             }
            },
            "type": "bar"
           }
          ],
          "barpolar": [
           {
            "marker": {
             "line": {
              "color": "rgb(237,237,237)",
              "width": 0.5
             },
             "pattern": {
              "fillmode": "overlay",
              "size": 10,
              "solidity": 0.2
             }
            },
            "type": "barpolar"
           }
          ],
          "carpet": [
           {
            "aaxis": {
             "endlinecolor": "rgb(51,51,51)",
             "gridcolor": "white",
             "linecolor": "white",
             "minorgridcolor": "white",
             "startlinecolor": "rgb(51,51,51)"
            },
            "baxis": {
             "endlinecolor": "rgb(51,51,51)",
             "gridcolor": "white",
             "linecolor": "white",
             "minorgridcolor": "white",
             "startlinecolor": "rgb(51,51,51)"
            },
            "type": "carpet"
           }
          ],
          "choropleth": [
           {
            "colorbar": {
             "outlinewidth": 0,
             "tickcolor": "rgb(237,237,237)",
             "ticklen": 6,
             "ticks": "inside"
            },
            "type": "choropleth"
           }
          ],
          "contour": [
           {
            "colorbar": {
             "outlinewidth": 0,
             "tickcolor": "rgb(237,237,237)",
             "ticklen": 6,
             "ticks": "inside"
            },
            "colorscale": [
             [
              0,
              "rgb(20,44,66)"
             ],
             [
              1,
              "rgb(90,179,244)"
             ]
            ],
            "type": "contour"
           }
          ],
          "contourcarpet": [
           {
            "colorbar": {
             "outlinewidth": 0,
             "tickcolor": "rgb(237,237,237)",
             "ticklen": 6,
             "ticks": "inside"
            },
            "type": "contourcarpet"
           }
          ],
          "heatmap": [
           {
            "colorbar": {
             "outlinewidth": 0,
             "tickcolor": "rgb(237,237,237)",
             "ticklen": 6,
             "ticks": "inside"
            },
            "colorscale": [
             [
              0,
              "rgb(20,44,66)"
             ],
             [
              1,
              "rgb(90,179,244)"
             ]
            ],
            "type": "heatmap"
           }
          ],
          "heatmapgl": [
           {
            "colorbar": {
             "outlinewidth": 0,
             "tickcolor": "rgb(237,237,237)",
             "ticklen": 6,
             "ticks": "inside"
            },
            "colorscale": [
             [
              0,
              "rgb(20,44,66)"
             ],
             [
              1,
              "rgb(90,179,244)"
             ]
            ],
            "type": "heatmapgl"
           }
          ],
          "histogram": [
           {
            "marker": {
             "pattern": {
              "fillmode": "overlay",
              "size": 10,
              "solidity": 0.2
             }
            },
            "type": "histogram"
           }
          ],
          "histogram2d": [
           {
            "colorbar": {
             "outlinewidth": 0,
             "tickcolor": "rgb(237,237,237)",
             "ticklen": 6,
             "ticks": "inside"
            },
            "colorscale": [
             [
              0,
              "rgb(20,44,66)"
             ],
             [
              1,
              "rgb(90,179,244)"
             ]
            ],
            "type": "histogram2d"
           }
          ],
          "histogram2dcontour": [
           {
            "colorbar": {
             "outlinewidth": 0,
             "tickcolor": "rgb(237,237,237)",
             "ticklen": 6,
             "ticks": "inside"
            },
            "colorscale": [
             [
              0,
              "rgb(20,44,66)"
             ],
             [
              1,
              "rgb(90,179,244)"
             ]
            ],
            "type": "histogram2dcontour"
           }
          ],
          "mesh3d": [
           {
            "colorbar": {
             "outlinewidth": 0,
             "tickcolor": "rgb(237,237,237)",
             "ticklen": 6,
             "ticks": "inside"
            },
            "type": "mesh3d"
           }
          ],
          "parcoords": [
           {
            "line": {
             "colorbar": {
              "outlinewidth": 0,
              "tickcolor": "rgb(237,237,237)",
              "ticklen": 6,
              "ticks": "inside"
             }
            },
            "type": "parcoords"
           }
          ],
          "pie": [
           {
            "automargin": true,
            "type": "pie"
           }
          ],
          "scatter": [
           {
            "fillpattern": {
             "fillmode": "overlay",
             "size": 10,
             "solidity": 0.2
            },
            "type": "scatter"
           }
          ],
          "scatter3d": [
           {
            "line": {
             "colorbar": {
              "outlinewidth": 0,
              "tickcolor": "rgb(237,237,237)",
              "ticklen": 6,
              "ticks": "inside"
             }
            },
            "marker": {
             "colorbar": {
              "outlinewidth": 0,
              "tickcolor": "rgb(237,237,237)",
              "ticklen": 6,
              "ticks": "inside"
             }
            },
            "type": "scatter3d"
           }
          ],
          "scattercarpet": [
           {
            "marker": {
             "colorbar": {
              "outlinewidth": 0,
              "tickcolor": "rgb(237,237,237)",
              "ticklen": 6,
              "ticks": "inside"
             }
            },
            "type": "scattercarpet"
           }
          ],
          "scattergeo": [
           {
            "marker": {
             "colorbar": {
              "outlinewidth": 0,
              "tickcolor": "rgb(237,237,237)",
              "ticklen": 6,
              "ticks": "inside"
             }
            },
            "type": "scattergeo"
           }
          ],
          "scattergl": [
           {
            "marker": {
             "colorbar": {
              "outlinewidth": 0,
              "tickcolor": "rgb(237,237,237)",
              "ticklen": 6,
              "ticks": "inside"
             }
            },
            "type": "scattergl"
           }
          ],
          "scattermapbox": [
           {
            "marker": {
             "colorbar": {
              "outlinewidth": 0,
              "tickcolor": "rgb(237,237,237)",
              "ticklen": 6,
              "ticks": "inside"
             }
            },
            "type": "scattermapbox"
           }
          ],
          "scatterpolar": [
           {
            "marker": {
             "colorbar": {
              "outlinewidth": 0,
              "tickcolor": "rgb(237,237,237)",
              "ticklen": 6,
              "ticks": "inside"
             }
            },
            "type": "scatterpolar"
           }
          ],
          "scatterpolargl": [
           {
            "marker": {
             "colorbar": {
              "outlinewidth": 0,
              "tickcolor": "rgb(237,237,237)",
              "ticklen": 6,
              "ticks": "inside"
             }
            },
            "type": "scatterpolargl"
           }
          ],
          "scatterternary": [
           {
            "marker": {
             "colorbar": {
              "outlinewidth": 0,
              "tickcolor": "rgb(237,237,237)",
              "ticklen": 6,
              "ticks": "inside"
             }
            },
            "type": "scatterternary"
           }
          ],
          "surface": [
           {
            "colorbar": {
             "outlinewidth": 0,
             "tickcolor": "rgb(237,237,237)",
             "ticklen": 6,
             "ticks": "inside"
            },
            "colorscale": [
             [
              0,
              "rgb(20,44,66)"
             ],
             [
              1,
              "rgb(90,179,244)"
             ]
            ],
            "type": "surface"
           }
          ],
          "table": [
           {
            "cells": {
             "fill": {
              "color": "rgb(237,237,237)"
             },
             "line": {
              "color": "white"
             }
            },
            "header": {
             "fill": {
              "color": "rgb(217,217,217)"
             },
             "line": {
              "color": "white"
             }
            },
            "type": "table"
           }
          ]
         },
         "layout": {
          "annotationdefaults": {
           "arrowhead": 0,
           "arrowwidth": 1
          },
          "autotypenumbers": "strict",
          "coloraxis": {
           "colorbar": {
            "outlinewidth": 0,
            "tickcolor": "rgb(237,237,237)",
            "ticklen": 6,
            "ticks": "inside"
           }
          },
          "colorscale": {
           "sequential": [
            [
             0,
             "rgb(20,44,66)"
            ],
            [
             1,
             "rgb(90,179,244)"
            ]
           ],
           "sequentialminus": [
            [
             0,
             "rgb(20,44,66)"
            ],
            [
             1,
             "rgb(90,179,244)"
            ]
           ]
          },
          "colorway": [
           "#F8766D",
           "#A3A500",
           "#00BF7D",
           "#00B0F6",
           "#E76BF3"
          ],
          "font": {
           "color": "rgb(51,51,51)"
          },
          "geo": {
           "bgcolor": "white",
           "lakecolor": "white",
           "landcolor": "rgb(237,237,237)",
           "showlakes": true,
           "showland": true,
           "subunitcolor": "white"
          },
          "hoverlabel": {
           "align": "left"
          },
          "hovermode": "closest",
          "paper_bgcolor": "white",
          "plot_bgcolor": "rgb(237,237,237)",
          "polar": {
           "angularaxis": {
            "gridcolor": "white",
            "linecolor": "white",
            "showgrid": true,
            "tickcolor": "rgb(51,51,51)",
            "ticks": "outside"
           },
           "bgcolor": "rgb(237,237,237)",
           "radialaxis": {
            "gridcolor": "white",
            "linecolor": "white",
            "showgrid": true,
            "tickcolor": "rgb(51,51,51)",
            "ticks": "outside"
           }
          },
          "scene": {
           "xaxis": {
            "backgroundcolor": "rgb(237,237,237)",
            "gridcolor": "white",
            "gridwidth": 2,
            "linecolor": "white",
            "showbackground": true,
            "showgrid": true,
            "tickcolor": "rgb(51,51,51)",
            "ticks": "outside",
            "zerolinecolor": "white"
           },
           "yaxis": {
            "backgroundcolor": "rgb(237,237,237)",
            "gridcolor": "white",
            "gridwidth": 2,
            "linecolor": "white",
            "showbackground": true,
            "showgrid": true,
            "tickcolor": "rgb(51,51,51)",
            "ticks": "outside",
            "zerolinecolor": "white"
           },
           "zaxis": {
            "backgroundcolor": "rgb(237,237,237)",
            "gridcolor": "white",
            "gridwidth": 2,
            "linecolor": "white",
            "showbackground": true,
            "showgrid": true,
            "tickcolor": "rgb(51,51,51)",
            "ticks": "outside",
            "zerolinecolor": "white"
           }
          },
          "shapedefaults": {
           "fillcolor": "black",
           "line": {
            "width": 0
           },
           "opacity": 0.3
          },
          "ternary": {
           "aaxis": {
            "gridcolor": "white",
            "linecolor": "white",
            "showgrid": true,
            "tickcolor": "rgb(51,51,51)",
            "ticks": "outside"
           },
           "baxis": {
            "gridcolor": "white",
            "linecolor": "white",
            "showgrid": true,
            "tickcolor": "rgb(51,51,51)",
            "ticks": "outside"
           },
           "bgcolor": "rgb(237,237,237)",
           "caxis": {
            "gridcolor": "white",
            "linecolor": "white",
            "showgrid": true,
            "tickcolor": "rgb(51,51,51)",
            "ticks": "outside"
           }
          },
          "xaxis": {
           "automargin": true,
           "gridcolor": "white",
           "linecolor": "white",
           "showgrid": true,
           "tickcolor": "rgb(51,51,51)",
           "ticks": "outside",
           "title": {
            "standoff": 15
           },
           "zerolinecolor": "white"
          },
          "yaxis": {
           "automargin": true,
           "gridcolor": "white",
           "linecolor": "white",
           "showgrid": true,
           "tickcolor": "rgb(51,51,51)",
           "ticks": "outside",
           "title": {
            "standoff": 15
           },
           "zerolinecolor": "white"
          }
         }
        },
        "title": {
         "text": "PCA Countries Visualization"
        },
        "width": 1000
       }
      }
     },
     "metadata": {},
     "output_type": "display_data"
    }
   ],
   "source": [
    "fig = px.scatter_3d(data_frame=df_countries_pca_3, x='PC1', y='PC2', z='PC3', color='income_category', title='PCA Countries Visualization', hover_data=[\n",
    "                    'country'], template='ggplot2', color_discrete_sequence=px.colors.qualitative.Safe, width=1000, height=750)\n",
    "\n",
    "fig.show()"
   ]
  },
  {
   "cell_type": "code",
   "execution_count": 78,
   "metadata": {},
   "outputs": [
    {
     "data": {
      "application/vnd.plotly.v1+json": {
       "config": {
        "plotlyServerURL": "https://plot.ly"
       },
       "data": [
        {
         "customdata": [
          [
           "Afghanistan"
          ],
          [
           "Burkina Faso"
          ],
          [
           "Burundi"
          ],
          [
           "Central African Republic"
          ],
          [
           "Chad"
          ],
          [
           "Congo Dem. Rep."
          ],
          [
           "Eritrea"
          ],
          [
           "Gambia"
          ],
          [
           "Guinea-Bissau"
          ],
          [
           "Liberia"
          ],
          [
           "Madagascar"
          ],
          [
           "Malawi"
          ],
          [
           "Mali"
          ],
          [
           "Mozambique"
          ],
          [
           "Niger"
          ],
          [
           "Rwanda"
          ],
          [
           "Sierra Leone"
          ],
          [
           "Sudan"
          ],
          [
           "Togo"
          ],
          [
           "Uganda"
          ],
          [
           "Yemen"
          ]
         ],
         "hovertemplate": "income_category=Low income<br>PC1=%{x}<br>PC2=%{y}<br>country=%{customdata[0]}<extra></extra>",
         "legendgroup": "Low income",
         "marker": {
          "color": "rgb(136, 204, 238)",
          "symbol": "circle"
         },
         "mode": "markers",
         "name": "Low income",
         "orientation": "v",
         "showlegend": true,
         "type": "scatter",
         "x": [
          -2.898490769252386,
          -3.1033238206419758,
          -2.889074891379876,
          -3.9339629262532383,
          -3.5378470612401474,
          -3.1770212351589544,
          -2.464077486731817,
          -2.1957615472052985,
          -2.809855692310717,
          -1.7592902135524842,
          -2.124218602405221,
          -2.969226594269894,
          -3.389318607407583,
          -2.9043124176691224,
          -3.424616525558237,
          -1.6604128123753077,
          -3.3772533732498293,
          -2.3232204955867877,
          -1.9766227747420397,
          -2.842791629203893,
          -1.8998035592532414
         ],
         "xaxis": "x",
         "y": [
          0.043830035561565436,
          -0.01411167123776974,
          -0.4906711840356298,
          0.31735415825295676,
          1.2379706822570564,
          1.0431123677731726,
          -0.5979632028009304,
          0.1778231653525809,
          -0.17795477222397646,
          0.9388778187981127,
          0.33282594725567927,
          0.18735518293174871,
          0.5056394279140652,
          0.8494257465659202,
          0.8970997807320247,
          -1.0828959630577442,
          -0.30275450260939685,
          -0.7351665977774892,
          0.871195643608402,
          -0.40065600254678374,
          -0.04836073574000474
         ],
         "yaxis": "y"
        },
        {
         "customdata": [
          [
           "Albania"
          ],
          [
           "Argentina"
          ],
          [
           "Armenia"
          ],
          [
           "Azerbaijan"
          ],
          [
           "Belarus"
          ],
          [
           "Belize"
          ],
          [
           "Bosnia and Herzegovina"
          ],
          [
           "Botswana"
          ],
          [
           "Brazil"
          ],
          [
           "Bulgaria"
          ],
          [
           "China"
          ],
          [
           "Colombia"
          ],
          [
           "Costa Rica"
          ],
          [
           "Dominican Republic"
          ],
          [
           "Ecuador"
          ],
          [
           "El Salvador"
          ],
          [
           "Equatorial Guinea"
          ],
          [
           "Fiji"
          ],
          [
           "Gabon"
          ],
          [
           "Georgia"
          ],
          [
           "Grenada"
          ],
          [
           "Guatemala"
          ],
          [
           "Indonesia"
          ],
          [
           "Iraq"
          ],
          [
           "Jamaica"
          ],
          [
           "Kazakhstan"
          ],
          [
           "Libya"
          ],
          [
           "Malaysia"
          ],
          [
           "Maldives"
          ],
          [
           "Mauritius"
          ],
          [
           "Moldova"
          ],
          [
           "Montenegro"
          ],
          [
           "Namibia"
          ],
          [
           "Paraguay"
          ],
          [
           "Peru"
          ],
          [
           "Russia"
          ],
          [
           "Serbia"
          ],
          [
           "South Africa"
          ],
          [
           "St. Vincent and the Grenadines"
          ],
          [
           "Suriname"
          ],
          [
           "Thailand"
          ],
          [
           "Tonga"
          ],
          [
           "Turkey"
          ],
          [
           "Turkmenistan"
          ]
         ],
         "hovertemplate": "income_category=Upper middle income<br>PC1=%{x}<br>PC2=%{y}<br>country=%{customdata[0]}<extra></extra>",
         "legendgroup": "Upper middle income",
         "marker": {
          "color": "rgb(204, 102, 119)",
          "symbol": "circle"
         },
         "mode": "markers",
         "name": "Upper middle income",
         "orientation": "v",
         "showlegend": true,
         "type": "scatter",
         "x": [
          0.4359685213222639,
          0.005299760745141083,
          -0.09694990407604162,
          -0.1883995737526329,
          0.5678794011497826,
          0.22134906667700277,
          1.0037584208921135,
          -0.877962567699434,
          0.1428532130178438,
          0.9136825081252469,
          0.06212055925902198,
          0.13013023129779533,
          0.9372823128141138,
          -0.2236046238852772,
          0.012701340840973196,
          0.09241068620770548,
          -1.3176096042172118,
          -0.1811536500549313,
          -1.4281155633020801,
          0.3221711288450009,
          0.15886453588068125,
          -0.6535260750914894,
          -0.9578077068087523,
          -1.0364943990096132,
          0.01848215772033996,
          -0.3082502854854738,
          0.8042152550654147,
          1.2240976306337987,
          1.110255415977224,
          0.9066662303886421,
          0.5053103920879084,
          1.033045005030233,
          -1.0307341576430136,
          0.1211045389279194,
          -0.014597322956193221,
          0.15579063088357054,
          0.8340165193243306,
          -1.1810474048591715,
          0.03463109193809026,
          0.17270663159990426,
          0.9278401074758335,
          -0.7416299995645098,
          0.4031772613916824,
          -0.45373877746068086
         ],
         "xaxis": "x",
         "y": [
          -0.6020952022254119,
          -1.713515237804841,
          -0.5557497397568757,
          -0.36442410682163473,
          0.5718955752276117,
          0.6697772902150291,
          -1.0326882754543774,
          0.4212005793624569,
          -2.1515752331523057,
          0.000767734180914705,
          -1.172382722436517,
          -1.7821021619877164,
          -1.374508603469438,
          -0.8884566619044968,
          -1.0543137406576757,
          -0.5984136407972238,
          2.4317009580593854,
          1.0479857287469836,
          0.37356610483433583,
          -0.5488247346237448,
          -0.4643063302667526,
          -0.6378575730817614,
          -0.6696496354940535,
          -0.26931963050571844,
          -0.2197581197177127,
          -0.16218326283430515,
          0.4571091983227706,
          1.6185944663245626,
          0.9893205651457087,
          0.3892657612597785,
          0.11618936938295457,
          -0.30516405583735073,
          0.9467978694263933,
          0.35270951184702815,
          -1.0742219057608569,
          -1.0116144998343102,
          -0.903606397886615,
          -0.604076595142536,
          -0.02459339810330824,
          -0.10056582900069669,
          0.8345536276382569,
          -0.11663518057545824,
          -1.4006637187963753,
          1.2847740360692654
         ],
         "yaxis": "y"
        },
        {
         "customdata": [
          [
           "Algeria"
          ],
          [
           "Angola"
          ],
          [
           "Bangladesh"
          ],
          [
           "Benin"
          ],
          [
           "Bhutan"
          ],
          [
           "Bolivia"
          ],
          [
           "Cambodia"
          ],
          [
           "Cameroon"
          ],
          [
           "Cape Verde"
          ],
          [
           "Comoros"
          ],
          [
           "Congo Rep."
          ],
          [
           "Cote d'Ivoire"
          ],
          [
           "Egypt"
          ],
          [
           "Ghana"
          ],
          [
           "Guinea"
          ],
          [
           "Haiti"
          ],
          [
           "India"
          ],
          [
           "Iran"
          ],
          [
           "Jordan"
          ],
          [
           "Kenya"
          ],
          [
           "Kiribati"
          ],
          [
           "Kyrgyz Republic"
          ],
          [
           "Lao"
          ],
          [
           "Lebanon"
          ],
          [
           "Lesotho"
          ],
          [
           "Mauritania"
          ],
          [
           "Micronesia"
          ],
          [
           "Mongolia"
          ],
          [
           "Morocco"
          ],
          [
           "Myanmar"
          ],
          [
           "Nepal"
          ],
          [
           "Nigeria"
          ],
          [
           "Pakistan"
          ],
          [
           "Philippines"
          ],
          [
           "Samoa"
          ],
          [
           "Senegal"
          ],
          [
           "Solomon Islands"
          ],
          [
           "Sri Lanka"
          ],
          [
           "Tajikistan"
          ],
          [
           "Tanzania"
          ],
          [
           "Timor-Leste"
          ],
          [
           "Tunisia"
          ],
          [
           "Ukraine"
          ],
          [
           "Uzbekistan"
          ],
          [
           "Vanuatu"
          ],
          [
           "Vietnam"
          ],
          [
           "Zambia"
          ]
         ],
         "hovertemplate": "income_category=Lower middle income<br>PC1=%{x}<br>PC2=%{y}<br>country=%{customdata[0]}<extra></extra>",
         "legendgroup": "Lower middle income",
         "marker": {
          "color": "rgb(221, 204, 119)",
          "symbol": "circle"
         },
         "mode": "markers",
         "name": "Lower middle income",
         "orientation": "v",
         "showlegend": true,
         "type": "scatter",
         "x": [
          -0.29448919537653445,
          -2.941127624111464,
          -1.1129554943859274,
          -2.64699022214811,
          -0.15098286879068804,
          -0.7893886868479618,
          -0.570792569731944,
          -2.783105096527529,
          -0.14134562477586565,
          -2.074741847675347,
          -1.737830520587209,
          -2.565060708999367,
          -0.8443712660947748,
          -2.0549571576005308,
          -2.965727885521191,
          -4.3813496533928635,
          -1.3343279666259271,
          -0.010261656646464654,
          0.15920406098882273,
          -1.8539561887551728,
          -1.2204126023443487,
          -0.3398981627026878,
          -1.5199734722745266,
          1.1795021403717958,
          -1.7868124843087578,
          -1.9607930703298255,
          -0.37034451005679275,
          -0.9852392076616975,
          -0.21873164533035194,
          -1.8217346805758667,
          -1.3069828186396197,
          -5.03069584387117,
          -2.350063907451173,
          -0.7708701392822245,
          -0.5488541787201738,
          -1.891639146552526,
          -0.7993342764525889,
          -0.5912332682598401,
          -1.2418478010859133,
          -2.5410966686017886,
          -2.3856690540342043,
          0.6067689270079825,
          0.29506478229885985,
          -0.8589754376187718,
          -0.8067898607222885,
          0.4905173964592033,
          -2.8577485720701663
         ],
         "xaxis": "x",
         "y": [
          -0.3930131265209526,
          1.7463458714422564,
          -0.9490170688973903,
          0.3628391909718644,
          0.7590784871466576,
          -0.11196276680528705,
          0.854659344966364,
          0.02079417735470672,
          0.3218631570540187,
          0.3020554568915719,
          2.23238673020489,
          1.1582859078985577,
          -0.7983589523862324,
          0.3950352718121263,
          0.7298245595536765,
          1.6274856859956253,
          -0.5260620635011115,
          -1.2754176412251292,
          0.5199834627111651,
          -0.21182536677899075,
          0.25381219397160737,
          1.2809200147093054,
          0.5364803047142601,
          -0.2876406368150799,
          1.9084712322374977,
          1.4117432391184594,
          -0.01340071020266091,
          0.6633239702515628,
          -0.30862319796301213,
          -1.5884624114910666,
          -0.7634888906736109,
          0.31626572808338516,
          -0.45535222811418263,
          -0.10115141956667172,
          -0.06529080292081053,
          0.03885325645847283,
          1.242520568384505,
          -0.895725293825667,
          -0.031339162020501125,
          -0.24002282546179873,
          -1.1353641190546557,
          0.1579113008677415,
          -0.08594782463311583,
          -0.6168885807153203,
          0.6008836045167429,
          1.3908918741961818,
          0.4750510491811658
         ],
         "yaxis": "y"
        },
        {
         "customdata": [
          [
           "Antigua and Barbuda"
          ],
          [
           "Australia"
          ],
          [
           "Austria"
          ],
          [
           "Bahamas"
          ],
          [
           "Bahrain"
          ],
          [
           "Barbados"
          ],
          [
           "Belgium"
          ],
          [
           "Brunei"
          ],
          [
           "Canada"
          ],
          [
           "Chile"
          ],
          [
           "Croatia"
          ],
          [
           "Cyprus"
          ],
          [
           "Czech Republic"
          ],
          [
           "Denmark"
          ],
          [
           "Estonia"
          ],
          [
           "Finland"
          ],
          [
           "France"
          ],
          [
           "Germany"
          ],
          [
           "Greece"
          ],
          [
           "Guyana"
          ],
          [
           "Hungary"
          ],
          [
           "Iceland"
          ],
          [
           "Ireland"
          ],
          [
           "Israel"
          ],
          [
           "Italy"
          ],
          [
           "Japan"
          ],
          [
           "Kuwait"
          ],
          [
           "Latvia"
          ],
          [
           "Lithuania"
          ],
          [
           "Luxembourg"
          ],
          [
           "Malta"
          ],
          [
           "Netherlands"
          ],
          [
           "New Zealand"
          ],
          [
           "Norway"
          ],
          [
           "Oman"
          ],
          [
           "Panama"
          ],
          [
           "Poland"
          ],
          [
           "Portugal"
          ],
          [
           "Qatar"
          ],
          [
           "Romania"
          ],
          [
           "Saudi Arabia"
          ],
          [
           "Seychelles"
          ],
          [
           "Singapore"
          ],
          [
           "Slovak Republic"
          ],
          [
           "Slovenia"
          ],
          [
           "South Korea"
          ],
          [
           "Spain"
          ],
          [
           "Sweden"
          ],
          [
           "Switzerland"
          ],
          [
           "United Arab Emirates"
          ],
          [
           "United Kingdom"
          ],
          [
           "United States"
          ],
          [
           "Uruguay"
          ]
         ],
         "hovertemplate": "income_category=High income<br>PC1=%{x}<br>PC2=%{y}<br>country=%{customdata[0]}<extra></extra>",
         "legendgroup": "High income",
         "marker": {
          "color": "rgb(17, 119, 51)",
          "symbol": "circle"
         },
         "mode": "markers",
         "name": "High income",
         "orientation": "v",
         "showlegend": true,
         "type": "scatter",
         "x": [
          1.038913348713117,
          2.3398302490399154,
          2.967045790865981,
          1.2756158562160127,
          1.6608522484699524,
          1.088807178669335,
          3.1331653577652014,
          2.4289392652604564,
          2.537460147764596,
          0.9467226759360745,
          1.1553350442834962,
          2.171538443192836,
          2.055961099949542,
          2.999462582437047,
          1.6590472212283909,
          2.456516278177199,
          2.2527272552250146,
          2.6673851003548847,
          1.782670058402498,
          -0.3164195580222995,
          1.8372534440470603,
          2.469807726024717,
          3.660843522427698,
          1.4865311549654627,
          2.1665148456916916,
          2.269805754699772,
          2.442817347443438,
          1.1969706304941952,
          1.4109871934757008,
          6.873711988421931,
          3.6606562509924885,
          3.368642099437382,
          1.8127570459240352,
          3.7007058256186607,
          1.1073407266920514,
          1.1651990341834186,
          1.2225149566011122,
          1.8169552387861387,
          4.212215518333032,
          0.5787916940436135,
          0.8357143703688319,
          1.610575090767182,
          5.752854665513132,
          2.0293953665599305,
          2.280196478913427,
          1.9154623399629338,
          2.021377571337662,
          2.8120952456274515,
          4.074261951201806,
          2.4034880294788312,
          2.066772473007105,
          2.637020767988998,
          0.6209478392503374
         ],
         "xaxis": "x",
         "y": [
          0.11743684102448314,
          -1.9875378365018703,
          -0.7614146909812493,
          -0.6907027829200253,
          0.5961002429662616,
          -0.518549900877876,
          0.6313891514347664,
          0.14564474165538058,
          -1.7431298362347283,
          -1.0615664494272448,
          -0.8695549304774519,
          -0.0007704881952397836,
          0.38729076916439664,
          -0.8821905082971702,
          1.0060723871644859,
          -1.0897333060942678,
          -1.8988792576657365,
          -1.3048446251451062,
          -1.7958266294260319,
          1.3303211180168797,
          1.2461846095255367,
          -0.6295985089501673,
          1.6868089385447995,
          -1.055482035463907,
          -1.7892140687699278,
          -2.4539603170859507,
          0.19086311349406265,
          0.12751830077155663,
          0.7047981815585741,
          4.872927632982971,
          4.720880361494468,
          0.0785711797775504,
          -1.5959153156843864,
          -1.412932872849045,
          0.5838713686222903,
          1.0748101096330944,
          -0.6782520585396662,
          -1.491201442510357,
          -0.06703610019400874,
          -0.6404022084391062,
          -0.09564747611519492,
          2.8940549219028613,
          6.685444112954703,
          1.005797089887013,
          0.15266789926137242,
          -0.42450183046304096,
          -1.8043921846618816,
          -0.9265991640169892,
          -0.448897009960923,
          1.2288163533914522,
          -1.5507125616519122,
          -3.0660909178693316,
          -1.4410601679672141
         ],
         "yaxis": "y"
        }
       ],
       "layout": {
        "legend": {
         "title": {
          "text": "income_category"
         },
         "tracegroupgap": 0
        },
        "template": {
         "data": {
          "bar": [
           {
            "error_x": {
             "color": "rgb(51,51,51)"
            },
            "error_y": {
             "color": "rgb(51,51,51)"
            },
            "marker": {
             "line": {
              "color": "rgb(237,237,237)",
              "width": 0.5
             },
             "pattern": {
              "fillmode": "overlay",
              "size": 10,
              "solidity": 0.2
             }
            },
            "type": "bar"
           }
          ],
          "barpolar": [
           {
            "marker": {
             "line": {
              "color": "rgb(237,237,237)",
              "width": 0.5
             },
             "pattern": {
              "fillmode": "overlay",
              "size": 10,
              "solidity": 0.2
             }
            },
            "type": "barpolar"
           }
          ],
          "carpet": [
           {
            "aaxis": {
             "endlinecolor": "rgb(51,51,51)",
             "gridcolor": "white",
             "linecolor": "white",
             "minorgridcolor": "white",
             "startlinecolor": "rgb(51,51,51)"
            },
            "baxis": {
             "endlinecolor": "rgb(51,51,51)",
             "gridcolor": "white",
             "linecolor": "white",
             "minorgridcolor": "white",
             "startlinecolor": "rgb(51,51,51)"
            },
            "type": "carpet"
           }
          ],
          "choropleth": [
           {
            "colorbar": {
             "outlinewidth": 0,
             "tickcolor": "rgb(237,237,237)",
             "ticklen": 6,
             "ticks": "inside"
            },
            "type": "choropleth"
           }
          ],
          "contour": [
           {
            "colorbar": {
             "outlinewidth": 0,
             "tickcolor": "rgb(237,237,237)",
             "ticklen": 6,
             "ticks": "inside"
            },
            "colorscale": [
             [
              0,
              "rgb(20,44,66)"
             ],
             [
              1,
              "rgb(90,179,244)"
             ]
            ],
            "type": "contour"
           }
          ],
          "contourcarpet": [
           {
            "colorbar": {
             "outlinewidth": 0,
             "tickcolor": "rgb(237,237,237)",
             "ticklen": 6,
             "ticks": "inside"
            },
            "type": "contourcarpet"
           }
          ],
          "heatmap": [
           {
            "colorbar": {
             "outlinewidth": 0,
             "tickcolor": "rgb(237,237,237)",
             "ticklen": 6,
             "ticks": "inside"
            },
            "colorscale": [
             [
              0,
              "rgb(20,44,66)"
             ],
             [
              1,
              "rgb(90,179,244)"
             ]
            ],
            "type": "heatmap"
           }
          ],
          "heatmapgl": [
           {
            "colorbar": {
             "outlinewidth": 0,
             "tickcolor": "rgb(237,237,237)",
             "ticklen": 6,
             "ticks": "inside"
            },
            "colorscale": [
             [
              0,
              "rgb(20,44,66)"
             ],
             [
              1,
              "rgb(90,179,244)"
             ]
            ],
            "type": "heatmapgl"
           }
          ],
          "histogram": [
           {
            "marker": {
             "pattern": {
              "fillmode": "overlay",
              "size": 10,
              "solidity": 0.2
             }
            },
            "type": "histogram"
           }
          ],
          "histogram2d": [
           {
            "colorbar": {
             "outlinewidth": 0,
             "tickcolor": "rgb(237,237,237)",
             "ticklen": 6,
             "ticks": "inside"
            },
            "colorscale": [
             [
              0,
              "rgb(20,44,66)"
             ],
             [
              1,
              "rgb(90,179,244)"
             ]
            ],
            "type": "histogram2d"
           }
          ],
          "histogram2dcontour": [
           {
            "colorbar": {
             "outlinewidth": 0,
             "tickcolor": "rgb(237,237,237)",
             "ticklen": 6,
             "ticks": "inside"
            },
            "colorscale": [
             [
              0,
              "rgb(20,44,66)"
             ],
             [
              1,
              "rgb(90,179,244)"
             ]
            ],
            "type": "histogram2dcontour"
           }
          ],
          "mesh3d": [
           {
            "colorbar": {
             "outlinewidth": 0,
             "tickcolor": "rgb(237,237,237)",
             "ticklen": 6,
             "ticks": "inside"
            },
            "type": "mesh3d"
           }
          ],
          "parcoords": [
           {
            "line": {
             "colorbar": {
              "outlinewidth": 0,
              "tickcolor": "rgb(237,237,237)",
              "ticklen": 6,
              "ticks": "inside"
             }
            },
            "type": "parcoords"
           }
          ],
          "pie": [
           {
            "automargin": true,
            "type": "pie"
           }
          ],
          "scatter": [
           {
            "fillpattern": {
             "fillmode": "overlay",
             "size": 10,
             "solidity": 0.2
            },
            "type": "scatter"
           }
          ],
          "scatter3d": [
           {
            "line": {
             "colorbar": {
              "outlinewidth": 0,
              "tickcolor": "rgb(237,237,237)",
              "ticklen": 6,
              "ticks": "inside"
             }
            },
            "marker": {
             "colorbar": {
              "outlinewidth": 0,
              "tickcolor": "rgb(237,237,237)",
              "ticklen": 6,
              "ticks": "inside"
             }
            },
            "type": "scatter3d"
           }
          ],
          "scattercarpet": [
           {
            "marker": {
             "colorbar": {
              "outlinewidth": 0,
              "tickcolor": "rgb(237,237,237)",
              "ticklen": 6,
              "ticks": "inside"
             }
            },
            "type": "scattercarpet"
           }
          ],
          "scattergeo": [
           {
            "marker": {
             "colorbar": {
              "outlinewidth": 0,
              "tickcolor": "rgb(237,237,237)",
              "ticklen": 6,
              "ticks": "inside"
             }
            },
            "type": "scattergeo"
           }
          ],
          "scattergl": [
           {
            "marker": {
             "colorbar": {
              "outlinewidth": 0,
              "tickcolor": "rgb(237,237,237)",
              "ticklen": 6,
              "ticks": "inside"
             }
            },
            "type": "scattergl"
           }
          ],
          "scattermapbox": [
           {
            "marker": {
             "colorbar": {
              "outlinewidth": 0,
              "tickcolor": "rgb(237,237,237)",
              "ticklen": 6,
              "ticks": "inside"
             }
            },
            "type": "scattermapbox"
           }
          ],
          "scatterpolar": [
           {
            "marker": {
             "colorbar": {
              "outlinewidth": 0,
              "tickcolor": "rgb(237,237,237)",
              "ticklen": 6,
              "ticks": "inside"
             }
            },
            "type": "scatterpolar"
           }
          ],
          "scatterpolargl": [
           {
            "marker": {
             "colorbar": {
              "outlinewidth": 0,
              "tickcolor": "rgb(237,237,237)",
              "ticklen": 6,
              "ticks": "inside"
             }
            },
            "type": "scatterpolargl"
           }
          ],
          "scatterternary": [
           {
            "marker": {
             "colorbar": {
              "outlinewidth": 0,
              "tickcolor": "rgb(237,237,237)",
              "ticklen": 6,
              "ticks": "inside"
             }
            },
            "type": "scatterternary"
           }
          ],
          "surface": [
           {
            "colorbar": {
             "outlinewidth": 0,
             "tickcolor": "rgb(237,237,237)",
             "ticklen": 6,
             "ticks": "inside"
            },
            "colorscale": [
             [
              0,
              "rgb(20,44,66)"
             ],
             [
              1,
              "rgb(90,179,244)"
             ]
            ],
            "type": "surface"
           }
          ],
          "table": [
           {
            "cells": {
             "fill": {
              "color": "rgb(237,237,237)"
             },
             "line": {
              "color": "white"
             }
            },
            "header": {
             "fill": {
              "color": "rgb(217,217,217)"
             },
             "line": {
              "color": "white"
             }
            },
            "type": "table"
           }
          ]
         },
         "layout": {
          "annotationdefaults": {
           "arrowhead": 0,
           "arrowwidth": 1
          },
          "autotypenumbers": "strict",
          "coloraxis": {
           "colorbar": {
            "outlinewidth": 0,
            "tickcolor": "rgb(237,237,237)",
            "ticklen": 6,
            "ticks": "inside"
           }
          },
          "colorscale": {
           "sequential": [
            [
             0,
             "rgb(20,44,66)"
            ],
            [
             1,
             "rgb(90,179,244)"
            ]
           ],
           "sequentialminus": [
            [
             0,
             "rgb(20,44,66)"
            ],
            [
             1,
             "rgb(90,179,244)"
            ]
           ]
          },
          "colorway": [
           "#F8766D",
           "#A3A500",
           "#00BF7D",
           "#00B0F6",
           "#E76BF3"
          ],
          "font": {
           "color": "rgb(51,51,51)"
          },
          "geo": {
           "bgcolor": "white",
           "lakecolor": "white",
           "landcolor": "rgb(237,237,237)",
           "showlakes": true,
           "showland": true,
           "subunitcolor": "white"
          },
          "hoverlabel": {
           "align": "left"
          },
          "hovermode": "closest",
          "paper_bgcolor": "white",
          "plot_bgcolor": "rgb(237,237,237)",
          "polar": {
           "angularaxis": {
            "gridcolor": "white",
            "linecolor": "white",
            "showgrid": true,
            "tickcolor": "rgb(51,51,51)",
            "ticks": "outside"
           },
           "bgcolor": "rgb(237,237,237)",
           "radialaxis": {
            "gridcolor": "white",
            "linecolor": "white",
            "showgrid": true,
            "tickcolor": "rgb(51,51,51)",
            "ticks": "outside"
           }
          },
          "scene": {
           "xaxis": {
            "backgroundcolor": "rgb(237,237,237)",
            "gridcolor": "white",
            "gridwidth": 2,
            "linecolor": "white",
            "showbackground": true,
            "showgrid": true,
            "tickcolor": "rgb(51,51,51)",
            "ticks": "outside",
            "zerolinecolor": "white"
           },
           "yaxis": {
            "backgroundcolor": "rgb(237,237,237)",
            "gridcolor": "white",
            "gridwidth": 2,
            "linecolor": "white",
            "showbackground": true,
            "showgrid": true,
            "tickcolor": "rgb(51,51,51)",
            "ticks": "outside",
            "zerolinecolor": "white"
           },
           "zaxis": {
            "backgroundcolor": "rgb(237,237,237)",
            "gridcolor": "white",
            "gridwidth": 2,
            "linecolor": "white",
            "showbackground": true,
            "showgrid": true,
            "tickcolor": "rgb(51,51,51)",
            "ticks": "outside",
            "zerolinecolor": "white"
           }
          },
          "shapedefaults": {
           "fillcolor": "black",
           "line": {
            "width": 0
           },
           "opacity": 0.3
          },
          "ternary": {
           "aaxis": {
            "gridcolor": "white",
            "linecolor": "white",
            "showgrid": true,
            "tickcolor": "rgb(51,51,51)",
            "ticks": "outside"
           },
           "baxis": {
            "gridcolor": "white",
            "linecolor": "white",
            "showgrid": true,
            "tickcolor": "rgb(51,51,51)",
            "ticks": "outside"
           },
           "bgcolor": "rgb(237,237,237)",
           "caxis": {
            "gridcolor": "white",
            "linecolor": "white",
            "showgrid": true,
            "tickcolor": "rgb(51,51,51)",
            "ticks": "outside"
           }
          },
          "xaxis": {
           "automargin": true,
           "gridcolor": "white",
           "linecolor": "white",
           "showgrid": true,
           "tickcolor": "rgb(51,51,51)",
           "ticks": "outside",
           "title": {
            "standoff": 15
           },
           "zerolinecolor": "white"
          },
          "yaxis": {
           "automargin": true,
           "gridcolor": "white",
           "linecolor": "white",
           "showgrid": true,
           "tickcolor": "rgb(51,51,51)",
           "ticks": "outside",
           "title": {
            "standoff": 15
           },
           "zerolinecolor": "white"
          }
         }
        },
        "title": {
         "text": "PCA Countries Visualization"
        },
        "xaxis": {
         "anchor": "y",
         "domain": [
          0,
          1
         ],
         "title": {
          "text": "PC1"
         }
        },
        "yaxis": {
         "anchor": "x",
         "domain": [
          0,
          1
         ],
         "title": {
          "text": "PC2"
         }
        }
       }
      }
     },
     "metadata": {},
     "output_type": "display_data"
    }
   ],
   "source": [
    "fig = px.scatter(data_frame=df_countries_pca_2, x='PC1', y='PC2', color='income_category', title='PCA Countries Visualization', hover_data=[\n",
    "                    'country'], template='ggplot2', color_discrete_sequence=px.colors.qualitative.Safe)\n",
    "\n",
    "fig.show()"
   ]
  },
  {
   "cell_type": "code",
   "execution_count": 79,
   "metadata": {},
   "outputs": [
    {
     "name": "stdout",
     "output_type": "stream",
     "text": [
      "9\n",
      "9\n"
     ]
    }
   ],
   "source": [
    "# inversed PCA\n",
    "df_countries_recovered_pca_3 = model_pca_3.inverse_transform(X=X_pca_3)\n",
    "df_countries_recovered_pca_2 = model_pca_2.inverse_transform(X=X_pca_2)\n",
    "\n",
    "# display shape of data with PCA inversed\n",
    "print(df_countries_recovered_pca_3.shape[1])\n",
    "print(df_countries_recovered_pca_2.shape[1])"
   ]
  },
  {
   "cell_type": "code",
   "execution_count": 80,
   "metadata": {},
   "outputs": [
    {
     "name": "stdout",
     "output_type": "stream",
     "text": [
      "Reconstruction error PCA 3: 0.2385\n",
      "Reconstruction error PCA 2: 0.3662\n"
     ]
    }
   ],
   "source": [
    "# reconstruction error with PCA inversed data\n",
    "reconstruction_error_pca_3 = mean_squared_error(\n",
    "    y_true=df_countries_encoded, y_pred=df_countries_recovered_pca_3)\n",
    "reconstruction_error_pca_2 = mean_squared_error(\n",
    "    y_true=df_countries_encoded, y_pred=df_countries_recovered_pca_2)\n",
    "\n",
    "# display reconstruction error\n",
    "print(\"Reconstruction error PCA 3: {:.4f}\".format(reconstruction_error_pca_3))\n",
    "print(\"Reconstruction error PCA 2: {:.4f}\".format(reconstruction_error_pca_2))"
   ]
  },
  {
   "cell_type": "code",
   "execution_count": 81,
   "metadata": {},
   "outputs": [
    {
     "data": {
      "text/plain": [
       "['../pipelines/pipeline_pca_countries.pkl']"
      ]
     },
     "execution_count": 81,
     "metadata": {},
     "output_type": "execute_result"
    }
   ],
   "source": [
    "# save model PCA 3 and 2\n",
    "joblib.dump(value=model_pca_3, filename='../models/model_pca_3_countries.pkl')\n",
    "joblib.dump(value=model_pca_2, filename='../models/model_pca_2_countries.pkl')\n",
    "\n",
    "# save preprocessor\n",
    "joblib.dump(value=preprocessor, filename='../pipelines/pipeline_pca_countries.pkl')"
   ]
  }
 ],
 "metadata": {
  "kernelspec": {
   "display_name": "unsupervised_algorithms-Vw0pKZJM",
   "language": "python",
   "name": "python3"
  },
  "language_info": {
   "codemirror_mode": {
    "name": "ipython",
    "version": 3
   },
   "file_extension": ".py",
   "mimetype": "text/x-python",
   "name": "python",
   "nbconvert_exporter": "python",
   "pygments_lexer": "ipython3",
   "version": "3.12.3"
  }
 },
 "nbformat": 4,
 "nbformat_minor": 2
}
